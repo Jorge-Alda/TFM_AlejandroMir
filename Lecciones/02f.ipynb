{
 "cells": [
  {
   "attachments": {},
   "cell_type": "markdown",
   "metadata": {},
   "source": [
    "# 02f Argumentos de funciones\n",
    "\n",
    "Python ofrece bastante flexibilidad a la hora de utilizar los argumentos de una función"
   ]
  },
  {
   "cell_type": "code",
   "execution_count": 3,
   "metadata": {},
   "outputs": [],
   "source": [
    "def f(x, y, z, w):\n",
    "    print(f\"{x=}, {y=}, {z=}, {w=}\")"
   ]
  },
  {
   "attachments": {},
   "cell_type": "markdown",
   "metadata": {},
   "source": [
    "La forma básica son los argumentos posicionales: los argumentos se emplean en el orden en el que se pasan a la función:"
   ]
  },
  {
   "cell_type": "code",
   "execution_count": 4,
   "metadata": {},
   "outputs": [
    {
     "name": "stdout",
     "output_type": "stream",
     "text": [
      "x=1, y=2, z=3, w=4\n"
     ]
    }
   ],
   "source": [
    "f(1, 2, 3, 4)"
   ]
  },
  {
   "attachments": {},
   "cell_type": "markdown",
   "metadata": {},
   "source": [
    "También es posible usar argumentos por palabras claves. En este caso, se indica a qué argumento corresponde cada valor con un signo `=`:"
   ]
  },
  {
   "cell_type": "code",
   "execution_count": 5,
   "metadata": {},
   "outputs": [
    {
     "name": "stdout",
     "output_type": "stream",
     "text": [
      "x=1, y=2, z=3, w=4\n"
     ]
    }
   ],
   "source": [
    "f(x=1, y=2, z=3, w=4)"
   ]
  },
  {
   "attachments": {},
   "cell_type": "markdown",
   "metadata": {},
   "source": [
    "Esto permite escribir los argumentos en cualquier orden:"
   ]
  },
  {
   "cell_type": "code",
   "execution_count": 6,
   "metadata": {},
   "outputs": [
    {
     "name": "stdout",
     "output_type": "stream",
     "text": [
      "x=1, y=2, z=3, w=4\n"
     ]
    }
   ],
   "source": [
    "f(z=3, x=1, w=4, y=2)"
   ]
  },
  {
   "attachments": {},
   "cell_type": "markdown",
   "metadata": {},
   "source": [
    "Se pueden combinar argumentos posicionales y por palabras clave:"
   ]
  },
  {
   "cell_type": "code",
   "execution_count": 8,
   "metadata": {},
   "outputs": [
    {
     "name": "stdout",
     "output_type": "stream",
     "text": [
      "x=1, y=2, z=3, w=4\n"
     ]
    }
   ],
   "source": [
    "f(1, z=3, w=4, y=2)"
   ]
  },
  {
   "attachments": {},
   "cell_type": "markdown",
   "metadata": {},
   "source": [
    "Pero solamente es posible si todos los argumentos posicinales están situados antes de todos los argumentos por palabras clave, tanto en la definición como en la llamada a la función:"
   ]
  },
  {
   "cell_type": "code",
   "execution_count": 10,
   "metadata": {},
   "outputs": [
    {
     "ename": "SyntaxError",
     "evalue": "positional argument follows keyword argument (707377164.py, line 1)",
     "output_type": "error",
     "traceback": [
      "\u001b[0;36m  Cell \u001b[0;32mIn [10], line 1\u001b[0;36m\u001b[0m\n\u001b[0;31m    f(x=1, 2, z=3, w=4)\u001b[0m\n\u001b[0m                      ^\u001b[0m\n\u001b[0;31mSyntaxError\u001b[0m\u001b[0;31m:\u001b[0m positional argument follows keyword argument\n"
     ]
    }
   ],
   "source": [
    "f(x=1, 2, z=3, w=4)"
   ]
  },
  {
   "cell_type": "code",
   "execution_count": 11,
   "metadata": {},
   "outputs": [
    {
     "ename": "TypeError",
     "evalue": "f() got multiple values for argument 'x'",
     "output_type": "error",
     "traceback": [
      "\u001b[0;31m---------------------------------------------------------------------------\u001b[0m",
      "\u001b[0;31mTypeError\u001b[0m                                 Traceback (most recent call last)",
      "Cell \u001b[0;32mIn [11], line 1\u001b[0m\n\u001b[0;32m----> 1\u001b[0m f(\u001b[39m2\u001b[39;49m, x\u001b[39m=\u001b[39;49m\u001b[39m1\u001b[39;49m, z\u001b[39m=\u001b[39;49m\u001b[39m3\u001b[39;49m, w\u001b[39m=\u001b[39;49m\u001b[39m4\u001b[39;49m)\n",
      "\u001b[0;31mTypeError\u001b[0m: f() got multiple values for argument 'x'"
     ]
    }
   ],
   "source": [
    "f(2, x=1, z=3, w=4)"
   ]
  },
  {
   "attachments": {},
   "cell_type": "markdown",
   "metadata": {},
   "source": [
    "## Argumentos por defecto\n",
    "\n",
    "En la definición de una función se puede especificar un valor por defecto para los argumentos. Si no se proporciona el elemento en la llamada, Python usará el valor por defecto:"
   ]
  },
  {
   "cell_type": "code",
   "execution_count": 12,
   "metadata": {},
   "outputs": [],
   "source": [
    "def f(x, y, z, w=0):\n",
    "    print(f\"{x=}, {y=}, {z=}, {w=}\")"
   ]
  },
  {
   "cell_type": "code",
   "execution_count": 14,
   "metadata": {},
   "outputs": [
    {
     "name": "stdout",
     "output_type": "stream",
     "text": [
      "x=1, y=2, z=3, w=4\n",
      "x=1, y=2, z=3, w=0\n",
      "x=1, y=2, z=3, w=0\n"
     ]
    }
   ],
   "source": [
    "f(1, 2, 3, 4)\n",
    "\n",
    "f(1, 2, 3)\n",
    "\n",
    "f(z=3, y=2, x=1)"
   ]
  },
  {
   "attachments": {},
   "cell_type": "markdown",
   "metadata": {},
   "source": [
    "## Argumentos solo posicionales o solo de palabra clave\n",
    "\n",
    "Los argumentos normales pueden funcionar indistintamente como posicionales o como palabras clave. Sin embargo, es posible forzar a que sean solamente de uno de los dos tipos.\n",
    "\n",
    "Los argumentos solo posicionales deben ir antes de los argumentos normales, y están separados de estos por `, / , `:"
   ]
  },
  {
   "cell_type": "code",
   "execution_count": 17,
   "metadata": {},
   "outputs": [],
   "source": [
    "def f(x, /,  y, z, w):\n",
    "    print(f\"{x=}, {y=}, {z=}, {w=}\")"
   ]
  },
  {
   "cell_type": "code",
   "execution_count": 18,
   "metadata": {},
   "outputs": [
    {
     "name": "stdout",
     "output_type": "stream",
     "text": [
      "x=1, y=2, z=3, w=4\n"
     ]
    }
   ],
   "source": [
    "f(1, y=2, z=3, w=4)"
   ]
  },
  {
   "cell_type": "code",
   "execution_count": 19,
   "metadata": {},
   "outputs": [
    {
     "ename": "TypeError",
     "evalue": "f() got some positional-only arguments passed as keyword arguments: 'x'",
     "output_type": "error",
     "traceback": [
      "\u001b[0;31m---------------------------------------------------------------------------\u001b[0m",
      "\u001b[0;31mTypeError\u001b[0m                                 Traceback (most recent call last)",
      "Cell \u001b[0;32mIn [19], line 1\u001b[0m\n\u001b[0;32m----> 1\u001b[0m f(x\u001b[39m=\u001b[39;49m\u001b[39m1\u001b[39;49m, y\u001b[39m=\u001b[39;49m\u001b[39m2\u001b[39;49m, z\u001b[39m=\u001b[39;49m\u001b[39m3\u001b[39;49m, w\u001b[39m=\u001b[39;49m\u001b[39m4\u001b[39;49m)\n",
      "\u001b[0;31mTypeError\u001b[0m: f() got some positional-only arguments passed as keyword arguments: 'x'"
     ]
    }
   ],
   "source": [
    "f(x=1, y=2, z=3, w=4)"
   ]
  },
  {
   "attachments": {},
   "cell_type": "markdown",
   "metadata": {},
   "source": [
    "Los argumentos solo por palabras clave deben ir después de los argumentos normales, y están separados de estos por `, * , `:"
   ]
  },
  {
   "cell_type": "code",
   "execution_count": 20,
   "metadata": {},
   "outputs": [],
   "source": [
    "def f(x, y, z, *,  w):\n",
    "    print(f\"{x=}, {y=}, {z=}, {w=}\")"
   ]
  },
  {
   "cell_type": "code",
   "execution_count": 21,
   "metadata": {},
   "outputs": [
    {
     "name": "stdout",
     "output_type": "stream",
     "text": [
      "x=1, y=2, z=3, w=4\n"
     ]
    }
   ],
   "source": [
    "f(1, 2, 3, w=4)"
   ]
  },
  {
   "cell_type": "code",
   "execution_count": 22,
   "metadata": {},
   "outputs": [
    {
     "ename": "TypeError",
     "evalue": "f() takes 3 positional arguments but 4 were given",
     "output_type": "error",
     "traceback": [
      "\u001b[0;31m---------------------------------------------------------------------------\u001b[0m",
      "\u001b[0;31mTypeError\u001b[0m                                 Traceback (most recent call last)",
      "Cell \u001b[0;32mIn [22], line 1\u001b[0m\n\u001b[0;32m----> 1\u001b[0m f(\u001b[39m1\u001b[39;49m, \u001b[39m2\u001b[39;49m, \u001b[39m3\u001b[39;49m, \u001b[39m4\u001b[39;49m)\n",
      "\u001b[0;31mTypeError\u001b[0m: f() takes 3 positional arguments but 4 were given"
     ]
    }
   ],
   "source": [
    "f(1, 2, 3, 4)"
   ]
  },
  {
   "attachments": {},
   "cell_type": "markdown",
   "metadata": {},
   "source": [
    "## Desempaquetado de argumentos\n",
    "\n",
    "Hasta ahora hemos pasado los argumentos a la función de uno en uno. Pero también es posible pasar varios argumentos de una sola vez.\n",
    "\n",
    "Para pasar varios argumentos posicionales, estos deben estar almacenados en una tupla o lista. Los elementos se desempaquetan con el operador `*` (similar al operador de de-referencia en C/C++):"
   ]
  },
  {
   "cell_type": "code",
   "execution_count": 26,
   "metadata": {},
   "outputs": [
    {
     "name": "stdout",
     "output_type": "stream",
     "text": [
      "x=1, y=2, z=3, w=4\n"
     ]
    }
   ],
   "source": [
    "def f(x, y, z, w, /):\n",
    "    print(f\"{x=}, {y=}, {z=}, {w=}\")\n",
    "\n",
    "args = (2, 3)\n",
    "\n",
    "f(1, *args, 4)"
   ]
  },
  {
   "cell_type": "code",
   "execution_count": 27,
   "metadata": {},
   "outputs": [
    {
     "name": "stdout",
     "output_type": "stream",
     "text": [
      "x=1, y=2, z=3, w=4\n"
     ]
    }
   ],
   "source": [
    "args = [1, 2, 3, 4]\n",
    "\n",
    "f(*args)"
   ]
  },
  {
   "attachments": {},
   "cell_type": "markdown",
   "metadata": {},
   "source": [
    "Para pasar varios argumentos por palabras claves, estos deben estar almacenados en un diccionario, y en este caso se desempaquetan con el operador `**`. Las claves del diccionario deben ser strings que coincidan con el nombre de los argumentos correspondientes:"
   ]
  },
  {
   "cell_type": "code",
   "execution_count": 29,
   "metadata": {},
   "outputs": [
    {
     "name": "stdout",
     "output_type": "stream",
     "text": [
      "x=1, y=2, z=3, w=4\n"
     ]
    }
   ],
   "source": [
    "def f(*, x, y, z, w):\n",
    "    print(f\"{x=}, {y=}, {z=}, {w=}\")\n",
    "\n",
    "kwargs = {'x': 1, 'z':3}\n",
    "\n",
    "f(**kwargs, y=2, w=4)"
   ]
  },
  {
   "attachments": {},
   "cell_type": "markdown",
   "metadata": {},
   "source": [
    "## Funciones con un número variable de argumentos\n",
    "\n",
    "Python además admite funciones con un número variable de argumentos. Para un número variable de argumentos posicionales, hay que declarar como argumento `*args` (el asterisco es obligatorio, el nombre de la variable puede cambiar pero `args` es lo que se usa por convención). Dentro de la función, `args` será una tupla con los elementos posicionales adiconales en orden:"
   ]
  },
  {
   "cell_type": "code",
   "execution_count": 30,
   "metadata": {},
   "outputs": [],
   "source": [
    "def f(x, y, *args):\n",
    "    texto = f\"{x=}, {y=}\"\n",
    "    for i, a in enumerate(args):\n",
    "        texto += f\", a{i}={a}\"\n",
    "    print(texto)"
   ]
  },
  {
   "cell_type": "code",
   "execution_count": 31,
   "metadata": {},
   "outputs": [
    {
     "name": "stdout",
     "output_type": "stream",
     "text": [
      "x=1, y=2, a0=3, a1=4, a2=5, a3=6\n"
     ]
    }
   ],
   "source": [
    "f(1, 2, 3, 4, 5, 6)"
   ]
  },
  {
   "attachments": {},
   "cell_type": "markdown",
   "metadata": {},
   "source": [
    "y para declarar un número variable de argumentos por palabras clave, hay que usar el argumento `**kwargs`. Los argumentos por palabras clave adicionales se encontrarán en el diccionario `kwargs`:"
   ]
  },
  {
   "cell_type": "code",
   "execution_count": 2,
   "metadata": {},
   "outputs": [],
   "source": [
    "def f(x, y, **kwargs):\n",
    "    texto = f\"{x=}, {y=}\"\n",
    "    for k, v in kwargs.items():\n",
    "        texto += f\", {k}={v}\"\n",
    "    print(texto)"
   ]
  },
  {
   "cell_type": "code",
   "execution_count": 4,
   "metadata": {},
   "outputs": [
    {
     "name": "stdout",
     "output_type": "stream",
     "text": [
      "x=1, y=2, z=3, w=4, t0=7\n"
     ]
    }
   ],
   "source": [
    "f(1, y=2, z=3, w=4, t0=7)"
   ]
  },
  {
   "attachments": {},
   "cell_type": "markdown",
   "metadata": {},
   "source": [
    "Por supuesto, se pueden combinar ambos:"
   ]
  },
  {
   "cell_type": "code",
   "execution_count": 5,
   "metadata": {},
   "outputs": [],
   "source": [
    "def f(x, y, *args, **kwargs):\n",
    "    texto = f\"{x=}, {y=}\"\n",
    "    for i, a in enumerate(args):\n",
    "        texto += f\", a{i}={a}\"\n",
    "    for k, v in kwargs.items():\n",
    "        texto += f\", {k}={v}\"\n",
    "    print(texto)\n"
   ]
  },
  {
   "cell_type": "code",
   "execution_count": 6,
   "metadata": {},
   "outputs": [
    {
     "name": "stdout",
     "output_type": "stream",
     "text": [
      "x=1, y=2, a0=3, a1=4, w=5, q=7\n"
     ]
    }
   ],
   "source": [
    "f(1, 2, 3, 4, w=5, q=7)"
   ]
  },
  {
   "attachments": {},
   "cell_type": "markdown",
   "metadata": {},
   "source": [
    "Una posible aplicación de los argumentos variables es crear decoradores que sirvan para cualquier función, independientemente de su signatura:"
   ]
  },
  {
   "cell_type": "code",
   "execution_count": 13,
   "metadata": {},
   "outputs": [],
   "source": [
    "def comenta_funcion(f):\n",
    "    def comentada(*args, **kwargs):\n",
    "        print(\"Antes de ejecutar la función\")\n",
    "        res = f(*args, **kwargs)\n",
    "        print(\"Después de ejecutar la función\")\n",
    "        return res\n",
    "\n",
    "    return comentada"
   ]
  },
  {
   "cell_type": "code",
   "execution_count": 14,
   "metadata": {},
   "outputs": [
    {
     "name": "stdout",
     "output_type": "stream",
     "text": [
      "Antes de ejecutar la función\n",
      "Después de ejecutar la función\n",
      "k=5.0\n"
     ]
    }
   ],
   "source": [
    "@comenta_funcion\n",
    "def f(x, y):\n",
    "    return (x**2 + y**2)**0.5\n",
    "\n",
    "k = f(3, y=4)\n",
    "\n",
    "print(f\"{k=}\")"
   ]
  },
  {
   "attachments": {},
   "cell_type": "markdown",
   "metadata": {},
   "source": [
    "## Desempaquetado de varios resultados de una función\n",
    "\n",
    "Python solo permite ejecutar un `return` por cada función. Sin embargo, siempre es posible devolver más de un resultado, almacenándolos en una tupla:"
   ]
  },
  {
   "cell_type": "code",
   "execution_count": 15,
   "metadata": {},
   "outputs": [],
   "source": [
    "def eq_cuadratica(a, b, c):\n",
    "    sol1 = (-b + (b**2-4*a*c)**0.5)/(2*a)\n",
    "    sol2 = (-b - (b**2-4*a*c)**0.5)/(2*a)\n",
    "    return (sol1, sol2)"
   ]
  },
  {
   "cell_type": "code",
   "execution_count": 18,
   "metadata": {},
   "outputs": [
    {
     "data": {
      "text/plain": [
       "(-2.0, -3.0)"
      ]
     },
     "execution_count": 18,
     "metadata": {},
     "output_type": "execute_result"
    }
   ],
   "source": [
    "eq_cuadratica(1, 5, 6)"
   ]
  },
  {
   "attachments": {},
   "cell_type": "markdown",
   "metadata": {},
   "source": [
    "De hecho, no es necesario escribir los paréntesis,"
   ]
  },
  {
   "cell_type": "code",
   "execution_count": 19,
   "metadata": {},
   "outputs": [],
   "source": [
    "def eq_cuadratica(a, b, c):\n",
    "    sol1 = (-b + (b**2-4*a*c)**0.5)/(2*a)\n",
    "    sol2 = (-b - (b**2-4*a*c)**0.5)/(2*a)\n",
    "    return sol1, sol2"
   ]
  },
  {
   "cell_type": "code",
   "execution_count": 20,
   "metadata": {},
   "outputs": [
    {
     "data": {
      "text/plain": [
       "(-2.0, -3.0)"
      ]
     },
     "execution_count": 20,
     "metadata": {},
     "output_type": "execute_result"
    }
   ],
   "source": [
    "eq_cuadratica(1, 5, 6)"
   ]
  },
  {
   "attachments": {},
   "cell_type": "markdown",
   "metadata": {},
   "source": [
    "Si queremos guardar cada una de las soluciones en una variable, es posible hacerlo directamente, sin tener que usar `[]` con la tupla:"
   ]
  },
  {
   "cell_type": "code",
   "execution_count": 21,
   "metadata": {},
   "outputs": [
    {
     "name": "stdout",
     "output_type": "stream",
     "text": [
      "x1=-2.0, x2=-3.0\n"
     ]
    }
   ],
   "source": [
    "(x1, x2) = eq_cuadratica(1, 5, 6)\n",
    "\n",
    "print(f\"{x1=}, {x2=}\")"
   ]
  },
  {
   "attachments": {},
   "cell_type": "markdown",
   "metadata": {},
   "source": [
    "y de nuevo es posible omitir los paréntesis:"
   ]
  },
  {
   "cell_type": "code",
   "execution_count": 22,
   "metadata": {},
   "outputs": [
    {
     "name": "stdout",
     "output_type": "stream",
     "text": [
      "x1=-2.0, x2=-3.0\n"
     ]
    }
   ],
   "source": [
    "x1, x2 = eq_cuadratica(1, 5, 6)\n",
    "\n",
    "print(f\"{x1=}, {x2=}\")"
   ]
  },
  {
   "cell_type": "code",
   "execution_count": null,
   "metadata": {},
   "outputs": [],
   "source": []
  }
 ],
 "metadata": {
  "kernelspec": {
   "display_name": "Python 3.10.8 ('tfm-alejandromir-pisT7Re7-py3.10')",
   "language": "python",
   "name": "python3"
  },
  "language_info": {
   "codemirror_mode": {
    "name": "ipython",
    "version": 3
   },
   "file_extension": ".py",
   "mimetype": "text/x-python",
   "name": "python",
   "nbconvert_exporter": "python",
   "pygments_lexer": "ipython3",
   "version": "3.10.8"
  },
  "orig_nbformat": 4,
  "vscode": {
   "interpreter": {
    "hash": "1f3f3a4d53262e9b64aadf354276afdb3b72bef7e271f3b7e5577e448e334dcb"
   }
  }
 },
 "nbformat": 4,
 "nbformat_minor": 2
}
