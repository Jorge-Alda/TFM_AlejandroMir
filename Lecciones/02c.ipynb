{
 "cells": [
  {
   "cell_type": "markdown",
   "metadata": {},
   "source": [
    "# O2c Iteradores, generadores, lambdas\n",
    "\n",
    "## Comprensión de listas\n",
    "Uno de los usos más comunes de un bucle `for` es almacenar valores en una lista:"
   ]
  },
  {
   "cell_type": "code",
   "execution_count": 1,
   "metadata": {},
   "outputs": [
    {
     "name": "stdout",
     "output_type": "stream",
     "text": [
      "[0, 1, 8, 27, 64, 125, 216, 343]\n"
     ]
    }
   ],
   "source": [
    "cubos = []\n",
    "for i in range(8):\n",
    "    cubos.append(i**3)\n",
    "\n",
    "print(cubos)"
   ]
  },
  {
   "cell_type": "markdown",
   "metadata": {},
   "source": [
    "Este mismo código se puede escribir de forma más elegante, en una sola línea, usando una comprensión de lista:"
   ]
  },
  {
   "cell_type": "code",
   "execution_count": 2,
   "metadata": {},
   "outputs": [
    {
     "name": "stdout",
     "output_type": "stream",
     "text": [
      "[0, 1, 8, 27, 64, 125, 216, 343]\n"
     ]
    }
   ],
   "source": [
    "cubos = [i**3 for i in range(8)]\n",
    "\n",
    "print(cubos)"
   ]
  },
  {
   "cell_type": "markdown",
   "metadata": {},
   "source": [
    "Se pueden filtrar elementos:"
   ]
  },
  {
   "cell_type": "code",
   "execution_count": 3,
   "metadata": {},
   "outputs": [
    {
     "name": "stdout",
     "output_type": "stream",
     "text": [
      "[1, 27, 125, 343]\n"
     ]
    }
   ],
   "source": [
    "cubos_impares = [i**3 for i in range(8) if i%2 == 1]\n",
    "\n",
    "print(cubos_impares)"
   ]
  },
  {
   "cell_type": "markdown",
   "metadata": {},
   "source": [
    "que sería equivalente al bucle"
   ]
  },
  {
   "cell_type": "code",
   "execution_count": 4,
   "metadata": {},
   "outputs": [
    {
     "name": "stdout",
     "output_type": "stream",
     "text": [
      "[1, 27, 125, 343]\n"
     ]
    }
   ],
   "source": [
    "cubos_impares = []\n",
    "\n",
    "for i in range(8):\n",
    "    if i%2 == 1:\n",
    "        cubos_impares.append(i**3)\n",
    "\n",
    "print(cubos_impares)"
   ]
  },
  {
   "cell_type": "markdown",
   "metadata": {},
   "source": [
    "Además de comprensión de listas, también existen comprensión de conjuntos y de diccionarios, que funcionan de un modo similar:"
   ]
  },
  {
   "cell_type": "code",
   "execution_count": 6,
   "metadata": {},
   "outputs": [
    {
     "name": "stdout",
     "output_type": "stream",
     "text": [
      "{'p', 'b', 'l', 'a', 'r'}\n"
     ]
    }
   ],
   "source": [
    "letras = {letra for letra in 'palabra'}\n",
    "print(letras)"
   ]
  },
  {
   "cell_type": "code",
   "execution_count": 7,
   "metadata": {},
   "outputs": [
    {
     "name": "stdout",
     "output_type": "stream",
     "text": [
      "{1: 1, 3: 27, 5: 125, 7: 343}\n"
     ]
    }
   ],
   "source": [
    "cubos_impares = {i: i**3 for i in range(8) if i%2 == 1}\n",
    "print(cubos_impares)"
   ]
  },
  {
   "cell_type": "markdown",
   "metadata": {},
   "source": [
    "## Iteradores\n",
    "\n",
    "Un iterador es cualquier objeto que se pueda usar como `in` en un bucle `for`. Algunos tipos definidos por Python, como `list`, `tuple`, `set` y `str` son iteradores:"
   ]
  },
  {
   "cell_type": "code",
   "execution_count": 8,
   "metadata": {},
   "outputs": [
    {
     "name": "stdout",
     "output_type": "stream",
     "text": [
      "p\n",
      "a\n",
      "l\n",
      "a\n",
      "b\n",
      "r\n",
      "a\n"
     ]
    }
   ],
   "source": [
    "for letra in 'palabra':\n",
    "    print(letra)"
   ]
  },
  {
   "cell_type": "markdown",
   "metadata": {},
   "source": [
    "Otro iterador muy común es `range()`. En Python 3, `range()` no genera una lista de valores, sino que los genera uno a uno. Para generarlos todos de una vez, tenemos que convertir el `range` en una lista:"
   ]
  },
  {
   "cell_type": "code",
   "execution_count": 10,
   "metadata": {},
   "outputs": [
    {
     "name": "stdout",
     "output_type": "stream",
     "text": [
      "range(0, 7)\n",
      "[0, 1, 2, 3, 4, 5, 6]\n"
     ]
    }
   ],
   "source": [
    "print(range(7))\n",
    "\n",
    "print(list(range(7)))"
   ]
  },
  {
   "cell_type": "markdown",
   "metadata": {},
   "source": [
    "En general, un iterador es cualquier objeto que tenga definido un método `__next__()`. Al iniciar cada paso del bucle, se llama a `__next__()`, y su valor devuelto se guarda en la variable del bucle. También debe tener un método `__iter__()` que devuelva un objeto iterable, que por lo general es `self`:"
   ]
  },
  {
   "cell_type": "code",
   "execution_count": 18,
   "metadata": {},
   "outputs": [],
   "source": [
    "from time import sleep\n",
    "\n",
    "class range_lento:\n",
    "    def __init__(self):\n",
    "        self.valor = 0\n",
    "\n",
    "    def __next__(self):\n",
    "        sleep(2.5)\n",
    "        self.valor += 1\n",
    "        return self.valor\n",
    "\n",
    "    def __iter__(self):\n",
    "        return self"
   ]
  },
  {
   "cell_type": "code",
   "execution_count": 17,
   "metadata": {},
   "outputs": [
    {
     "name": "stdout",
     "output_type": "stream",
     "text": [
      "1\n",
      "2\n",
      "3\n",
      "4\n",
      "5\n",
      "6\n",
      "7\n",
      "8\n",
      "9\n",
      "10\n",
      "11\n",
      "12\n",
      "13\n",
      "14\n"
     ]
    },
    {
     "ename": "KeyboardInterrupt",
     "evalue": "",
     "output_type": "error",
     "traceback": [
      "\u001b[0;31m---------------------------------------------------------------------------\u001b[0m",
      "\u001b[0;31mKeyboardInterrupt\u001b[0m                         Traceback (most recent call last)",
      "Cell \u001b[0;32mIn [17], line 1\u001b[0m\n\u001b[0;32m----> 1\u001b[0m \u001b[39mfor\u001b[39;00m i \u001b[39min\u001b[39;00m range_lento():\n\u001b[1;32m      2\u001b[0m     \u001b[39mprint\u001b[39m(i)\n",
      "Cell \u001b[0;32mIn [16], line 8\u001b[0m, in \u001b[0;36mrange_lento.__next__\u001b[0;34m(self)\u001b[0m\n\u001b[1;32m      7\u001b[0m \u001b[39mdef\u001b[39;00m \u001b[39m__next__\u001b[39m(\u001b[39mself\u001b[39m):\n\u001b[0;32m----> 8\u001b[0m     sleep(\u001b[39m0.5\u001b[39;49m)\n\u001b[1;32m      9\u001b[0m     \u001b[39mself\u001b[39m\u001b[39m.\u001b[39mvalor \u001b[39m+\u001b[39m\u001b[39m=\u001b[39m \u001b[39m1\u001b[39m\n\u001b[1;32m     10\u001b[0m     \u001b[39mreturn\u001b[39;00m \u001b[39mself\u001b[39m\u001b[39m.\u001b[39mvalor\n",
      "\u001b[0;31mKeyboardInterrupt\u001b[0m: "
     ]
    }
   ],
   "source": [
    "for i in range_lento():\n",
    "    print(i)"
   ]
  },
  {
   "cell_type": "markdown",
   "metadata": {},
   "source": [
    "¡Hemos creado un iterador infinito! Para señalar al bucle `for` cuando parar, hay que lanzar una excepción `StopIteration`:"
   ]
  },
  {
   "cell_type": "code",
   "execution_count": 19,
   "metadata": {},
   "outputs": [],
   "source": [
    "class range_lento:\n",
    "    def __init__(self, max):\n",
    "        self.valor = 0\n",
    "        self.max = max\n",
    "\n",
    "    def __next__(self):\n",
    "        if self.valor <= self.max:\n",
    "            sleep(2.5)\n",
    "            self.valor += 1\n",
    "            return self.valor\n",
    "        else:\n",
    "            raise StopIteration\n",
    "\n",
    "    def __iter__(self):\n",
    "        return self"
   ]
  },
  {
   "cell_type": "code",
   "execution_count": 20,
   "metadata": {},
   "outputs": [
    {
     "name": "stdout",
     "output_type": "stream",
     "text": [
      "1\n",
      "2\n",
      "3\n",
      "4\n",
      "5\n"
     ]
    }
   ],
   "source": [
    "for i in range_lento(4):\n",
    "    print(i)"
   ]
  },
  {
   "cell_type": "markdown",
   "metadata": {},
   "source": [
    "## Generadores\n",
    "\n",
    "Un generador es un tipo especial de fuunción que crea un iterador.\n",
    "\n",
    "En una función ordinaria, una vez que se alcanza `return` (o `raise`), se sale de la función y python olvida completamnete el estado de sus variables internas, de modo que la siguiente vez que se llama a la función, se empieza desde el principio.\n",
    "\n",
    "Un generador tiene una o más expresiones `yield`. Cuando se alcanza `yield`, se sale del generador, pero se conserva su estado interno. La próxima vez que se llama al generador, se empieza desde la línea siguiente al `yield`, conservando los valores de las variables internas."
   ]
  },
  {
   "cell_type": "code",
   "execution_count": 23,
   "metadata": {},
   "outputs": [
    {
     "name": "stdout",
     "output_type": "stream",
     "text": [
      "Hola\n",
      "5\n"
     ]
    }
   ],
   "source": [
    "def gen():\n",
    "    x = 2+3\n",
    "    yield 'Hola'\n",
    "    yield x\n",
    "\n",
    "for i in gen():\n",
    "    print(i)"
   ]
  },
  {
   "cell_type": "markdown",
   "metadata": {},
   "source": [
    "Un generador puede combinar varios `yield` y un `return`. Cuando se alcance el `return`, se acaba la ejecución del iterador:"
   ]
  },
  {
   "cell_type": "code",
   "execution_count": 24,
   "metadata": {},
   "outputs": [
    {
     "name": "stdout",
     "output_type": "stream",
     "text": [
      "Hola\n",
      "5\n"
     ]
    }
   ],
   "source": [
    "def gen():\n",
    "    x = 2+3\n",
    "    yield 'Hola'\n",
    "    yield x\n",
    "    return 7\n",
    "    yield 'a'\n",
    "\n",
    "for i in gen():\n",
    "    print(i)"
   ]
  },
  {
   "cell_type": "markdown",
   "metadata": {},
   "source": [
    "Se pueden crear generadores con una sintaxis similar a la de una comprensión de lista, pero encerrados en paréntesis en vez de corchetes:"
   ]
  },
  {
   "cell_type": "code",
   "execution_count": 25,
   "metadata": {},
   "outputs": [
    {
     "name": "stdout",
     "output_type": "stream",
     "text": [
      "0\n",
      "1\n",
      "8\n",
      "27\n",
      "64\n",
      "125\n",
      "216\n",
      "343\n"
     ]
    }
   ],
   "source": [
    "for i in (i**3 for i in range(8)):\n",
    "    print(i)"
   ]
  },
  {
   "cell_type": "markdown",
   "metadata": {},
   "source": [
    "Puede parecer similar a una comprensión de lista, pero la diferencia es que solamente se evalúa a cada paso del bucle. Compara estos dos códigos:"
   ]
  },
  {
   "cell_type": "code",
   "execution_count": 26,
   "metadata": {},
   "outputs": [],
   "source": [
    "def cubo(x):\n",
    "    sleep(2)\n",
    "    return x**3"
   ]
  },
  {
   "cell_type": "code",
   "execution_count": 30,
   "metadata": {},
   "outputs": [
    {
     "name": "stdout",
     "output_type": "stream",
     "text": [
      "Generador creado\n",
      "0\n",
      "1\n",
      "8\n",
      "27\n",
      "64\n",
      "125\n",
      "216\n",
      "343\n"
     ]
    }
   ],
   "source": [
    "miscubos = (cubo(i) for i in range(8))\n",
    "print(\"Generador creado\")\n",
    "\n",
    "for i in miscubos:\n",
    "    print(i)"
   ]
  },
  {
   "cell_type": "code",
   "execution_count": 31,
   "metadata": {},
   "outputs": [
    {
     "name": "stdout",
     "output_type": "stream",
     "text": [
      "Lista creada\n",
      "0\n",
      "1\n",
      "8\n",
      "27\n",
      "64\n",
      "125\n",
      "216\n",
      "343\n"
     ]
    }
   ],
   "source": [
    "miscubos = [cubo(i) for i in range(8)]\n",
    "print(\"Lista creada\")\n",
    "\n",
    "\n",
    "for i in miscubos:\n",
    "    print(i)"
   ]
  },
  {
   "cell_type": "code",
   "execution_count": null,
   "metadata": {},
   "outputs": [],
   "source": []
  }
 ],
 "metadata": {
  "kernelspec": {
   "display_name": "Python 3.10.8 ('tfm-alejandromir-pisT7Re7-py3.10')",
   "language": "python",
   "name": "python3"
  },
  "language_info": {
   "codemirror_mode": {
    "name": "ipython",
    "version": 3
   },
   "file_extension": ".py",
   "mimetype": "text/x-python",
   "name": "python",
   "nbconvert_exporter": "python",
   "pygments_lexer": "ipython3",
   "version": "3.10.8"
  },
  "orig_nbformat": 4,
  "vscode": {
   "interpreter": {
    "hash": "1f3f3a4d53262e9b64aadf354276afdb3b72bef7e271f3b7e5577e448e334dcb"
   }
  }
 },
 "nbformat": 4,
 "nbformat_minor": 2
}
