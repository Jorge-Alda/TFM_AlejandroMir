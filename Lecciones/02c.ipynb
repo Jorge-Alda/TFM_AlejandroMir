{
 "cells": [
  {
   "cell_type": "markdown",
   "metadata": {},
   "source": [
    "# O2c Iteradores, generadores, lambdas\n",
    "\n",
    "## Comprensión de listas\n",
    "Uno de los usos más comunes de un bucle `for` es almacenar valores en una lista:"
   ]
  },
  {
   "cell_type": "code",
   "execution_count": 1,
   "metadata": {},
   "outputs": [
    {
     "name": "stdout",
     "output_type": "stream",
     "text": [
      "[0, 1, 8, 27, 64, 125, 216, 343]\n"
     ]
    }
   ],
   "source": [
    "cubos = []\n",
    "for i in range(8):\n",
    "    cubos.append(i**3)\n",
    "\n",
    "print(cubos)"
   ]
  },
  {
   "cell_type": "markdown",
   "metadata": {},
   "source": [
    "Este mismo código se puede escribir de forma más elegante, en una sola línea, usando una comprensión de lista:"
   ]
  },
  {
   "cell_type": "code",
   "execution_count": 2,
   "metadata": {},
   "outputs": [
    {
     "name": "stdout",
     "output_type": "stream",
     "text": [
      "[0, 1, 8, 27, 64, 125, 216, 343]\n"
     ]
    }
   ],
   "source": [
    "cubos = [i**3 for i in range(8)]\n",
    "\n",
    "print(cubos)"
   ]
  },
  {
   "cell_type": "markdown",
   "metadata": {},
   "source": [
    "Se pueden filtrar elementos:"
   ]
  },
  {
   "cell_type": "code",
   "execution_count": 3,
   "metadata": {},
   "outputs": [
    {
     "name": "stdout",
     "output_type": "stream",
     "text": [
      "[1, 27, 125, 343]\n"
     ]
    }
   ],
   "source": [
    "cubos_impares = [i**3 for i in range(8) if i%2 == 1]\n",
    "\n",
    "print(cubos_impares)"
   ]
  },
  {
   "cell_type": "markdown",
   "metadata": {},
   "source": [
    "que sería equivalente al bucle"
   ]
  },
  {
   "cell_type": "code",
   "execution_count": 4,
   "metadata": {},
   "outputs": [
    {
     "name": "stdout",
     "output_type": "stream",
     "text": [
      "[1, 27, 125, 343]\n"
     ]
    }
   ],
   "source": [
    "cubos_impares = []\n",
    "\n",
    "for i in range(8):\n",
    "    if i%2 == 1:\n",
    "        cubos_impares.append(i**3)\n",
    "\n",
    "print(cubos_impares)"
   ]
  },
  {
   "cell_type": "markdown",
   "metadata": {},
   "source": [
    "Además de comprensión de listas, también existen comprensión de conjuntos y de diccionarios, que funcionan de un modo similar:"
   ]
  },
  {
   "cell_type": "code",
   "execution_count": 6,
   "metadata": {},
   "outputs": [
    {
     "name": "stdout",
     "output_type": "stream",
     "text": [
      "{'p', 'b', 'l', 'a', 'r'}\n"
     ]
    }
   ],
   "source": [
    "letras = {letra for letra in 'palabra'}\n",
    "print(letras)"
   ]
  },
  {
   "cell_type": "code",
   "execution_count": 7,
   "metadata": {},
   "outputs": [
    {
     "name": "stdout",
     "output_type": "stream",
     "text": [
      "{1: 1, 3: 27, 5: 125, 7: 343}\n"
     ]
    }
   ],
   "source": [
    "cubos_impares = {i: i**3 for i in range(8) if i%2 == 1}\n",
    "print(cubos_impares)"
   ]
  },
  {
   "cell_type": "markdown",
   "metadata": {},
   "source": [
    "## Iteradores\n",
    "\n",
    "Un iterador es cualquier objeto que se pueda usar como `in` en un bucle `for`. Algunos tipos definidos por Python, como `list`, `tuple`, `set` y `str` son iteradores:"
   ]
  },
  {
   "cell_type": "code",
   "execution_count": 8,
   "metadata": {},
   "outputs": [
    {
     "name": "stdout",
     "output_type": "stream",
     "text": [
      "p\n",
      "a\n",
      "l\n",
      "a\n",
      "b\n",
      "r\n",
      "a\n"
     ]
    }
   ],
   "source": [
    "for letra in 'palabra':\n",
    "    print(letra)"
   ]
  },
  {
   "cell_type": "markdown",
   "metadata": {},
   "source": [
    "Otro iterador muy común es `range()`. En Python 3, `range()` no genera una lista de valores, sino que los genera uno a uno. Para generarlos todos de una vez, tenemos que convertir el `range` en una lista:"
   ]
  },
  {
   "cell_type": "code",
   "execution_count": 10,
   "metadata": {},
   "outputs": [
    {
     "name": "stdout",
     "output_type": "stream",
     "text": [
      "range(0, 7)\n",
      "[0, 1, 2, 3, 4, 5, 6]\n"
     ]
    }
   ],
   "source": [
    "print(range(7))\n",
    "\n",
    "print(list(range(7)))"
   ]
  },
  {
   "cell_type": "markdown",
   "metadata": {},
   "source": [
    "En general, un iterador es cualquier objeto que tenga definido un método `__next__()`. Al iniciar cada paso del bucle, se llama a `__next__()`, y su valor devuelto se guarda en la variable del bucle. También debe tener un método `__iter__()` que devuelva un objeto iterable, que por lo general es `self`:"
   ]
  },
  {
   "cell_type": "code",
   "execution_count": 18,
   "metadata": {},
   "outputs": [],
   "source": [
    "from time import sleep\n",
    "\n",
    "class range_lento:\n",
    "    def __init__(self):\n",
    "        self.valor = 0\n",
    "\n",
    "    def __next__(self):\n",
    "        sleep(2.5)\n",
    "        self.valor += 1\n",
    "        return self.valor\n",
    "\n",
    "    def __iter__(self):\n",
    "        return self"
   ]
  },
  {
   "cell_type": "code",
   "execution_count": 17,
   "metadata": {},
   "outputs": [
    {
     "name": "stdout",
     "output_type": "stream",
     "text": [
      "1\n",
      "2\n",
      "3\n",
      "4\n",
      "5\n",
      "6\n",
      "7\n",
      "8\n",
      "9\n",
      "10\n",
      "11\n",
      "12\n",
      "13\n",
      "14\n"
     ]
    },
    {
     "ename": "KeyboardInterrupt",
     "evalue": "",
     "output_type": "error",
     "traceback": [
      "\u001b[0;31m---------------------------------------------------------------------------\u001b[0m",
      "\u001b[0;31mKeyboardInterrupt\u001b[0m                         Traceback (most recent call last)",
      "Cell \u001b[0;32mIn [17], line 1\u001b[0m\n\u001b[0;32m----> 1\u001b[0m \u001b[39mfor\u001b[39;00m i \u001b[39min\u001b[39;00m range_lento():\n\u001b[1;32m      2\u001b[0m     \u001b[39mprint\u001b[39m(i)\n",
      "Cell \u001b[0;32mIn [16], line 8\u001b[0m, in \u001b[0;36mrange_lento.__next__\u001b[0;34m(self)\u001b[0m\n\u001b[1;32m      7\u001b[0m \u001b[39mdef\u001b[39;00m \u001b[39m__next__\u001b[39m(\u001b[39mself\u001b[39m):\n\u001b[0;32m----> 8\u001b[0m     sleep(\u001b[39m0.5\u001b[39;49m)\n\u001b[1;32m      9\u001b[0m     \u001b[39mself\u001b[39m\u001b[39m.\u001b[39mvalor \u001b[39m+\u001b[39m\u001b[39m=\u001b[39m \u001b[39m1\u001b[39m\n\u001b[1;32m     10\u001b[0m     \u001b[39mreturn\u001b[39;00m \u001b[39mself\u001b[39m\u001b[39m.\u001b[39mvalor\n",
      "\u001b[0;31mKeyboardInterrupt\u001b[0m: "
     ]
    }
   ],
   "source": [
    "for i in range_lento():\n",
    "    print(i)"
   ]
  },
  {
   "cell_type": "markdown",
   "metadata": {},
   "source": [
    "¡Hemos creado un iterador infinito! Para señalar al bucle `for` cuando parar, hay que lanzar una excepción `StopIteration`:"
   ]
  },
  {
   "cell_type": "code",
   "execution_count": 52,
   "metadata": {},
   "outputs": [],
   "source": [
    "class range_lento:\n",
    "    def __init__(self, max):\n",
    "        self.valor = 0\n",
    "        self.max = max\n",
    "\n",
    "    def __next__(self):\n",
    "        if self.valor <= self.max:\n",
    "            sleep(2.5)\n",
    "            self.valor += 1\n",
    "            return self.valor\n",
    "        else:\n",
    "            raise StopIteration\n",
    "\n",
    "    def __iter__(self):\n",
    "        return self"
   ]
  },
  {
   "cell_type": "code",
   "execution_count": 53,
   "metadata": {},
   "outputs": [
    {
     "name": "stdout",
     "output_type": "stream",
     "text": [
      "1\n"
     ]
    }
   ],
   "source": [
    "for i in range_lento(4):\n",
    "    print(i)"
   ]
  },
  {
   "cell_type": "code",
   "execution_count": 50,
   "metadata": {},
   "outputs": [],
   "source": [
    "class FloatRange:\n",
    "    def __init__(self, start, stop, step=1.0):\n",
    "        if start >= stop:\n",
    "            raise ValueError(\"Invalid range\")\n",
    "        self.start = start\n",
    "        self.stop = stop\n",
    "        self.step = step\n",
    "\n",
    "    def __iter__(self):\n",
    "        n = self.start\n",
    "        while n < self.stop:\n",
    "            yield n\n",
    "            n += self.step\n",
    "\n",
    "    def __reversed__(self):\n",
    "        n = self.stop - self.step\n",
    "        while n >= self.start:\n",
    "            yield n\n",
    "            n -= self.step"
   ]
  },
  {
   "cell_type": "code",
   "execution_count": 51,
   "metadata": {},
   "outputs": [
    {
     "name": "stdout",
     "output_type": "stream",
     "text": [
      "0.0\n",
      "0.5\n",
      "1.0\n",
      "1.5\n",
      "2.0\n",
      "2.5\n",
      "3.0\n",
      "3.5\n",
      "4.0\n",
      "4.5\n"
     ]
    }
   ],
   "source": [
    "for number in FloatRange(0.0, 5.0, 0.5):\n",
    "    print(number)"
   ]
  },
  {
   "cell_type": "markdown",
   "metadata": {},
   "source": [
    "## Generadores\n",
    "\n",
    "Un generador es un tipo especial de fuunción que crea un iterador.\n",
    "\n",
    "En una función ordinaria, una vez que se alcanza `return` (o `raise`), se sale de la función y python olvida completamnete el estado de sus variables internas, de modo que la siguiente vez que se llama a la función, se empieza desde el principio.\n",
    "\n",
    "Un generador tiene una o más expresiones `yield`. Cuando se alcanza `yield`, se sale del generador, pero se conserva su estado interno. La próxima vez que se llama al generador, se empieza desde la línea siguiente al `yield`, conservando los valores de las variables internas."
   ]
  },
  {
   "cell_type": "code",
   "execution_count": 23,
   "metadata": {},
   "outputs": [
    {
     "name": "stdout",
     "output_type": "stream",
     "text": [
      "Hola\n",
      "5\n"
     ]
    }
   ],
   "source": [
    "def gen():\n",
    "    x = 2+3\n",
    "    yield 'Hola'\n",
    "    yield x\n",
    "\n",
    "for i in gen():\n",
    "    print(i)"
   ]
  },
  {
   "cell_type": "markdown",
   "metadata": {},
   "source": [
    "Un generador puede combinar varios `yield` y un `return`. Cuando se alcance el `return`, se acaba la ejecución del iterador:"
   ]
  },
  {
   "cell_type": "code",
   "execution_count": 24,
   "metadata": {},
   "outputs": [
    {
     "name": "stdout",
     "output_type": "stream",
     "text": [
      "Hola\n",
      "5\n"
     ]
    }
   ],
   "source": [
    "def gen():\n",
    "    x = 2+3\n",
    "    yield 'Hola'\n",
    "    yield x\n",
    "    return 7\n",
    "    yield 'a'\n",
    "\n",
    "for i in gen():\n",
    "    print(i)"
   ]
  },
  {
   "cell_type": "markdown",
   "metadata": {},
   "source": [
    "Se pueden crear generadores con una sintaxis similar a la de una comprensión de lista, pero encerrados en paréntesis en vez de corchetes:"
   ]
  },
  {
   "cell_type": "code",
   "execution_count": 25,
   "metadata": {},
   "outputs": [
    {
     "name": "stdout",
     "output_type": "stream",
     "text": [
      "0\n",
      "1\n",
      "8\n",
      "27\n",
      "64\n",
      "125\n",
      "216\n",
      "343\n"
     ]
    }
   ],
   "source": [
    "for i in (i**3 for i in range(8)):\n",
    "    print(i)"
   ]
  },
  {
   "cell_type": "markdown",
   "metadata": {},
   "source": [
    "Puede parecer similar a una comprensión de lista, pero la diferencia es que solamente se evalúa a cada paso del bucle. Compara estos dos códigos:"
   ]
  },
  {
   "cell_type": "code",
   "execution_count": 26,
   "metadata": {},
   "outputs": [],
   "source": [
    "def cubo(x):\n",
    "    sleep(2)\n",
    "    return x**3"
   ]
  },
  {
   "cell_type": "code",
   "execution_count": 30,
   "metadata": {},
   "outputs": [
    {
     "name": "stdout",
     "output_type": "stream",
     "text": [
      "Generador creado\n",
      "0\n",
      "1\n",
      "8\n",
      "27\n",
      "64\n",
      "125\n",
      "216\n",
      "343\n"
     ]
    }
   ],
   "source": [
    "miscubos = (cubo(i) for i in range(8))\n",
    "print(\"Generador creado\")\n",
    "\n",
    "for i in miscubos:\n",
    "    print(i)"
   ]
  },
  {
   "cell_type": "code",
   "execution_count": 31,
   "metadata": {},
   "outputs": [
    {
     "name": "stdout",
     "output_type": "stream",
     "text": [
      "Lista creada\n",
      "0\n",
      "1\n",
      "8\n",
      "27\n",
      "64\n",
      "125\n",
      "216\n",
      "343\n"
     ]
    }
   ],
   "source": [
    "miscubos = [cubo(i) for i in range(8)]\n",
    "print(\"Lista creada\")\n",
    "\n",
    "\n",
    "for i in miscubos:\n",
    "    print(i)"
   ]
  },
  {
   "cell_type": "markdown",
   "metadata": {},
   "source": [
    "## Manipulación de iteradores\n",
    "\n",
    "El paquete `random` de la librería estándar contiene algunas funciones para trabajar con secuencias. Una secuencia es un objeto con una longitud determinada (implementa `__len__()`) y cuyos elementos se pueden obtener mediante índices numéricos (implementa `__getitem__()`). Las listas, tuplas y `range` son ejemplos de secuencias."
   ]
  },
  {
   "cell_type": "code",
   "execution_count": 42,
   "metadata": {},
   "outputs": [
    {
     "data": {
      "text/plain": [
       "15"
      ]
     },
     "execution_count": 42,
     "metadata": {},
     "output_type": "execute_result"
    }
   ],
   "source": [
    "import random\n",
    "\n",
    "# Elige un número aleatorio entre 15 y 20\n",
    "random.choice(range(15, 20))"
   ]
  },
  {
   "cell_type": "code",
   "execution_count": 46,
   "metadata": {},
   "outputs": [
    {
     "name": "stdout",
     "output_type": "stream",
     "text": [
      "['d', 'c', 'a', 'b']\n"
     ]
    }
   ],
   "source": [
    "# Reordena los elementos\n",
    "l = ['a', 'b', 'c', 'd']\n",
    "random.shuffle(l)\n",
    "print(l)"
   ]
  },
  {
   "cell_type": "code",
   "execution_count": 47,
   "metadata": {},
   "outputs": [
    {
     "data": {
      "text/plain": [
       "[13, 18, 8, 3]"
      ]
     },
     "execution_count": 47,
     "metadata": {},
     "output_type": "execute_result"
    }
   ],
   "source": [
    "# Elige 4 elementos aleatoriamente (sin repetición)\n",
    "random.sample(range(20), 4)"
   ]
  },
  {
   "cell_type": "code",
   "execution_count": 48,
   "metadata": {},
   "outputs": [
    {
     "data": {
      "text/plain": [
       "[2, 2, 0, 4, 0, 3, 0, 4, 0, 3, 3, 0, 3, 1, 0, 3, 2, 3, 1, 3]"
      ]
     },
     "execution_count": 48,
     "metadata": {},
     "output_type": "execute_result"
    }
   ],
   "source": [
    "# Elige 20 elementos aleatoriamente (con repetición)\n",
    "random.choices(range(5), k=20)"
   ]
  },
  {
   "cell_type": "markdown",
   "metadata": {},
   "source": [
    "Python tiene una función para darle la vuelta a un iterador, `reversed`. Se aplica a las secuencias, o a los iteradores que implementen `__reveresed__()`:"
   ]
  },
  {
   "cell_type": "code",
   "execution_count": 54,
   "metadata": {},
   "outputs": [
    {
     "name": "stdout",
     "output_type": "stream",
     "text": [
      "9\n",
      "8\n",
      "7\n",
      "6\n",
      "5\n",
      "4\n",
      "3\n",
      "2\n",
      "1\n",
      "0\n"
     ]
    }
   ],
   "source": [
    "for i in reversed(range(10)):\n",
    "    print(i)"
   ]
  },
  {
   "cell_type": "markdown",
   "metadata": {},
   "source": [
    "Vamos a crear nuestro propio iterador con `__reversed__()`:"
   ]
  },
  {
   "cell_type": "code",
   "execution_count": 66,
   "metadata": {},
   "outputs": [],
   "source": [
    "class range_lento:\n",
    "    def __init__(self, max):\n",
    "        self.max = max\n",
    "    \n",
    "    def __iter__(self):\n",
    "        i = 0\n",
    "        while i < self.max:\n",
    "            sleep(1.2)\n",
    "            yield i\n",
    "            i += 1\n",
    "\n",
    "    def __reversed__(self):\n",
    "        i = self.max - 1\n",
    "        while i >= 0:\n",
    "            sleep(1.2)\n",
    "            yield i\n",
    "            i -= 1"
   ]
  },
  {
   "cell_type": "code",
   "execution_count": 59,
   "metadata": {},
   "outputs": [
    {
     "name": "stdout",
     "output_type": "stream",
     "text": [
      "4\n",
      "3\n",
      "2\n",
      "1\n",
      "0\n"
     ]
    }
   ],
   "source": [
    "for i in reversed(range_lento(5)):\n",
    "    print(i)"
   ]
  },
  {
   "cell_type": "markdown",
   "metadata": {},
   "source": [
    "Otra función de python para manipular iteradores es `sorted`. Esta función produce una lista con todos los elementos producidos por el iterador, ordenados de menor a mayor. Si es necesario, calcula todos los elementos."
   ]
  },
  {
   "cell_type": "code",
   "execution_count": 67,
   "metadata": {},
   "outputs": [
    {
     "data": {
      "text/plain": [
       "[0, 1, 2, 3, 4]"
      ]
     },
     "execution_count": 67,
     "metadata": {},
     "output_type": "execute_result"
    }
   ],
   "source": [
    "sorted(reversed(range_lento(5)))"
   ]
  },
  {
   "cell_type": "markdown",
   "metadata": {},
   "source": [
    "Si no se pasa ningún argumento más, `sorted` compara los elementos del iterador entre sí (para valores numéricos por su valor, para texto según sus códigos ascii/unicode, etc). En concreto, significa que, cuando ordenamos palabras, las que empiecen por mayúscula aparecerán antes que las que empiezan por minúscula, independientemente del orden alfabético:"
   ]
  },
  {
   "cell_type": "code",
   "execution_count": 68,
   "metadata": {},
   "outputs": [
    {
     "data": {
      "text/plain": [
       "['Hoy', 'ayer', 'mañana']"
      ]
     },
     "execution_count": 68,
     "metadata": {},
     "output_type": "execute_result"
    }
   ],
   "source": [
    "sorted(['ayer', 'Hoy', 'mañana'])"
   ]
  },
  {
   "cell_type": "markdown",
   "metadata": {},
   "source": [
    "Para evitarlo, hay que pasar a `sorted` un argumento `key` que se corresponda con la función usada para ordenar los elementos. En este caso, usaremos `str.lower`, que convierte un string a minúsculas:"
   ]
  },
  {
   "cell_type": "code",
   "execution_count": 69,
   "metadata": {},
   "outputs": [
    {
     "data": {
      "text/plain": [
       "['ayer', 'Hoy', 'mañana']"
      ]
     },
     "execution_count": 69,
     "metadata": {},
     "output_type": "execute_result"
    }
   ],
   "source": [
    "sorted(['ayer', 'Hoy', 'mañana'], key=str.lower)"
   ]
  },
  {
   "cell_type": "markdown",
   "metadata": {},
   "source": [
    "Como otro ejemplo, vamos a ordenar las palabras por el número de veces que aparezca la letra 'a':"
   ]
  },
  {
   "cell_type": "code",
   "execution_count": 71,
   "metadata": {},
   "outputs": [
    {
     "data": {
      "text/plain": [
       "['Hoy', 'ayer', 'mañana']"
      ]
     },
     "execution_count": 71,
     "metadata": {},
     "output_type": "execute_result"
    }
   ],
   "source": [
    "def numero_a(s):\n",
    "    return len([letra for letra in s.lower() if letra == 'a'])\n",
    "\n",
    "sorted(['ayer', 'Hoy', 'mañana'], key=numero_a)"
   ]
  },
  {
   "cell_type": "code",
   "execution_count": null,
   "metadata": {},
   "outputs": [],
   "source": []
  }
 ],
 "metadata": {
  "kernelspec": {
   "display_name": "Python 3.10.8 ('tfm-alejandromir-pisT7Re7-py3.10')",
   "language": "python",
   "name": "python3"
  },
  "language_info": {
   "codemirror_mode": {
    "name": "ipython",
    "version": 3
   },
   "file_extension": ".py",
   "mimetype": "text/x-python",
   "name": "python",
   "nbconvert_exporter": "python",
   "pygments_lexer": "ipython3",
   "version": "3.10.8"
  },
  "orig_nbformat": 4,
  "vscode": {
   "interpreter": {
    "hash": "1f3f3a4d53262e9b64aadf354276afdb3b72bef7e271f3b7e5577e448e334dcb"
   }
  }
 },
 "nbformat": 4,
 "nbformat_minor": 2
}
