{
 "cells": [
  {
   "cell_type": "markdown",
   "metadata": {},
   "source": [
    "# Two-Higgs-Doublet Model (2HDM)"
   ]
  },
  {
   "cell_type": "markdown",
   "metadata": {},
   "source": [
    "Properties:\n",
    "- Additional Higgs particle\n",
    "- Sources of CP-violation\n",
    "- Flavour changing Neutral currents (FCNCs) at tree-level"
   ]
  },
  {
   "cell_type": "markdown",
   "metadata": {},
   "source": [
    "$$\\mathcal{L}_{2HDM} = (D_\\mu \\Phi_1)^\\dagger(D^\\mu \\Phi_1)+(D_\\mu \\Phi_2)^\\dagger(D^\\mu \\Phi_2)-V(\\Phi_1 \\Phi_2)$$\n",
    "Where, $D_\\mu= \\partial_\\mu+ ig\\frac{\\tau^i}{2}W_\\mu^i+i\\frac{g'}{2}YB_\\mu$\n",
    "The complete potential is:\n",
    "$$ \\begin{align}\n",
    "V &= m_{11}^2\\Phi_1^\\dagger\\Phi_1+m_{22}^2\\Phi_2^\\dagger\\Phi_2-(m_{12}^2\\Phi_1^\\dagger\\Phi_2+h.c.) +\\nonumber\\\\\n",
    "&+ \\frac{\\lambda_1}{2}(\\Phi_1^\\dagger\\Phi_1)^2+\\frac{\\lambda_2}{2}(\\Phi_2^\\dagger\\Phi_2)^2+\\lambda_3(\\Phi_1^\\dagger\\Phi_1)(\\Phi_2^\\dagger\\Phi_2)+\\lambda_4(\\Phi_1^\\dagger\\Phi_2)(\\Phi_2^\\dagger\\Phi_1)+\\nonumber\\\\\n",
    "&+ [\\frac{\\lambda_5}{2}(\\Phi_1^\\dagger\\Phi_2)^2+\\lambda_6(\\Phi_1^\\dagger\\Phi_1)(\\Phi_1^\\dagger\\Phi_2)+\\lambda_7(\\Phi_2^\\dagger\\Phi_2)(\\Phi_1^\\dagger\\Phi_2)+h.c.]\\nonumber\n",
    "\\end{align}$$\n",
    "\n",
    "where $m_{11}^2$, $m_{22}^2$ and $\\lambda_{1,2,3,4}$ are real and $m_{12}^2$ and $\\lambda_{5,6,7}$ are in general complex (in the standard 2HDM they are considered as real parameters). There are a total of 14 parameters."
   ]
  },
  {
   "cell_type": "markdown",
   "metadata": {},
   "source": [
    "The $\\Phi_1$ and $\\Phi_2$ fields are defined as 2-complex-component vector fields:\n",
    "$$\\Phi_1(x)=\\begin{pmatrix}\\Phi_1^+(x) \\\\ \\Phi_1^0(x)\\end{pmatrix}=\\frac{1}{\\sqrt{2}}\\begin{pmatrix}\\pi_1^1(x)+i\\sigma_1^1(x) \\\\ \\pi_1^2(x)+i\\sigma_1^2(x)\\end{pmatrix}\\rightarrow \\hspace{0.1cm}<\\Phi_1>=\\begin{pmatrix}0 \\\\ \\frac{v_1}{\\sqrt{2}}\\end{pmatrix}$$\n",
    "$$\\Phi_2(x)=\\begin{pmatrix}\\Phi_2^+(x) \\\\ \\Phi_2^0(x)\\end{pmatrix}=\\frac{1}{\\sqrt{2}}\\begin{pmatrix}\\pi_2^1(x)+i\\sigma_2^1(x) \\\\ \\pi_2^2(x)+i\\sigma_2^2(x)\\end{pmatrix}\\rightarrow \\hspace{0.1cm} <\\Phi_2>=\\begin{pmatrix}0 \\\\ \\frac{v_2}{\\sqrt{2}}\\end{pmatrix}$$"
   ]
  },
  {
   "cell_type": "markdown",
   "metadata": {},
   "source": [
    "We can expand $\\Phi_1$ and $\\Phi_2$ around the v.e.v., introducing 8 different fields $\\phi_a^\\pm$, $\\rho_a$ and $\\eta_a$ (a=1,2):\n",
    "$$\\Phi_a=\\begin{pmatrix}\\phi_a^\\pm \\\\ \\frac{1}{\\sqrt{2}}(v_a+\\rho_a+i\\eta_a)\\end{pmatrix}$$"
   ]
  },
  {
   "cell_type": "markdown",
   "metadata": {},
   "source": [
    "After symmetry breaking we can determine the mass matrices by calculating the extreme of the potential \n",
    "$$\\frac{V}{\\partial v_1}=\\frac{V}{\\partial v_2}=0 \\hspace{0.5cm} \\rightarrow \\hspace{0.5cm}\\begin{align} 0= m_{11}^2v_1-Re(m_{12}^2)v_2+v_1^3\\frac{\\lambda_1}{2}+v_1 v_2^2\\frac{\\lambda_{345}}{2}\\nonumber\\\\ 0= m_{22}^2v_2-Re(m_{12}^2)v_1+v_2^3\\frac{\\lambda_2}{2}+v_2 v_1^2\\frac{\\lambda_{345}}{2} \\nonumber\\end{align}$$\n",
    "\n",
    "$$\\begin{align}\n",
    "m_{11}^2=Re(m_{12}^2)\\frac{v_2}{v_1}-\\frac{\\lambda_1}{2}v_1^2-\\lambda_{345}\\frac{v_2^2}{2}\\nonumber\\\\\n",
    "m_{22}^2=Re(m_{12}^2)\\frac{v_1}{v_2}-\\frac{\\lambda_1}{2}v_2^2-\\lambda_{345}\\frac{v_1^2}{2}\\nonumber\n",
    "\\end{align}$$\n",
    "\n",
    "where $\\lambda_{345}=\\lambda_3+\\lambda_4+\\lambda_5$.\n",
    "\n",
    "Deriving respect the different fields we obtain the non-diagonal mass matrices:\n",
    "$$M^2_{\\phi^\\pm}=\\frac{\\partial^2 V}{\\partial\\phi_i^-\\partial\\phi_j^+}=[m_{12}^2-(\\lambda_4+\\lambda_5)v_1v_2]\\begin{pmatrix}\\frac{v_2}{v_1} & -1 \\\\ -1 & \\frac{v_1}{v_2}\\end{pmatrix}$$\n",
    "$$M_\\eta^2=\\frac{\\partial^2 V}{\\partial\\eta_i\\partial\\eta_j}=(\\frac{m_{12}^2}{v_1v_2}-\\lambda_5)\\begin{pmatrix} v_2^2 & -v_1v_2 \\\\ -v_!v_2 & v_1^2\\end{pmatrix}$$\n",
    "$$M_\\rho^2=\\frac{\\partial^2 V}{\\partial\\rho_i\\partial\\rho_j}=-\\begin{pmatrix} m_{12}^2\\frac{v_2}{v_1}+\\lambda_1v_1^2 & -m_{12}^2+\\lambda_{345}v_1v_2\\\\ -m_{12}^2+\\lambda_{345}v_1v_2 & m_{12}^2\\frac{v_2}{v_1}+\\lambda_2v_2^2\\end{pmatrix}$$"
   ]
  },
  {
   "cell_type": "markdown",
   "metadata": {},
   "source": [
    "To have physical propragating particles in the 2HDM we shall consider the eigenstates and eigenvalues (masses).\n",
    "This can be archieved by diagonalising the mass-squared matrices. The fields $\\phi_i^\\pm$, $\\rho_i$ and $\\eta_i$ in the gauge basis are transformed into physical fields.\n",
    "- From $M^2_{\\phi^\\pm}$ we obtain one field with 0 eigenvalue corresponding to the charged Goldstone boson $W^\\pm$ and another field with mass corresponding to a charged Higgs field $H^\\pm$.\n",
    "- From $M^2_\\eta$ we obtain one field with 0 eigenvalue corresponding to a massless pseudoscalar that gives rise to the neutral $Z^0$ boson and one massive pseudoscalar $A^0$.\n",
    "- From $M^2_\\rho$ we obtain two massive Higgs particles, one of them will be heavier than the other, $H^0$ (heavy) and $h^0$ (lighter).\n",
    "\n",
    "In summary, the massless particles $G^0$ and $G^\\pm$ are Golstone bosons of the 2HDM and are eaten up to give the $W^\\pm$ and $Z^0$ gauge bosons.\n",
    "The remaining five physical particles $H^0$, $h^0$ are CP-even, $A^0$ is a CP-odd and $H^\\pm$ are the charged Higgs.\n",
    "\n",
    "$$\\begin{align}\n",
    "h^0&=\\rho_1 sen\\alpha - \\rho_2 cos\\alpha\\\\\n",
    "H^0&=-\\rho_1 cos\\alpha - \\rho_2 sen\\alpha\\\\\n",
    "H^\\pm&=-\\phi_1^\\pm sen\\beta - \\phi_2^\\pm cos\\beta\\\\\n",
    "A^0&=\\eta_1 sen\\beta - \\eta_2 cos\\beta\n",
    "\\end{align}$$\n",
    "\n",
    "The parameter $\\alpha$ is a mixing angles between the CP-even scalars ($h^0$, $H^0$).\n",
    "The parameter $\\beta$ is a rotational angle that diagonalises the mass-squared matrices of the charged Higgs ands pseudoscalars $tan\\beta=\\frac{v_2}{v_1}$.\n",
    "The values of the masses are:\n",
    "$$\\begin{align}\n",
    "M_{h^0}&=\\frac{1}{2}[M_{11}+M_{12}-\\sqrt{(M_{11}^2-M_{22}^2)^2+4(M_{12}^2)^2}]\\\\\n",
    "M_{H^0}&=\\frac{1}{2}[M_{11}+M_{12}+\\sqrt{(M_{11}^2-M_{22}^2)^2+4(M_{12}^2)^2}]\\\\\n",
    "M_{A}&=(v_1^2+v_2^2)(\\frac{m_{12}^2}{v_1v_2}-\\lambda_5)\\\\\n",
    "M_{H^\\pm}&=\\frac{v^2}{v_1v_2}[m_{12}^2-v_1v_2(\\lambda_4+\\lambda_5)] = M_A^2-\\lambda_4v^2\n",
    "\\end{align}$$\n",
    "where $v^2=v_1^2+v_2^2$ and $M=\\begin{pmatrix}\\lambda_1v^2c_\\beta^2+(M_A^2+\\lambda_5v^2)s_\\beta^2 & [\\lambda_{345}v^2-(M_A^2+\\lambda_5 v^2)]s_\\beta c_\\beta \\\\ [\\lambda_{345}v^2-(M_A^2+\\lambda_5 v^2)]s_\\beta c_\\beta & \\lambda_2v^2s_\\beta^2+(M_A^2+\\lambda_5v^2)c_\\beta^2\\end{pmatrix}$"
   ]
  },
  {
   "cell_type": "markdown",
   "metadata": {},
   "source": [
    "The vector boson coupling constants for the lighter Higgs boson hZZ and $hW^+W^-$ are given by the SM Higgs boson times $sen(\\beta-\\alpha)$, similarly HZZ and $HW^+W^-$ are proportional to $cos(\\beta-\\alpha)$.\n",
    "$$H^{SM}=\\rho_1 cos\\beta+\\rho_2 sen\\beta= hsen(\\alpha-\\beta)-Hcos(\\alpha-\\beta)$$"
   ]
  },
  {
   "cell_type": "markdown",
   "metadata": {},
   "source": [
    "Branching ratios depend on the mass, $\\alpha$ and $\\beta$ for each Higgs (h, H, A). Other authors plot the branching ratios as a function of tan$\\beta$, setting the mass to 150 GeV and cos($\\alpha-\\beta$)=0. In this limit, the decays of the H and A to WW an ZZ vanish."
   ]
  },
  {
   "cell_type": "markdown",
   "metadata": {},
   "source": [
    "Testable predictions such as the decay width of B mesons ($\\bar{B}\\rightarrow D^*\\tau^-\\nu$ or $\\bar{B}\\rightarrow D\\tau^-\\nu$) are mediated via W's in the SM, but in the 2HDM, these processes can also occur through a charged Higgs. This could explain the discrepancies in the prediction of the SM on the decay rate of $B^-$, but it is still unclear.\n",
    "![alt text](bmesondecay.PNG \"Title\")\n"
   ]
  },
  {
   "cell_type": "markdown",
   "metadata": {},
   "source": [
    "If FCNCs were allowed, we could have, for example, $H\\rightarrow d\\bar{s}$ which would give rise to $K-\\bar{K}$ oscillations at tree level.\n",
    "![alt text](KKbaroscillations.PNG \"Title\")"
   ]
  },
  {
   "cell_type": "markdown",
   "metadata": {},
   "source": [
    "This happens because we cannot diagonalise both mass matrices at the same time:\n",
    "$$\\sum^2_{j=1}\\bar{Q}_L\\phi_j Y_j^d n_R=\\frac{\\sqrt{2}}{v}\\bar{Q}_L(M_n H_1 + N_n H_2)n_R$$\n",
    "Relating the flavour basis to the mass basis: \n",
    "$$Q_L=U_L Q_L'\\hspace{0.5cm}n_R=U_R^n n_R'$$\n",
    "Then: \n",
    "$$M_d=U_L^\\dagger M_n U_R^n \\hspace{0.5cm} N_d=U_L^\\dagger N_n U_R^n$$\n",
    "We can diagonalise one of the mass matrices, but in general, the other $N_d$ will not be diagonal, giving rise to FCNCs."
   ]
  },
  {
   "cell_type": "markdown",
   "metadata": {},
   "source": [
    "To supress FCNCs at tree level we can impose symmetries on the Higgs doublets $\\Phi_1$ and $\\Phi_2$, building different types of models:"
   ]
  },
  {
   "cell_type": "markdown",
   "metadata": {},
   "source": [
    "# Model Types"
   ]
  },
  {
   "cell_type": "markdown",
   "metadata": {},
   "source": [
    "- Type I: All quarks couple to the same Higgs doublet. Imposing a $Z_2$ symmetry.\n",
    "$$ Z_2:\\Phi_1\\rightarrow -\\Phi_1 \\hspace{2cm} \\Phi_2\\rightarrow \\Phi_2$$\n",
    "- Type II: All Q=2/3 quarks couple to one doublet (say $\\Phi_1$) and all Q=-1/3 quarks couple to the other doublet $\\Phi_2$. This type is enforced using:\n",
    "$$\\Phi_1\\rightarrow -\\Phi_1\\hspace{2cm} d_R^i\\rightarrow -d_T^i$$\n",
    "- Type III (lepton-specific): Only leptons are coupled to another doublet.\n",
    "- Type IV (flipped): only d-type quarks are coupled to another doublet."
   ]
  },
  {
   "cell_type": "markdown",
   "metadata": {},
   "source": [
    "\n",
    "|          | $u_R^i$  | $d_R^i$  | $e_R^i$ |\n",
    "|:--------:|:--------:|:--------:|:-------:|\n",
    "|  Type I  | $\\Phi_2$ | $\\Phi_2$ | $\\Phi_2$|\n",
    "|  Type II | $\\Phi_2$ | $\\Phi_1$ | $\\Phi_1$|\n",
    "|  Type III| $\\Phi_2$ | $\\Phi_2$ | $\\Phi_1$|\n",
    "|  Type IV | $\\Phi_2$ | $\\Phi_1$ | $\\Phi_2$|"
   ]
  },
  {
   "cell_type": "markdown",
   "metadata": {},
   "source": [
    "# 2HDM vs C2HDM (Complex 2HDM)"
   ]
  },
  {
   "cell_type": "markdown",
   "metadata": {},
   "source": [
    "In the Standard 2HDM, assuming real parameters simplifies the Higgs potential, making analysis easier and reducing the number of free parameters. This approach implies CP conservation, which means we cannot account for CP violation in the Higgs sector.\n",
    "\n",
    "However, introducing complex parameters is necessary for a consistent model that can account for CP violation. Without complex parameters, the theory becomes non-renormalizable due to divergences appearing at higher-loop levels (three loops). \n",
    "There are only two solutions to this problem:\n",
    "\n",
    "1- CP symmetry is applied to the whole Lagrangian, in which case the Yukawa couplings are real (which means that one cannot account for the observed CP violation).\n",
    "\n",
    "2- C2HDM: CP symmetry is not applied anywhere, in which case not only the Yukawa couplings are in general complex, but $m^2_{12}$ is also in general complex.\n",
    "\n",
    "Therefore, the Complex 2HDM (C2HDM), which allows for complex parameters, is used to study CP violation more accurately.\n",
    "\n",
    "The C2HDM model is ideal for testing CP quantum numbers at the LHC.CP violation could theoretically be observed through Yukawa couplings or scalar-gauge boson interactions. Concerning the latter, both ATLAS and CMS collaborations have probed the CP-nature of the Higgs boson couplings to gauge bosons, by using correlations in the momentum distributions of leptons that were produced in the decays of the Higgs boson to gauge bosons; the most general CP-violating hVV coupling was used, and limits were set on the anomalous couplings. Yet, such anomalous couplings can only appear at loop level in the C2HDM (the tree-level couplings are similar to those of the SM), which means they are rather small. Therefore, in this model, only the Yukawa couplings can reasonably lead to direct observations of CP violation. \n",
    "However, there are other ways to probe CP violation besides analyzing the couplings of the scalar particles, several combinations of three simultaneously observed Higgs decay modes can constitute an undoubtable sign of CP violation The argument can be summarized as follows: if CP were conserved, a decay of the type $h_i \\rightarrow h_jZ$ would imply opposite CP parities for $h_i$ and $h_j$ ; on the other hand, a Higgs boson decaying into a pair of gauge bosons has to be CP-even, hence, the combination of the decays $h_i \\rightarrow ZZ$, $h_j \\rightarrow ZZ$ and $h_j \\rightarrow h_iZ$ is a clear sign of CP violation."
   ]
  },
  {
   "cell_type": "markdown",
   "metadata": {},
   "source": [
    "# C2HDM"
   ]
  },
  {
   "cell_type": "markdown",
   "metadata": {},
   "source": [
    "The Higgs potential is the same as in the 2HDM but now with $m^2_{12}$ and $\\lambda_5$ as complex parameters. The hermiticity of the Lagrangian obliges all the other parameters to be real."
   ]
  },
  {
   "cell_type": "markdown",
   "metadata": {},
   "source": [
    "$$ \\begin{align}\n",
    "V &= m_{11}^2\\Phi_1^\\dagger\\Phi_1+m_{22}^2\\Phi_2^\\dagger\\Phi_2-(m_{12}^2\\Phi_1^\\dagger\\Phi_2+h.c.)+\\frac{\\lambda_1}{2}(\\Phi_1^\\dagger\\Phi_1)^2+\\frac{\\lambda_2}{2}(\\Phi_2^\\dagger\\Phi_2)^2+\\\\\n",
    "&\\lambda_3(\\Phi_1^\\dagger\\Phi_1)(\\Phi_2^\\dagger\\Phi_2)+\\lambda_4(\\Phi_1^\\dagger\\Phi_2)(\\Phi_2^\\dagger\\Phi_1)+[\\frac{\\lambda_5}{2}(\\Phi_1^\\dagger\\Phi_2)^2+h.c.]\\nonumber\n",
    "\\end{align}$$\n",
    "where we have set $\\lambda_6$ and $\\lambda_7$ to 0 becuase the $Z_2$ symmetry imposed to avoid tree-level FCNCs ($\\Phi_1\\rightarrow \\Phi_1$,$\\Phi_2\\rightarrow -\\Phi_2$), restricts those terms associated with the interaction between the two Higgs doublets.\n",
    "\n",
    "The Yukawa Lagrangian will have a CP-even and a CP-odd contribution:\n",
    "\n",
    "$$ \\begin{align}\n",
    "\\mathcal{L}^h_{Yukawa}=-\\sum^3_{i=1}\\frac{m_f}{v}\\bar{\\psi_f}[c^e(h_iff)+ic^o(h_iff)\\gamma^5]\\psi_fh_i\n",
    "\\end{align}$$"
   ]
  },
  {
   "cell_type": "markdown",
   "metadata": {},
   "source": [
    "### Theoretical Constraints on the 2HDM Potential"
   ]
  },
  {
   "cell_type": "markdown",
   "metadata": {},
   "source": [
    "For the Two-Higgs-Doublet Model (2HDM) to be theoretically consistent, its scalar potential must satisfy three major theoretical requirements:"
   ]
  },
  {
   "cell_type": "markdown",
   "metadata": {},
   "source": [
    "####  1. Vacuum Stability (Boundedness from Below)"
   ]
  },
  {
   "cell_type": "markdown",
   "metadata": {},
   "source": [
    "To ensure that the scalar potential does not diverge to $-\\inf$ in any field direction, it must be bounded from below. This condition imposes inequalities on the quartic couplings $\\lambda_i$:\n",
    "\n",
    "$$\\begin{align}\n",
    "&\\lambda_1>0, \\hspace{1cm} \\lambda_2>2\\\\\n",
    "&\\lambda_3>-\\sqrt{\\lambda_1\\lambda_2}\\\\\n",
    "&\\lambda_3+\\lambda_4-|\\lambda_5|>-\\sqrt{\\lambda_1\\lambda_2}\n",
    "\\end{align}$$\n",
    "\n",
    "These conditions guarantee that for large field values the potential is positive in all directions of the Higgs space."
   ]
  },
  {
   "cell_type": "markdown",
   "metadata": {},
   "source": [
    "#### 2. Tree-Level Unitarity\n"
   ]
  },
  {
   "cell_type": "markdown",
   "metadata": {},
   "source": [
    "Partial-wave unitarity requires that the scattering amplitudes of scalar bosons remain perturbative at high energies. This leads to bounds on linear combinations of the $\\lambda_i$ couplings derived from scalar–scalar and scalar–gauge boson scattering processes. For example, one must ensure that the eigenvalues $a_i$ of the scalar scattering matrix satisfy:\n",
    "$$|a_i|\\leq 8\\pi$$\n",
    "This condition leads to several inequalities involving the $\\lambda_i$ such as:\n",
    "$$|\\lambda_3\\pm\\lambda_4|<8\\pi,\\hspace{0.5cm} |\\lambda_3\\pm\\lambda_5|<8\\pi,\\hspace{0.5cm}  |\\lambda_3+2\\lambda_4\\pm\\lambda_5|<8\\pi$$"
   ]
  },
  {
   "cell_type": "markdown",
   "metadata": {},
   "source": [
    "####  3. Perturbativity"
   ]
  },
  {
   "cell_type": "markdown",
   "metadata": {},
   "source": [
    "To ensure the validity of the perturbative expansion in quantum field theory, each coupling in the potential should remain reasonably small:\n",
    "$$|\\lambda_i|\\lesssim 4\\pi$$\n",
    "This is a conservative upper bound. In many studies, a more stringent cutoff $\\lesssim 1$ or $2\\pi$ is adopted to ensure reliable perturbative predictions."
   ]
  },
  {
   "cell_type": "markdown",
   "metadata": {},
   "source": [
    "#### Summary and Use in Scans"
   ]
  },
  {
   "cell_type": "markdown",
   "metadata": {},
   "source": [
    "These theoretical constraints are typically used to delimit the allowed regions in parameter scans of the 2HDM (e.g., over $\\lambda_i$, $m^2_{12}$, $tan\\beta$, etc.), especially when combined with experimental bounds from collider data and low-energy observables.[1106.0034](https://arxiv.org/pdf/1106.0034)"
   ]
  },
  {
   "cell_type": "markdown",
   "metadata": {},
   "source": [
    "# Bibliography"
   ]
  },
  {
   "cell_type": "markdown",
   "metadata": {},
   "source": [
    "[1106.0034](https://arxiv.org/pdf/1106.0034) – General theory and phenomenology of the 2HDM, potential structure, FCNC suppression, model types I–IV, CP violation\n",
    "\n",
    "[1209.0450](https://arxiv.org/pdf/1209.0450) – Yukawa types (I, II, X, Y), collider phenomenology, branching ratios, flavor constraints\n",
    "\n",
    "[0504050](https://arxiv.org/pdf/hep-ph/0504050)hep-ph/0504050 – Basis-independent formulation of the 2HDM and CP symmetry conditions in the scalar sector\n",
    "\n",
    "[1403.4257](https://arxiv.org/pdf/1403.4257) – CP-violating Higgs phenomenology in the C2HDM, EDM constraints, and collider observables\n"
   ]
  }
 ],
 "metadata": {
  "kernelspec": {
   "display_name": "Python 3",
   "language": "python",
   "name": "python3"
  },
  "language_info": {
   "codemirror_mode": {
    "name": "ipython",
    "version": 3
   },
   "file_extension": ".py",
   "mimetype": "text/x-python",
   "name": "python",
   "nbconvert_exporter": "python",
   "pygments_lexer": "ipython3",
   "version": "3.9.13"
  }
 },
 "nbformat": 4,
 "nbformat_minor": 2
}
