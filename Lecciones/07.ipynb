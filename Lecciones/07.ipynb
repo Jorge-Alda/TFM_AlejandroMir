{
 "cells": [
  {
   "cell_type": "markdown",
   "metadata": {},
   "source": [
    "# Two-Higgs-Doublet Model (2HDM)"
   ]
  },
  {
   "cell_type": "markdown",
   "metadata": {},
   "source": [
    "Properties:\n",
    "- Additional Higgs particle\n",
    "- Sources of CP-violation\n",
    "- Flavour changing Neutral currents (FCNCs) at tree-level"
   ]
  },
  {
   "cell_type": "markdown",
   "metadata": {},
   "source": [
    "$$\\mathcal{L}_{2HDM} = (D_\\mu \\Phi_1)^\\dagger(D^\\mu \\Phi_1)+(D_\\mu \\Phi_2)^\\dagger(D^\\mu \\Phi_2)-V(\\Phi_1 \\Phi_2)$$\n",
    "Where, $D_\\mu= \\partial_\\mu+ ig\\frac{\\tau^i}{2}W_\\mu^i+i\\frac{g'}{2}YB_\\mu$\n",
    "The complete potential is:\n",
    "$$ \\begin{align}\n",
    "V &= m_{11}^2\\Phi_1^\\Dagger\\Phi_1+m_{22}^2\\Phi_2^\\Dagger\\Phi_2-(m_{12}^2\\Phi_1^\\Dagger\\Phi_2+h.c.) +\\nonumber\\\\\n",
    "&+ \\frac{\\lambda_1}{2}(\\Phi_1^\\Dagger\\Phi_1)^2+\\frac{\\lambda_2}{2}(\\Phi_2^\\Dagger\\Phi_2)^2+\\lambda_3(\\Phi_1^\\Dagger\\Phi_1)(\\Phi_2^\\Dagger\\Phi_2)+\\lambda_4(\\Phi_1^\\Dagger\\Phi_2)(\\Phi_2^\\Dagger\\Phi_1)+\\nonumber\\\\\n",
    "&+ [\\frac{\\lambda_5}{2}(\\Phi_1^\\Dagger\\Phi_2)^2+\\lambda_6(\\Phi_1^\\Dagger\\Phi_1)(\\Phi_1^\\Dagger\\Phi_2)+\\lambda_7(\\Phi_2^\\Dagger\\Phi_2)(\\Phi_1^\\Dagger\\Phi_2)+h.c.]\\nonumber\n",
    "\\end{align}$$\n",
    "\n",
    "where $m_{11}^2$, $m_{22}^2$ and $\\lambda_{1,2,3,4}$ are real and $m_{12}^2$ and $\\lambda_{5,6,7}$ are general complex. There are a total of 14 parameters."
   ]
  },
  {
   "cell_type": "markdown",
   "metadata": {},
   "source": [
    "We can expand $\\Phi_1$ and $\\Phi_2$ around the v.e.v., introducing 8 different fields $\\phi_a^\\pm$, $\\rho_a$ and $\\eta_a$ (a=1,2):\n",
    "$$\\Phi_a=\\begin{pmatrix}\\phi_a^\\pm \\\\ \\frac{1}{\\sqrt{2}}(v_a+\\rho_a+i\\eta_a)\\end{pmatrix}$$"
   ]
  },
  {
   "cell_type": "markdown",
   "metadata": {},
   "source": [
    "After symmetry breaking we can determine the mass matrices by calculating the extreme of the potential \n",
    "$$\\frac{V}{\\partial v_1}=\\frac{V}{\\partial v_2}=0 \\hspace{0.5cm} \\rightarrow \\hspace{0.5cm}\\begin{align} 0= m_{11}^2v_1-Re(m_{12}^2)v_2+v_1^3\\frac{\\lambda_1}{2}+v_1 v_2^2\\frac{\\lambda_{345}}{2}\\nonumber\\\\ 0= m_{22}^2v_2-Re(m_{12}^2)v_1+v_2^3\\frac{\\lambda_2}{2}+v_2 v_1^2\\frac{\\lambda_{345}}{2} \\nonumber\\end{align}$$\n",
    "\n",
    "$$\\begin{align}\n",
    "m_{11}^2=Re(m_{12}^2)\\frac{v_2}{v_1}-\\frac{\\lambda_1}{2}v_1^2-\\lambda_{345}\\frac{v_2^2}{2}\\nonumber\\\\\n",
    "m_{22}^2=Re(m_{12}^2)\\frac{v_1}{v_2}-\\frac{\\lambda_1}{2}v_2^2-\\lambda_{345}\\frac{v_1^2}{2}\\nonumber\n",
    "\\end{align}$$\n",
    "\n",
    "where $\\lambda_{345}=\\lambda_3+\\lambda_4+\\lambda_5$.\n",
    "\n",
    "Deriving respect the different fields we obtain the non-diagonal mass matrices:\n",
    "$$M^2_{\\phi^\\pm}=\\frac{\\partial^2 V}{\\partial\\phi_i^-\\partial\\phi_j^+}=[m_{12}^2-(\\lambda_4+\\lambda_5)v_1v_2]\\begin{pmatrix}\\frac{v_2}{v_1} & -1 \\\\ -1 & \\frac{v_1}{v_2}\\end{pmatrix}$$\n",
    "$$M_\\eta^2=\\frac{\\partial^2 V}{\\partial\\eta_i\\partial\\eta_j}=(\\frac{m_{12}^2}{v_1v_2}-\\lambda_5)\\begin{pmatrix} v_2^2 & -v_1v_2 \\\\ -v_!v_2 & v_1^2\\end{pmatrix}$$\n",
    "$$M_\\rho^2=\\frac{\\partial^2 V}{\\partial\\rho_i\\partial\\rho_j}=-\\begin{pmatrix} m_{12}^2\\frac{v_2}{v_1}+\\lambda_1v_1^2 & -m_{12}^2+\\lambda_{345}v_1v_2\\\\ -m_{12}^2+\\lambda_{345}v_1v_2 & m_{12}^2\\frac{v_2}{v_1}+\\lambda_2v_2^2\\end{pmatrix}$$"
   ]
  },
  {
   "cell_type": "markdown",
   "metadata": {},
   "source": [
    "To have physical propragating particles in the 2HDM we shall consider the eigenstates and eigenvalues (masses).\n",
    "This can be archieved by diagonalising the mass-squared matrices. The fields \\phi_i^\\pm, \\rho_i and \\eta_i in the gauge basis are transformed into physical fields.\n",
    "- From $M^2_{\\phi^\\pm}$ we obtain one field with 0 eigenvalue corresponding to the charged Goldstone boson $W^\\pm$ and another filed with mass corresponding to a charged Higgs field $H^\\pm$.\n",
    "- From $M^2_\\eta$ we obtain one field with 0 eigenvalue corresponding to a massless pseudoscalar that gives rise to the neutral $Z^0$ boson and one massive pseudoscalar $A^0$.\n",
    "- From $M^2_\\rho$ we obtain two massive Higgs particles, one of them will be heavier than the other, $H^0$ (heavy) and $h^0$ (lighter).\n",
    "\n",
    "In summary, the massless particles $G^0$ and $G^\\pm$ are Golstone bosons of the 2HDM and are eaten up to give the $W^\\pm$ and $Z^0$ gauge bosons.\n",
    "The remaining five physical particles $H^0$, $h^0$ are CP-even, $A^0$ is a CP-odd and $H^\\pm$ are the charged Higgs.\n",
    "\n",
    "$$\\begin{align}\n",
    "h^0&=\\rho_1 sen\\alpha - \\rho_2 cos\\alpha\\\\\n",
    "H^0&=-\\rho_1 cos\\alpha - \\rho_2 sen\\alpha\\\\\n",
    "H^\\pm&=-\\phi_1^\\pm sen\\beta - \\phi_2^\\pm cos\\beta\\\\\n",
    "A^0&=\\eta_1 sen\\beta - \\eta_2 cos\\beta\n",
    "\\end{align}$$\n",
    "\n",
    "The parameter $\\alpha$ is a mixing angles between the CP-even scalars ($h^0$, $H^0$).\n",
    "The parameter $\\beta$ is a rotational angle that diagonalises the mass-squared matrices of the charged Higgs ands pseudoscalars $tan\\beta=\\frac{v_2}{v_1}$.\n",
    "The values of the masses are:\n",
    "$$\\begin{align}\n",
    "M_{h^0}&=\\frac{1}{2}[M_{11}+M_{12}-\\sqrt{(M_{11}^2-M_{22}^2)^2+4(M_{12}^2)^2}]\\\\\n",
    "M_{H^0}&=\\frac{1}{2}[M_{11}+M_{12}+\\sqrt{(M_{11}^2-M_{22}^2)^2+4(M_{12}^2)^2}]\\\\\n",
    "M_{A}&=(v_1^2+v_2^2)(\\frac{m_{12}^2}{v_1v_2}-\\lambda_5)\\\\\n",
    "M_{H^\\pm}&=\\frac{v^2}{v_1v_2}[m_{12}^2-v_1v_2(\\lambda_4+\\lambda_5)] = M_A^2-\\lambda_4v^2\n",
    "\\end{align}$$\n",
    "where $v^2=v_1^2+v_2^2$ and $M=\\begin{pmatrix}\\lambda_1v^2c_\\beta^2+(M_A^2+\\lambda_5v^2)s_\\beta^2 & [\\lambda_{345}v^2-(M_A^2+\\lambda_5 v^2)]s_\\beta c_\\beta \\\\ [\\lambda_{345}v^2-(M_A^2+\\lambda_5 v^2)]s_\\beta c_\\beta & \\lambda_2v^2s_\\beta^2+(M_A^2+\\lambda_5v^2)c_\\beta^2\\end{pmatrix}$"
   ]
  },
  {
   "cell_type": "markdown",
   "metadata": {},
   "source": [
    "The vector boson coupling constants for the lighter Higgs boson hZZ and $hW^+W^-$ are given by the SM Higgs boson times $sen(\\beta-\\alpha)$, similarly HZZ and $HW^+W^-$ are proportional to $cos(\\beta-\\alpha)$.\n",
    "$$H^{SM}=\\rho_1 cos\\beta+\\rho_2 sen\\beta= hsen(\\alpha-\\beta)-Hcos(\\alpha-\\beta)$$"
   ]
  },
  {
   "cell_type": "markdown",
   "metadata": {},
   "source": [
    "# Model Types"
   ]
  },
  {
   "cell_type": "markdown",
   "metadata": {},
   "source": [
    "- Type I:\n",
    "- Type II:\n",
    "- Type III (lepton-specific):\n",
    "- Type IV (flipped):"
   ]
  }
 ],
 "metadata": {
  "kernelspec": {
   "display_name": "Python 3",
   "language": "python",
   "name": "python3"
  },
  "language_info": {
   "codemirror_mode": {
    "name": "ipython",
    "version": 3
   },
   "file_extension": ".py",
   "mimetype": "text/x-python",
   "name": "python",
   "nbconvert_exporter": "python",
   "pygments_lexer": "ipython3",
   "version": "3.9.13"
  }
 },
 "nbformat": 4,
 "nbformat_minor": 2
}
