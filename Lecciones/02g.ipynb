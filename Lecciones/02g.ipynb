{
 "cells": [
  {
   "attachments": {},
   "cell_type": "markdown",
   "metadata": {},
   "source": [
    "# 02g Co-rutinas\n",
    "\n",
    "Una función común o sub-rutina tiene un único punto de entrada y un único punto de salida. Al finalizar la ejecución de la función, el programa olvida el estado de todas las variables declaradas en su interior.\n",
    "\n",
    "Un [generador](02g.ipynb) tiene un único punto de entrada, pero múltiples puntos de salida. La ejecución se suspende y se puede volver a reanudar, manteniendo el estado de las variables internas.\n",
    "\n",
    "Una co-rutina tiene múltiples puntos de entrada y salida. Su ejecución se puede suspender y reanudar, y el estado de las variables se mantiene, y se puede actualizar desde el exterior."
   ]
  },
  {
   "attachments": {},
   "cell_type": "markdown",
   "metadata": {},
   "source": [
    "Para obtener un valor desde el exterior de la co-rutina, se usa la expresión `yield` (esta vez, en el lado derecho de un `=`). Cuando el programa llega a una expresión con `yield`, la co-rutina se suspende hasta que reciba un valor:"
   ]
  },
  {
   "cell_type": "code",
   "execution_count": 1,
   "metadata": {},
   "outputs": [],
   "source": [
    "def imprime_recibido():\n",
    "    print(\"Iniciando la co-rutina...\")\n",
    "    while 1:\n",
    "        recibido = (yield)\n",
    "        print(f\"He recibido {recibido}!\")"
   ]
  },
  {
   "attachments": {},
   "cell_type": "markdown",
   "metadata": {},
   "source": [
    "Los valores se pasan a la co-rutina mediante su método `.send()`:"
   ]
  },
  {
   "cell_type": "code",
   "execution_count": 2,
   "metadata": {},
   "outputs": [
    {
     "ename": "TypeError",
     "evalue": "can't send non-None value to a just-started generator",
     "output_type": "error",
     "traceback": [
      "\u001b[0;31m---------------------------------------------------------------------------\u001b[0m",
      "\u001b[0;31mTypeError\u001b[0m                                 Traceback (most recent call last)",
      "Cell \u001b[0;32mIn [2], line 2\u001b[0m\n\u001b[1;32m      1\u001b[0m imprimir \u001b[39m=\u001b[39m imprime_recibido()\n\u001b[0;32m----> 2\u001b[0m imprimir\u001b[39m.\u001b[39;49msend(\u001b[39m5\u001b[39;49m)\n",
      "\u001b[0;31mTypeError\u001b[0m: can't send non-None value to a just-started generator"
     ]
    }
   ],
   "source": [
    "imprimir = imprime_recibido()\n",
    "imprimir.send(5)"
   ]
  },
  {
   "attachments": {},
   "cell_type": "markdown",
   "metadata": {},
   "source": [
    "¡Pero antes de poder enviar nada, hay que iniciar la co-rutina enviando un mensaje `None`!:"
   ]
  },
  {
   "cell_type": "code",
   "execution_count": 3,
   "metadata": {},
   "outputs": [
    {
     "name": "stdout",
     "output_type": "stream",
     "text": [
      "Iniciando la co-rutina...\n",
      "He recibido 5!\n"
     ]
    }
   ],
   "source": [
    "imprimir = imprime_recibido()\n",
    "imprimir.send(None)\n",
    "imprimir.send(5)"
   ]
  },
  {
   "cell_type": "code",
   "execution_count": 4,
   "metadata": {},
   "outputs": [
    {
     "name": "stdout",
     "output_type": "stream",
     "text": [
      "He recibido 27!\n"
     ]
    }
   ],
   "source": [
    "imprimir.send(27)"
   ]
  },
  {
   "attachments": {},
   "cell_type": "markdown",
   "metadata": {},
   "source": [
    "Para evitar olvidar la iniciación, se suele usar un decorador que se ocupe de ello:"
   ]
  },
  {
   "cell_type": "code",
   "execution_count": 5,
   "metadata": {},
   "outputs": [
    {
     "name": "stdout",
     "output_type": "stream",
     "text": [
      "Iniciando la co-rutina...\n",
      "He recibido 8!\n"
     ]
    }
   ],
   "source": [
    "def corutina(func):\n",
    "    def iniciada(*args, **kwargs):\n",
    "        cor = func(*args, **kwargs)\n",
    "        cor.send(None)\n",
    "        return cor\n",
    "    return iniciada\n",
    "\n",
    "@corutina\n",
    "def imprime_recibido():\n",
    "    print(\"Iniciando la co-rutina...\")\n",
    "    while 1:\n",
    "        recibido = (yield)\n",
    "        print(f\"He recibido {recibido}!\")\n",
    "\n",
    "\n",
    "imprimir = imprime_recibido()\n",
    "imprimir.send(8)"
   ]
  },
  {
   "attachments": {},
   "cell_type": "markdown",
   "metadata": {},
   "source": [
    "Veamos un ejemplo en el que la co-rutina modifica su estado interno:"
   ]
  },
  {
   "cell_type": "code",
   "execution_count": 6,
   "metadata": {},
   "outputs": [],
   "source": [
    "@corutina\n",
    "def suma(x=0):\n",
    "    valor = x\n",
    "    while 1:\n",
    "        x += (yield)\n",
    "        print(f\"Valor de la suma: {x}\")"
   ]
  },
  {
   "cell_type": "code",
   "execution_count": 7,
   "metadata": {},
   "outputs": [
    {
     "name": "stdout",
     "output_type": "stream",
     "text": [
      "Valor de la suma: 7\n",
      "Valor de la suma: 17\n",
      "Valor de la suma: 14\n"
     ]
    }
   ],
   "source": [
    "mi_suma = suma()\n",
    "mi_suma.send(7)\n",
    "mi_suma.send(10)\n",
    "mi_suma.send(-3)"
   ]
  },
  {
   "attachments": {},
   "cell_type": "markdown",
   "metadata": {},
   "source": [
    "El `yield` en realidad realiza dos tareas al mismo tiempo: captura los valores enviados por `.send()`, pero también pueden sacar valores al exterior de la co-rutina, tal y como lo hacía en los generadores:"
   ]
  },
  {
   "cell_type": "code",
   "execution_count": 8,
   "metadata": {},
   "outputs": [],
   "source": [
    "@corutina\n",
    "def suma(x=0):\n",
    "    valor = x\n",
    "    while 1:\n",
    "        x += (yield x)"
   ]
  },
  {
   "cell_type": "code",
   "execution_count": 9,
   "metadata": {},
   "outputs": [
    {
     "name": "stdout",
     "output_type": "stream",
     "text": [
      "7\n",
      "17\n",
      "14\n"
     ]
    }
   ],
   "source": [
    "mi_suma = suma()\n",
    "print(mi_suma.send(7))\n",
    "print(mi_suma.send(10))\n",
    "print(mi_suma.send(-3))"
   ]
  },
  {
   "attachments": {},
   "cell_type": "markdown",
   "metadata": {},
   "source": [
    "Sin embargo, hay que tener cuidado si se usa una co-rutina, ya que hacerle `next()` (por ejemplo, en un bucle `for`), es equivalente a `.send(None)`:"
   ]
  },
  {
   "cell_type": "code",
   "execution_count": 10,
   "metadata": {},
   "outputs": [
    {
     "ename": "TypeError",
     "evalue": "unsupported operand type(s) for +=: 'int' and 'NoneType'",
     "output_type": "error",
     "traceback": [
      "\u001b[0;31m---------------------------------------------------------------------------\u001b[0m",
      "\u001b[0;31mTypeError\u001b[0m                                 Traceback (most recent call last)",
      "Cell \u001b[0;32mIn [10], line 2\u001b[0m\n\u001b[1;32m      1\u001b[0m mi_suma \u001b[39m=\u001b[39m suma()\n\u001b[0;32m----> 2\u001b[0m \u001b[39mfor\u001b[39;00m i, s \u001b[39min\u001b[39;00m \u001b[39mzip\u001b[39m(\u001b[39mrange\u001b[39m(\u001b[39m1\u001b[39m, \u001b[39m8\u001b[39m), mi_suma):\n\u001b[1;32m      3\u001b[0m     \u001b[39mprint\u001b[39m(s)\n\u001b[1;32m      4\u001b[0m     mi_suma\u001b[39m.\u001b[39msend(i)\n",
      "Cell \u001b[0;32mIn [8], line 5\u001b[0m, in \u001b[0;36msuma\u001b[0;34m(x)\u001b[0m\n\u001b[1;32m      3\u001b[0m valor \u001b[39m=\u001b[39m x\n\u001b[1;32m      4\u001b[0m \u001b[39mwhile\u001b[39;00m \u001b[39m1\u001b[39m:\n\u001b[0;32m----> 5\u001b[0m     x \u001b[39m+\u001b[39m\u001b[39m=\u001b[39m (\u001b[39myield\u001b[39;00m x)\n",
      "\u001b[0;31mTypeError\u001b[0m: unsupported operand type(s) for +=: 'int' and 'NoneType'"
     ]
    }
   ],
   "source": [
    "mi_suma = suma()\n",
    "for i, s in zip(range(1, 8), mi_suma):\n",
    "    print(s)\n",
    "    mi_suma.send(i)"
   ]
  },
  {
   "attachments": {},
   "cell_type": "markdown",
   "metadata": {},
   "source": [
    "Modificamos la co-rutina para evitar los valores `None`:"
   ]
  },
  {
   "cell_type": "code",
   "execution_count": 11,
   "metadata": {},
   "outputs": [],
   "source": [
    "@corutina\n",
    "def suma(x=0):\n",
    "    valor = x\n",
    "    while 1:\n",
    "        rec = (yield x)\n",
    "        if rec is not None:\n",
    "            x += rec"
   ]
  },
  {
   "cell_type": "code",
   "execution_count": 12,
   "metadata": {},
   "outputs": [
    {
     "name": "stdout",
     "output_type": "stream",
     "text": [
      "0\n",
      "1\n",
      "3\n",
      "6\n",
      "10\n",
      "15\n",
      "21\n"
     ]
    }
   ],
   "source": [
    "mi_suma = suma()\n",
    "for i, s in zip(range(1, 8), mi_suma):\n",
    "    print(s)\n",
    "    mi_suma.send(i)"
   ]
  },
  {
   "attachments": {},
   "cell_type": "markdown",
   "metadata": {},
   "source": [
    "La co-rutina se cierra con el método `close()`."
   ]
  },
  {
   "cell_type": "code",
   "execution_count": 13,
   "metadata": {},
   "outputs": [],
   "source": [
    "mi_suma.close()"
   ]
  },
  {
   "attachments": {},
   "cell_type": "markdown",
   "metadata": {},
   "source": [
    "## Tuberías\n",
    "\n",
    "Igual que hicimos con los generadores, también podemos encadenar co-rutinas para procesar una secuencia de datos. En este caso, el flujo de la ejecución va desde la fuente hacia el sumidero. Por ello, a cada co-rutina le tendremos que pasar como argumento la co-rutina de destino:"
   ]
  },
  {
   "cell_type": "code",
   "execution_count": 14,
   "metadata": {},
   "outputs": [],
   "source": [
    "def envia_lineas(archivo, corut):\n",
    "    with open(archivo, \"rt\") as f:\n",
    "        for line in f:\n",
    "            corut.send(line)\n",
    "\n",
    "@corutina\n",
    "def separa_comas(corut):\n",
    "    while 1:\n",
    "        line = (yield)\n",
    "        corut.send(line.strip().split(\",\"))\n",
    "\n",
    "@corutina\n",
    "def vector(corut):\n",
    "    while 1:\n",
    "        s = (yield)\n",
    "        corut.send((int(s[0]), int(s[1]), int(s[2])))\n",
    "\n",
    "@corutina\n",
    "def modulos(corut):\n",
    "    while 1:\n",
    "        v = (yield)\n",
    "        corut.send((v[0]**2+v[1]**2+v[2]**2)**0.5)\n",
    "\n",
    "@corutina\n",
    "def modulos_menor_10(corut):\n",
    "    while 1:\n",
    "        m = (yield)\n",
    "        if m < 10:\n",
    "            corut.send(m)\n",
    "\n",
    "@corutina\n",
    "def contar():\n",
    "    n = 0\n",
    "    while 1:\n",
    "        m = (yield n)\n",
    "        if m is not None:\n",
    "            n += 1\n",
    "    yield n"
   ]
  },
  {
   "attachments": {},
   "cell_type": "markdown",
   "metadata": {},
   "source": [
    "Para obtener el resultado, en la última co-rutina además de recibir datos también los trasmitimos con `(yield n)`. Como el contador solamente se actualiza si se ha recibido un valor que no es `None`, podemos consultar el resultado usando `next()` (o `.send(None)`):"
   ]
  },
  {
   "cell_type": "code",
   "execution_count": 15,
   "metadata": {},
   "outputs": [
    {
     "data": {
      "text/plain": [
       "98"
      ]
     },
     "execution_count": 15,
     "metadata": {},
     "output_type": "execute_result"
    }
   ],
   "source": [
    "c = contar()\n",
    "\n",
    "envia_lineas(\"input_02c\", separa_comas(vector(modulos(modulos_menor_10(c)))))\n",
    "\n",
    "next(c)"
   ]
  },
  {
   "attachments": {},
   "cell_type": "markdown",
   "metadata": {},
   "source": [
    "o escrito de una forma ligeramente más legible:"
   ]
  },
  {
   "cell_type": "code",
   "execution_count": 16,
   "metadata": {},
   "outputs": [
    {
     "data": {
      "text/plain": [
       "98"
      ]
     },
     "execution_count": 16,
     "metadata": {},
     "output_type": "execute_result"
    }
   ],
   "source": [
    "c = contar()\n",
    "parte1 = modulos_menor_10(c)\n",
    "parte2 = modulos(parte1)\n",
    "parte3 = vector(parte2)\n",
    "parte4 = separa_comas(parte3)\n",
    "\n",
    "envia_lineas(\"input_02c\", parte4)\n",
    "\n",
    "next(c)"
   ]
  },
  {
   "attachments": {},
   "cell_type": "markdown",
   "metadata": {},
   "source": [
    "A diferencia del caso de los generadores, que no son reutilizables, las co-rutinas permiten un procesado más complejo, en el que se creen ramas si una co-rutina envía datos a varias co-rutinas:"
   ]
  },
  {
   "cell_type": "code",
   "execution_count": 17,
   "metadata": {},
   "outputs": [],
   "source": [
    "@corutina\n",
    "def modulos_menor_10(corutinas):\n",
    "    while 1:\n",
    "        m = (yield)\n",
    "        if m < 10:\n",
    "            for corut in corutinas:\n",
    "                corut.send(m)\n",
    "\n",
    "@corutina\n",
    "def producto():\n",
    "    x = 1\n",
    "    while 1:\n",
    "        m = (yield x)\n",
    "        if m is not None:\n",
    "            x *= m"
   ]
  },
  {
   "cell_type": "code",
   "execution_count": 18,
   "metadata": {},
   "outputs": [
    {
     "name": "stdout",
     "output_type": "stream",
     "text": [
      "contar: 98\n",
      "producto: 6.481033952968496e+93\n"
     ]
    }
   ],
   "source": [
    "c = contar()\n",
    "p = producto()\n",
    "parte1 = modulos_menor_10([c, p])\n",
    "parte2 = modulos(parte1)\n",
    "parte3 = vector(parte2)\n",
    "parte4 = separa_comas(parte3)\n",
    "\n",
    "envia_lineas(\"input_02c\", parte4)\n",
    "\n",
    "print(f\"contar: {next(c)}\")\n",
    "print(f\"producto: {next(p)}\")"
   ]
  },
  {
   "cell_type": "code",
   "execution_count": null,
   "metadata": {},
   "outputs": [],
   "source": []
  }
 ],
 "metadata": {
  "kernelspec": {
   "display_name": "tfm-alejandromir-pisT7Re7-py3.10",
   "language": "python",
   "name": "python3"
  },
  "language_info": {
   "codemirror_mode": {
    "name": "ipython",
    "version": 3
   },
   "file_extension": ".py",
   "mimetype": "text/x-python",
   "name": "python",
   "nbconvert_exporter": "python",
   "pygments_lexer": "ipython3",
   "version": "3.10.9 (main, Dec  7 2022, 00:00:00) [GCC 12.2.1 20221121 (Red Hat 12.2.1-4)]"
  },
  "orig_nbformat": 4,
  "vscode": {
   "interpreter": {
    "hash": "1f3f3a4d53262e9b64aadf354276afdb3b72bef7e271f3b7e5577e448e334dcb"
   }
  }
 },
 "nbformat": 4,
 "nbformat_minor": 2
}
