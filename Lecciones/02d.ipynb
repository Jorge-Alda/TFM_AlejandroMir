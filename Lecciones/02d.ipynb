{
 "cells": [
  {
   "cell_type": "markdown",
   "metadata": {},
   "source": [
    "# 02d Emparejamiento\n",
    "\n",
    "El \"emparejamiento\" (matching) es una nueva estructura de Python introducida en la versión 3.10. Comprueba que estás usando una versión de Python adecuada:"
   ]
  },
  {
   "cell_type": "code",
   "execution_count": 1,
   "metadata": {},
   "outputs": [
    {
     "data": {
      "text/plain": [
       "'3.10.8 (main, Oct 12 2022, 00:00:00) [GCC 12.2.1 20220819 (Red Hat 12.2.1-2)]'"
      ]
     },
     "execution_count": 1,
     "metadata": {},
     "output_type": "execute_result"
    }
   ],
   "source": [
    "import sys\n",
    "sys.version"
   ]
  },
  {
   "cell_type": "markdown",
   "metadata": {},
   "source": [
    "En su forma más sencilla, el emparejamiento funciona como una condicional múltiple, similar a `switch` en C/C++:"
   ]
  },
  {
   "cell_type": "code",
   "execution_count": 2,
   "metadata": {},
   "outputs": [
    {
     "name": "stdout",
     "output_type": "stream",
     "text": [
      "x vale otro valor\n"
     ]
    }
   ],
   "source": [
    "x = 5\n",
    "\n",
    "match x:\n",
    "    case 3:\n",
    "        print(\"x vale 3\")\n",
    "    case 7:\n",
    "        print(\"x vale 7\")\n",
    "    case _:\n",
    "        print(\"x vale otro valor\")"
   ]
  },
  {
   "cell_type": "markdown",
   "metadata": {},
   "source": [
    "La cláusula `case _` es el equivalente a un `else`, emapreja con cualquier valor."
   ]
  },
  {
   "cell_type": "markdown",
   "metadata": {},
   "source": [
    "Podemos combinar varios valores con `|`, y el código se ejecutará si coincide con uno de ellos:"
   ]
  },
  {
   "cell_type": "code",
   "execution_count": 3,
   "metadata": {},
   "outputs": [
    {
     "name": "stdout",
     "output_type": "stream",
     "text": [
      "x es un número primo menor de 10\n"
     ]
    }
   ],
   "source": [
    "x = 5\n",
    "\n",
    "match x:\n",
    "    case 2 | 3 | 5 | 7:\n",
    "        print(\"x es un número primo menor de 10\")\n",
    "    case _:\n",
    "        print(\"No lo es\")"
   ]
  },
  {
   "cell_type": "markdown",
   "metadata": {},
   "source": [
    "Para tipos compuestos (incluyendo clases), podemos pedir que emparejen uno o varios de los elementos. Para los elementos que ignoramos, hay que usar `_`:"
   ]
  },
  {
   "cell_type": "code",
   "execution_count": 9,
   "metadata": {},
   "outputs": [],
   "source": [
    "def posicion_punto(x):\n",
    "    match x:\n",
    "        case (0, 0):\n",
    "            print(\"El punto es el origen\")\n",
    "        case (0, _):\n",
    "            print(\"El punto está en el eje Y\")\n",
    "        case (_, 0):\n",
    "            print(\"El punto está en el eje X\")\n",
    "        case (_, _):\n",
    "            print(\"El punto no está en los ejes\")\n",
    "        case _:\n",
    "            raise TypeError"
   ]
  },
  {
   "cell_type": "code",
   "execution_count": 10,
   "metadata": {},
   "outputs": [
    {
     "name": "stdout",
     "output_type": "stream",
     "text": [
      "El punto está en el eje X\n",
      "El punto está en el eje Y\n",
      "El punto no está en los ejes\n",
      "El punto es el origen\n"
     ]
    },
    {
     "ename": "TypeError",
     "evalue": "",
     "output_type": "error",
     "traceback": [
      "\u001b[0;31m---------------------------------------------------------------------------\u001b[0m",
      "\u001b[0;31mTypeError\u001b[0m                                 Traceback (most recent call last)",
      "Cell \u001b[0;32mIn [10], line 5\u001b[0m\n\u001b[1;32m      3\u001b[0m posicion_punto((\u001b[39m1\u001b[39m, \u001b[39m8\u001b[39m))\n\u001b[1;32m      4\u001b[0m posicion_punto((\u001b[39m0\u001b[39m,\u001b[39m0\u001b[39m))\n\u001b[0;32m----> 5\u001b[0m posicion_punto(\u001b[39m\"\u001b[39;49m\u001b[39ma\u001b[39;49m\u001b[39m\"\u001b[39;49m)\n",
      "Cell \u001b[0;32mIn [9], line 12\u001b[0m, in \u001b[0;36mposicion_punto\u001b[0;34m(x)\u001b[0m\n\u001b[1;32m     10\u001b[0m     \u001b[39mprint\u001b[39m(\u001b[39m\"\u001b[39m\u001b[39mEl punto no está en los ejes\u001b[39m\u001b[39m\"\u001b[39m)\n\u001b[1;32m     11\u001b[0m \u001b[39mcase\u001b[39;00m \u001b[39m_\u001b[39;00m:\n\u001b[0;32m---> 12\u001b[0m     \u001b[39mraise\u001b[39;00m \u001b[39mTypeError\u001b[39;00m\n",
      "\u001b[0;31mTypeError\u001b[0m: "
     ]
    }
   ],
   "source": [
    "posicion_punto((3, 0))\n",
    "posicion_punto((0, -7))\n",
    "posicion_punto((1, 8))\n",
    "posicion_punto((0,0))\n",
    "posicion_punto(\"a\")"
   ]
  },
  {
   "cell_type": "markdown",
   "metadata": {},
   "source": [
    "`match` puede emparejar con valores que sean de un tipo determinado:"
   ]
  },
  {
   "cell_type": "code",
   "execution_count": 8,
   "metadata": {},
   "outputs": [],
   "source": [
    "def primer_elemento(x):\n",
    "    \"\"\"Si x es un entero, lo devuelve, y si es una lista, devuelve el primer elemento\"\"\"\n",
    "    match x:\n",
    "        case float(x):\n",
    "            return x\n",
    "        case list(x):\n",
    "            return x[0]\n",
    "        case _:\n",
    "            raise TypeError"
   ]
  },
  {
   "cell_type": "code",
   "execution_count": 7,
   "metadata": {},
   "outputs": [
    {
     "name": "stdout",
     "output_type": "stream",
     "text": [
      "5.2\n",
      "-3.7\n"
     ]
    }
   ],
   "source": [
    "print(primer_elemento(5.2))\n",
    "print(primer_elemento([-3.7, 4.5]))"
   ]
  },
  {
   "cell_type": "code",
   "execution_count": null,
   "metadata": {},
   "outputs": [],
   "source": []
  }
 ],
 "metadata": {
  "kernelspec": {
   "display_name": "Python 3.10.8 ('tfm-alejandromir-pisT7Re7-py3.10')",
   "language": "python",
   "name": "python3"
  },
  "language_info": {
   "codemirror_mode": {
    "name": "ipython",
    "version": 3
   },
   "file_extension": ".py",
   "mimetype": "text/x-python",
   "name": "python",
   "nbconvert_exporter": "python",
   "pygments_lexer": "ipython3",
   "version": "3.10.8"
  },
  "orig_nbformat": 4,
  "vscode": {
   "interpreter": {
    "hash": "1f3f3a4d53262e9b64aadf354276afdb3b72bef7e271f3b7e5577e448e334dcb"
   }
  }
 },
 "nbformat": 4,
 "nbformat_minor": 2
}
