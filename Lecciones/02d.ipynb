{
 "cells": [
  {
   "cell_type": "markdown",
   "metadata": {},
   "source": [
    "# 02d Emparejamiento\n",
    "\n",
    "El \"emparejamiento\" (matching) es una nueva estructura de Python introducida en la versión 3.10. Comprueba que estás usando una versión de Python adecuada:"
   ]
  },
  {
   "cell_type": "code",
   "execution_count": 1,
   "metadata": {},
   "outputs": [
    {
     "data": {
      "text/plain": [
       "'3.10.8 (main, Oct 12 2022, 00:00:00) [GCC 12.2.1 20220819 (Red Hat 12.2.1-2)]'"
      ]
     },
     "execution_count": 1,
     "metadata": {},
     "output_type": "execute_result"
    }
   ],
   "source": [
    "import sys\n",
    "sys.version"
   ]
  },
  {
   "cell_type": "markdown",
   "metadata": {},
   "source": [
    "## Emparejamiento de constantes\n",
    "\n",
    "En su forma más sencilla, el emparejamiento funciona como una condicional múltiple, similar a `switch` en C/C++. EL valor de `match` se compara con una o varias constantes:"
   ]
  },
  {
   "cell_type": "code",
   "execution_count": 2,
   "metadata": {},
   "outputs": [
    {
     "name": "stdout",
     "output_type": "stream",
     "text": [
      "x vale otro valor\n"
     ]
    }
   ],
   "source": [
    "x = 5\n",
    "\n",
    "match x:\n",
    "    case 3:\n",
    "        print(\"x vale 3\")\n",
    "    case 7:\n",
    "        print(\"x vale 7\")\n",
    "    case _:\n",
    "        print(\"x vale otro valor\")"
   ]
  },
  {
   "cell_type": "markdown",
   "metadata": {},
   "source": [
    "La cláusula `case _` es el equivalente a un `else`, emapreja con cualquier valor."
   ]
  },
  {
   "cell_type": "markdown",
   "metadata": {},
   "source": [
    "Podemos combinar varias constantes con `|`, y el código se ejecutará si coincide con uno de ellos:"
   ]
  },
  {
   "cell_type": "code",
   "execution_count": 3,
   "metadata": {},
   "outputs": [
    {
     "name": "stdout",
     "output_type": "stream",
     "text": [
      "x es un número primo menor de 10\n"
     ]
    }
   ],
   "source": [
    "x = 5\n",
    "\n",
    "match x:\n",
    "    case 2 | 3 | 5 | 7:\n",
    "        print(\"x es un número primo menor de 10\")\n",
    "    case _:\n",
    "        print(\"No lo es\")"
   ]
  },
  {
   "cell_type": "markdown",
   "metadata": {},
   "source": [
    "Para tipos compuestos (incluyendo clases), podemos pedir que emparejen uno o varios de los elementos. Para los elementos que ignoramos, hay que usar `_`:"
   ]
  },
  {
   "cell_type": "code",
   "execution_count": 9,
   "metadata": {},
   "outputs": [],
   "source": [
    "def posicion_punto(x):\n",
    "    match x:\n",
    "        case (0, 0):\n",
    "            print(\"El punto es el origen\")\n",
    "        case (0, _):\n",
    "            print(\"El punto está en el eje Y\")\n",
    "        case (_, 0):\n",
    "            print(\"El punto está en el eje X\")\n",
    "        case (_, _):\n",
    "            print(\"El punto no está en los ejes\")\n",
    "        case _:\n",
    "            raise TypeError"
   ]
  },
  {
   "cell_type": "code",
   "execution_count": 10,
   "metadata": {},
   "outputs": [
    {
     "name": "stdout",
     "output_type": "stream",
     "text": [
      "El punto está en el eje X\n",
      "El punto está en el eje Y\n",
      "El punto no está en los ejes\n",
      "El punto es el origen\n"
     ]
    },
    {
     "ename": "TypeError",
     "evalue": "",
     "output_type": "error",
     "traceback": [
      "\u001b[0;31m---------------------------------------------------------------------------\u001b[0m",
      "\u001b[0;31mTypeError\u001b[0m                                 Traceback (most recent call last)",
      "Cell \u001b[0;32mIn [10], line 5\u001b[0m\n\u001b[1;32m      3\u001b[0m posicion_punto((\u001b[39m1\u001b[39m, \u001b[39m8\u001b[39m))\n\u001b[1;32m      4\u001b[0m posicion_punto((\u001b[39m0\u001b[39m,\u001b[39m0\u001b[39m))\n\u001b[0;32m----> 5\u001b[0m posicion_punto(\u001b[39m\"\u001b[39;49m\u001b[39ma\u001b[39;49m\u001b[39m\"\u001b[39;49m)\n",
      "Cell \u001b[0;32mIn [9], line 12\u001b[0m, in \u001b[0;36mposicion_punto\u001b[0;34m(x)\u001b[0m\n\u001b[1;32m     10\u001b[0m     \u001b[39mprint\u001b[39m(\u001b[39m\"\u001b[39m\u001b[39mEl punto no está en los ejes\u001b[39m\u001b[39m\"\u001b[39m)\n\u001b[1;32m     11\u001b[0m \u001b[39mcase\u001b[39;00m \u001b[39m_\u001b[39;00m:\n\u001b[0;32m---> 12\u001b[0m     \u001b[39mraise\u001b[39;00m \u001b[39mTypeError\u001b[39;00m\n",
      "\u001b[0;31mTypeError\u001b[0m: "
     ]
    }
   ],
   "source": [
    "posicion_punto((3, 0))\n",
    "posicion_punto((0, -7))\n",
    "posicion_punto((1, 8))\n",
    "posicion_punto((0,0))\n",
    "posicion_punto(\"a\")"
   ]
  },
  {
   "cell_type": "markdown",
   "metadata": {},
   "source": [
    "## Emparejamiento de tipo\n",
    "\n",
    "`match` puede emparejar con valores que sean de un tipo determinado:"
   ]
  },
  {
   "cell_type": "code",
   "execution_count": 1,
   "metadata": {},
   "outputs": [],
   "source": [
    "def primer_elemento(x):\n",
    "    \"\"\"Si x es un entero, lo devuelve, y si es una lista, devuelve el primer elemento\"\"\"\n",
    "    match x:\n",
    "        case float():\n",
    "            return x\n",
    "        case list():\n",
    "            return x[0]\n",
    "        case _:\n",
    "            raise TypeError"
   ]
  },
  {
   "cell_type": "code",
   "execution_count": 2,
   "metadata": {},
   "outputs": [
    {
     "name": "stdout",
     "output_type": "stream",
     "text": [
      "5.2\n",
      "-3.7\n"
     ]
    }
   ],
   "source": [
    "print(primer_elemento(5.2))\n",
    "print(primer_elemento([-3.7, 4.5]))"
   ]
  },
  {
   "cell_type": "markdown",
   "metadata": {},
   "source": [
    "Podemos ser más específicos, y pedir que el primer elemento de la lista sea un `float`:"
   ]
  },
  {
   "cell_type": "code",
   "execution_count": 4,
   "metadata": {},
   "outputs": [],
   "source": [
    "def primer_elemento(x):\n",
    "    \"\"\"Si x es un float, lo devuelve, y si es una lista, devuelve el primer elemento\"\"\"\n",
    "    match x:\n",
    "        case float():\n",
    "            return x\n",
    "        case [float(), *_]:\n",
    "            return x[0]\n",
    "        case _:\n",
    "            raise TypeError"
   ]
  },
  {
   "cell_type": "markdown",
   "metadata": {},
   "source": [
    "El asterisco delante de `_` es necesario para que empareje con listas de cualquier longitud (mayor o igual que 1)"
   ]
  },
  {
   "cell_type": "code",
   "execution_count": 5,
   "metadata": {},
   "outputs": [
    {
     "name": "stdout",
     "output_type": "stream",
     "text": [
      "5.2\n",
      "-3.7\n",
      "3.41\n"
     ]
    },
    {
     "ename": "TypeError",
     "evalue": "",
     "output_type": "error",
     "traceback": [
      "\u001b[0;31m---------------------------------------------------------------------------\u001b[0m",
      "\u001b[0;31mTypeError\u001b[0m                                 Traceback (most recent call last)",
      "Cell \u001b[0;32mIn [5], line 4\u001b[0m\n\u001b[1;32m      2\u001b[0m \u001b[39mprint\u001b[39m(primer_elemento([\u001b[39m-\u001b[39m\u001b[39m3.7\u001b[39m, \u001b[39m4.5\u001b[39m, \u001b[39m-\u001b[39m\u001b[39m1.2\u001b[39m]))\n\u001b[1;32m      3\u001b[0m \u001b[39mprint\u001b[39m(primer_elemento([\u001b[39m3.41\u001b[39m,]))\n\u001b[0;32m----> 4\u001b[0m \u001b[39mprint\u001b[39m(primer_elemento([\u001b[39m2\u001b[39;49m, \u001b[39m7\u001b[39;49m]))\n",
      "Cell \u001b[0;32mIn [4], line 9\u001b[0m, in \u001b[0;36mprimer_elemento\u001b[0;34m(x)\u001b[0m\n\u001b[1;32m      7\u001b[0m     \u001b[39mreturn\u001b[39;00m x[\u001b[39m0\u001b[39m]\n\u001b[1;32m      8\u001b[0m \u001b[39mcase\u001b[39;00m \u001b[39m_\u001b[39;00m:\n\u001b[0;32m----> 9\u001b[0m     \u001b[39mraise\u001b[39;00m \u001b[39mTypeError\u001b[39;00m\n",
      "\u001b[0;31mTypeError\u001b[0m: "
     ]
    }
   ],
   "source": [
    "print(primer_elemento(5.2))\n",
    "print(primer_elemento([-3.7, 4.5, -1.2]))\n",
    "print(primer_elemento([3.41,]))\n",
    "print(primer_elemento([2, 7]))"
   ]
  },
  {
   "cell_type": "markdown",
   "metadata": {},
   "source": [
    "O podemos pedir que el primer elemento sea un `float` o `int`:"
   ]
  },
  {
   "cell_type": "code",
   "execution_count": 7,
   "metadata": {},
   "outputs": [],
   "source": [
    "def primer_elemento(x):\n",
    "    \"\"\"Si x es un float, lo devuelve, y si es una lista, devuelve el primer elemento\"\"\"\n",
    "    match x:\n",
    "        case float() | int():\n",
    "            return x\n",
    "        case [float() | int(), *_]:\n",
    "            return x[0]\n",
    "        case _:\n",
    "            raise TypeError"
   ]
  },
  {
   "cell_type": "code",
   "execution_count": 8,
   "metadata": {},
   "outputs": [
    {
     "name": "stdout",
     "output_type": "stream",
     "text": [
      "5.2\n",
      "-3.7\n",
      "3.41\n",
      "2\n"
     ]
    }
   ],
   "source": [
    "print(primer_elemento(5.2))\n",
    "print(primer_elemento([-3.7, 4.5, -1.2]))\n",
    "print(primer_elemento([3.41,]))\n",
    "print(primer_elemento([2, 7]))"
   ]
  },
  {
   "cell_type": "markdown",
   "metadata": {},
   "source": [
    "## Emparejamiento con asignación\n",
    "\n",
    "La ventaja de `match` es que es capaz de asignar variables al emparejar. En el ejemplo anterior, en vez de devolver `x[0]`, podemos asignar el valor del primer elemento a una variable `y`, y el resto de la lista a una variable `resto`:"
   ]
  },
  {
   "cell_type": "code",
   "execution_count": 11,
   "metadata": {},
   "outputs": [],
   "source": [
    "def primer_elemento(x):\n",
    "    \"\"\"Si x es un float, lo devuelve, y si es una lista, devuelve el primer elemento\"\"\"\n",
    "    match x:\n",
    "        case float() | int():\n",
    "            return x\n",
    "        case [float(y) | int(y), *resto]:\n",
    "            print(f\"Valores descartados: {resto}\")\n",
    "            return y\n",
    "        case _:\n",
    "            raise TypeError"
   ]
  },
  {
   "cell_type": "code",
   "execution_count": 12,
   "metadata": {},
   "outputs": [
    {
     "name": "stdout",
     "output_type": "stream",
     "text": [
      "5.2\n",
      "Valores descartados: [4.5, -1.2]\n",
      "-3.7\n",
      "Valores descartados: []\n",
      "3.41\n",
      "Valores descartados: [7]\n",
      "2\n"
     ]
    }
   ],
   "source": [
    "print(primer_elemento(5.2))\n",
    "print(primer_elemento([-3.7, 4.5, -1.2]))\n",
    "print(primer_elemento([3.41,]))\n",
    "print(primer_elemento([2, 7]))"
   ]
  },
  {
   "cell_type": "markdown",
   "metadata": {},
   "source": [
    "Veamos un ejemplo más complicado, donde usamos `match` para capturar los valores de dos coeficientes de Wilson en concreto:"
   ]
  },
  {
   "cell_type": "code",
   "execution_count": 28,
   "metadata": {},
   "outputs": [],
   "source": [
    "from wilson import Wilson, wcxf\n",
    "\n",
    "def extrae_coefs(w):\n",
    "    match w:\n",
    "        case Wilson():\n",
    "            match w.wc:\n",
    "                case wcxf.WC(values={'lq1_2223': lq1, 'lq3_2223': lq3}, eft=\"SMEFT\", basis=\"Warsaw\"):\n",
    "                    return (lq1, lq3)\n",
    "                case wcxf.WC(eft=\"SMEFT\", basis=\"Warsaw\"):\n",
    "                    raise KeyError(\"No existen los coeficientes lq1_2223 o lq3_2223\")\n",
    "                case wcxf.WC(eft=\"SMEFT\"):\n",
    "                    raise ValueError(\"Los coeficientes no están en la base Warsaw\")\n",
    "                case _:\n",
    "                    raise ValueError(\"Los coeficientes no pertenecen al SMEFT\")\n",
    "        case _:\n",
    "            raise TypeError(\"El objeto no es una instancia de Wilson\")"
   ]
  },
  {
   "cell_type": "markdown",
   "metadata": {},
   "source": [
    "Como ves, también es posible emparejar miembros de una clase. En general, hay que especificar el nombre del miembro antes del signo igual.\n",
    "\n",
    "La estructura interna de la clase `Wilson` es un poco enrevesada, porque en vez de guardar los coeficientes y la teoría efectiva como miembros, los almacena como un objeto de la clase `wcxf.WC`, y por eso estamos usando dos `match` anidados. \n",
    "\n",
    "\n",
    "Comprobamos que el `match` funciona correctamente con un objeto `Wilson` que contiene los coeficientes que buscamos:"
   ]
  },
  {
   "cell_type": "code",
   "execution_count": 29,
   "metadata": {},
   "outputs": [
    {
     "data": {
      "text/plain": [
       "(1e-07, 1e-07)"
      ]
     },
     "execution_count": 29,
     "metadata": {},
     "output_type": "execute_result"
    }
   ],
   "source": [
    "extrae_coefs(Wilson({'lq1_2223': 1e-7, 'lq3_2223': 1e-7}, scale = 1000, eft=\"SMEFT\", basis=\"Warsaw\"))"
   ]
  },
  {
   "cell_type": "code",
   "execution_count": 30,
   "metadata": {},
   "outputs": [
    {
     "data": {
      "text/plain": [
       "(1e-07, 1e-07)"
      ]
     },
     "execution_count": 30,
     "metadata": {},
     "output_type": "execute_result"
    }
   ],
   "source": [
    "extrae_coefs(Wilson({'lq1_2223': 1e-7, 'lq3_2223': 1e-7, 'lq1_1123': 1e-7}, scale = 1000, eft=\"SMEFT\", basis=\"Warsaw\"))"
   ]
  },
  {
   "cell_type": "markdown",
   "metadata": {},
   "source": [
    "y que si no los contiene, creamos las excepciones adecuadas:"
   ]
  },
  {
   "cell_type": "code",
   "execution_count": 34,
   "metadata": {},
   "outputs": [
    {
     "ename": "KeyError",
     "evalue": "'No existen los coeficientes lq1_2223 o lq3_2223'",
     "output_type": "error",
     "traceback": [
      "\u001b[0;31m---------------------------------------------------------------------------\u001b[0m",
      "\u001b[0;31mKeyError\u001b[0m                                  Traceback (most recent call last)",
      "Cell \u001b[0;32mIn [34], line 1\u001b[0m\n\u001b[0;32m----> 1\u001b[0m extrae_coefs(Wilson({\u001b[39m'\u001b[39;49m\u001b[39mlq1_2223\u001b[39;49m\u001b[39m'\u001b[39;49m: \u001b[39m1e-7\u001b[39;49m, \u001b[39m'\u001b[39;49m\u001b[39mlq3_1123\u001b[39;49m\u001b[39m'\u001b[39;49m: \u001b[39m1e-7\u001b[39;49m}, scale \u001b[39m=\u001b[39;49m \u001b[39m1000\u001b[39;49m, eft\u001b[39m=\u001b[39;49m\u001b[39m\"\u001b[39;49m\u001b[39mSMEFT\u001b[39;49m\u001b[39m\"\u001b[39;49m, basis\u001b[39m=\u001b[39;49m\u001b[39m\"\u001b[39;49m\u001b[39mWarsaw\u001b[39;49m\u001b[39m\"\u001b[39;49m))\n",
      "Cell \u001b[0;32mIn [28], line 10\u001b[0m, in \u001b[0;36mextrae_coefs\u001b[0;34m(w)\u001b[0m\n\u001b[1;32m      8\u001b[0m     \u001b[39mreturn\u001b[39;00m (lq1, lq3)\n\u001b[1;32m      9\u001b[0m \u001b[39mcase\u001b[39;00m wcxf\u001b[39m.\u001b[39mWC(eft\u001b[39m=\u001b[39m\u001b[39m\"\u001b[39m\u001b[39mSMEFT\u001b[39m\u001b[39m\"\u001b[39m, basis\u001b[39m=\u001b[39m\u001b[39m\"\u001b[39m\u001b[39mWarsaw\u001b[39m\u001b[39m\"\u001b[39m):\n\u001b[0;32m---> 10\u001b[0m     \u001b[39mraise\u001b[39;00m \u001b[39mKeyError\u001b[39;00m(\u001b[39m\"\u001b[39m\u001b[39mNo existen los coeficientes lq1_2223 o lq3_2223\u001b[39m\u001b[39m\"\u001b[39m)\n\u001b[1;32m     11\u001b[0m \u001b[39mcase\u001b[39;00m wcxf\u001b[39m.\u001b[39mWC(eft\u001b[39m=\u001b[39m\u001b[39m\"\u001b[39m\u001b[39mSMEFT\u001b[39m\u001b[39m\"\u001b[39m):\n\u001b[1;32m     12\u001b[0m     \u001b[39mraise\u001b[39;00m \u001b[39mValueError\u001b[39;00m(\u001b[39m\"\u001b[39m\u001b[39mLos coeficientes no están en la base Warsaw\u001b[39m\u001b[39m\"\u001b[39m)\n",
      "\u001b[0;31mKeyError\u001b[0m: 'No existen los coeficientes lq1_2223 o lq3_2223'"
     ]
    }
   ],
   "source": [
    "extrae_coefs(Wilson({'lq1_2223': 1e-7, 'lq3_1123': 1e-7}, scale = 1000, eft=\"SMEFT\", basis=\"Warsaw\"))"
   ]
  },
  {
   "cell_type": "code",
   "execution_count": 32,
   "metadata": {},
   "outputs": [
    {
     "ename": "ValueError",
     "evalue": "Los coeficientes no están en la base Warsaw",
     "output_type": "error",
     "traceback": [
      "\u001b[0;31m---------------------------------------------------------------------------\u001b[0m",
      "\u001b[0;31mValueError\u001b[0m                                Traceback (most recent call last)",
      "Cell \u001b[0;32mIn [32], line 1\u001b[0m\n\u001b[0;32m----> 1\u001b[0m extrae_coefs(Wilson({\u001b[39m'\u001b[39;49m\u001b[39mlq1_2223\u001b[39;49m\u001b[39m'\u001b[39;49m: \u001b[39m1e-7\u001b[39;49m, \u001b[39m'\u001b[39;49m\u001b[39mlq3_2223\u001b[39;49m\u001b[39m'\u001b[39;49m: \u001b[39m1e-7\u001b[39;49m}, scale \u001b[39m=\u001b[39;49m \u001b[39m1000\u001b[39;49m, eft\u001b[39m=\u001b[39;49m\u001b[39m\"\u001b[39;49m\u001b[39mSMEFT\u001b[39;49m\u001b[39m\"\u001b[39;49m, basis\u001b[39m=\u001b[39;49m\u001b[39m\"\u001b[39;49m\u001b[39mWarsaw up\u001b[39;49m\u001b[39m\"\u001b[39;49m))\n",
      "Cell \u001b[0;32mIn [28], line 12\u001b[0m, in \u001b[0;36mextrae_coefs\u001b[0;34m(w)\u001b[0m\n\u001b[1;32m     10\u001b[0m     \u001b[39mraise\u001b[39;00m \u001b[39mKeyError\u001b[39;00m(\u001b[39m\"\u001b[39m\u001b[39mNo existen los coeficientes lq1_2223 o lq3_2223\u001b[39m\u001b[39m\"\u001b[39m)\n\u001b[1;32m     11\u001b[0m \u001b[39mcase\u001b[39;00m wcxf\u001b[39m.\u001b[39mWC(eft\u001b[39m=\u001b[39m\u001b[39m\"\u001b[39m\u001b[39mSMEFT\u001b[39m\u001b[39m\"\u001b[39m):\n\u001b[0;32m---> 12\u001b[0m     \u001b[39mraise\u001b[39;00m \u001b[39mValueError\u001b[39;00m(\u001b[39m\"\u001b[39m\u001b[39mLos coeficientes no están en la base Warsaw\u001b[39m\u001b[39m\"\u001b[39m)\n\u001b[1;32m     13\u001b[0m \u001b[39mcase\u001b[39;00m \u001b[39m_\u001b[39;00m:\n\u001b[1;32m     14\u001b[0m     \u001b[39mraise\u001b[39;00m \u001b[39mValueError\u001b[39;00m(\u001b[39m\"\u001b[39m\u001b[39mLos coeficientes no pertenecen al SMEFT\u001b[39m\u001b[39m\"\u001b[39m)\n",
      "\u001b[0;31mValueError\u001b[0m: Los coeficientes no están en la base Warsaw"
     ]
    }
   ],
   "source": [
    "extrae_coefs(Wilson({'lq1_2223': 1e-7, 'lq3_2223': 1e-7}, scale = 1000, eft=\"SMEFT\", basis=\"Warsaw up\"))"
   ]
  },
  {
   "cell_type": "code",
   "execution_count": 33,
   "metadata": {},
   "outputs": [
    {
     "ename": "ValueError",
     "evalue": "Los coeficientes no pertenecen al SMEFT",
     "output_type": "error",
     "traceback": [
      "\u001b[0;31m---------------------------------------------------------------------------\u001b[0m",
      "\u001b[0;31mValueError\u001b[0m                                Traceback (most recent call last)",
      "Cell \u001b[0;32mIn [33], line 1\u001b[0m\n\u001b[0;32m----> 1\u001b[0m extrae_coefs(Wilson({\u001b[39m'\u001b[39;49m\u001b[39mC9_bsmumu\u001b[39;49m\u001b[39m'\u001b[39;49m: \u001b[39m-\u001b[39;49m\u001b[39m0.6\u001b[39;49m}, scale\u001b[39m=\u001b[39;49m\u001b[39m4.8\u001b[39;49m, eft\u001b[39m=\u001b[39;49m\u001b[39m\"\u001b[39;49m\u001b[39mWET\u001b[39;49m\u001b[39m\"\u001b[39;49m, basis\u001b[39m=\u001b[39;49m\u001b[39m\"\u001b[39;49m\u001b[39mflavio\u001b[39;49m\u001b[39m\"\u001b[39;49m))\n",
      "Cell \u001b[0;32mIn [28], line 14\u001b[0m, in \u001b[0;36mextrae_coefs\u001b[0;34m(w)\u001b[0m\n\u001b[1;32m     12\u001b[0m             \u001b[39mraise\u001b[39;00m \u001b[39mValueError\u001b[39;00m(\u001b[39m\"\u001b[39m\u001b[39mLos coeficientes no están en la base Warsaw\u001b[39m\u001b[39m\"\u001b[39m)\n\u001b[1;32m     13\u001b[0m         \u001b[39mcase\u001b[39;00m \u001b[39m_\u001b[39;00m:\n\u001b[0;32m---> 14\u001b[0m             \u001b[39mraise\u001b[39;00m \u001b[39mValueError\u001b[39;00m(\u001b[39m\"\u001b[39m\u001b[39mLos coeficientes no pertenecen al SMEFT\u001b[39m\u001b[39m\"\u001b[39m)\n\u001b[1;32m     15\u001b[0m \u001b[39mcase\u001b[39;00m \u001b[39m_\u001b[39;00m:\n\u001b[1;32m     16\u001b[0m     \u001b[39mraise\u001b[39;00m \u001b[39mTypeError\u001b[39;00m(\u001b[39m\"\u001b[39m\u001b[39mEl objeto no es una instancia de Wilson\u001b[39m\u001b[39m\"\u001b[39m)\n",
      "\u001b[0;31mValueError\u001b[0m: Los coeficientes no pertenecen al SMEFT"
     ]
    }
   ],
   "source": [
    "extrae_coefs(Wilson({'C9_bsmumu': -0.6}, scale=4.8, eft=\"WET\", basis=\"flavio\"))"
   ]
  },
  {
   "cell_type": "markdown",
   "metadata": {},
   "source": [
    "Al crear una clase, es posible especificar que (algunos) miembros se puedan emparejar sin necesidad de escribir el nombre del miembro, sino por el orden en el que aparecen. Para ello, hay que añadir a la clase la tupla `__match_args__`:"
   ]
  },
  {
   "cell_type": "code",
   "execution_count": 36,
   "metadata": {},
   "outputs": [
    {
     "name": "stdout",
     "output_type": "stream",
     "text": [
      "Objeto de masa 1.0 en reposo\n"
     ]
    }
   ],
   "source": [
    "class Cuadrivector:\n",
    "    __match_args__ = (\"t\", \"x\", \"y\", \"z\")\n",
    "    def __init__(self, t, x, y, z):\n",
    "        self.t = float(t)\n",
    "        self.x = float(x)\n",
    "        self.y = float(y)\n",
    "        self.z = float(z)\n",
    "\n",
    "p = Cuadrivector(1, 0, 0, 0)\n",
    "\n",
    "match p:\n",
    "    case Cuadrivector(m, 0.0, 0.0, 0.0):\n",
    "        print(f\"Objeto de masa {m} en reposo\")\n",
    "    case Cuadrivector(p0, px, py, pz):\n",
    "        m = (p0**2-px**2-py**2-pz**2)**0.5\n",
    "        print(f\"Objeto de masa {m} en movimiento\")\n",
    "    case _:\n",
    "        raise TypeError(\"No es un cuadrivector\")\n",
    "    "
   ]
  },
  {
   "cell_type": "code",
   "execution_count": null,
   "metadata": {},
   "outputs": [],
   "source": []
  }
 ],
 "metadata": {
  "kernelspec": {
   "display_name": "Python 3.10.8 ('tfm-alejandromir-pisT7Re7-py3.10')",
   "language": "python",
   "name": "python3"
  },
  "language_info": {
   "codemirror_mode": {
    "name": "ipython",
    "version": 3
   },
   "file_extension": ".py",
   "mimetype": "text/x-python",
   "name": "python",
   "nbconvert_exporter": "python",
   "pygments_lexer": "ipython3",
   "version": "3.10.8"
  },
  "orig_nbformat": 4,
  "vscode": {
   "interpreter": {
    "hash": "1f3f3a4d53262e9b64aadf354276afdb3b72bef7e271f3b7e5577e448e334dcb"
   }
  }
 },
 "nbformat": 4,
 "nbformat_minor": 2
}
