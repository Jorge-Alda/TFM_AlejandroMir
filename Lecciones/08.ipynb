{
 "cells": [
  {
   "cell_type": "markdown",
   "metadata": {},
   "source": [
    "# Leptoquarks (LQ)"
   ]
  },
  {
   "cell_type": "markdown",
   "metadata": {},
   "source": [
    "Leptoquarks are hypothetical particles carrying both baryon number (B) and lepton number (L). These particles naturally arise in many extensions of the Standard Model (SM), such as Pati–Salam unification, grand unified theories (GUTs), composite Higgs models, and theories with extra dimensions. Leptoquarks can be either scalar (spin-0) or vector (spin-1) particles, and they mediate interactions between quarks and leptons through renormalizable Yukawa-type or gauge interactions.\n",
    "\n",
    "The general motivation for considering leptoquarks stems from experimental hints of lepton flavor universality violation (LFUV) in rare 𝐵-meson decays. In particular, anomalies in the charged current sector such as the ratio $R_{D*}$ and algular observables like the longitudinal polarization fraction of the $D^*$ ($F_L^{D^*}$), the polarization asymmetry of the $\\tau$ ($P_\\tau^{D^*}$) and the lifetime of the $B_c^+$ meson, have shown tensions with Standard Model predictions. The problem arises by the collision of $R_{D*}$ and $F_L^{D*}$ in WET formalism. \n",
    "\n",
    "These observables are sensitive to different types of effective operators in the Weak Effective Theory (WET). Depending on the nature of the New Physics mediators (like leptoquarks), different operator structures are generated:\n",
    "\n",
    "-Vector operators $(O_{VL}, O_{VR})$ can enhance $R_{D*}$ while preserving the SM prediction for $F_L^{D*}$ since this observable is mostly sensitive to helicity structures unaffected by vector-type interactions\n",
    "\n",
    "-Scalar operators $(O_{SL},O_{SR})$, constraints form $B_c^+$ lifetime is significant and thus deviations of $R_{D*}$ and $F_L^{D*}$ from the SM are severely constrained.\n",
    "\n",
    "-Tensor operators ($O_T$), $F_L^{D*}$ is suppressed as $R_{D*}$ is enhanced, making it difficult to reconcile both observables.\n",
    "\n",
    "With all this, if we want to explain $R_D*$ we need a $F_L^{D*}$ close to its SM prediction. With the new experimental values of $F_L^{D*}$ consistent with the SM values, this study has become valuvable again.\n",
    "\n",
    "In the case of $P_\\tau^{D*}$, scalar LQ $S_1$ and $R_2$ and the vector LQ U_1 predict very wide ranges. However, because the experimental uncertainty in remains large, distinguishing between these models based on current data is not yet feasible ([1811.08899](https://arxiv.org/pdf/1811.08899))\n",
    "\n",
    "LQ are defined with 3 quantum numbers representing the $SU(3)_c$, $SU(2)_W$ and $U(1)_Y$ groups respectively (for example the $R_2$ (3,2,7/6) scalar doublet LQ).\n",
    "\n",
    "Remember that we can get the charge of the particle applying the next relation: $Q=T_3+Y$.\n",
    "For example, for the previously mentioned $R_2$ (3,2,7/6) scalar doublet, as it is a doublet, it has $T_3=\\pm 1/2$ as the third component of isospin.\n",
    "\n",
    "-For $T_3$=+1/2:\n",
    "$$Q=\\frac{1}{2}+\\frac{7}{6}=\\frac{5}{3}$$\n",
    "\n",
    "-For $T_3$=-1/2:\n",
    "$$Q=-\\frac{1}{2}+\\frac{7}{6}=\\frac{2}{3}$$\n",
    "\n",
    "So $R_2$ two components with charge +2/3 and +5/3 respectively.\n"
   ]
  },
  {
   "cell_type": "markdown",
   "metadata": {},
   "source": [
    "## Scalar LQs:"
   ]
  },
  {
   "cell_type": "markdown",
   "metadata": {},
   "source": [
    "Scalar leptoquarks (LQs) are spin-0 particles that couple quarks and leptons via Yukawa-like interactions. They are particularly attractive in model building because they can arise naturally in UV-complete theories such as grand unified theories (GUTs), composite Higgs models, or Pati–Salam frameworks, and they can explain several low-energy anomalies.\n",
    "\n",
    "There are only a few scalar LQ representations that allow renormalizable interactions with SM fermions while preserving gauge invariance and baryon number conservation. The four phenomenologically most relevant scalar leptoquarks are: $S_1 (\\bar{3},1,1/3)$, doublets $R_2 (3,2,1/6)$ and $\\tilde{R_2} (3,2,7/3)$ and the triplet $S_3 (\\bar{3},3,1/3)$\n",
    "\n",
    "- $S_1$: generates scalar and tensor operators relevant for $R_D*$ and  $P_\\tau^{D*}$.\n",
    "\n",
    "- $R_2$: generates scalar-tensor combinations that are particulary efficient at modifying $R_D*$ while conserving $F_L^{D*}$.\n",
    "\n",
    "- $\\tilde{R_2}$: contributes to vector-like operators affecting $b\\rightarrow sl^+l^-$.\n",
    "\n",
    "- $S_3$: leads to vector operators, adressing the $b\\rightarrow s\\mu^+\\mu^-$ anomalies. No scalar or tensor operators are generated. It is thus ideal for explaining the neutral current anomalies $R_K$, $R_{K^*}$ and $P'_5$ while being compatible with the absence of deviations in the $B_s\\rightarrow\\mu^+\\mu^-$.([1704.05444](https://arxiv.org/pdf/1704.05444))([1503.02632](https://arxiv.org/pdf/1503.02632))\n",
    "\n",
    "The presence of scalar operators is tightly constrained by the $B^+_c$ lifetime, as excessive scalar contributions to $B\\rightarrow\\tau\\nu$ would shorten its lifetime beyond acceptable experimental bounds. ([1706.08511](https://arxiv.org/pdf/1706.08511))\n",
    "\n",
    "Furthermore, scalar leptoquarks can lead to flavor-violating processes such as $\\mu\\rightarrow e\\gamma$, $\\tau\\rightarrow\\mu\\phi$, and contribute to the anomalous magnetic moment of the muon $(g-2)_\\mu$ offering potential cross-checks with upcoming experiments. ([1603.04993](https://arxiv.org/pdf/1603.04993))([1808.08179](https://arxiv.org/pdf/1808.08179))\n"
   ]
  },
  {
   "cell_type": "markdown",
   "metadata": {},
   "source": [
    "### - $R_2$ (3,2,7/6) Scalar doublet"
   ]
  },
  {
   "cell_type": "markdown",
   "metadata": {},
   "source": [
    "Unlike $S_1$ or $S_3$, $R_2$ does not couple to diquarks, and hence does not induce proton decay at tree level, making it more attractive from a low-energy flavor perspective.\n",
    "\n",
    "Not accessible to the $b\\rightarrow s\\mu\\mu$ anomaly.\n",
    "Its main phenomenological role lies in charged-current transitions, particularly $b\\rightarrow c\\tau\\bar{\\nu}_\\tau$, which are directly related to the $R_{D^*}$ and $P^{D^*}_\\tau$ anomalies.\n",
    "\n",
    "Gives contributions to $C_{VR}$ and $C_{SL}=4C_T$.\n",
    "\n",
    "The most general renormalizable interaction between $R_2$ and SM fermions is:\n",
    "$$\\mathcal{L}_{R_2}=y_R^{ij}\\bar{Q}_i l_{Rj}R_2-y_L^{ij}\\bar{u}_{Ri}R_2 i \\tau_2 L_{j}+h.c.$$\n",
    "In terms of the electric charge eigenstates, it can be written as:\n",
    "$$\\begin{align}\n",
    "\\mathcal{L}_{R_2}&=(V_{CKM}y_R)^{ij}\\bar{u}_{Li} l_{Rj}R^{(5/3)}_2+y_R^{ij}\\bar{d}_{Li} l_{Rj}R^{(2/3)}_2+\\\\ &+y_L^{ij}\\bar{u}_{Ri}\\nu_{Lj}R^{(2/3)}_2+y_R^{ij}\\bar{Q}_i l_{Rj}R_2-y_L^{ij}\\bar{u}_{Ri}l_{Lj}R^{(5/3)}_2+h.c.\n",
    "\\end{align}$$"
   ]
  },
  {
   "cell_type": "markdown",
   "metadata": {},
   "source": [
    "Where $y_L$ and $y_R$ are 3x3 complex matrices.\n",
    "$R^{(2/3)}_2$ gives contributions to $b\\rightarrow c\\tau\\bar{\\nu}$ at tree level by the WET coefficients $C_{T}$ and $C_{SL}$.\n",
    "$$C_{SL}(\\mu_{LQ})=4C_T(\\mu_{LQ})=\\frac{1}{4\\sqrt{2}G_F V_{cb}}\\frac{y^{c\\tau}_L(y^{b\\tau}_R)^*}{m^2_{R_2}}$$"
   ]
  },
  {
   "cell_type": "markdown",
   "metadata": {},
   "source": [
    "Assuming Yukawa couplings are aligned to avoid the strong constraints from flavour observables, sizable $y^{c\\tau}_L$ and $y^{b\\tau}_R$ can archieve the experimental results of $R_{D*}$.\n",
    "For example $y^{c\\tau}_L(y^{b\\tau}_R)^*=2.5i$ and $m_{LQ}=1.5 TeV$ $\\rightarrow$ $C_{SL}(4C_T)=0.41i$ that can explain $R_{D*}$ within $1\\sigma$."
   ]
  },
  {
   "cell_type": "markdown",
   "metadata": {},
   "source": [
    "$R_2$ scalar doublet could not accomodate $R_{D*}$ and $F_L^{D*}$ simultaneously, but now that $F_L^{D*}$ value is consistent with the SM value, its study has become valuable again.\n",
    "Due to the tension between the constraints imposed by $R_{D*}$ and high-$p_T$ tails from $B(Z\\rightarrow \\tau \\tau)$ processes, $R_2$ model is partially excluded (Should monitor $R_{D*}^{exp}$ values in new experiments).\n",
    "\n",
    "The $\\tilde{R}_2$ model is also excluded as it cannot explain a $R_{D*}^{exp}>R_{D*}^{SM}$, because it results in a huge contribution to $b\\rightarrow s\\nu\\nu$ which overshoots the experimentl bounds on $B(B\\rightarrow K^*\\nu\\nu)$ by orders of magnitude. ([2404.16772](https://arxiv.org/pdf/2404.16772))"
   ]
  },
  {
   "cell_type": "markdown",
   "metadata": {},
   "source": [
    "### - $S_1$ (3,1,1/3) Scalar singlet"
   ]
  },
  {
   "cell_type": "markdown",
   "metadata": {},
   "source": [
    "To ensure proton decay stability we assume that diquark couplings are forbidden.\n",
    "\n",
    "Does not provide $b\\rightarrow sll$ transitions at tree level. \n",
    "To account that, we can use the siglet-triplet model which includes the scalar LQs $S_1$ and $S_3$ at the same time ([1912.04224](https://arxiv.org/pdf/1912.04224)). That combined model has destructive interference between the contribution of the singlet and the triplet in case of lepton flavor conservation and in $b\\rightarrow s \\nu\\bar{\\nu} $, relieving the bounds.\n",
    "\n",
    "This singlet scalar LQ $S_1$ gives contribution to $C_{VL}$ and $C_{SL}=-4C_T$.\n",
    "$$\\begin{align}\n",
    "\\mathcal{L}_{S_1}&=y_L^{ij}\\bar{Q}^c \\tau_2 L_{j}S_1+y_R^{ij}\\bar{u}_{Ri}^c e_{Rj}S_1=\\\\ &=S_1\\left[(V_{CKM}^*y_L)^{ij}\\bar{u}_{Li}^c l_{Lj}-y_L^{ij}\\bar{d}_{Li}^c \\nu_{Lj}+y_R^{ij}\\bar{u}_{Ri}^c l_{Rj}\\right]+h.c.\n",
    "\\end{align}$$\n",
    "\n"
   ]
  },
  {
   "cell_type": "markdown",
   "metadata": {},
   "source": [
    "Contribution to $b\\rightarrow c\\tau\\bar{\\nu}_\\tau$:\n",
    "$$ C_{VL}(\\mu_{LQ})=\\frac{1}{4\\sqrt{2}G_F V_{cb}}\\frac{y_L^{b\\tau}(V_{CKM}y_L^*)^{c\\tau}}{m^2_{S_1}} $$\n",
    "$$ C_{SL}(\\mu_{LQ})=-4C_{T}(\\mu_{LQ})=-\\frac{1}{4\\sqrt{2}G_F V_{cb}}\\frac{y_L^{b\\tau}(y_R^{c\\tau})^*}{m^2_{S_1}} $$"
   ]
  },
  {
   "cell_type": "markdown",
   "metadata": {},
   "source": [
    "Choosing for example $y_L^{b\\tau}(V_{CKM}y_L^*)^{c\\tau}=0.3$, $y_L^{b\\tau}(y_R^{c\\tau})^*=-0.3$ and $m_{LQ}=1.5TeV$ we get $C_{VL}=C_{SL}=-4C_T=0.05$ can explain $R_{D*}$ at $1\\sigma$ level."
   ]
  },
  {
   "cell_type": "markdown",
   "metadata": {},
   "source": [
    "### - Example of matching in the singlet-triplet model ($S_1 + S_3$)"
   ]
  },
  {
   "cell_type": "markdown",
   "metadata": {},
   "source": [
    "Working in the down basis, i.e. in the basis where no CKM elements appear in flavor changing neutral currents of down-type quarks, this leads to the following interaction terms with fermions ([1912.04224](https://arxiv.org/pdf/1912.04224)):"
   ]
  },
  {
   "cell_type": "markdown",
   "metadata": {},
   "source": [
    "$$\\begin{align}\n",
    "\\mathcal{L}_{LQ}=&\\Gamma^{L,K}_{u_fl_i}\\bar{u}^c_fP_Ll_i\\Phi_K^{-1/3*}+\\Gamma^{R,K}_{u_fl_i}\\bar{u}^c_fP_Rl_i\\Phi_K^{-1/3*}+\\Gamma^{L,K}_{d_f\\nu_i}\\bar{d}^c_fP_L\\nu_i\\Phi_K^{-1/3*}\\\\&+\\Gamma^{J}_{u_f\\nu_i}\\bar{u}^c_fP_L\\nu_i\\Phi_J^{2/3*}+\\Gamma^{J}_{d_fl_i}\\bar{d}^c_fP_Ll_i\\Phi_J^{-4/3*}\n",
    "\\end{align}$$"
   ]
  },
  {
   "cell_type": "markdown",
   "metadata": {},
   "source": [
    "where the superscripts of the LQ fields refer to their electric charge and:\n",
    "$$\\begin{align}\n",
    "&\\Gamma^{L,K}_{u_fl_i}=V^*_{fj}(\\lambda^I_{ji}W^*_{IK}-\\kappa^J_{ji}W^*_{J+N,K})\\\\\n",
    "&\\Gamma^{R,K}_{u_fl_i}=\\hat{\\lambda}^I_{fi}W^*_{IK}\\\\\n",
    "&\\Gamma^{L,K}_{d_f\\nu_i}=-\\lambda^I_{fi}W^*_{IK}-\\kappa^J_{fi}W^*_{J+N,K}\\\\\n",
    "&\\Gamma^{J}_{u_f\\nu_i}=\\sqrt{2}V^*_{fj}\\kappa^J_{ji}\\\\\n",
    "&\\Gamma^{J}_{d_fl_i}=-\\sqrt{2}\\kappa^J_{fi}\n",
    "\\end{align}$$"
   ]
  },
  {
   "cell_type": "markdown",
   "metadata": {},
   "source": [
    "with $W$ a unitary matrix. In the limit with only one generation of each LQ and without mixing we have:\n",
    "$$\\begin{align}\n",
    "&\\Gamma^{L,K}_{u_fl_i}=V^*_{fj}(\\lambda_{ji}\\delta_{1K}-\\kappa_{ji}\\delta_{2K})\\\\\n",
    "&\\Gamma^{R,K}_{u_fl_i}=\\hat{\\lambda}_{fi}\\delta_{1K}\\\\\n",
    "&\\Gamma^{L,K}_{d_f\\nu_i}=-\\lambda_{fi}\\delta_{1K}-\\kappa_{fi}\\delta_{2K}\\\\\n",
    "&\\Gamma_{u_f\\nu_i}=\\sqrt{2}V^*_{fj}\\kappa_{ji}\\\\\n",
    "&\\Gamma_{d_fl_i}=-\\sqrt{2}\\kappa_{fi}\n",
    "\\end{align}$$\n",
    "where the indices 1 and 2 correspond to $\\Phi_1$ and $\\Phi_3$ respectively."
   ]
  },
  {
   "cell_type": "markdown",
   "metadata": {},
   "source": [
    "Now, to describe for example a $d_k\\rightarrow d_jl^-_fl^+_i$, we use the effective Hamiltonian:\n",
    "$$\\begin{align}\n",
    "&\\mathcal{H}^{ddll}_{eff}=-\\frac{4G_F}{\\sqrt{2}}V_{td_k}V^*_{td_j}\\left[\\sum_{A=7,8}C^{jk}_A\\mathcal{O}^{jk}_A+\\sum_{A=9,10}C^{fi}_{A,jk}\\mathcal{O}^{fi}_{A,jk}\\right],\\\\\n",
    "&\\mathcal{O}^{jk}_{7(8)}=\\frac{e(g_s)}{16\\pi^2}m_k[\\bar{d}_j\\sigma^{\\mu\\nu}(T^a)P_Rd_k]F_{\\mu\\nu}(G^a_{\\mu\\nu}),\\\\\n",
    "&\\mathcal{O}^{fi}_{9,jk}=\\frac{\\alpha}{4\\pi}[\\bar{d}_j\\gamma^\\mu P_Ld_k][\\bar{l}_f\\gamma_\\mu l_i],\\\\\n",
    "&\\mathcal{O}^{fi}_{10,jk}=\\frac{\\alpha}{4\\pi}[\\bar{d}_j\\gamma^\\mu P_Ld_k][\\bar{l}_f\\gamma_\\mu \\gamma_5l_i]\n",
    "\\end{align}$$"
   ]
  },
  {
   "cell_type": "markdown",
   "metadata": {},
   "source": [
    "Using the contibution from $\\mathcal{O}_9$ and $\\mathcal{O}_{10}$ we get:\n",
    "$$\\mathcal{H}^{ddll}_{eff}=-\\frac{4G_F}{\\sqrt{2}}V_{td_k}V^*_{td_j}\\sum_{A=9,10}C^{fi}_{A,jk}\\mathcal{O}^{jfi}_{A,jk}=-\\frac{4G_F}{\\sqrt{2}}V_{td_k}V^*_{td_j}\\frac{\\alpha}{4\\pi}[\\bar{d}_j\\gamma^\\mu P_Ld_k][\\bar{l}_f\\gamma_\\mu (C_9+C_{10}\\gamma_5) l_i]\n",
    "$$"
   ]
  },
  {
   "cell_type": "markdown",
   "metadata": {},
   "source": [
    "By using $C_9=-C_{10}$:\n",
    "$$-\\frac{4G_F}{\\sqrt{2}}V_{td_k}V^*_{td_j}\\frac{\\alpha}{4\\pi}[\\bar{d}_j\\gamma^\\mu P_Ld_k][\\bar{l}_f\\gamma_\\mu (C_9+C_{10}\\gamma_5) l_i]=\n",
    "-\\frac{4G_F}{\\sqrt{2}}V_{td_k}V^*_{td_j}\\frac{\\alpha}{4\\pi}2C_9[\\bar{d}_j\\gamma^\\mu P_Ld_k][\\bar{l}_f\\gamma_\\mu (\\frac{1-\\gamma_5}{2}) l_i]=\\\\\n",
    "=-\\frac{4G_F}{\\sqrt{2}}V_{td_k}V^*_{td_j}\\frac{\\alpha}{4\\pi}2C_9[\\bar{d}_j\\gamma^\\mu P_Ld_k][\\bar{l}_f\\gamma_\\mu P_L l_i]\n",
    "$$"
   ]
  },
  {
   "cell_type": "markdown",
   "metadata": {},
   "source": [
    "Using the Fierz identities to rewrite the bilinear:\n",
    "$$\\frac{1}{2}[\\bar{d}_j\\gamma^\\mu P_Ld_k][\\bar{l}_f\\gamma_\\mu P_L l_i]=[\\bar{d}P_L l][\\bar{l}P_L d]$$"
   ]
  },
  {
   "cell_type": "markdown",
   "metadata": {},
   "source": [
    "$$\\mathcal{H}^{ddll}_{eff}=-\\frac{4G_F}{\\sqrt{2}}V_{td_k}V^*_{td_j}\\frac{\\alpha}{4\\pi}2C_9*2[\\bar{d}P_L l][\\bar{l}P_L d]=-\\frac{G_F}{\\sqrt{2}}V_{td_k}V^*_{td_j}\\frac{4\\alpha}{\\pi}C_9[\\bar{d}P_L l][\\bar{l}P_L d]$$"
   ]
  },
  {
   "cell_type": "markdown",
   "metadata": {},
   "source": [
    "In the $S_1+S_3$ Lagrangian, this corresponds to an operator using the last term:\n",
    "$$\\Gamma_{d_fl_i}\\Gamma^*_{d_fl_i}[\\bar{d}^c_fP_Ll_i] \\Phi_3^{-4/3*}\\Phi_3^{-4/3}[\\bar{l}^c_fP_Ld_i]=2\\kappa_{ji}\\kappa^*_{fi}\\frac{-1}{M^2_{S_3}}[\\bar{d}^c_fP_Ll_i][\\bar{l}^c_fP_Ld_i] $$"
   ]
  },
  {
   "cell_type": "markdown",
   "metadata": {},
   "source": [
    "Equating the two expressions to obtain $C_9$:\n",
    "$$\\frac{G_F}{\\sqrt{2}}V_{td_k}V^*_{td_j}\\frac{\\alpha}{\\pi}C_9[\\bar{d}P_L l][\\bar{l}P_L d]=2\\kappa_{ji}\\kappa^*_{fi}\\frac{-1}{M_{S_3}^2}[\\bar{d}^c_fP_Ll_i][\\bar{l}^c_fP_Ld_i]\\\\\n",
    "C_9=-C_{10}=\\frac{\\sqrt{2}}{2G_F V_{td}V^*_{td}}\\frac{\\pi}{\\alpha}\\frac{\\kappa_{ji}\\kappa^*_{fi}}{M_{S_3}^2}\n",
    "$$\n"
   ]
  },
  {
   "cell_type": "markdown",
   "metadata": {},
   "source": [
    "### - Link to EDMs"
   ]
  },
  {
   "cell_type": "markdown",
   "metadata": {},
   "source": [
    "An experimental nonzero value for an Electric Dipole Moment (EDM)  would be a clear sign for a new source of CP-violation as the CKM phase predicts EDMs that are orders of magnitudes below current and expected limits. ([1809.09114](https://arxiv.org/pdf/1809.09114))\n",
    "\n",
    "$$\\mathcal{L}_{EDM}=\\sum_{l=e,\\mu,\\tau}-\\frac{d_l}{2}\\bar{l}i\\sigma^{\\mu\\nu}\\gamma^5 lF_{\\mu\\nu},\\qquad d_l=eQ_lm_lC^{(\\gamma)}_l$$\n",
    "\n",
    "We can study how the experimental contraints on EDM affects the value of LQ complex couplings. For that we need to study LQs that can couple both left- and right-handed couplings to fermions, as these give significant contributions to CP-violating observables and thereby give rise to the most interesting EDM phenomenology. LQ models without this requirement still contribute to EDMs; however, in that case, the generation of a CP-violating phase necessarily involves a flavor change, which has to be reversed to induce EDMs by an additional non-diagonal weak interaction, rendering these contributions much smaller. The requirement of both left-and right-handed couplings can also be avoided by introducing multiple LQs.\n",
    "\n",
    "Because of this, the simplest model to study EDMs with LQs would be to use the scalars $S_1$ and $R_2$ (both affect in a similar way to EDMs) individually or together, as they have terms linking left and right-handed fermions. That does not happen for example for the scalar $S_3$ as it only has left-left couplings. Taking into account that LQ mass has to be over 1.5TeV to be on agreement with LHC constraints, we can integrate the LQs and go down from SMEFT to WET and finally to $\\chi PT$ (Chiral Perturbation Theory) by running and matching.\n",
    "\n",
    "Improvements of the associated atomic theory to EDMs is needed as theoretical uncertainties are huge and can't give tustfull constraints. For example in $d_{Hg}$, the contribution from the electron EDM is poorly understood. The Hg EDM would provide a great allin-one system if hadronic, nuclear, and atomic theory could be improved, as it provides strong Central constraints on almost all leptoquark couplings. \n",
    "\n",
    "Ongoing experimental efforts aim at improving the sensitivity by at least one order of magnitude for all couplings involved; notably, achieving the challenging goals of the proton- and deuteron-EDM experiments would improve the sensitivity for some of the couplings involving heavier leptons by several orders of magnitude.\n",
    "\n",
    "If we obtain the values for the LQ couplings from a fit to B-anomalies in a $R_2 + S_3$ model and calculate the EDMs, we find that this scenario remains consistent with current EDM experiments given the large theoretical uncertainties, but predicts a signal in the next generation of neutron EDM experiments."
   ]
  },
  {
   "cell_type": "markdown",
   "metadata": {},
   "source": [
    "## Vector LQs:"
   ]
  },
  {
   "cell_type": "markdown",
   "metadata": {},
   "source": [
    "Vector leptoquarks are spin-1 bosons that mediate interactions between quarks and leptons, transforming non-trivially under the SM gauge group. Unlike scalar LQs, which can couple via renormalizable Yukawa terms, vector LQs often arise as gauge bosons of extended gauge symmetries and may require UV completions for a fully consistent treatment.\n",
    "\n",
    "Vector LQs can play a particularly important role in models aiming to explain simultaneously both charged- and neutral-current anomalies, i.e. $R_{D^*}$ and $R_{K^*}$, as they naturally generate vector-like operators at tree level."
   ]
  },
  {
   "cell_type": "markdown",
   "metadata": {},
   "source": [
    "### - $U_1$ (3,1,2/3) vector singlet"
   ]
  },
  {
   "cell_type": "markdown",
   "metadata": {},
   "source": [
    "Can provide simultaneous explanation of the anomalies in the $b\\rightarrow s$ and $b\\rightarrow c$ transitions.\n",
    "\n",
    "Does not predict proton decay.\n",
    "\n",
    "Gives contributions to $C_{VL}$ and $C_{SR}$.\n",
    "\n",
    "Flavour dependent couplings between $U_1$ and SM fermions.\n",
    "\n",
    "$$\\mathcal{L}_{U_1}=x_L^{ij}\\bar{Q}_i\\gamma_\\mu U_1^\\mu L_j+ x_R^{ij}\\bar{d}_{Ri}\\gamma_\\mu U_1^\\mu l_{Rj}+h.c.$$\n",
    "where $x_L$ and $x_R$ are 3x3 complex matrices.\n",
    "$$C_{VL}(\\mu_{LQ})=\\frac{(V_{CKM}x_L)^{c\\tau}(x_L^{b\\tau})^*}{2\\sqrt{2}G_F V_{cb}m^2_{U_1}}$$\n",
    "$$C_{SR}(\\mu_{LQ})=-\\frac{(V_{CKM}x_L)^{c\\tau}(x_R^{b\\tau})^*}{\\sqrt{2}G_F V_{cb}m^2_{U_1}}$$\n",
    "\n",
    "For example, $(V_{CKM}x_L)^{c\\tau}(x_L^{b\\tau})^*=0.15$, $(V_{CKM}x_L)^{c\\tau}(x_R^{b\\tau})^*$=-0.15 and $m_{LQ}=1.5TeV$ $\\rightarrow$ $C_{VL}=0.05$ and $C_{SR}=0.1$ so $R_{D*}$ can be explained at $1\\sigma$ level."
   ]
  },
  {
   "cell_type": "markdown",
   "metadata": {},
   "source": [
    "### - B(Z' bosons) Neutral singlet"
   ]
  },
  {
   "cell_type": "markdown",
   "metadata": {},
   "source": [
    "### - W Left-handed triplet"
   ]
  },
  {
   "cell_type": "markdown",
   "metadata": {},
   "source": [
    "Decomposes after eletroweak breaking into a neutral vector boson and a charge $\\pm 1$ complex vector boson.\n",
    "\n",
    "Theories with extra dimensions and Little Higgs. \n",
    "\n",
    "Forbids the operator $O_\\phi^{(3)}$"
   ]
  },
  {
   "cell_type": "markdown",
   "metadata": {},
   "source": [
    "### - $B^1$ Charged singlet"
   ]
  },
  {
   "cell_type": "markdown",
   "metadata": {},
   "source": [
    "Electric charge $\\pm 1$. Left-right models.\n",
    "\n",
    "After symmetry breaking it mixes with SM charged bosons with a mixing proportional to the Higgs coupling.\n",
    "\n",
    "With the assumption that the new vector is heavier than W, the mixing decreases $M_W$ and gives a negative contribution to $\\rho$ parameter, giving contribution to the operator $O_\\phi^{(3)}$.\n",
    "From coupling to RH quarks, it get a contribution to the operator $O_{\\phi ud}$"
   ]
  },
  {
   "cell_type": "markdown",
   "metadata": {},
   "source": [
    "### - $W^1$ Fermiophobic triplet"
   ]
  },
  {
   "cell_type": "markdown",
   "metadata": {},
   "source": [
    "Hypercharge equal to 1, contains two real neutral vectors whic mix with the Z boson upon electroweak symmetry breaking, a complex vector of charge $\\pm 1$ which mixes with W and a complex vector of charge $\\pm 2$ with no observable effect.\n",
    "\n",
    "Cannot couple to any SM fermions."
   ]
  },
  {
   "cell_type": "markdown",
   "metadata": {},
   "source": [
    "### - $\\mathcal{L}$ Leptophobic vector"
   ]
  },
  {
   "cell_type": "markdown",
   "metadata": {},
   "source": [
    "Complex vectors of charges $\\pm 1$ and $\\pm 2$ does not couple to the Higgs, so the charge $\\pm 1$ components do not mix with W at tree level. \n",
    "\n",
    "Coupled to $\\Delta L=2$ current, mixing LH and RH lepton multiplets.\n",
    "\n",
    "Contribution to operator $O_{le}$, affecting $\\nu^\\mu e$ scattering and $e^+e^-\\rightarrow l^+l^-$ processes."
   ]
  },
  {
   "cell_type": "markdown",
   "metadata": {},
   "source": [
    "### - $U^2$ and $U^5$ Singlet vector"
   ]
  },
  {
   "cell_type": "markdown",
   "metadata": {},
   "source": [
    "Decompose into complex vectors of fractional charges $\\pm 2/3$ and $\\pm 5/3$ respectively.\n",
    "\n",
    "Currents carry nonvanishing L, B and B-L numbers.\n",
    "\n",
    "$U^2$ gives contribution to operators $O_{ed}$, $O_{lq}^{(1,3)}$ and $O_{qed}$.\n",
    "\n",
    "$U^5$ gives contribution to operator $O_{eu}$."
   ]
  },
  {
   "cell_type": "markdown",
   "metadata": {},
   "source": [
    "### - $Q^1$ and $Q^5$ Doublet vectors"
   ]
  },
  {
   "cell_type": "markdown",
   "metadata": {},
   "source": [
    "$Q^1$ contains two complex vectors of charges $\\pm 1/3$ and $\\pm 2/3$.\n",
    "\n",
    "$Q^5$ contains two complex vectors of charges $\\pm 1/3$ and $\\pm 4/3$.\n",
    "\n",
    "Non trivial B, L and B-L numbers (B-L conserved).\n",
    "\n",
    "$Q^1$ gives contribution to operators $O_{lu}$.\n",
    "\n",
    "$Q^5$ gives contribution to operator $O_{ld}$, $O_{qe}$ and $O_{qed}$."
   ]
  },
  {
   "cell_type": "markdown",
   "metadata": {},
   "source": [
    "### - $\\chi$ Triplet vector"
   ]
  },
  {
   "cell_type": "markdown",
   "metadata": {},
   "source": [
    "Decomposes into complex vectors of charges $\\pm 1/3$, $\\pm 2/3$ and $\\pm 5/3$.\n",
    "\n",
    "Connects LH quarks with LH leptons.\n",
    "\n",
    "B and L symmetries are conserved.\n",
    "\n",
    "Generates operators $O_{lq}^{(1)}$ and $O_{lq}^{(3)}$."
   ]
  },
  {
   "cell_type": "markdown",
   "metadata": {},
   "source": [
    "# Bibliography"
   ]
  },
  {
   "cell_type": "markdown",
   "metadata": {},
   "source": [
    "[1811.08899](https://arxiv.org/pdf/1811.08899), [2405.06062](https://arxiv.org/pdf/2405.06062) - Scalar ($R_2$ and $S_1$) and vectorial ($U_1$) LQ. Fit to $R_{D*}$, $F_L^{D*}$, $P_\\tau^{D*}$\n",
    "\n",
    "[2404.16772](https://arxiv.org/pdf/2404.16772) - Exclusion $R_2$ model\n",
    "\n",
    "[1912.04224](https://arxiv.org/pdf/1912.04224) - Singlet-triplet model ($S_1$ and $S_3$)\n",
    "\n",
    "[1005.3998v2](https://arxiv.org/pdf/1005.3998v2) - Vector leptoquarks\n",
    "\n",
    "[1901.10480](https://arxiv.org/pdf/1901.10480) - $U_1$ + Z' + G' model\n",
    "\n",
    "[1809.09114](https://arxiv.org/pdf/1809.09114) - EDMs and CP-violation in LQ models $S_1$ and $R_2$ ($S_3$ for B-meson anomalies)\n",
    "\n",
    "[1304.6119](https://arxiv.org/pdf/1304.6119) - Scalar leptoquark phenomenology and use of Fierz identities\n",
    "\n"
   ]
  },
  {
   "cell_type": "markdown",
   "metadata": {},
   "source": []
  }
 ],
 "metadata": {
  "language_info": {
   "name": "python"
  }
 },
 "nbformat": 4,
 "nbformat_minor": 2
}
