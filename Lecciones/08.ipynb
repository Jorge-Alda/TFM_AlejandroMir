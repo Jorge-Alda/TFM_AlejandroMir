{
 "cells": [
  {
   "cell_type": "markdown",
   "metadata": {},
   "source": [
    "# Leptoquarks (LQ)"
   ]
  },
  {
   "cell_type": "markdown",
   "metadata": {},
   "source": [
    "Leptoquarks are hypothetical particles carrying both baryon number (B) and lepton number (L). They can be scalars (Yukawa couplings) and vectors (gauge boson like terms).\n",
    "\n",
    "With this particles we want to be able to explain the anomalies in particle physiscs, including $R_{D*}$, $F_L^{D*}$, $P_\\tau^{D*}$ and the $B_c^+$ lifetime.The problem arises by the collision of $R_{D*}$ and $F_L^{D*}$ in WET formalism. \n",
    "\n",
    "-Vector operators $(O_{VL}, O_{VR})$ can explain $R_{D*}$ anomalies but $F_L^{D*}$ has to be the same as the SM prediction.\n",
    "\n",
    "-Scalar operators $(O_{SL},O_{SR})$, constraints form $B_c^+$ lifetime is significant and thus deviations of $R_{D*}$ and $F_L^{D*}$ from the SM are severely constrained.\n",
    "\n",
    "-Tensor operators ($O_T$), $F_L^{D*}$ is suppressed as $R_{D*}$ is enhanced.\n",
    "\n",
    "With all this, if we want to explain $R_D*$ we need a $F_L^{D*}$ close to its SM prediction. With the new experimental values of $F_L^{D*}$ consistent with the SM values, this study has become valuvable again.\n",
    "\n",
    "In the case of $P_\\tau^{D*}$, scalar LQ $S_1$ and $R_2$ and the vector LQ U_1 predict very wide ranges, and due to the experimental value having a huge error, we cannot distinguish betwen the models. ([1811.08899](https://arxiv.org/pdf/1811.08899))\n",
    "\n",
    "LQ are defined with 3 quantum numbers representing the $SU(3)_c$, $SU(2)_W$ and $U(1)_Y$ groups respectively (for example the $R_2$ (3,2,7/6) scalar doublet LQ).\n",
    "\n",
    "Remember that we can get the charge of the particle applying the next relation: $Q=T_3+Y$.\n",
    "For example, for the previously mentioned $R_2$ (3,2,7/6) scalar doublet, as it is a doublet, it has $T_3=\\pm 1/2$ as the third component of isospin.\n",
    "\n",
    "-For $T_3$=+1/2:\n",
    "$$Q=\\frac{1}{2}+\\frac{7}{6}=\\frac{5}{3}$$\n",
    "\n",
    "-For $T_3$=-1/2:\n",
    "$$Q=-\\frac{1}{2}+\\frac{7}{6}=\\frac{2}{3}$$\n",
    "\n",
    "So $R_2$ two components with charge +2/3 and +5/3 respectively.\n"
   ]
  },
  {
   "cell_type": "markdown",
   "metadata": {},
   "source": [
    "## Scalar LQs:"
   ]
  },
  {
   "cell_type": "markdown",
   "metadata": {},
   "source": [
    "### - $R_2$ (3,2,7/6) Scalar doublet"
   ]
  },
  {
   "cell_type": "markdown",
   "metadata": {},
   "source": [
    "No proton decay (no diquark couplings).\n",
    "\n",
    "Not accessible to the $b\\rightarrow s\\mu\\mu$ anomaly.\n",
    "\n",
    "Gives contributions to $C_{VR}$ and $C_{SL}=4C_T$.\n",
    "\n",
    "Scalar fields couple to quarks and leptons flavour dependently via Yukawa couplings.\n",
    "$$\\mathcal{L}_{R_2}=y_R^{ij}\\bar{Q}_i l_{Rj}R_2-y_L^{ij}\\bar{u}_{Ri}R_2 i \\tau_2 L_{j}+h.c.$$\n",
    "In terms of the electric charge eigenstates, it can be written as:\n",
    "$$\\begin{align}\n",
    "\\mathcal{L}_{R_2}&=(V_{CKM}y_R)^{ij}\\bar{u}_{Li} l_{Rj}R^{(5/3)}_2+y_R^{ij}\\bar{d}_{Li} l_{Rj}R^{(2/3)}_2+\\\\ &+y_L^{ij}\\bar{u}_{Ri}\\nu_{Lj}R^{(2/3)}_2+y_R^{ij}\\bar{Q}_i l_{Rj}R_2-y_L^{ij}\\bar{u}_{Ri}l_{Lj}R^{(5/3)}_2+h.c.\n",
    "\\end{align}$$"
   ]
  },
  {
   "cell_type": "markdown",
   "metadata": {},
   "source": [
    "Where $y_L$ and $y_R$ are 3x3 complex matrices.\n",
    "$R^{(2/3)}_2$ gives contributions to $b\\rightarrow c\\tau\\bar{\\nu}$ at tree level by the WET coefficients $C_{T}$ and $C_{SL}$.\n",
    "$$C_{SL}(\\mu_{LQ})=4C_T(\\mu_{LQ})=\\frac{1}{4\\sqrt{2}G_F V_{cb}}\\frac{y^{c\\tau}_L(y^{b\\tau}_R)^*}{m^2_{R_2}}$$"
   ]
  },
  {
   "cell_type": "markdown",
   "metadata": {},
   "source": [
    "Assuming Yukawa couplings are aligned to avoid the strong constraints from flavour observables, sizable $y^{c\\tau}_L$ and $y^{b\\tau}_R$ can archieve the experimental results of $R_{D*}$.\n",
    "For example $y^{c\\tau}_L(y^{b\\tau}_R)^*=2.5i$ and $m_{LQ}=1.5 TeV$ $\\rightarrow$ $C_{SL}(4C_T)=0.41i$ that can explain $R_{D*}$ within $1\\sigma$."
   ]
  },
  {
   "cell_type": "markdown",
   "metadata": {},
   "source": [
    "$R_2$ scalar doublet could not accomodate $R_{D*}$ and $F_L^{D*}$ simultaneously, but now that $F_L^{D*}$ value is consistent with the SM value, its study has become valuable again.\n",
    "Due to the tension between the constraints imposed by $R_{D*}$ and high-$p_T$ tails from $B(Z\\rightarrow \\tau \\tau)$ processes, $R_2$ model is partially excluded (Should monitor $R_{D*}^{exp}$ values in new experiments).\n",
    "\n",
    "The $\\tilde{R}_2$ model is also excluded as it cannot explain a $R_{D*}^{exp}>R_{D*}^{SM}$, because it results in a huge contribution to $b\\rightarrow s\\nu\\nu$ which overshoots the experimentl bounds on $B(B\\rightarrow K^*\\nu\\nu)$ by orders of magnitude. ([2404.16772](https://arxiv.org/pdf/2404.16772))"
   ]
  },
  {
   "cell_type": "markdown",
   "metadata": {},
   "source": [
    "### - $S_1$ (3,1,1/3) Scalar singlet"
   ]
  },
  {
   "cell_type": "markdown",
   "metadata": {},
   "source": [
    "To ensure proton decay stability we assume that diquark couplings are forbidden.\n",
    "\n",
    "Does not provide $b\\rightarrow sll$ transitions at tree level. \n",
    "To account that we can use the siglet-triplet model which includes the scalar LQs $S_1$ and $S_3$ at the same time ([1912.04224](https://www.zora.uzh.ch/id/eprint/180974/1/1912.04224%281%29.pdf)). That combined model has destructive interference between the contribution of the singlet and the triplet in case of lepton flavor conservation and in $b\\rightarrow s \\nu\\bar{\\nu} $, relieving the bounds.\n",
    "\n",
    "This singlet scalar LQ $S_1$ gives contribution to $C_{VL}$ and $C_{SL}=-4C_T$.\n",
    "$$\\begin{align}\n",
    "\\mathcal{L}_{S_1}&=y_L^{ij}\\bar{Q}^c \\tau_2 L_{j}S_1+y_R^{ij}\\bar{u}_{Ri}^c e_{Rj}S_1=\\\\ &=S_1\\left[(V_{CKM}^*y_L)^{ij}\\bar{u}_{Li}^c l_{Lj}-y_L^{ij}\\bar{d}_{Li}^c \\nu_{Lj}+y_R^{ij}\\bar{u}_{Ri}^c l_{Rj}\\right]+h.c.\n",
    "\\end{align}$$\n",
    "\n"
   ]
  },
  {
   "cell_type": "markdown",
   "metadata": {},
   "source": [
    "Contribution to $b\\rightarrow c\\tau\\bar{\\nu}_\\tau$:\n",
    "$$ C_{VL}(\\mu_{LQ})=\\frac{1}{4\\sqrt{2}G_F V_{cb}}\\frac{y_L^{b\\tau}(V_{CKM}y_L^*)^{c\\tau}}{m^2_{S_1}} $$\n",
    "$$ C_{SL}(\\mu_{LQ})=-4C_{T}(\\mu_{LQ})=-\\frac{1}{4\\sqrt{2}G_F V_{cb}}\\frac{y_L^{b\\tau}(y_R^{c\\tau})^*}{m^2_{S_1}} $$"
   ]
  },
  {
   "cell_type": "markdown",
   "metadata": {},
   "source": [
    "Choosing for example $y_L^{b\\tau}(V_{CKM}y_L^*)^{c\\tau}=0.3$, $y_L^{b\\tau}(y_R^{c\\tau})^*=-0.3$ and $m_{LQ}=1.5TeV$ we get $C_{VL}=C_{SL}=-4C_T=0.05$ can explain $R_{D*}$ at $1\\sigma$ level."
   ]
  },
  {
   "cell_type": "markdown",
   "metadata": {},
   "source": [
    "## Vector LQs:"
   ]
  },
  {
   "cell_type": "markdown",
   "metadata": {},
   "source": [
    "### - $U_1$ (3,1,2/3) vector singlet"
   ]
  },
  {
   "cell_type": "markdown",
   "metadata": {},
   "source": [
    "Can provide simultaneous explanation of the anomalies in the $b\\rightarrow s$ and $b\\rightarrow c$ transitions.\n",
    "\n",
    "Does not predict proton decay.\n",
    "\n",
    "Gives contributions to $C_{VL}$ and $C_{SR}$.\n",
    "\n",
    "Flavour dependent couplings between $U_1$ and SM fermions.\n",
    "\n",
    "$$\\mathcal{L}_{U_1}=x_L^{ij}\\bar{Q}_i\\gamma_\\mu U_1^\\mu L_j+ x_R^{ij}\\bar{d}_{Ri}\\gamma_\\mu U_1^\\mu l_{Rj}+h.c.$$\n",
    "where $x_L$ and $x_R$ are 3x3 complex matrices.\n",
    "$$C_{VL}(\\mu_{LQ})=\\frac{(V_{CKM}x_L)^{c\\tau}(x_L^{b\\tau})^*}{2\\sqrt{2}G_F V_{cb}m^2_{U_1}}$$\n",
    "$$C_{SR}(\\mu_{LQ})=-\\frac{(V_{CKM}x_L)^{c\\tau}(x_R^{b\\tau})^*}{\\sqrt{2}G_F V_{cb}m^2_{U_1}}$$\n",
    "\n",
    "For example, $(V_{CKM}x_L)^{c\\tau}(x_L^{b\\tau})^*=0.15$, $(V_{CKM}x_L)^{c\\tau}(x_R^{b\\tau})^*$=-0.15 and $m_{LQ}=1.5TeV$ $\\rightarrow$ $C_{VL}=0.05$ and $C_{SR}=0.1$ so $R_{D*}$ can be explained at $1\\sigma$ level."
   ]
  },
  {
   "cell_type": "markdown",
   "metadata": {},
   "source": [
    "### - B(Z' bosons) Neutral singlet"
   ]
  },
  {
   "cell_type": "markdown",
   "metadata": {},
   "source": [
    "### - W Left-handed triplet"
   ]
  },
  {
   "cell_type": "markdown",
   "metadata": {},
   "source": [
    "Decomposes after eletroweak breaking into a neutral vector boson and a charge $\\pm 1$ complex vector boson.\n",
    "\n",
    "Theories with extra dimensions and Little Higgs. \n",
    "\n",
    "Forbids the operator $O_\\phi^{(3)}$"
   ]
  },
  {
   "cell_type": "markdown",
   "metadata": {},
   "source": [
    "### - $B^1$ Charged singlet"
   ]
  },
  {
   "cell_type": "markdown",
   "metadata": {},
   "source": [
    "Electric charge $\\pm 1$. Left-right models.\n",
    "\n",
    "After symmetry breaking it mixes with SM charged bosons with a mixing proportional to the Higgs coupling.\n",
    "\n",
    "With the assumption that the new vector is heavier than W, the mixing decreases $M_W$ and gives a negative contribution to $\\rho$ parameter, giving contribution to the operator $O_\\phi^{(3)}$.\n",
    "From coupling to RH quarks, it get a contribution to the operator $O_{\\phi ud}$"
   ]
  },
  {
   "cell_type": "markdown",
   "metadata": {},
   "source": [
    "### - $W^1$ Fermiophobic triplet"
   ]
  },
  {
   "cell_type": "markdown",
   "metadata": {},
   "source": [
    "Hypercharge equal to 1, contains two real neutral vectors whic mix with the Z boson upon electroweak symmetry breaking, a complex vector of charge $\\pm 1$ which mixes with W and a complex vector of charge $\\pm 2$ with no observable effect.\n",
    "\n",
    "Cannot couple to any SM fermions."
   ]
  },
  {
   "cell_type": "markdown",
   "metadata": {},
   "source": [
    "### - $\\mathcal{L}$ Leptophobic vector"
   ]
  },
  {
   "cell_type": "markdown",
   "metadata": {},
   "source": [
    "Complex vectors of charges $\\pm 1$ and $\\pm 2$ does not couple to the Higgs, so the charge $\\pm 1$ components do not mix with W at tree level. \n",
    "\n",
    "Coupled to $\\Delta L=2$ current, mixing LH and RH lepton multiplets.\n",
    "\n",
    "Contribution to operator $O_{le}$, affecting $\\nu^\\mu e$ scattering and $e^+e^-\\rightarrow l^+l^-$ processes."
   ]
  },
  {
   "cell_type": "markdown",
   "metadata": {},
   "source": [
    "### - $U^2$ and $U^5$ Singlet vector"
   ]
  },
  {
   "cell_type": "markdown",
   "metadata": {},
   "source": [
    "Decompose into complex vectors of fractional charges $\\pm 2/3$ and $\\pm 5/3$ respectively.\n",
    "\n",
    "Currents carry nonvanishing L, B and B-L numbers.\n",
    "\n",
    "$U^2$ gives contribution to operators $O_{ed}$, $O_{lq}^{(1,3)}$ and $O_{qed}$.\n",
    "\n",
    "$U^5$ gives contribution to operator $O_{eu}$."
   ]
  },
  {
   "cell_type": "markdown",
   "metadata": {},
   "source": [
    "### - $Q^1$ and $Q^5$ Doublet vectors"
   ]
  },
  {
   "cell_type": "markdown",
   "metadata": {},
   "source": [
    "$Q^1$ contains two complex vectors of charges $\\pm 1/3$ and $\\pm 2/3$.\n",
    "\n",
    "$Q^5$ contains two complex vectors of charges $\\pm 1/3$ and $\\pm 4/3$.\n",
    "\n",
    "Non trivial B, L and B-L numbers (B-L conserved).\n",
    "\n",
    "$Q^1$ gives contribution to operators $O_{lu}$.\n",
    "\n",
    "$Q^5$ gives contribution to operator $O_{ld}$, $O_{qe}$ and $O_{qed}$."
   ]
  },
  {
   "cell_type": "markdown",
   "metadata": {},
   "source": [
    "### - $\\chi$ Triplet vector"
   ]
  },
  {
   "cell_type": "markdown",
   "metadata": {},
   "source": [
    "Decomposes into complex vectors of charges $\\pm 1/3$, $\\pm 2/3$ and $\\pm 5/3$.\n",
    "\n",
    "Connects LH quarks with LH leptons.\n",
    "\n",
    "B and L symmetries are conserved.\n",
    "\n",
    "Generates operators $O_{lq}^{(1)}$ and $O_{lq}^{(3)}$."
   ]
  },
  {
   "cell_type": "markdown",
   "metadata": {},
   "source": [
    "# Bibliography"
   ]
  },
  {
   "cell_type": "markdown",
   "metadata": {},
   "source": [
    "[1811.08899](https://arxiv.org/pdf/1811.08899), [2405.06062](https://arxiv.org/pdf/2405.06062) - Scalar ($R_2$ and $S_1$) and vectorial ($U_1$) LQ. Fit to $R_{D*}$, $F_L^{D*}$, $P_\\tau^{D*}$\n",
    "\n",
    "[2404.16772](https://arxiv.org/pdf/2404.16772) - Exclusion $R_2$ model\n",
    "\n",
    "[1912.04224](https://www.zora.uzh.ch/id/eprint/180974/1/1912.04224%281%29.pdf) - Singlet-triplet model ($S_1$ and $S_3$)\n",
    "\n",
    "[1005.3998v2](https://arxiv.org/pdf/1005.3998v2) - Vector leptoquarks\n",
    "\n",
    "[1901.10480](https://arxiv.org/pdf/1901.10480) - $U_1$ + Z' + G' model\n",
    "\n",
    "[1809.09114](https://arxiv.org/pdf/1809.09114) - EDMs and CP-violation in LQ models $S_1$ and $R_2$ ($S_3$ for B-meson anomalies)\n",
    "\n"
   ]
  }
 ],
 "metadata": {
  "language_info": {
   "name": "python"
  }
 },
 "nbformat": 4,
 "nbformat_minor": 2
}
