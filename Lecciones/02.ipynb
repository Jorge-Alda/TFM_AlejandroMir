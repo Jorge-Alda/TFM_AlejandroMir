{
 "cells": [
  {
   "cell_type": "markdown",
   "metadata": {},
   "source": [
    "# 02 Clases en Python\n",
    "\n",
    "## Clases y miembros\n",
    "\n",
    "Las clases son la sintaxis de Python para definir nuevos tipos de variables. Ya hemos trabajado con un ejemplo de clases: la clase `Wilson` del paquete `wilson` para trabajar con los coeficientes de Wilson de una teoría efectiva. \n",
    "\n",
    "Una clase se declara con la palabra `class`:"
   ]
  },
  {
   "cell_type": "code",
   "execution_count": 1,
   "metadata": {},
   "outputs": [],
   "source": [
    "class Persona:\n",
    "    nombre = \"Richard\"\n",
    "    apellido = \"Feynman\"\n",
    "    nacimiento = 1918"
   ]
  },
  {
   "cell_type": "markdown",
   "metadata": {},
   "source": [
    "*Convención:* Los nombres de las clases deberían empezar por mayúscula, y si constan de varias palabras, usar \"camelcase\", es decir, cada palabra en mayúscula y sin separación: `ClaseConNombreLargo`. Por el contrario, las funciones y variables deberían estar siempre en minúscula, y si hay varias palabras, separadas por \\_: `funcion_con_nombre_largo`."
   ]
  },
  {
   "cell_type": "markdown",
   "metadata": {},
   "source": [
    "Las variables en el interior de una clase se denominan \"miembros\", y se puede acceder a ellas con un punto:"
   ]
  },
  {
   "cell_type": "code",
   "execution_count": 2,
   "metadata": {},
   "outputs": [
    {
     "name": "stdout",
     "output_type": "stream",
     "text": [
      "Richard\n"
     ]
    }
   ],
   "source": [
    "print(Persona.nombre)"
   ]
  },
  {
   "cell_type": "markdown",
   "metadata": {},
   "source": [
    "Para crear una variable (instancia) del tipo `Persona`, tenemos que llamar a la clase. En este caso, no tenemos que pasar ningún argumento (aún no, ya veremos más adelante):"
   ]
  },
  {
   "cell_type": "code",
   "execution_count": 3,
   "metadata": {},
   "outputs": [
    {
     "name": "stdout",
     "output_type": "stream",
     "text": [
      "Feynman, Richard\n"
     ]
    }
   ],
   "source": [
    "feynman = Persona()\n",
    "print(f\"{feynman.apellido}, {feynman.nombre}\")"
   ]
  },
  {
   "cell_type": "markdown",
   "metadata": {},
   "source": [
    "En Python, todos los miembros de una clase son públicos. Eso significa que podemos libremente modificarlos o crearlos (aunque en general no es recomendable)."
   ]
  },
  {
   "cell_type": "code",
   "execution_count": 4,
   "metadata": {},
   "outputs": [
    {
     "name": "stdout",
     "output_type": "stream",
     "text": [
      "Feynman, Richard P. (1918-1988)\n"
     ]
    }
   ],
   "source": [
    "feynman.nombre = \"Richard P.\"\n",
    "feynman.muerte = 1988\n",
    "print(f\"{feynman.apellido}, {feynman.nombre} ({feynman.nacimiento}-{feynman.muerte})\")"
   ]
  },
  {
   "cell_type": "markdown",
   "metadata": {},
   "source": [
    "## Métodos\n",
    "\n",
    "Las clases también pueden contener funciones (métodos), que en general se encargan de crear, modificar u operar con los miembros de una instancia. Vamos a añadir dos métodos a la clase `Persona`, uno para imprimir el nombre, y otro para cambiar el nombre:"
   ]
  },
  {
   "cell_type": "code",
   "execution_count": 5,
   "metadata": {},
   "outputs": [],
   "source": [
    "class Persona:\n",
    "    nombre = \"Richard\"\n",
    "    apellido = \"Feynman\"\n",
    "    nacimiento = 1918\n",
    "\n",
    "    def imprime_nombre(self):\n",
    "        print(f\"{self.apellido}, {self.nombre}\")\n",
    "\n",
    "    def cambia_nombre(self, nombre):\n",
    "        self.nombre = nombre"
   ]
  },
  {
   "cell_type": "code",
   "execution_count": 6,
   "metadata": {},
   "outputs": [
    {
     "name": "stdout",
     "output_type": "stream",
     "text": [
      "Feynman, Richard P.\n"
     ]
    }
   ],
   "source": [
    "feynman = Persona()\n",
    "Persona.cambia_nombre(feynman, \"Richard P.\")\n",
    "Persona.imprime_nombre(feynman)"
   ]
  },
  {
   "cell_type": "markdown",
   "metadata": {},
   "source": [
    "Los métodos son funciones definidas dentro de la clase (es decir, con indentación). El primer argumento de un miembro siempre es `self`, que se corresponde con la instancia utilizada. Para acceder a los miembros de la instancia, hay que usar `self.miembro`.\n",
    "\n",
    "La notación usada arriba para llamar a un método, aunque es correcta, es un poco pesada y en la práctica no se usa nunca. En su lugar, se puede usar:"
   ]
  },
  {
   "cell_type": "code",
   "execution_count": 7,
   "metadata": {},
   "outputs": [
    {
     "name": "stdout",
     "output_type": "stream",
     "text": [
      "Feynman, Richard P.\n"
     ]
    }
   ],
   "source": [
    "feynman = Persona()\n",
    "feynman.cambia_nombre(\"Richard P.\")\n",
    "feynman.imprime_nombre()"
   ]
  },
  {
   "cell_type": "markdown",
   "metadata": {},
   "source": [
    "En este caso, al llamar al método no hay que volver a pasar la instancia."
   ]
  },
  {
   "cell_type": "markdown",
   "metadata": {},
   "source": [
    "### Dunders\n",
    "\n",
    "Las clases tienen algunos métodos especiales reconocidos por Python, y que sirven para realizar operaciones comunes con variables. Estos métodos tienen un nombre que empieza y termina por doble `_`, por lo que se les conoce como \"dunder\" (\"**d**ouble **under**score\"). Uno de los más importantes es `__init__`, que se ejecuta al crear una instancia, y que nos permite, por ejemplo, dar valores iniciales a los miembros:"
   ]
  },
  {
   "cell_type": "code",
   "execution_count": 8,
   "metadata": {},
   "outputs": [],
   "source": [
    "class Persona:\n",
    "    def __init__(self, nombre, apellido, nacimiento):\n",
    "        self.nombre = nombre\n",
    "        self.apellido = apellido\n",
    "        self.nacimiento = nacimiento\n",
    "        \n",
    "    def imprime_nombre(self):\n",
    "        print(f\"{self.apellido}, {self.nombre}\")\n",
    "\n",
    "    def cambia_nombre(self, nombre):\n",
    "        self.nombre = nombre"
   ]
  },
  {
   "cell_type": "code",
   "execution_count": 9,
   "metadata": {},
   "outputs": [
    {
     "name": "stdout",
     "output_type": "stream",
     "text": [
      "Higgs, Peter W.\n"
     ]
    }
   ],
   "source": [
    "higgs = Persona(\"Peter\", \"Higgs\", 1929)\n",
    "higgs.cambia_nombre(\"Peter W.\")\n",
    "higgs.imprime_nombre()"
   ]
  },
  {
   "cell_type": "markdown",
   "metadata": {},
   "source": [
    "Otro dunder frecuente es `__repr__`, que crea un string que representa a la instancia, por ejemplo, al usar `print`:"
   ]
  },
  {
   "cell_type": "code",
   "execution_count": 10,
   "metadata": {},
   "outputs": [
    {
     "name": "stdout",
     "output_type": "stream",
     "text": [
      "<__main__.Persona object at 0x7fbbc820a140>\n"
     ]
    }
   ],
   "source": [
    "print(higgs)"
   ]
  },
  {
   "cell_type": "code",
   "execution_count": 11,
   "metadata": {},
   "outputs": [],
   "source": [
    "class Persona:\n",
    "    def __init__(self, nombre, apellido, nacimiento):\n",
    "        self.nombre = nombre\n",
    "        self.apellido = apellido\n",
    "        self.nacimiento = nacimiento\n",
    "        \n",
    "    def __repr__(self):\n",
    "        return f\"{self.apellido}, {self.nombre} ({self.nacimiento})\"\n",
    "\n",
    "    def cambia_nombre(self, nombre):\n",
    "        self.nombre = nombre"
   ]
  },
  {
   "cell_type": "code",
   "execution_count": 12,
   "metadata": {},
   "outputs": [
    {
     "name": "stdout",
     "output_type": "stream",
     "text": [
      "Higgs, Peter W. (1929)\n"
     ]
    }
   ],
   "source": [
    "higgs = Persona(\"Peter\", \"Higgs\", 1929)\n",
    "higgs.cambia_nombre(\"Peter W.\")\n",
    "print(higgs)"
   ]
  },
  {
   "cell_type": "markdown",
   "metadata": {},
   "source": [
    "Otas posibilidades de los dunder es implementar opeardores matemáticos + - * / > <, funciones como `len()`, `abs()`, `round()`, etc."
   ]
  },
  {
   "cell_type": "markdown",
   "metadata": {},
   "source": [
    "### Miembros de clase vs Miembros de instancia\n",
    "\n",
    "Hemos visto dos formas de crear miembros: bien declarándolos directamente en el cuerpo de la clase, o bien desde un método, usando `self.miembro =`. Los primeros son miembros de clase, y los segundos son miembros de instancia. \n",
    "\n",
    "En el caso de los miembros simples (`int`, `float`, `str`,...) no hay mucha diferencia, ya que los miembros de clase se pueden modificar independientemente para cada instancia. \n",
    "\n",
    "Sin embargo, esto no ocurre con los miembros de clase compuestos (como una lista), que están compartidos por todas las instancias. Para que sean independientes, hay que emplear miembros de instancia:"
   ]
  },
  {
   "cell_type": "code",
   "execution_count": 13,
   "metadata": {},
   "outputs": [],
   "source": [
    "class Clase:\n",
    "    str_clase = \"String de clase\"\n",
    "    lista_clase = [1, 2, 3]\n",
    "\n",
    "    def __init__(self):\n",
    "        self.str_instancia = \"String de instancia\"\n",
    "        self.lista_instancia = [11, 12, 13]"
   ]
  },
  {
   "cell_type": "code",
   "execution_count": 14,
   "metadata": {},
   "outputs": [
    {
     "name": "stdout",
     "output_type": "stream",
     "text": [
      "String de clase\n",
      "[1, 2, 3, 4]\n",
      "String de instancia\n",
      "[11, 12, 13]\n"
     ]
    }
   ],
   "source": [
    "c1 = Clase()\n",
    "c1.str_clase = \"modificado\"\n",
    "c1.lista_clase.append(4)\n",
    "c1.str_instancia = \"modificado\"\n",
    "c1.lista_instancia.append(14)\n",
    "\n",
    "c2 = Clase()\n",
    "print(c2.str_clase)\n",
    "print(c2.lista_clase)\n",
    "print(c2.str_instancia)\n",
    "print(c2.lista_instancia)"
   ]
  },
  {
   "cell_type": "markdown",
   "metadata": {},
   "source": [
    "## Propiedades\n",
    "\n",
    "Una propiedad es similar a un miembro, con la particularidad de que tenemos métodos específicos para modificarla y/o leerla. Por ejemplo, vamos a definir dos propiedades para el año de nacimiento y muerte de una persona, y en los métodos para crearlas, comprobaremos que las fechas sean correctas (nacimiento antes que muerte, y ambas antes del año actual):"
   ]
  },
  {
   "cell_type": "code",
   "execution_count": 15,
   "metadata": {},
   "outputs": [],
   "source": [
    "class Persona:\n",
    "    def __init__(self, nombre, apellido, nacimiento):\n",
    "        self.nombre = nombre\n",
    "        self.apellido = apellido\n",
    "        self.nacimiento = nacimiento\n",
    "\n",
    "    def __repr__(self):\n",
    "        if '_muerte' in self.__dict__:\n",
    "            return f\"{self.apellido}, {self.nombre} ({self.nacimiento}-{self._muerte})\"\n",
    "        else:\n",
    "            return f\"{self.apellido}, {self.nombre} ({self.nacimiento})\"\n",
    "\n",
    "    def get_nacimiento(self):\n",
    "        return self._nacimiento\n",
    "\n",
    "    def set_nacimiento(self, fecha):\n",
    "        if fecha > 2022:\n",
    "            raise ValueError(\"Fecha de nacimiento posterior al año actual\")\n",
    "        if '_muerte' in self.__dict__:\n",
    "            if fecha > self._muerte:\n",
    "                raise ValueError(\"Fecha de nacimiento posterior a la fecha de muerte\")\n",
    "        self._nacimiento = fecha\n",
    "\n",
    "    def get_muerte(self):\n",
    "        if \"_muerte\" in self.__dict__:\n",
    "            return self._muerte\n",
    "        else:\n",
    "            raise AttributeError(\"No hay fecha de muerte\")\n",
    "\n",
    "    def set_muerte(self, fecha):\n",
    "        if fecha > 2022:\n",
    "            raise ValueError(\"Fecha de muerte posterior al año actual\")\n",
    "        if fecha < self._nacimiento:\n",
    "            raise ValueError(\"Fecha de muerte anterior a la fecha de nacimiento\")\n",
    "        self._muerte = fecha\n",
    "\n",
    "    nacimiento = property(get_nacimiento, set_nacimiento)\n",
    "    muerte = property(get_muerte, set_muerte)"
   ]
  },
  {
   "cell_type": "markdown",
   "metadata": {},
   "source": [
    "Aquí están sucediendo varias cosas:\n",
    "* Tenemos las propiedades `nacimiento` y `muerte`, y los miembros `_nacimiento` y `_muerte`. El `_` al inicio de un miembro indica que no debería ser usado directamente por un usuario (aunque todos los miembros son públicos, así que no hay ninguna garantía de que un usuario no acceda directamente a ellos).Las propiedades actuarán como el intermediario para tratar con los valores internos.\n",
    "* Por cada propiedad tenemos dos métodos: uno llamado `get_`, cuya función es devolver el valor interno, y otro llamado `set_`, cuya función es modificar el valor interno una vez hemos comprobado que el nuevo valor es válido.\n",
    "* Si el valor introducido no es válido, le decimos a Python que genere un error con `raise`.\n",
    "* Tenemos que comprobar si la persona tiene una fecha de muerte. Para ello usamos `self.__dict__`, que es un diccionario que contiene como entradas todos los miembros de la instancia. Si aún no hemos definido una fecha de muerte, entonces `_muerte` no se encontrará en el diccionario.\n",
    "* Finalmente, declaramos que `nacimiento` y `muerte` son propiedades con la función `property`, que le dice a python cuáles son los métodos necesarios para leer y modificar la propiedad.\n",
    "\n",
    "Veamos cómo funciona:"
   ]
  },
  {
   "cell_type": "code",
   "execution_count": 16,
   "metadata": {},
   "outputs": [],
   "source": [
    "feynman = Persona(\"Richard\", \"Feynman\", 1918)"
   ]
  },
  {
   "cell_type": "code",
   "execution_count": 17,
   "metadata": {},
   "outputs": [
    {
     "data": {
      "text/plain": [
       "1918"
      ]
     },
     "execution_count": 17,
     "metadata": {},
     "output_type": "execute_result"
    }
   ],
   "source": [
    "feynman.nacimiento"
   ]
  },
  {
   "cell_type": "code",
   "execution_count": 18,
   "metadata": {},
   "outputs": [
    {
     "ename": "ValueError",
     "evalue": "Fecha de nacimiento posterior al año actual",
     "output_type": "error",
     "traceback": [
      "\u001b[0;31m---------------------------------------------------------------------------\u001b[0m",
      "\u001b[0;31mValueError\u001b[0m                                Traceback (most recent call last)",
      "Cell \u001b[0;32mIn [18], line 2\u001b[0m\n\u001b[1;32m      1\u001b[0m \u001b[39m# Nos dará un mensaje de error\u001b[39;00m\n\u001b[0;32m----> 2\u001b[0m feynman\u001b[39m.\u001b[39;49mnacimiento \u001b[39m=\u001b[39m \u001b[39m2035\u001b[39m\n",
      "Cell \u001b[0;32mIn [15], line 18\u001b[0m, in \u001b[0;36mPersona.set_nacimiento\u001b[0;34m(self, fecha)\u001b[0m\n\u001b[1;32m     16\u001b[0m \u001b[39mdef\u001b[39;00m \u001b[39mset_nacimiento\u001b[39m(\u001b[39mself\u001b[39m, fecha):\n\u001b[1;32m     17\u001b[0m     \u001b[39mif\u001b[39;00m fecha \u001b[39m>\u001b[39m \u001b[39m2022\u001b[39m:\n\u001b[0;32m---> 18\u001b[0m         \u001b[39mraise\u001b[39;00m \u001b[39mValueError\u001b[39;00m(\u001b[39m\"\u001b[39m\u001b[39mFecha de nacimiento posterior al año actual\u001b[39m\u001b[39m\"\u001b[39m)\n\u001b[1;32m     19\u001b[0m     \u001b[39mif\u001b[39;00m \u001b[39m'\u001b[39m\u001b[39m_muerte\u001b[39m\u001b[39m'\u001b[39m \u001b[39min\u001b[39;00m \u001b[39mself\u001b[39m\u001b[39m.\u001b[39m\u001b[39m__dict__\u001b[39m:\n\u001b[1;32m     20\u001b[0m         \u001b[39mif\u001b[39;00m fecha \u001b[39m>\u001b[39m \u001b[39mself\u001b[39m\u001b[39m.\u001b[39m_muerte:\n",
      "\u001b[0;31mValueError\u001b[0m: Fecha de nacimiento posterior al año actual"
     ]
    }
   ],
   "source": [
    "# Nos dará un mensaje de error\n",
    "feynman.nacimiento = 2035"
   ]
  },
  {
   "cell_type": "code",
   "execution_count": 19,
   "metadata": {},
   "outputs": [
    {
     "data": {
      "text/plain": [
       "1917"
      ]
     },
     "execution_count": 19,
     "metadata": {},
     "output_type": "execute_result"
    }
   ],
   "source": [
    "# Modificamos la fecha de nacimiento\n",
    "feynman.nacimiento = 1917\n",
    "feynman.nacimiento"
   ]
  },
  {
   "cell_type": "code",
   "execution_count": 20,
   "metadata": {},
   "outputs": [
    {
     "ename": "AttributeError",
     "evalue": "No hay fecha de muerte",
     "output_type": "error",
     "traceback": [
      "\u001b[0;31m---------------------------------------------------------------------------\u001b[0m",
      "\u001b[0;31mAttributeError\u001b[0m                            Traceback (most recent call last)",
      "Cell \u001b[0;32mIn [20], line 2\u001b[0m\n\u001b[1;32m      1\u001b[0m \u001b[39m# Mensaje de error: aún no hemos definido la fecha de muerte\u001b[39;00m\n\u001b[0;32m----> 2\u001b[0m feynman\u001b[39m.\u001b[39;49mmuerte\n",
      "Cell \u001b[0;32mIn [15], line 28\u001b[0m, in \u001b[0;36mPersona.get_muerte\u001b[0;34m(self)\u001b[0m\n\u001b[1;32m     26\u001b[0m     \u001b[39mreturn\u001b[39;00m \u001b[39mself\u001b[39m\u001b[39m.\u001b[39m_muerte\n\u001b[1;32m     27\u001b[0m \u001b[39melse\u001b[39;00m:\n\u001b[0;32m---> 28\u001b[0m     \u001b[39mraise\u001b[39;00m \u001b[39mAttributeError\u001b[39;00m(\u001b[39m\"\u001b[39m\u001b[39mNo hay fecha de muerte\u001b[39m\u001b[39m\"\u001b[39m)\n",
      "\u001b[0;31mAttributeError\u001b[0m: No hay fecha de muerte"
     ]
    }
   ],
   "source": [
    "# Mensaje de error: aún no hemos definido la fecha de muerte\n",
    "feynman.muerte"
   ]
  },
  {
   "cell_type": "code",
   "execution_count": 21,
   "metadata": {},
   "outputs": [
    {
     "ename": "ValueError",
     "evalue": "Fecha de muerte anterior a la fecha de nacimiento",
     "output_type": "error",
     "traceback": [
      "\u001b[0;31m---------------------------------------------------------------------------\u001b[0m",
      "\u001b[0;31mValueError\u001b[0m                                Traceback (most recent call last)",
      "Cell \u001b[0;32mIn [21], line 2\u001b[0m\n\u001b[1;32m      1\u001b[0m \u001b[39m# Mensaje de error: fecha de muerte antes de fecha de nacimiento\u001b[39;00m\n\u001b[0;32m----> 2\u001b[0m feynman\u001b[39m.\u001b[39;49mmuerte \u001b[39m=\u001b[39m \u001b[39m1901\u001b[39m\n",
      "Cell \u001b[0;32mIn [15], line 34\u001b[0m, in \u001b[0;36mPersona.set_muerte\u001b[0;34m(self, fecha)\u001b[0m\n\u001b[1;32m     32\u001b[0m     \u001b[39mraise\u001b[39;00m \u001b[39mValueError\u001b[39;00m(\u001b[39m\"\u001b[39m\u001b[39mFecha de muerte posterior al año actual\u001b[39m\u001b[39m\"\u001b[39m)\n\u001b[1;32m     33\u001b[0m \u001b[39mif\u001b[39;00m fecha \u001b[39m<\u001b[39m \u001b[39mself\u001b[39m\u001b[39m.\u001b[39m_nacimiento:\n\u001b[0;32m---> 34\u001b[0m     \u001b[39mraise\u001b[39;00m \u001b[39mValueError\u001b[39;00m(\u001b[39m\"\u001b[39m\u001b[39mFecha de muerte anterior a la fecha de nacimiento\u001b[39m\u001b[39m\"\u001b[39m)\n\u001b[1;32m     35\u001b[0m \u001b[39mself\u001b[39m\u001b[39m.\u001b[39m_muerte \u001b[39m=\u001b[39m fecha\n",
      "\u001b[0;31mValueError\u001b[0m: Fecha de muerte anterior a la fecha de nacimiento"
     ]
    }
   ],
   "source": [
    "# Mensaje de error: fecha de muerte antes de fecha de nacimiento\n",
    "feynman.muerte = 1901"
   ]
  },
  {
   "cell_type": "code",
   "execution_count": 22,
   "metadata": {},
   "outputs": [
    {
     "data": {
      "text/plain": [
       "1988"
      ]
     },
     "execution_count": 22,
     "metadata": {},
     "output_type": "execute_result"
    }
   ],
   "source": [
    "feynman.muerte = 1988\n",
    "feynman.muerte"
   ]
  },
  {
   "cell_type": "markdown",
   "metadata": {},
   "source": [
    "Si te fijas, en la función `__init__` estamos usando la propiedad `nacimiento` en lugar del miembro interno `_nacimiento`. Esto permite que comprobemos que la fecha sea correcta incluso cuando creamos una instancia:"
   ]
  },
  {
   "cell_type": "code",
   "execution_count": 23,
   "metadata": {},
   "outputs": [
    {
     "ename": "ValueError",
     "evalue": "Fecha de nacimiento posterior al año actual",
     "output_type": "error",
     "traceback": [
      "\u001b[0;31m---------------------------------------------------------------------------\u001b[0m",
      "\u001b[0;31mValueError\u001b[0m                                Traceback (most recent call last)",
      "Cell \u001b[0;32mIn [23], line 1\u001b[0m\n\u001b[0;32m----> 1\u001b[0m feynman \u001b[39m=\u001b[39m Persona(\u001b[39m\"\u001b[39;49m\u001b[39mRichard\u001b[39;49m\u001b[39m\"\u001b[39;49m, \u001b[39m\"\u001b[39;49m\u001b[39mFeynman\u001b[39;49m\u001b[39m\"\u001b[39;49m, \u001b[39m2047\u001b[39;49m)\n",
      "Cell \u001b[0;32mIn [15], line 5\u001b[0m, in \u001b[0;36mPersona.__init__\u001b[0;34m(self, nombre, apellido, nacimiento)\u001b[0m\n\u001b[1;32m      3\u001b[0m \u001b[39mself\u001b[39m\u001b[39m.\u001b[39mnombre \u001b[39m=\u001b[39m nombre\n\u001b[1;32m      4\u001b[0m \u001b[39mself\u001b[39m\u001b[39m.\u001b[39mapellido \u001b[39m=\u001b[39m apellido\n\u001b[0;32m----> 5\u001b[0m \u001b[39mself\u001b[39;49m\u001b[39m.\u001b[39;49mnacimiento \u001b[39m=\u001b[39m nacimiento\n",
      "Cell \u001b[0;32mIn [15], line 18\u001b[0m, in \u001b[0;36mPersona.set_nacimiento\u001b[0;34m(self, fecha)\u001b[0m\n\u001b[1;32m     16\u001b[0m \u001b[39mdef\u001b[39;00m \u001b[39mset_nacimiento\u001b[39m(\u001b[39mself\u001b[39m, fecha):\n\u001b[1;32m     17\u001b[0m     \u001b[39mif\u001b[39;00m fecha \u001b[39m>\u001b[39m \u001b[39m2022\u001b[39m:\n\u001b[0;32m---> 18\u001b[0m         \u001b[39mraise\u001b[39;00m \u001b[39mValueError\u001b[39;00m(\u001b[39m\"\u001b[39m\u001b[39mFecha de nacimiento posterior al año actual\u001b[39m\u001b[39m\"\u001b[39m)\n\u001b[1;32m     19\u001b[0m     \u001b[39mif\u001b[39;00m \u001b[39m'\u001b[39m\u001b[39m_muerte\u001b[39m\u001b[39m'\u001b[39m \u001b[39min\u001b[39;00m \u001b[39mself\u001b[39m\u001b[39m.\u001b[39m\u001b[39m__dict__\u001b[39m:\n\u001b[1;32m     20\u001b[0m         \u001b[39mif\u001b[39;00m fecha \u001b[39m>\u001b[39m \u001b[39mself\u001b[39m\u001b[39m.\u001b[39m_muerte:\n",
      "\u001b[0;31mValueError\u001b[0m: Fecha de nacimiento posterior al año actual"
     ]
    }
   ],
   "source": [
    "feynman = Persona(\"Richard\", \"Feynman\", 2047)"
   ]
  },
  {
   "cell_type": "markdown",
   "metadata": {},
   "source": [
    "### Decoradores\n",
    "\n",
    "Hay otra forma de definir las propiedades, que resulta algo más concisa. En vez de usar `property` como una función, la usamos como un decorador. Un decorador es una \"metafunción\": una función que acepta como argumento una función y devuelve otra función:"
   ]
  },
  {
   "cell_type": "code",
   "execution_count": 24,
   "metadata": {},
   "outputs": [
    {
     "name": "stdout",
     "output_type": "stream",
     "text": [
      "Este decorador añade un comentario antes de la función\n"
     ]
    },
    {
     "data": {
      "text/plain": [
       "25"
      ]
     },
     "execution_count": 24,
     "metadata": {},
     "output_type": "execute_result"
    }
   ],
   "source": [
    "def comentario(f):\n",
    "    def comentada(x):\n",
    "        print(\"Este decorador añade un comentario antes de la función\")\n",
    "        return f(x)\n",
    "\n",
    "    return comentada\n",
    "    \n",
    "\n",
    "def cuadrado(x):\n",
    "    return x**2\n",
    "\n",
    "comentario(cuadrado)(5)"
   ]
  },
  {
   "cell_type": "markdown",
   "metadata": {},
   "source": [
    "Para simplificar la notación, en vez de tener que llamar a `comentario(cuadrado)`, podemos indicar el decorador que vamos a usar antes de la función decorada con una `@`:"
   ]
  },
  {
   "cell_type": "code",
   "execution_count": 25,
   "metadata": {},
   "outputs": [
    {
     "name": "stdout",
     "output_type": "stream",
     "text": [
      "Este decorador añade un comentario antes de la función\n"
     ]
    },
    {
     "data": {
      "text/plain": [
       "25"
      ]
     },
     "execution_count": 25,
     "metadata": {},
     "output_type": "execute_result"
    }
   ],
   "source": [
    "def comentario(f):\n",
    "    def comentada(x):\n",
    "        print(\"Este decorador añade un comentario antes de la función\")\n",
    "        return f(x)\n",
    "\n",
    "    return comentada\n",
    "    \n",
    "@comentario\n",
    "def cuadrado(x):\n",
    "    return x**2\n",
    "\n",
    "cuadrado(5)"
   ]
  },
  {
   "cell_type": "markdown",
   "metadata": {},
   "source": [
    "Lo que hace el decorador es en realidad definir\n",
    "```python\n",
    "cuadrado = comentario(cuadrado)\n",
    "```"
   ]
  },
  {
   "cell_type": "markdown",
   "metadata": {},
   "source": [
    "Volviendo a las propiedades, la forma elegante de definirlas es crear dos métodos, ambos con el nombre de la propiedad. El método para leer se decora con `@property`, y el método para modificarla con `@nombre_de_propiedad.setter`:"
   ]
  },
  {
   "cell_type": "code",
   "execution_count": 26,
   "metadata": {},
   "outputs": [],
   "source": [
    "class Persona:\n",
    "    def __init__(self, nombre, apellido, nacimiento):\n",
    "        self.nombre = nombre\n",
    "        self.apellido = apellido\n",
    "        self.nacimiento = nacimiento\n",
    "\n",
    "    def __repr__(self):\n",
    "        if '_muerte' in self.__dict__:\n",
    "            return f\"{self.apellido}, {self.nombre} ({self.nacimiento}-{self._muerte})\"\n",
    "        else:\n",
    "            return f\"{self.apellido}, {self.nombre} ({self.nacimiento})\"\n",
    "\n",
    "    @property\n",
    "    def nacimiento(self):\n",
    "        return self._nacimiento\n",
    "\n",
    "    @nacimiento.setter\n",
    "    def nacimiento(self, fecha):\n",
    "        if fecha > 2022:\n",
    "            raise ValueError(\"Fecha de nacimiento posterior al año actual\")\n",
    "        if '_muerte' in self.__dict__:\n",
    "            if fecha > self._muerte:\n",
    "                raise ValueError(\"Fecha de nacimiento posterior a la fecha de muerte\")\n",
    "        self._nacimiento = fecha\n",
    "\n",
    "    @property\n",
    "    def muerte(self):\n",
    "        if \"_muerte\" in self.__dict__:\n",
    "            return self._muerte\n",
    "        else:\n",
    "            raise AttributeError(\"No hay fecha de muerte\")\n",
    "\n",
    "    @muerte.setter\n",
    "    def muerte(self, fecha):\n",
    "        if fecha > 2022:\n",
    "            raise ValueError(\"Fecha de muerte posterior al año actual\")\n",
    "        if fecha < self._nacimiento:\n",
    "            raise ValueError(\"Fecha de muerte anterior a la fecha de nacimiento\")\n",
    "        self._muerte = fecha"
   ]
  },
  {
   "cell_type": "markdown",
   "metadata": {},
   "source": [
    "También podemos crear propiedades que solo se puedan leer, pero no modificar. Lo único que tenemos que hacer es crear una propiedad que no tenga un método `.setter`. Por ejemplo, vamos a añadir una propiedad que calcule la edad de una persona:"
   ]
  },
  {
   "cell_type": "code",
   "execution_count": 27,
   "metadata": {},
   "outputs": [],
   "source": [
    "class Persona:\n",
    "    def __init__(self, nombre, apellido, nacimiento):\n",
    "        self.nombre = nombre\n",
    "        self.apellido = apellido\n",
    "        self.nacimiento = nacimiento\n",
    "\n",
    "    def __repr__(self):\n",
    "        if '_muerte' in self.__dict__:\n",
    "            return f\"{self.apellido}, {self.nombre} ({self.nacimiento}-{self._muerte})\"\n",
    "        else:\n",
    "            return f\"{self.apellido}, {self.nombre} ({self.nacimiento})\"\n",
    "\n",
    "    @property\n",
    "    def nacimiento(self):\n",
    "        return self._nacimiento\n",
    "\n",
    "    @nacimiento.setter\n",
    "    def nacimiento(self, fecha):\n",
    "        if fecha > 2022:\n",
    "            raise ValueError(\"Fecha de nacimiento posterior al año actual\")\n",
    "        if '_muerte' in self.__dict__:\n",
    "            if fecha > self._muerte:\n",
    "                raise ValueError(\"Fecha de nacimiento posterior a la fecha de muerte\")\n",
    "        self._nacimiento = fecha\n",
    "\n",
    "    @property\n",
    "    def muerte(self):\n",
    "        if \"_muerte\" in self.__dict__:\n",
    "            return self._muerte\n",
    "        else:\n",
    "            raise AttributeError(\"No hay fecha de muerte\")\n",
    "\n",
    "    @muerte.setter\n",
    "    def muerte(self, fecha):\n",
    "        if fecha > 2022:\n",
    "            raise ValueError(\"Fecha de muerte posterior al año actual\")\n",
    "        if fecha < self._nacimiento:\n",
    "            raise ValueError(\"Fecha de muerte anterior a la fecha de nacimiento\")\n",
    "        self._muerte = fecha\n",
    "\n",
    "    @property\n",
    "    def edad(self):\n",
    "        if '_muerte' in self.__dict__:\n",
    "            # Si la persona está muerta, calculamos la edad en el momento de la muerte\n",
    "            return self._muerte - self._nacimiento\n",
    "        else:\n",
    "            # Si la persona está viva, calculamos la edad actual\n",
    "            return 2022 - self._nacimiento"
   ]
  },
  {
   "cell_type": "code",
   "execution_count": 28,
   "metadata": {},
   "outputs": [
    {
     "name": "stdout",
     "output_type": "stream",
     "text": [
      "93\n"
     ]
    }
   ],
   "source": [
    "higgs = Persona(\"Peter\", \"Higgs\", 1929)\n",
    "print(higgs.edad)"
   ]
  },
  {
   "cell_type": "code",
   "execution_count": 29,
   "metadata": {},
   "outputs": [
    {
     "name": "stdout",
     "output_type": "stream",
     "text": [
      "70\n"
     ]
    }
   ],
   "source": [
    "feynman = Persona(\"Richard\", \"Feynman\", 1918)\n",
    "feynman.muerte = 1988\n",
    "print(feynman.edad)"
   ]
  },
  {
   "cell_type": "markdown",
   "metadata": {},
   "source": [
    "### Cachés\n",
    "\n",
    "Una de las ventajas del desdoblamiento miembros/propiedades es la posibilidad de crear cachés. En el ejemplo anterior, cada vez que accedemos a la propiedad `.edad` la estamos recalculando, aunque el valor no haya cambiado. En este caso no supone un problema, pero a veces el cálculo de una propiedad puede ser costoso, y es mejor almacenar su valor.\n",
    "\n",
    "El código siguiente es una modificación de la clase `Persona` en el que la edad solamente se recalcula si ha cambiado la fecha de nacimiento o de muerte (para simular un cálculo costoso, usamos la función `sleep()` que espera un número de segundos):"
   ]
  },
  {
   "cell_type": "code",
   "execution_count": 30,
   "metadata": {},
   "outputs": [],
   "source": [
    "from time import sleep\n",
    "\n",
    "def diferencia(x, y):\n",
    "    #Espera 10s antes de calcular\n",
    "    sleep(10)\n",
    "    return x-y\n",
    "\n",
    "class Persona:\n",
    "    def __init__(self, nombre, apellido, nacimiento):\n",
    "        self.nombre = nombre\n",
    "        self.apellido = apellido\n",
    "        self.nacimiento = nacimiento\n",
    "\n",
    "    def __repr__(self):\n",
    "        if '_muerte' in self.__dict__:\n",
    "            return f\"{self.apellido}, {self.nombre} ({self.nacimiento}-{self._muerte})\"\n",
    "        else:\n",
    "            return f\"{self.apellido}, {self.nombre} ({self.nacimiento})\"\n",
    "\n",
    "    @property\n",
    "    def nacimiento(self):\n",
    "        return self._nacimiento\n",
    "\n",
    "    @nacimiento.setter\n",
    "    def nacimiento(self, fecha):\n",
    "        if fecha > 2022:\n",
    "            raise ValueError(\"Fecha de nacimiento posterior al año actual\")\n",
    "        if '_muerte' in self.__dict__:\n",
    "            if fecha > self._muerte:\n",
    "                raise ValueError(\"Fecha de nacimiento posterior a la fecha de muerte\")\n",
    "        self._nacimiento = fecha\n",
    "        if '_edad' in self.__dict__:\n",
    "            del self._edad  # Eliminamos la edad al cambiar la fecha de nacimiento\n",
    "\n",
    "    @property\n",
    "    def muerte(self):\n",
    "        if \"_muerte\" in self.__dict__:\n",
    "            return self._muerte\n",
    "        else:\n",
    "            raise AttributeError(\"No hay fecha de muerte\")\n",
    "\n",
    "    @muerte.setter\n",
    "    def muerte(self, fecha):\n",
    "        if fecha > 2022:\n",
    "            raise ValueError(\"Fecha de muerte posterior al año actual\")\n",
    "        if fecha < self._nacimiento:\n",
    "            raise ValueError(\"Fecha de muerte anterior a la fecha de nacimiento\")\n",
    "        self._muerte = fecha\n",
    "        if '_edad' in self.__dict__:\n",
    "            del self._edad  # Eliminamos la edad al cambiar la fecha de muerte\n",
    "\n",
    "    @property\n",
    "    def edad(self):\n",
    "        if '_edad' not in self.__dict__:\n",
    "            if '_muerte' in self.__dict__:\n",
    "                # Si la persona está muerta, calculamos la edad en el momento de la muerte\n",
    "                self._edad = diferencia(self._muerte, self._nacimiento)\n",
    "            else:\n",
    "                # Si la persona está viva, calculamos la edad actual\n",
    "                self._edad = diferencia(2022, self._nacimiento)\n",
    "        return self._edad"
   ]
  },
  {
   "cell_type": "code",
   "execution_count": 31,
   "metadata": {},
   "outputs": [
    {
     "name": "stdout",
     "output_type": "stream",
     "text": [
      "93\n"
     ]
    }
   ],
   "source": [
    "higgs = Persona(\"Peter\", \"Higgs\", 1929)\n",
    "print(higgs.edad)"
   ]
  },
  {
   "cell_type": "code",
   "execution_count": 32,
   "metadata": {},
   "outputs": [
    {
     "name": "stdout",
     "output_type": "stream",
     "text": [
      "93\n"
     ]
    }
   ],
   "source": [
    "print(higgs.edad)"
   ]
  },
  {
   "cell_type": "markdown",
   "metadata": {},
   "source": [
    "## Métodos de clase y estáticos\n",
    "\n",
    "Imagina que queremos crear un método `Persona.desde_dict()` que cree una instancia de `Persona` a partir de los datos de un diccionario. No podemos usar un método normal, ya que para ello deberíamos pasarle como primer argumento una instancia a través de `self`, pero la instancia aún no existe. Python ofrece otros dos tipos de métodos que se pueden usar en este caso."
   ]
  },
  {
   "cell_type": "markdown",
   "metadata": {},
   "source": [
    "Un método de clase tiene acceso solamente a los miembros de clase, pero no a los miembros de instancia. Para crearlo hay que usar el decorador `@classmethod`, y el primer argumento del método, `cls`, hace referencia a la propia clase, y se pasa de forma implícita, del mismo modo que `self` en los métodos:"
   ]
  },
  {
   "cell_type": "code",
   "execution_count": 33,
   "metadata": {},
   "outputs": [],
   "source": [
    "class Persona:\n",
    "    def __init__(self, nombre, apellido, nacimiento):\n",
    "        self.nombre = nombre\n",
    "        self.apellido = apellido\n",
    "        self.nacimiento = nacimiento\n",
    "\n",
    "    def __repr__(self):\n",
    "        if '_muerte' in self.__dict__:\n",
    "            return f\"{self.apellido}, {self.nombre} ({self.nacimiento}-{self._muerte})\"\n",
    "        else:\n",
    "            return f\"{self.apellido}, {self.nombre} ({self.nacimiento})\"\n",
    "\n",
    "    @property\n",
    "    def nacimiento(self):\n",
    "        return self._nacimiento\n",
    "\n",
    "    @nacimiento.setter\n",
    "    def nacimiento(self, fecha):\n",
    "        if fecha > 2022:\n",
    "            raise ValueError(\"Fecha de nacimiento posterior al año actual\")\n",
    "        if '_muerte' in self.__dict__:\n",
    "            if fecha > self._muerte:\n",
    "                raise ValueError(\"Fecha de nacimiento posterior a la fecha de muerte\")\n",
    "        self._nacimiento = fecha\n",
    "        if '_edad' in self.__dict__:\n",
    "            del self._edad\n",
    "\n",
    "    @property\n",
    "    def muerte(self):\n",
    "        if \"_muerte\" in self.__dict__:\n",
    "            return self._muerte\n",
    "        else:\n",
    "            raise AttributeError(\"No hay fecha de muerte\")\n",
    "\n",
    "    @muerte.setter\n",
    "    def muerte(self, fecha):\n",
    "        if fecha > 2022:\n",
    "            raise ValueError(\"Fecha de muerte posterior al año actual\")\n",
    "        if fecha < self._nacimiento:\n",
    "            raise ValueError(\"Fecha de muerte anterior a la fecha de nacimiento\")\n",
    "        self._muerte = fecha\n",
    "        if '_edad' in self.__dict__:\n",
    "            del self._edad\n",
    "\n",
    "    @property\n",
    "    def edad(self):\n",
    "        if '_edad' not in self.__dict__:\n",
    "            if '_muerte' in self.__dict__:\n",
    "                # Si la persona está muerta, calculamos la edad en el momento de la muerte\n",
    "                self._edad = diferencia(self._muerte, self._nacimiento)\n",
    "            else:\n",
    "                # Si la persona está viva, calculamos la edad actual\n",
    "                self._edad = diferencia(2022, self._nacimiento)\n",
    "        return self._edad\n",
    "\n",
    "    def a_dict(self):\n",
    "        d = {'nombre': self.nombre, 'apellido': self.apellido, 'nacimiento': self.nacimiento}\n",
    "        if '_muerte' in self.__dict__:\n",
    "            d.update({'muerte': self._muerte})\n",
    "        return d\n",
    "\n",
    "    @classmethod\n",
    "    def desde_dict(cls, d):\n",
    "        p = cls(d['nombre'], d['apellido'], d['nacimiento'])\n",
    "        if 'muerte' in d:\n",
    "            p.muerte = d['muerte']\n",
    "        return p"
   ]
  },
  {
   "cell_type": "code",
   "execution_count": 34,
   "metadata": {},
   "outputs": [
    {
     "name": "stdout",
     "output_type": "stream",
     "text": [
      "Pauli, Wolfgang E. (1900-1958)\n"
     ]
    }
   ],
   "source": [
    "pauli = Persona.desde_dict({'nombre': 'Wolfgang E.', 'apellido': 'Pauli', 'nacimiento': 1900, 'muerte': 1958})\n",
    "print(pauli)"
   ]
  },
  {
   "cell_type": "markdown",
   "metadata": {},
   "source": [
    "Los métodos estáticos, por su parte, no tienen acceso a los miembros, y por lo tanto se comportan como una función normal. Se declaran con el decorador `@staticmethod`, y no tienen ningún argumento adiccional:"
   ]
  },
  {
   "cell_type": "code",
   "execution_count": 35,
   "metadata": {},
   "outputs": [],
   "source": [
    "class Persona:\n",
    "    def __init__(self, nombre, apellido, nacimiento):\n",
    "        self.nombre = nombre\n",
    "        self.apellido = apellido\n",
    "        self.nacimiento = nacimiento\n",
    "\n",
    "    def __repr__(self):\n",
    "        if '_muerte' in self.__dict__:\n",
    "            return f\"{self.apellido}, {self.nombre} ({self.nacimiento}-{self._muerte})\"\n",
    "        else:\n",
    "            return f\"{self.apellido}, {self.nombre} ({self.nacimiento})\"\n",
    "\n",
    "    @property\n",
    "    def nacimiento(self):\n",
    "        return self._nacimiento\n",
    "\n",
    "    @nacimiento.setter\n",
    "    def nacimiento(self, fecha):\n",
    "        if fecha > 2022:\n",
    "            raise ValueError(\"Fecha de nacimiento posterior al año actual\")\n",
    "        if '_muerte' in self.__dict__:\n",
    "            if fecha > self._muerte:\n",
    "                raise ValueError(\"Fecha de nacimiento posterior a la fecha de muerte\")\n",
    "        self._nacimiento = fecha\n",
    "        if '_edad' in self.__dict__:\n",
    "            del self._edad\n",
    "\n",
    "    @property\n",
    "    def muerte(self):\n",
    "        if \"_muerte\" in self.__dict__:\n",
    "            return self._muerte\n",
    "        else:\n",
    "            raise AttributeError(\"No hay fecha de muerte\")\n",
    "\n",
    "    @muerte.setter\n",
    "    def muerte(self, fecha):\n",
    "        if fecha > 2022:\n",
    "            raise ValueError(\"Fecha de muerte posterior al año actual\")\n",
    "        if fecha < self._nacimiento:\n",
    "            raise ValueError(\"Fecha de muerte anterior a la fecha de nacimiento\")\n",
    "        self._muerte = fecha\n",
    "        if '_edad' in self.__dict__:\n",
    "            del self._edad\n",
    "\n",
    "    @property\n",
    "    def edad(self):\n",
    "        if '_edad' not in self.__dict__:\n",
    "            if '_muerte' in self.__dict__:\n",
    "                # Si la persona está muerta, calculamos la edad en el momento de la muerte\n",
    "                self._edad = diferencia(self._muerte, self._nacimiento)\n",
    "            else:\n",
    "                # Si la persona está viva, calculamos la edad actual\n",
    "                self._edad = diferencia(2022, self._nacimiento)\n",
    "        return self._edad\n",
    "\n",
    "    def a_dict(self):\n",
    "        d = {'nombre': self.nombre, 'apellido': self.apellido, 'nacimiento': self.nacimiento}\n",
    "        if '_muerte' in self.__dict__:\n",
    "            d.update({'muerte': self._muerte})\n",
    "        return d\n",
    "\n",
    "    @staticmethod\n",
    "    def desde_dict(d):\n",
    "        p = Persona(d['nombre'], d['apellido'], d['nacimiento'])\n",
    "        if 'muerte' in d:\n",
    "            p.muerte = d['muerte']\n",
    "        return p"
   ]
  },
  {
   "cell_type": "code",
   "execution_count": 36,
   "metadata": {},
   "outputs": [
    {
     "name": "stdout",
     "output_type": "stream",
     "text": [
      "Weinberg, Steven (1933-2021)\n"
     ]
    }
   ],
   "source": [
    "weinberg = Persona.desde_dict({'nombre': 'Steven', 'apellido': 'Weinberg', 'nacimiento': 1933, 'muerte': 2021})\n",
    "print(weinberg)"
   ]
  },
  {
   "cell_type": "markdown",
   "metadata": {},
   "source": [
    "## Serialización y deserialización\n",
    "\n",
    "La serialización es el proceso de convertir una instancia en un formato que se pueda almacenar externamente al programa, y la deserialización es el proceso inverso, de reconstruir una instancia a partir de los datos almacenados."
   ]
  },
  {
   "cell_type": "markdown",
   "metadata": {},
   "source": [
    "La manera más sencilla de hacerlo es mediante un archivo de texto plano, aunque tenemos el inconveniente de que los datos almacenados no preservan la estructura interna de la clase."
   ]
  },
  {
   "cell_type": "code",
   "execution_count": 37,
   "metadata": {},
   "outputs": [],
   "source": [
    "class Persona:\n",
    "    def __init__(self, nombre, apellido, nacimiento):\n",
    "        self.nombre = nombre\n",
    "        self.apellido = apellido\n",
    "        self.nacimiento = nacimiento\n",
    "\n",
    "    def __repr__(self):\n",
    "        if '_muerte' in self.__dict__:\n",
    "            return f\"{self.apellido}, {self.nombre} ({self.nacimiento}-{self._muerte})\"\n",
    "        else:\n",
    "            return f\"{self.apellido}, {self.nombre} ({self.nacimiento})\"\n",
    "\n",
    "    @property\n",
    "    def nacimiento(self):\n",
    "        return self._nacimiento\n",
    "\n",
    "    @nacimiento.setter\n",
    "    def nacimiento(self, fecha):\n",
    "        if fecha > 2022:\n",
    "            raise ValueError(\"Fecha de nacimiento posterior al año actual\")\n",
    "        if '_muerte' in self.__dict__:\n",
    "            if fecha > self._muerte:\n",
    "                raise ValueError(\"Fecha de nacimiento posterior a la fecha de muerte\")\n",
    "        self._nacimiento = fecha\n",
    "        if '_edad' in self.__dict__:\n",
    "            del self._edad\n",
    "\n",
    "    @property\n",
    "    def muerte(self):\n",
    "        if \"_muerte\" in self.__dict__:\n",
    "            return self._muerte\n",
    "        else:\n",
    "            raise AttributeError(\"No hay fecha de muerte\")\n",
    "\n",
    "    @muerte.setter\n",
    "    def muerte(self, fecha):\n",
    "        if fecha > 2022:\n",
    "            raise ValueError(\"Fecha de muerte posterior al año actual\")\n",
    "        if fecha < self._nacimiento:\n",
    "            raise ValueError(\"Fecha de muerte anterior a la fecha de nacimiento\")\n",
    "        self._muerte = fecha\n",
    "        if '_edad' in self.__dict__:\n",
    "            del self._edad\n",
    "\n",
    "    @property\n",
    "    def edad(self):\n",
    "        if '_edad' not in self.__dict__:\n",
    "            if '_muerte' in self.__dict__:\n",
    "                # Si la persona está muerta, calculamos la edad en el momento de la muerte\n",
    "                self._edad = diferencia(self._muerte, self._nacimiento)\n",
    "            else:\n",
    "                # Si la persona está viva, calculamos la edad actual\n",
    "                self._edad = diferencia(2022, self._nacimiento)\n",
    "        return self._edad\n",
    "\n",
    "    def a_dict(self):\n",
    "        d = {'nombre': self.nombre, 'apellido': self.apellido, 'nacimiento': self.nacimiento}\n",
    "        if '_muerte' in self.__dict__:\n",
    "            d.update({'muerte': self._muerte})\n",
    "        return d\n",
    "\n",
    "    @staticmethod\n",
    "    def desde_dict(d):\n",
    "        p = Persona(d['nombre'], d['apellido'], d['nacimiento'])\n",
    "        if 'muerte' in d:\n",
    "            p.muerte = d['muerte']\n",
    "        return p\n",
    "\n",
    "    def a_txt(self, file):\n",
    "        file.write(self.nombre + '\\n')\n",
    "        file.write(self.apellido + '\\n')\n",
    "        file.write(str(self.nacimiento) + '\\n')\n",
    "        if '_muerte' in self.__dict__:\n",
    "            file.write(str(self._muerte) + '\\n')\n",
    "\n",
    "    @staticmethod\n",
    "    def desde_txt(file):\n",
    "        lineas = file.read().split('\\n')\n",
    "        nombre = lineas[0]\n",
    "        apellido = lineas[1]\n",
    "        nacimiento = int(lineas[2])\n",
    "        p = Persona(nombre, apellido, nacimiento)\n",
    "        if len(lineas) >= 4:\n",
    "            p.muerte = int(lineas[3])\n",
    "        return p"
   ]
  },
  {
   "cell_type": "code",
   "execution_count": 38,
   "metadata": {},
   "outputs": [],
   "source": [
    "salam = Persona('Abdus', 'Salam', 1926)\n",
    "salam.muerte = 1996\n",
    "with open('salam.txt', 'wt') as f:\n",
    "    salam.a_txt(f)"
   ]
  },
  {
   "cell_type": "code",
   "execution_count": 39,
   "metadata": {},
   "outputs": [
    {
     "name": "stdout",
     "output_type": "stream",
     "text": [
      "Salam, Abdus (1926-1996)\n"
     ]
    }
   ],
   "source": [
    "with open('salam.txt', 'rt') as f:\n",
    "    salam2 = Persona.desde_txt(f)\n",
    "\n",
    "print(salam2)"
   ]
  },
  {
   "cell_type": "markdown",
   "metadata": {},
   "source": [
    "Python tiene su propio formato para serializar y deserializar clases, llamado `pickle`. Tiene la ventaja de ser muy rápido, pero las desventajas de usar un formato binario (si intentas abrir un archivo con el editor de textos, tendrás un galimatías ilegible) y de ser específico de python."
   ]
  },
  {
   "cell_type": "code",
   "execution_count": 40,
   "metadata": {},
   "outputs": [],
   "source": [
    "import pickle\n",
    "\n",
    "class Persona:\n",
    "    def __init__(self, nombre, apellido, nacimiento):\n",
    "        self.nombre = nombre\n",
    "        self.apellido = apellido\n",
    "        self.nacimiento = nacimiento\n",
    "\n",
    "    def __repr__(self):\n",
    "        if '_muerte' in self.__dict__:\n",
    "            return f\"{self.apellido}, {self.nombre} ({self.nacimiento}-{self._muerte})\"\n",
    "        else:\n",
    "            return f\"{self.apellido}, {self.nombre} ({self.nacimiento})\"\n",
    "\n",
    "    @property\n",
    "    def nacimiento(self):\n",
    "        return self._nacimiento\n",
    "\n",
    "    @nacimiento.setter\n",
    "    def nacimiento(self, fecha):\n",
    "        if fecha > 2022:\n",
    "            raise ValueError(\"Fecha de nacimiento posterior al año actual\")\n",
    "        if '_muerte' in self.__dict__:\n",
    "            if fecha > self._muerte:\n",
    "                raise ValueError(\"Fecha de nacimiento posterior a la fecha de muerte\")\n",
    "        self._nacimiento = fecha\n",
    "        if '_edad' in self.__dict__:\n",
    "            del self._edad\n",
    "\n",
    "    @property\n",
    "    def muerte(self):\n",
    "        if \"_muerte\" in self.__dict__:\n",
    "            return self._muerte\n",
    "        else:\n",
    "            raise AttributeError(\"No hay fecha de muerte\")\n",
    "\n",
    "    @muerte.setter\n",
    "    def muerte(self, fecha):\n",
    "        if fecha > 2022:\n",
    "            raise ValueError(\"Fecha de muerte posterior al año actual\")\n",
    "        if fecha < self._nacimiento:\n",
    "            raise ValueError(\"Fecha de muerte anterior a la fecha de nacimiento\")\n",
    "        self._muerte = fecha\n",
    "        if '_edad' in self.__dict__:\n",
    "            del self._edad\n",
    "\n",
    "    @property\n",
    "    def edad(self):\n",
    "        if '_edad' not in self.__dict__:\n",
    "            if '_muerte' in self.__dict__:\n",
    "                # Si la persona está muerta, calculamos la edad en el momento de la muerte\n",
    "                self._edad = diferencia(self._muerte, self._nacimiento)\n",
    "            else:\n",
    "                # Si la persona está viva, calculamos la edad actual\n",
    "                self._edad = diferencia(2022, self._nacimiento)\n",
    "        return self._edad\n",
    "\n",
    "    def a_dict(self):\n",
    "        d = {'nombre': self.nombre, 'apellido': self.apellido, 'nacimiento': self.nacimiento}\n",
    "        if '_muerte' in self.__dict__:\n",
    "            d.update({'muerte': self._muerte})\n",
    "        return d\n",
    "\n",
    "    @staticmethod\n",
    "    def desde_dict(d):\n",
    "        p = Persona(d['nombre'], d['apellido'], d['nacimiento'])\n",
    "        if 'muerte' in d:\n",
    "            p.muerte = d['muerte']\n",
    "        return p\n",
    "\n",
    "    def a_txt(self, file):\n",
    "        file.write(self.nombre + '\\n')\n",
    "        file.write(self.apellido + '\\n')\n",
    "        file.write(str(self.nacimiento) + '\\n')\n",
    "        if '_muerte' in self.__dict__:\n",
    "            file.write(str(self._muerte) + '\\n')\n",
    "\n",
    "    @staticmethod\n",
    "    def desde_txt(file):\n",
    "        lineas = file.read().split('\\n')\n",
    "        nombre = lineas[0]\n",
    "        apellido = lineas[1]\n",
    "        nacimiento = int(lineas[2])\n",
    "        p = Persona(nombre, apellido, nacimiento)\n",
    "        if len(lineas) >= 4:\n",
    "            p.muerte = int(lineas[3])\n",
    "        return p\n",
    "\n",
    "    def a_pickle(self, file):\n",
    "        pickle.dump(self, file)\n",
    "\n",
    "    @staticmethod\n",
    "    def desde_pickle(file):\n",
    "        return pickle.load(file)"
   ]
  },
  {
   "cell_type": "code",
   "execution_count": 41,
   "metadata": {},
   "outputs": [],
   "source": [
    "glashow = Persona('Sheldon Lee', 'Glashow', 1932)\n",
    "with open('glashow.pickle', 'wb') as f:\n",
    "    glashow.a_pickle(f)"
   ]
  },
  {
   "cell_type": "code",
   "execution_count": 42,
   "metadata": {},
   "outputs": [
    {
     "name": "stdout",
     "output_type": "stream",
     "text": [
      "Glashow, Sheldon Lee (1932)\n"
     ]
    }
   ],
   "source": [
    "with open('glashow.pickle', 'rb') as f:\n",
    "    glashow2 = Persona.desde_pickle(f)\n",
    "\n",
    "print(glashow2)"
   ]
  },
  {
   "cell_type": "markdown",
   "metadata": {},
   "source": [
    "JSON y YAML son dos formatos que permiten almacenar datos estructurados de forma legible (texto plano) y estandarizada. En ambos casos, el funcionamiento básico convierte entre diccionarios y archivos:"
   ]
  },
  {
   "cell_type": "code",
   "execution_count": 43,
   "metadata": {},
   "outputs": [],
   "source": [
    "import json\n",
    "import yaml\n",
    "\n",
    "class Persona:\n",
    "    def __init__(self, nombre, apellido, nacimiento):\n",
    "        self.nombre = nombre\n",
    "        self.apellido = apellido\n",
    "        self.nacimiento = nacimiento\n",
    "\n",
    "    def __repr__(self):\n",
    "        if '_muerte' in self.__dict__:\n",
    "            return f\"{self.apellido}, {self.nombre} ({self.nacimiento}-{self._muerte})\"\n",
    "        else:\n",
    "            return f\"{self.apellido}, {self.nombre} ({self.nacimiento})\"\n",
    "\n",
    "    @property\n",
    "    def nacimiento(self):\n",
    "        return self._nacimiento\n",
    "\n",
    "    @nacimiento.setter\n",
    "    def nacimiento(self, fecha):\n",
    "        if fecha > 2022:\n",
    "            raise ValueError(\"Fecha de nacimiento posterior al año actual\")\n",
    "        if '_muerte' in self.__dict__:\n",
    "            if fecha > self._muerte:\n",
    "                raise ValueError(\"Fecha de nacimiento posterior a la fecha de muerte\")\n",
    "        self._nacimiento = fecha\n",
    "        if '_edad' in self.__dict__:\n",
    "            del self._edad\n",
    "\n",
    "    @property\n",
    "    def muerte(self):\n",
    "        if \"_muerte\" in self.__dict__:\n",
    "            return self._muerte\n",
    "        else:\n",
    "            raise AttributeError(\"No hay fecha de muerte\")\n",
    "\n",
    "    @muerte.setter\n",
    "    def muerte(self, fecha):\n",
    "        if fecha > 2022:\n",
    "            raise ValueError(\"Fecha de muerte posterior al año actual\")\n",
    "        if fecha < self._nacimiento:\n",
    "            raise ValueError(\"Fecha de muerte anterior a la fecha de nacimiento\")\n",
    "        self._muerte = fecha\n",
    "        if '_edad' in self.__dict__:\n",
    "            del self._edad\n",
    "\n",
    "    @property\n",
    "    def edad(self):\n",
    "        if '_edad' not in self.__dict__:\n",
    "            if '_muerte' in self.__dict__:\n",
    "                # Si la persona está muerta, calculamos la edad en el momento de la muerte\n",
    "                self._edad = diferencia(self._muerte, self._nacimiento)\n",
    "            else:\n",
    "                # Si la persona está viva, calculamos la edad actual\n",
    "                self._edad = diferencia(2022, self._nacimiento)\n",
    "        return self._edad\n",
    "\n",
    "    def a_dict(self):\n",
    "        d = {'nombre': self.nombre, 'apellido': self.apellido, 'nacimiento': self.nacimiento}\n",
    "        if '_muerte' in self.__dict__:\n",
    "            d.update({'muerte': self._muerte})\n",
    "        return d\n",
    "\n",
    "    @staticmethod\n",
    "    def desde_dict(d):\n",
    "        p = Persona(d['nombre'], d['apellido'], d['nacimiento'])\n",
    "        if 'muerte' in d:\n",
    "            p.muerte = d['muerte']\n",
    "        return p\n",
    "\n",
    "    def a_txt(self, file):\n",
    "        file.write(self.nombre + '\\n')\n",
    "        file.write(self.apellido + '\\n')\n",
    "        file.write(str(self.nacimiento) + '\\n')\n",
    "        if '_muerte' in self.__dict__:\n",
    "            file.write(str(self._muerte) + '\\n')\n",
    "\n",
    "    @staticmethod\n",
    "    def desde_txt(file):\n",
    "        lineas = file.read().split('\\n')\n",
    "        nombre = lineas[0]\n",
    "        apellido = lineas[1]\n",
    "        nacimiento = int(lineas[2])\n",
    "        p = Persona(nombre, apellido, nacimiento)\n",
    "        if len(lineas) >= 4:\n",
    "            p.muerte = int(lineas[3])\n",
    "        return p\n",
    "\n",
    "    def a_pickle(self, file):\n",
    "        pickle.dump(self, file)\n",
    "\n",
    "    @staticmethod\n",
    "    def desde_pickle(file):\n",
    "        return pickle.load(file)\n",
    "\n",
    "    def a_json(self, file):\n",
    "        json.dump(self.a_dict(), file)\n",
    "\n",
    "    @staticmethod\n",
    "    def desde_json(file):\n",
    "        return Persona.desde_dict(json.load(file))\n",
    "\n",
    "    def a_yaml(self, file):\n",
    "        yaml.dump(self.a_dict(), file)\n",
    "\n",
    "    @staticmethod\n",
    "    def desde_yaml(file):\n",
    "        return Persona.desde_dict(yaml.safe_load(file))"
   ]
  },
  {
   "cell_type": "code",
   "execution_count": 44,
   "metadata": {},
   "outputs": [],
   "source": [
    "dirac = Persona(\"Paul A. M.\", \"Dirac\", 1902)\n",
    "dirac.muerte = 1984\n",
    "with open('dirac.json', 'wt') as f:\n",
    "    dirac.a_json(f)"
   ]
  },
  {
   "cell_type": "code",
   "execution_count": 45,
   "metadata": {},
   "outputs": [
    {
     "name": "stdout",
     "output_type": "stream",
     "text": [
      "Dirac, Paul A. M. (1902-1984)\n"
     ]
    }
   ],
   "source": [
    "with open('dirac.json', 'rt') as f:\n",
    "    dirac2 = Persona.desde_json(f)\n",
    "\n",
    "print(dirac2)"
   ]
  },
  {
   "cell_type": "code",
   "execution_count": 46,
   "metadata": {},
   "outputs": [],
   "source": [
    "gellmann = Persona(\"Murray\", \"Gell-Mann\", 1929)\n",
    "gellmann.muerte = 2019\n",
    "with open('gellmann.yaml', 'wt') as f:\n",
    "    gellmann.a_yaml(f)"
   ]
  },
  {
   "cell_type": "code",
   "execution_count": 47,
   "metadata": {},
   "outputs": [
    {
     "name": "stdout",
     "output_type": "stream",
     "text": [
      "Gell-Mann, Murray (1929-2019)\n"
     ]
    }
   ],
   "source": [
    "with open('gellmann.yaml', 'rt') as f:\n",
    "    gellmann2 = Persona.desde_yaml(f)\n",
    "\n",
    "print(gellmann2)"
   ]
  },
  {
   "cell_type": "markdown",
   "metadata": {},
   "source": [
    "Para tablas de datos numéricos, resulta más conveniente el formato HDF5, que almacena varias tablas en un único archivo binario:"
   ]
  },
  {
   "cell_type": "code",
   "execution_count": 48,
   "metadata": {},
   "outputs": [],
   "source": [
    "import h5py \n",
    "import numpy as np"
   ]
  },
  {
   "cell_type": "code",
   "execution_count": 49,
   "metadata": {},
   "outputs": [],
   "source": [
    "r1 = np.random.random(size=(15, 15))\n",
    "r2 = np.random.random(size=(20, 20))"
   ]
  },
  {
   "cell_type": "code",
   "execution_count": 50,
   "metadata": {},
   "outputs": [
    {
     "data": {
      "text/plain": [
       "array([[0.76235623, 0.3740014 , 0.69035096, 0.88495958, 0.71117082,\n",
       "        0.99477631, 0.7218805 , 0.43991613, 0.84720329, 0.54158904,\n",
       "        0.16954226, 0.07275085, 0.12176437, 0.46968072, 0.46633624],\n",
       "       [0.72055145, 0.1100564 , 0.86190302, 0.97390268, 0.8118616 ,\n",
       "        0.8749371 , 0.31354389, 0.1953523 , 0.66493589, 0.12508325,\n",
       "        0.01965292, 0.94769667, 0.33775765, 0.28516905, 0.69498761],\n",
       "       [0.27702784, 0.49755267, 0.42390387, 0.13016556, 0.17631693,\n",
       "        0.22516968, 0.98859283, 0.82952631, 0.88572261, 0.06920392,\n",
       "        0.56080693, 0.10726651, 0.83999772, 0.85249324, 0.93248965],\n",
       "       [0.5269416 , 0.0537844 , 0.67568325, 0.97280353, 0.08884655,\n",
       "        0.9601875 , 0.86587741, 0.03575387, 0.0910146 , 0.63191117,\n",
       "        0.10936061, 0.95723338, 0.61271666, 0.76155787, 0.62558945],\n",
       "       [0.87073155, 0.11001475, 0.13295085, 0.75154008, 0.08740865,\n",
       "        0.42810336, 0.1200636 , 0.75247111, 0.27234833, 0.02153686,\n",
       "        0.2646086 , 0.14079096, 0.96038543, 0.79593698, 0.01522546],\n",
       "       [0.4629089 , 0.68802684, 0.94271655, 0.63740819, 0.7065343 ,\n",
       "        0.45664174, 0.57530576, 0.28830905, 0.8473806 , 0.58694675,\n",
       "        0.88482392, 0.4128313 , 0.58335879, 0.89639138, 0.12142887],\n",
       "       [0.93075274, 0.75618525, 0.23301434, 0.47997123, 0.13703218,\n",
       "        0.17208129, 0.5248799 , 0.63454859, 0.18057614, 0.51235749,\n",
       "        0.64742609, 0.62827028, 0.92994992, 0.15464311, 0.80040928],\n",
       "       [0.49329617, 0.11121867, 0.38433304, 0.45593293, 0.76916748,\n",
       "        0.95913213, 0.01017027, 0.2644849 , 0.74302374, 0.27246617,\n",
       "        0.56850955, 0.56982134, 0.52098994, 0.42902663, 0.35586397],\n",
       "       [0.51121014, 0.95566189, 0.69817599, 0.29237182, 0.4202901 ,\n",
       "        0.91491989, 0.34442648, 0.26183834, 0.36310004, 0.96266817,\n",
       "        0.92697838, 0.13441648, 0.80673074, 0.89906175, 0.11556996],\n",
       "       [0.37083812, 0.20157491, 0.67932902, 0.80128953, 0.38304423,\n",
       "        0.02439425, 0.99225283, 0.82894454, 0.66820614, 0.49407408,\n",
       "        0.04999013, 0.4175993 , 0.71363201, 0.22425029, 0.75356004],\n",
       "       [0.93712181, 0.23271611, 0.90589722, 0.35449507, 0.61080014,\n",
       "        0.84490234, 0.98877938, 0.00869314, 0.58736284, 0.38856215,\n",
       "        0.10135613, 0.31392895, 0.57287419, 0.61038394, 0.32141603],\n",
       "       [0.15514671, 0.98504239, 0.15568794, 0.19128299, 0.41305476,\n",
       "        0.53003682, 0.47984929, 0.49417561, 0.14675045, 0.4402287 ,\n",
       "        0.09394727, 0.39396832, 0.48505988, 0.97981879, 0.11422276],\n",
       "       [0.8103054 , 0.69615851, 0.37366416, 0.98478153, 0.17609488,\n",
       "        0.75478743, 0.68514365, 0.72157971, 0.51045942, 0.46151076,\n",
       "        0.79017696, 0.46953805, 0.71092914, 0.78621368, 0.73338952],\n",
       "       [0.42219826, 0.39299695, 0.26411672, 0.83495619, 0.26107635,\n",
       "        0.16278155, 0.11120955, 0.98690627, 0.14537888, 0.03498025,\n",
       "        0.52218372, 0.76178102, 0.52835514, 0.67156861, 0.90864748],\n",
       "       [0.67806309, 0.52986904, 0.02549011, 0.37641105, 0.65649097,\n",
       "        0.26962973, 0.02714211, 0.36328936, 0.19472447, 0.30990755,\n",
       "        0.25645651, 0.29562433, 0.21881947, 0.19968193, 0.86682544]])"
      ]
     },
     "execution_count": 50,
     "metadata": {},
     "output_type": "execute_result"
    }
   ],
   "source": [
    "r1"
   ]
  },
  {
   "cell_type": "code",
   "execution_count": 51,
   "metadata": {},
   "outputs": [
    {
     "data": {
      "text/plain": [
       "array([[8.28471521e-01, 6.98933483e-02, 9.07083278e-03, 3.59517697e-01,\n",
       "        4.08803648e-01, 7.98156383e-01, 2.55816443e-01, 2.12758799e-01,\n",
       "        1.71453741e-01, 5.22761379e-01, 1.22474332e-01, 3.23975434e-01,\n",
       "        6.89286881e-01, 4.34388954e-01, 5.72493946e-01, 6.45628212e-02,\n",
       "        4.55535145e-01, 4.91838676e-01, 8.83673076e-01, 8.56780390e-03],\n",
       "       [2.00352412e-01, 6.96466733e-02, 7.69147911e-01, 1.64179930e-01,\n",
       "        2.55224375e-01, 4.88038626e-01, 3.20430776e-01, 7.67875059e-01,\n",
       "        9.85074604e-01, 9.66295066e-02, 9.79995455e-01, 9.06477711e-01,\n",
       "        1.13231791e-01, 3.42864558e-01, 4.30755904e-01, 9.07166077e-01,\n",
       "        5.15120187e-01, 1.56749470e-01, 6.83027082e-01, 5.45241700e-01],\n",
       "       [9.94610125e-01, 8.15250233e-01, 1.71998020e-01, 3.25231769e-02,\n",
       "        5.28131242e-01, 4.17146164e-01, 3.16961565e-01, 3.44341845e-01,\n",
       "        1.63909271e-01, 1.19074119e-01, 2.95408870e-01, 2.59578910e-01,\n",
       "        3.04907794e-01, 8.87698307e-01, 1.51273411e-01, 3.66023039e-01,\n",
       "        7.70909758e-01, 1.20787392e-01, 4.91533857e-01, 5.21973397e-01],\n",
       "       [7.91442865e-01, 4.76583922e-01, 9.43131722e-01, 1.37607202e-02,\n",
       "        3.53011081e-01, 4.18882632e-02, 9.02401671e-01, 1.04792828e-01,\n",
       "        2.05281503e-01, 1.43881061e-01, 3.58094593e-01, 3.94939185e-01,\n",
       "        6.91732318e-01, 1.59248830e-01, 9.33619608e-04, 9.47501386e-01,\n",
       "        8.41699075e-01, 9.76066794e-01, 1.68030227e-01, 8.00401386e-01],\n",
       "       [9.59299018e-01, 3.26023636e-01, 6.66808411e-01, 6.18314973e-01,\n",
       "        4.08868696e-02, 2.94727649e-01, 3.81773959e-01, 8.84973550e-01,\n",
       "        2.89901650e-01, 5.44999314e-01, 1.55340061e-01, 2.77118327e-01,\n",
       "        1.45285360e-01, 7.03088108e-01, 9.40243462e-01, 3.40948565e-02,\n",
       "        6.55229782e-01, 8.37409474e-01, 4.94337710e-01, 7.14641472e-01],\n",
       "       [5.79193972e-01, 3.65215492e-01, 2.92508468e-01, 8.84350748e-01,\n",
       "        9.45346081e-01, 9.25470162e-01, 9.77556194e-01, 1.38625513e-01,\n",
       "        9.71731033e-01, 5.71022252e-01, 6.77613006e-01, 8.59649207e-02,\n",
       "        1.80410534e-01, 9.14709580e-01, 1.00520480e-01, 8.41426325e-01,\n",
       "        3.24383522e-01, 4.10259643e-01, 5.20397608e-01, 6.16246112e-01],\n",
       "       [7.86186333e-01, 3.90881834e-01, 8.91079078e-01, 2.72220309e-01,\n",
       "        7.30475972e-01, 2.91181158e-03, 9.39692058e-01, 7.31093702e-01,\n",
       "        1.20959134e-01, 9.60792708e-01, 6.67688207e-01, 6.60996243e-02,\n",
       "        1.35187195e-01, 3.37566751e-01, 3.34766583e-02, 4.36321493e-01,\n",
       "        6.71074175e-01, 8.87891598e-02, 8.53546438e-01, 5.63152693e-01],\n",
       "       [6.08309286e-01, 2.96544372e-01, 7.89811671e-01, 3.56369098e-02,\n",
       "        1.89705020e-01, 4.00661164e-01, 6.76610824e-01, 6.78154055e-01,\n",
       "        6.75520554e-01, 1.05459423e-01, 7.19075029e-01, 4.13744667e-02,\n",
       "        5.29182675e-01, 6.99236836e-01, 5.98499434e-01, 3.35722249e-01,\n",
       "        6.38484274e-01, 1.48974086e-01, 8.42882221e-01, 9.43709741e-01],\n",
       "       [4.52512423e-01, 6.08342035e-01, 4.18497820e-01, 8.84515555e-01,\n",
       "        1.86622937e-01, 8.94445564e-01, 5.94404402e-01, 2.25973597e-02,\n",
       "        7.55659275e-01, 8.63010341e-01, 4.00003306e-01, 3.64986608e-01,\n",
       "        5.43358271e-01, 6.03022648e-02, 4.70163564e-01, 6.26554175e-01,\n",
       "        4.67289131e-01, 6.28837509e-01, 1.84635726e-01, 2.97148072e-01],\n",
       "       [8.55878588e-01, 3.18230429e-01, 8.66957686e-01, 4.06606368e-02,\n",
       "        9.10488096e-01, 3.67607625e-01, 1.63048485e-01, 8.90491490e-01,\n",
       "        2.70450930e-01, 5.94929201e-01, 1.29319482e-02, 1.73882168e-02,\n",
       "        2.69224116e-02, 5.39556105e-01, 2.95567945e-01, 2.73099267e-01,\n",
       "        2.41104960e-01, 3.44343873e-01, 3.52312972e-02, 8.37996018e-01],\n",
       "       [8.27728697e-01, 9.71312038e-01, 8.26620376e-01, 4.70181858e-01,\n",
       "        1.88953885e-01, 3.51598914e-01, 5.78561072e-01, 5.36617474e-01,\n",
       "        8.29080238e-01, 5.48623700e-01, 4.18116297e-01, 9.49652962e-02,\n",
       "        8.64793708e-01, 9.79440413e-01, 2.44509744e-02, 4.34976377e-01,\n",
       "        1.00086779e-01, 1.97122971e-01, 4.44673322e-01, 2.30757952e-01],\n",
       "       [1.44505071e-01, 1.44906203e-01, 1.01915359e-01, 1.12527894e-01,\n",
       "        4.16358907e-01, 5.54866899e-01, 3.78853557e-01, 2.69096534e-02,\n",
       "        4.42444480e-01, 5.43531799e-02, 7.70792581e-01, 9.14102132e-01,\n",
       "        7.99790913e-01, 7.87910475e-01, 7.78391771e-01, 6.40743382e-01,\n",
       "        5.46507882e-01, 6.50556122e-01, 7.29760518e-01, 8.34716354e-01],\n",
       "       [7.21135015e-01, 2.43479114e-01, 5.30276283e-02, 8.25098303e-01,\n",
       "        3.32252821e-01, 4.64873773e-01, 7.72173286e-01, 4.19182019e-01,\n",
       "        3.04496243e-01, 5.29481614e-01, 7.40307167e-01, 5.03704092e-01,\n",
       "        4.94409275e-01, 7.59303962e-01, 9.59102803e-01, 9.17611087e-02,\n",
       "        6.21386909e-01, 8.02422141e-01, 3.35963619e-01, 3.95644765e-01],\n",
       "       [8.76613476e-01, 8.30905587e-01, 2.52884856e-01, 6.94989225e-01,\n",
       "        2.09821478e-01, 6.67262782e-01, 1.73697057e-01, 1.32251956e-01,\n",
       "        7.38609753e-01, 8.71548127e-01, 8.72650988e-01, 4.36903592e-01,\n",
       "        2.90131743e-01, 2.27444184e-01, 8.55687213e-01, 5.04042835e-01,\n",
       "        9.82783398e-02, 8.29619770e-01, 8.91560680e-01, 8.13070477e-01],\n",
       "       [5.79398348e-01, 8.51878676e-01, 5.31296643e-01, 4.77102222e-01,\n",
       "        5.41688937e-01, 6.15021482e-01, 6.82166336e-01, 3.08847987e-01,\n",
       "        9.79698560e-01, 1.33979973e-01, 1.97981419e-01, 1.21133151e-01,\n",
       "        5.41596598e-01, 5.75214672e-01, 1.13452255e-01, 6.14125312e-01,\n",
       "        2.66227582e-01, 2.84989425e-02, 9.50056400e-01, 7.55060265e-01],\n",
       "       [6.63672605e-01, 4.57058012e-01, 4.37564336e-01, 1.87402174e-01,\n",
       "        8.06140838e-02, 4.40202631e-01, 6.13378859e-01, 8.11085350e-01,\n",
       "        4.28917187e-01, 6.60500772e-02, 9.91446496e-01, 7.59646987e-01,\n",
       "        7.65796007e-01, 5.22223557e-01, 5.96604507e-01, 7.65582049e-01,\n",
       "        4.73143410e-01, 4.19645482e-01, 8.19367415e-01, 1.68382482e-01],\n",
       "       [5.32771596e-01, 2.95203223e-01, 2.71594588e-02, 3.29859443e-01,\n",
       "        8.36726818e-02, 1.13727503e-01, 2.67574888e-01, 2.10613470e-01,\n",
       "        9.52147449e-01, 2.39827898e-01, 4.90824548e-01, 5.64633261e-01,\n",
       "        8.65342242e-01, 4.74322176e-01, 6.04985691e-01, 9.12629304e-01,\n",
       "        1.98224395e-01, 2.17970635e-01, 4.14313334e-01, 6.78368278e-01],\n",
       "       [6.68114772e-01, 6.89593049e-01, 3.17744483e-01, 9.86141444e-02,\n",
       "        7.39661944e-01, 3.11660527e-02, 8.50154976e-02, 4.12115530e-01,\n",
       "        4.70518276e-01, 4.02415993e-01, 2.35729233e-01, 4.57811869e-03,\n",
       "        4.12976821e-01, 2.95854495e-01, 4.94780295e-01, 5.77074308e-01,\n",
       "        8.58929420e-01, 5.40247902e-01, 8.98810904e-01, 6.64855520e-01],\n",
       "       [8.80765729e-01, 3.08129455e-01, 6.58753357e-01, 1.63768416e-01,\n",
       "        3.34927998e-02, 2.59018817e-01, 2.31472392e-03, 4.66548914e-01,\n",
       "        5.08616534e-01, 2.80379233e-01, 5.11621359e-02, 9.66035667e-01,\n",
       "        8.02506410e-01, 6.45881464e-01, 1.45676722e-01, 5.17783438e-01,\n",
       "        5.04241195e-01, 7.53198018e-01, 7.69156605e-01, 1.50102030e-01],\n",
       "       [2.52766933e-01, 9.12469695e-01, 1.93300944e-01, 5.66574864e-01,\n",
       "        7.64977297e-01, 7.54085054e-01, 9.01768709e-01, 6.89821549e-01,\n",
       "        8.39256488e-01, 5.44024566e-01, 6.12397690e-01, 4.52174530e-01,\n",
       "        4.50708283e-01, 2.47886886e-01, 3.11148881e-01, 9.52730274e-01,\n",
       "        5.45800916e-01, 7.88666695e-01, 5.67871114e-03, 8.62300461e-01]])"
      ]
     },
     "execution_count": 51,
     "metadata": {},
     "output_type": "execute_result"
    }
   ],
   "source": [
    "r2"
   ]
  },
  {
   "cell_type": "code",
   "execution_count": 52,
   "metadata": {},
   "outputs": [],
   "source": [
    "with h5py.File('random.hdf5', 'w') as f:\n",
    "    f.create_dataset('r1', data=r1, dtype='f4')\n",
    "    f.create_dataset('r2', data=r2, dtype='f4')"
   ]
  },
  {
   "cell_type": "code",
   "execution_count": 53,
   "metadata": {},
   "outputs": [],
   "source": [
    "with h5py.File('random.hdf5', 'r') as f:\n",
    "    r1b = np.array(f['r1'])\n",
    "    r2b = np.array(f['r2'])"
   ]
  },
  {
   "cell_type": "code",
   "execution_count": 54,
   "metadata": {},
   "outputs": [
    {
     "data": {
      "text/plain": [
       "array([[0.7623562 , 0.37400138, 0.69035095, 0.8849596 , 0.7111708 ,\n",
       "        0.9947763 , 0.7218805 , 0.43991613, 0.8472033 , 0.541589  ,\n",
       "        0.16954225, 0.07275084, 0.12176437, 0.46968073, 0.46633625],\n",
       "       [0.72055143, 0.1100564 , 0.861903  , 0.9739027 , 0.8118616 ,\n",
       "        0.8749371 , 0.3135439 , 0.1953523 , 0.6649359 , 0.12508325,\n",
       "        0.01965292, 0.9476967 , 0.33775765, 0.28516904, 0.6949876 ],\n",
       "       [0.27702785, 0.49755266, 0.42390388, 0.13016556, 0.17631693,\n",
       "        0.22516967, 0.9885928 , 0.8295263 , 0.88572264, 0.06920391,\n",
       "        0.56080693, 0.10726652, 0.8399977 , 0.8524932 , 0.93248963],\n",
       "       [0.5269416 , 0.0537844 , 0.67568326, 0.97280353, 0.08884655,\n",
       "        0.9601875 , 0.8658774 , 0.03575387, 0.0910146 , 0.63191116,\n",
       "        0.10936061, 0.95723337, 0.6127167 , 0.7615579 , 0.62558943],\n",
       "       [0.87073153, 0.11001475, 0.13295086, 0.75154006, 0.08740865,\n",
       "        0.42810336, 0.1200636 , 0.7524711 , 0.27234834, 0.02153686,\n",
       "        0.2646086 , 0.14079095, 0.96038544, 0.795937  , 0.01522546],\n",
       "       [0.4629089 , 0.68802685, 0.94271654, 0.6374082 , 0.7065343 ,\n",
       "        0.45664173, 0.57530576, 0.28830904, 0.8473806 , 0.5869467 ,\n",
       "        0.8848239 , 0.4128313 , 0.58335876, 0.8963914 , 0.12142887],\n",
       "       [0.93075275, 0.75618523, 0.23301435, 0.47997123, 0.13703218,\n",
       "        0.17208129, 0.5248799 , 0.6345486 , 0.18057613, 0.5123575 ,\n",
       "        0.64742607, 0.62827027, 0.92994994, 0.1546431 , 0.80040926],\n",
       "       [0.49329618, 0.11121867, 0.38433304, 0.45593292, 0.7691675 ,\n",
       "        0.95913213, 0.01017027, 0.2644849 , 0.74302375, 0.27246618,\n",
       "        0.5685096 , 0.56982136, 0.52098995, 0.42902663, 0.355864  ],\n",
       "       [0.51121014, 0.9556619 , 0.69817597, 0.2923718 , 0.4202901 ,\n",
       "        0.9149199 , 0.34442648, 0.26183835, 0.36310005, 0.9626682 ,\n",
       "        0.9269784 , 0.13441648, 0.80673075, 0.89906174, 0.11556996],\n",
       "       [0.3708381 , 0.20157492, 0.67932904, 0.80128956, 0.3830442 ,\n",
       "        0.02439425, 0.9922528 , 0.82894456, 0.66820616, 0.49407408,\n",
       "        0.04999013, 0.4175993 , 0.713632  , 0.22425029, 0.75356007],\n",
       "       [0.9371218 , 0.23271611, 0.9058972 , 0.35449508, 0.61080015,\n",
       "        0.84490234, 0.98877937, 0.00869314, 0.5873628 , 0.38856214,\n",
       "        0.10135613, 0.31392896, 0.5728742 , 0.6103839 , 0.32141602],\n",
       "       [0.1551467 , 0.9850424 , 0.15568793, 0.19128299, 0.41305476,\n",
       "        0.5300368 , 0.47984928, 0.4941756 , 0.14675045, 0.4402287 ,\n",
       "        0.09394727, 0.3939683 , 0.4850599 , 0.97981876, 0.11422276],\n",
       "       [0.8103054 , 0.6961585 , 0.37366417, 0.9847815 , 0.17609487,\n",
       "        0.75478745, 0.68514365, 0.72157973, 0.5104594 , 0.46151075,\n",
       "        0.790177  , 0.46953806, 0.71092916, 0.7862137 , 0.7333895 ],\n",
       "       [0.42219827, 0.39299694, 0.2641167 , 0.83495617, 0.26107636,\n",
       "        0.16278155, 0.11120955, 0.9869063 , 0.14537889, 0.03498025,\n",
       "        0.5221837 , 0.76178104, 0.5283551 , 0.67156863, 0.9086475 ],\n",
       "       [0.6780631 , 0.529869  , 0.02549011, 0.37641105, 0.656491  ,\n",
       "        0.26962972, 0.02714211, 0.36328936, 0.19472447, 0.30990756,\n",
       "        0.25645652, 0.29562432, 0.21881947, 0.19968192, 0.86682546]],\n",
       "      dtype=float32)"
      ]
     },
     "execution_count": 54,
     "metadata": {},
     "output_type": "execute_result"
    }
   ],
   "source": [
    "r1b"
   ]
  },
  {
   "cell_type": "code",
   "execution_count": 55,
   "metadata": {},
   "outputs": [
    {
     "data": {
      "text/plain": [
       "array([[8.28471541e-01, 6.98933452e-02, 9.07083321e-03, 3.59517694e-01,\n",
       "        4.08803642e-01, 7.98156381e-01, 2.55816430e-01, 2.12758794e-01,\n",
       "        1.71453744e-01, 5.22761405e-01, 1.22474335e-01, 3.23975444e-01,\n",
       "        6.89286888e-01, 4.34388965e-01, 5.72493970e-01, 6.45628199e-02,\n",
       "        4.55535144e-01, 4.91838664e-01, 8.83673072e-01, 8.56780354e-03],\n",
       "       [2.00352415e-01, 6.96466714e-02, 7.69147933e-01, 1.64179936e-01,\n",
       "        2.55224377e-01, 4.88038629e-01, 3.20430785e-01, 7.67875075e-01,\n",
       "        9.85074580e-01, 9.66295078e-02, 9.79995430e-01, 9.06477690e-01,\n",
       "        1.13231793e-01, 3.42864543e-01, 4.30755913e-01, 9.07166064e-01,\n",
       "        5.15120208e-01, 1.56749472e-01, 6.83027089e-01, 5.45241714e-01],\n",
       "       [9.94610131e-01, 8.15250218e-01, 1.71998024e-01, 3.25231776e-02,\n",
       "        5.28131247e-01, 4.17146176e-01, 3.16961557e-01, 3.44341844e-01,\n",
       "        1.63909271e-01, 1.19074121e-01, 2.95408875e-01, 2.59578913e-01,\n",
       "        3.04907799e-01, 8.87698293e-01, 1.51273414e-01, 3.66023034e-01,\n",
       "        7.70909786e-01, 1.20787390e-01, 4.91533846e-01, 5.21973372e-01],\n",
       "       [7.91442871e-01, 4.76583928e-01, 9.43131745e-01, 1.37607204e-02,\n",
       "        3.53011072e-01, 4.18882631e-02, 9.02401686e-01, 1.04792826e-01,\n",
       "        2.05281496e-01, 1.43881068e-01, 3.58094603e-01, 3.94939184e-01,\n",
       "        6.91732347e-01, 1.59248829e-01, 9.33619624e-04, 9.47501361e-01,\n",
       "        8.41699064e-01, 9.76066768e-01, 1.68030232e-01, 8.00401390e-01],\n",
       "       [9.59299028e-01, 3.26023638e-01, 6.66808426e-01, 6.18314981e-01,\n",
       "        4.08868678e-02, 2.94727653e-01, 3.81773949e-01, 8.84973526e-01,\n",
       "        2.89901644e-01, 5.44999301e-01, 1.55340061e-01, 2.77118325e-01,\n",
       "        1.45285353e-01, 7.03088105e-01, 9.40243483e-01, 3.40948552e-02,\n",
       "        6.55229807e-01, 8.37409496e-01, 4.94337708e-01, 7.14641452e-01],\n",
       "       [5.79193950e-01, 3.65215480e-01, 2.92508483e-01, 8.84350777e-01,\n",
       "        9.45346057e-01, 9.25470173e-01, 9.77556169e-01, 1.38625517e-01,\n",
       "        9.71731007e-01, 5.71022272e-01, 6.77613020e-01, 8.59649181e-02,\n",
       "        1.80410534e-01, 9.14709568e-01, 1.00520477e-01, 8.41426313e-01,\n",
       "        3.24383527e-01, 4.10259634e-01, 5.20397604e-01, 6.16246104e-01],\n",
       "       [7.86186337e-01, 3.90881836e-01, 8.91079068e-01, 2.72220314e-01,\n",
       "        7.30475962e-01, 2.91181146e-03, 9.39692080e-01, 7.31093705e-01,\n",
       "        1.20959133e-01, 9.60792720e-01, 6.67688191e-01, 6.60996214e-02,\n",
       "        1.35187194e-01, 3.37566763e-01, 3.34766582e-02, 4.36321497e-01,\n",
       "        6.71074152e-01, 8.87891576e-02, 8.53546441e-01, 5.63152671e-01],\n",
       "       [6.08309269e-01, 2.96544373e-01, 7.89811671e-01, 3.56369093e-02,\n",
       "        1.89705014e-01, 4.00661170e-01, 6.76610827e-01, 6.78154051e-01,\n",
       "        6.75520539e-01, 1.05459422e-01, 7.19075024e-01, 4.13744673e-02,\n",
       "        5.29182673e-01, 6.99236810e-01, 5.98499417e-01, 3.35722238e-01,\n",
       "        6.38484299e-01, 1.48974091e-01, 8.42882216e-01, 9.43709731e-01],\n",
       "       [4.52512413e-01, 6.08342052e-01, 4.18497831e-01, 8.84515584e-01,\n",
       "        1.86622933e-01, 8.94445539e-01, 5.94404399e-01, 2.25973595e-02,\n",
       "        7.55659282e-01, 8.63010347e-01, 4.00003314e-01, 3.64986598e-01,\n",
       "        5.43358266e-01, 6.03022650e-02, 4.70163554e-01, 6.26554191e-01,\n",
       "        4.67289120e-01, 6.28837526e-01, 1.84635729e-01, 2.97148079e-01],\n",
       "       [8.55878592e-01, 3.18230420e-01, 8.66957664e-01, 4.06606384e-02,\n",
       "        9.10488069e-01, 3.67607623e-01, 1.63048491e-01, 8.90491486e-01,\n",
       "        2.70450920e-01, 5.94929218e-01, 1.29319485e-02, 1.73882172e-02,\n",
       "        2.69224122e-02, 5.39556086e-01, 2.95567960e-01, 2.73099273e-01,\n",
       "        2.41104960e-01, 3.44343871e-01, 3.52312960e-02, 8.37996006e-01],\n",
       "       [8.27728689e-01, 9.71312046e-01, 8.26620400e-01, 4.70181853e-01,\n",
       "        1.88953891e-01, 3.51598918e-01, 5.78561068e-01, 5.36617458e-01,\n",
       "        8.29080224e-01, 5.48623681e-01, 4.18116301e-01, 9.49652940e-02,\n",
       "        8.64793718e-01, 9.79440391e-01, 2.44509745e-02, 4.34976369e-01,\n",
       "        1.00086778e-01, 1.97122976e-01, 4.44673330e-01, 2.30757952e-01],\n",
       "       [1.44505069e-01, 1.44906208e-01, 1.01915359e-01, 1.12527892e-01,\n",
       "        4.16358918e-01, 5.54866910e-01, 3.78853559e-01, 2.69096531e-02,\n",
       "        4.42444474e-01, 5.43531813e-02, 7.70792603e-01, 9.14102137e-01,\n",
       "        7.99790919e-01, 7.87910461e-01, 7.78391778e-01, 6.40743375e-01,\n",
       "        5.46507895e-01, 6.50556147e-01, 7.29760528e-01, 8.34716380e-01],\n",
       "       [7.21135020e-01, 2.43479118e-01, 5.30276299e-02, 8.25098276e-01,\n",
       "        3.32252830e-01, 4.64873761e-01, 7.72173285e-01, 4.19182032e-01,\n",
       "        3.04496229e-01, 5.29481590e-01, 7.40307152e-01, 5.03704071e-01,\n",
       "        4.94409263e-01, 7.59303987e-01, 9.59102809e-01, 9.17611122e-02,\n",
       "        6.21386886e-01, 8.02422166e-01, 3.35963607e-01, 3.95644754e-01],\n",
       "       [8.76613498e-01, 8.30905616e-01, 2.52884865e-01, 6.94989204e-01,\n",
       "        2.09821478e-01, 6.67262793e-01, 1.73697054e-01, 1.32251963e-01,\n",
       "        7.38609731e-01, 8.71548116e-01, 8.72650981e-01, 4.36903596e-01,\n",
       "        2.90131748e-01, 2.27444187e-01, 8.55687201e-01, 5.04042864e-01,\n",
       "        9.82783362e-02, 8.29619765e-01, 8.91560674e-01, 8.13070476e-01],\n",
       "       [5.79398334e-01, 8.51878703e-01, 5.31296670e-01, 4.77102220e-01,\n",
       "        5.41688919e-01, 6.15021467e-01, 6.82166338e-01, 3.08847994e-01,\n",
       "        9.79698539e-01, 1.33979976e-01, 1.97981417e-01, 1.21133149e-01,\n",
       "        5.41596591e-01, 5.75214684e-01, 1.13452256e-01, 6.14125311e-01,\n",
       "        2.66227573e-01, 2.84989420e-02, 9.50056374e-01, 7.55060256e-01],\n",
       "       [6.63672626e-01, 4.57058012e-01, 4.37564343e-01, 1.87402174e-01,\n",
       "        8.06140825e-02, 4.40202624e-01, 6.13378882e-01, 8.11085343e-01,\n",
       "        4.28917199e-01, 6.60500750e-02, 9.91446495e-01, 7.59647012e-01,\n",
       "        7.65796006e-01, 5.22223532e-01, 5.96604526e-01, 7.65582025e-01,\n",
       "        4.73143399e-01, 4.19645488e-01, 8.19367409e-01, 1.68382481e-01],\n",
       "       [5.32771587e-01, 2.95203209e-01, 2.71594580e-02, 3.29859436e-01,\n",
       "        8.36726800e-02, 1.13727503e-01, 2.67574877e-01, 2.10613474e-01,\n",
       "        9.52147424e-01, 2.39827901e-01, 4.90824550e-01, 5.64633250e-01,\n",
       "        8.65342259e-01, 4.74322170e-01, 6.04985714e-01, 9.12629306e-01,\n",
       "        1.98224396e-01, 2.17970639e-01, 4.14313346e-01, 6.78368270e-01],\n",
       "       [6.68114781e-01, 6.89593077e-01, 3.17744493e-01, 9.86141413e-02,\n",
       "        7.39661932e-01, 3.11660524e-02, 8.50154981e-02, 4.12115544e-01,\n",
       "        4.70518261e-01, 4.02415991e-01, 2.35729232e-01, 4.57811868e-03,\n",
       "        4.12976831e-01, 2.95854509e-01, 4.94780302e-01, 5.77074289e-01,\n",
       "        8.58929396e-01, 5.40247917e-01, 8.98810923e-01, 6.64855540e-01],\n",
       "       [8.80765736e-01, 3.08129460e-01, 6.58753335e-01, 1.63768411e-01,\n",
       "        3.34927998e-02, 2.59018809e-01, 2.31472403e-03, 4.66548920e-01,\n",
       "        5.08616507e-01, 2.80379236e-01, 5.11621349e-02, 9.66035664e-01,\n",
       "        8.02506387e-01, 6.45881474e-01, 1.45676717e-01, 5.17783463e-01,\n",
       "        5.04241168e-01, 7.53198028e-01, 7.69156575e-01, 1.50102034e-01],\n",
       "       [2.52766937e-01, 9.12469685e-01, 1.93300948e-01, 5.66574872e-01,\n",
       "        7.64977276e-01, 7.54085064e-01, 9.01768684e-01, 6.89821541e-01,\n",
       "        8.39256465e-01, 5.44024587e-01, 6.12397671e-01, 4.52174544e-01,\n",
       "        4.50708270e-01, 2.47886881e-01, 3.11148882e-01, 9.52730298e-01,\n",
       "        5.45800924e-01, 7.88666666e-01, 5.67871099e-03, 8.62300456e-01]],\n",
       "      dtype=float32)"
      ]
     },
     "execution_count": 55,
     "metadata": {},
     "output_type": "execute_result"
    }
   ],
   "source": [
    "r2b"
   ]
  },
  {
   "cell_type": "markdown",
   "metadata": {},
   "source": [
    "## `__slots__`\n",
    "\n",
    "Hemos visto anteriormente que las clases tienen un miembro especial, el diccionario `.__dict__`, que contiene el resto de miembros de la instancia. Este diccionario es lo que permite añadir miembros arbitrarios a una instancia en cualquier momento.\n",
    "\n",
    "Para evitar esto, Python ofrece la posibilidad de sustituir el diccionario de miembros por una tupla de miembros, llamada `__slots__`. Las tuplas son inmutables, por lo que no es posible añadir nuevos miembros después de crear la tupla. Además, las instancias de clases con `__slots__` ocupan algo menos de memoria RAM, y es más rápido acceder a sus miembros."
   ]
  },
  {
   "cell_type": "code",
   "execution_count": 129,
   "metadata": {},
   "outputs": [],
   "source": [
    "class Persona:\n",
    "    __slots__ = ('nombre', 'apellido', '_nacimiento', '_muerte', '_edad')\n",
    "\n",
    "    def __init__(self, nombre, apellido, nacimiento, muerte = None):\n",
    "        self.nombre = nombre\n",
    "        self.apellido = apellido\n",
    "        self._muerte = muerte\n",
    "        self._edad = None\n",
    "        self.nacimiento = nacimiento\n",
    "\n",
    "    def __repr__(self):\n",
    "        if self._muerte is not None:\n",
    "            return f\"{self.apellido}, {self.nombre} ({self.nacimiento}-{self._muerte})\"\n",
    "        else:\n",
    "            return f\"{self.apellido}, {self.nombre} ({self.nacimiento})\"\n",
    "\n",
    "    @property\n",
    "    def nacimiento(self):\n",
    "        return self._nacimiento\n",
    "\n",
    "    @nacimiento.setter\n",
    "    def nacimiento(self, fecha):\n",
    "        if fecha > 2022:\n",
    "            raise ValueError(\"Fecha de nacimiento posterior al año actual\")\n",
    "        if self._muerte is not None:\n",
    "            if fecha > self._muerte:\n",
    "                raise ValueError(\"Fecha de nacimiento posterior a la fecha de muerte\")\n",
    "        self._nacimiento = fecha\n",
    "        if self._edad is not None:\n",
    "            self._edad = None\n",
    "\n",
    "    @property\n",
    "    def muerte(self):\n",
    "        if self._muerte is not None:\n",
    "            return self._muerte\n",
    "        else:\n",
    "            raise AttributeError(\"No hay fecha de muerte\")\n",
    "\n",
    "    @muerte.setter\n",
    "    def muerte(self, fecha):\n",
    "        if fecha > 2022:\n",
    "            raise ValueError(\"Fecha de muerte posterior al año actual\")\n",
    "        if fecha < self._nacimiento:\n",
    "            raise ValueError(\"Fecha de muerte anterior a la fecha de nacimiento\")\n",
    "        self._muerte = fecha\n",
    "        if self._edad is not None:\n",
    "            self._edad = None\n",
    "\n",
    "    @property\n",
    "    def edad(self):\n",
    "        if self._edad is None:\n",
    "            if self._muerte is not None:\n",
    "                # Si la persona está muerta, calculamos la edad en el momento de la muerte\n",
    "                self._edad = diferencia(self._muerte, self._nacimiento)\n",
    "            else:\n",
    "                # Si la persona está viva, calculamos la edad actual\n",
    "                self._edad = diferencia(2022, self._nacimiento)\n",
    "        return self._edad\n",
    "\n",
    "    def a_dict(self):\n",
    "        d = {'nombre': self.nombre, 'apellido': self.apellido, 'nacimiento': self.nacimiento}\n",
    "        if self._muerte is not None:\n",
    "            d.update({'muerte': self._muerte})\n",
    "        return d\n",
    "\n",
    "    @staticmethod\n",
    "    def desde_dict(d):\n",
    "        p = Persona(d['nombre'], d['apellido'], d['nacimiento'])\n",
    "        if 'muerte' in d:\n",
    "            p.muerte = d['muerte']\n",
    "        return p\n",
    "\n",
    "    def a_txt(self, file):\n",
    "        file.write(self.nombre + '\\n')\n",
    "        file.write(self.apellido + '\\n')\n",
    "        file.write(str(self.nacimiento) + '\\n')\n",
    "        if self._muerte is not None:\n",
    "            file.write(str(self._muerte) + '\\n')\n",
    "\n",
    "    @staticmethod\n",
    "    def desde_txt(file):\n",
    "        lineas = file.read().split('\\n')\n",
    "        nombre = lineas[0]\n",
    "        apellido = lineas[1]\n",
    "        nacimiento = int(lineas[2])\n",
    "        p = Persona(nombre, apellido, nacimiento)\n",
    "        if len(lineas) >= 4:\n",
    "            p.muerte = int(lineas[3])\n",
    "        return p\n",
    "\n",
    "    def a_pickle(self, file):\n",
    "        pickle.dump(self, file)\n",
    "\n",
    "    @staticmethod\n",
    "    def desde_pickle(file):\n",
    "        return pickle.load(file)\n",
    "\n",
    "    def a_json(self, file):\n",
    "        json.dump(self.a_dict(), file)\n",
    "\n",
    "    @staticmethod\n",
    "    def desde_json(file):\n",
    "        return Persona.desde_dict(json.load(file))\n",
    "\n",
    "    def a_yaml(self, file):\n",
    "        yaml.dump(self.a_dict(), file)\n",
    "\n",
    "    @staticmethod\n",
    "    def desde_yaml(file):\n",
    "        return Persona.desde_dict(yaml.safe_load(file))"
   ]
  },
  {
   "cell_type": "markdown",
   "metadata": {},
   "source": [
    "Como los miembros `_muerte` y `_edad` tienen que existir desde el momento de inicialización, ahora no podemos usar la táctica de comprobar si el miembro está presente en `__dict__`. En su lugar, las iniciamos con el valor indeterminado `None`."
   ]
  },
  {
   "cell_type": "markdown",
   "metadata": {},
   "source": [
    "Usar el valor `None` para los datos no iniciados nos permite además usar `muerte` como un argumento opcional en el método `__init__`. Así podemos crear una instancia con tres argumentos para una persona viva, o con cuatro argumentos para una persona muerta:"
   ]
  },
  {
   "cell_type": "code",
   "execution_count": 99,
   "metadata": {},
   "outputs": [
    {
     "name": "stdout",
     "output_type": "stream",
     "text": [
      "Penrose, Roger (1931)\n",
      "Fermi, Enrico (1901-1954)\n"
     ]
    }
   ],
   "source": [
    "penrose = Persona(\"Roger\", \"Penrose\", 1931)\n",
    "print(penrose)\n",
    "\n",
    "fermi = Persona(\"Enrico\", \"Fermi\", 1901, 1954)\n",
    "print(fermi)"
   ]
  },
  {
   "cell_type": "code",
   "execution_count": 75,
   "metadata": {},
   "outputs": [
    {
     "ename": "AttributeError",
     "evalue": "'Persona' object has no attribute 'fecha_premio_nobel'",
     "output_type": "error",
     "traceback": [
      "\u001b[0;31m---------------------------------------------------------------------------\u001b[0m",
      "\u001b[0;31mAttributeError\u001b[0m                            Traceback (most recent call last)",
      "Cell \u001b[0;32mIn [75], line 1\u001b[0m\n\u001b[0;32m----> 1\u001b[0m fermi\u001b[39m.\u001b[39;49mfecha_premio_nobel \u001b[39m=\u001b[39m \u001b[39m1938\u001b[39m\n",
      "\u001b[0;31mAttributeError\u001b[0m: 'Persona' object has no attribute 'fecha_premio_nobel'"
     ]
    }
   ],
   "source": [
    "fermi.fecha_premio_nobel = 1938"
   ]
  },
  {
   "cell_type": "markdown",
   "metadata": {},
   "source": [
    "## Herencia\n",
    "\n",
    "La herencia permite crear clases que sean subclases de otra. Esto significa que tienen los miembros y métodos \"heredados\" de la clase base, y los suyos propios. De hecho, en Python 3, todas las clases (menos las Excepciones) heredan desde la clase más básica, `Object`. Para crear una clase derivada, hay que declarala con el nombre de la clase base entre paréntesis:"
   ]
  },
  {
   "cell_type": "code",
   "execution_count": 100,
   "metadata": {},
   "outputs": [],
   "source": [
    "class GanadorPremioNobel(Persona):\n",
    "    pass"
   ]
  },
  {
   "cell_type": "code",
   "execution_count": 101,
   "metadata": {},
   "outputs": [
    {
     "name": "stdout",
     "output_type": "stream",
     "text": [
      "Wilson, Kenneth G. (1936-2013)\n"
     ]
    }
   ],
   "source": [
    "wilson = GanadorPremioNobel(\"Kenneth G.\", \"Wilson\", 1936, 2013)\n",
    "print(wilson)"
   ]
  },
  {
   "cell_type": "markdown",
   "metadata": {},
   "source": [
    "De momento no hemos añadido nada de código a la clase nueva (usando `pass`). Aún así, ha heredado los miembros, métodos y propiedades de `Persona`.\n",
    "\n",
    "Podemos usar la función `isinstance` para comprobar si una variable es una instancia de una cierta clase. En el caso de clases derivadas, sus instancias también se consideran instancias de las clases base, pero no a la inversa (todos los ganadores del premio Nobel son personas, pero no todas las personas son ganadores del premio Nobel)."
   ]
  },
  {
   "cell_type": "code",
   "execution_count": 81,
   "metadata": {},
   "outputs": [
    {
     "data": {
      "text/plain": [
       "True"
      ]
     },
     "execution_count": 81,
     "metadata": {},
     "output_type": "execute_result"
    }
   ],
   "source": [
    "isinstance(wilson, GanadorPremioNobel)"
   ]
  },
  {
   "cell_type": "code",
   "execution_count": 82,
   "metadata": {},
   "outputs": [
    {
     "data": {
      "text/plain": [
       "True"
      ]
     },
     "execution_count": 82,
     "metadata": {},
     "output_type": "execute_result"
    }
   ],
   "source": [
    "isinstance(wilson, Persona)"
   ]
  },
  {
   "cell_type": "code",
   "execution_count": 83,
   "metadata": {},
   "outputs": [
    {
     "data": {
      "text/plain": [
       "True"
      ]
     },
     "execution_count": 83,
     "metadata": {},
     "output_type": "execute_result"
    }
   ],
   "source": [
    "isinstance(wilson, object)"
   ]
  },
  {
   "cell_type": "code",
   "execution_count": 84,
   "metadata": {},
   "outputs": [
    {
     "data": {
      "text/plain": [
       "False"
      ]
     },
     "execution_count": 84,
     "metadata": {},
     "output_type": "execute_result"
    }
   ],
   "source": [
    "isinstance(pauli, GanadorPremioNobel)"
   ]
  },
  {
   "cell_type": "markdown",
   "metadata": {},
   "source": [
    "Puedes ver la jerarquía de clases con su MRO (\"Method Resoultion Order\"):"
   ]
  },
  {
   "cell_type": "code",
   "execution_count": 88,
   "metadata": {},
   "outputs": [
    {
     "data": {
      "text/plain": [
       "(__main__.GanadorPremioNobel, __main__.Persona, object)"
      ]
     },
     "execution_count": 88,
     "metadata": {},
     "output_type": "execute_result"
    }
   ],
   "source": [
    "GanadorPremioNobel.__mro__"
   ]
  },
  {
   "cell_type": "markdown",
   "metadata": {},
   "source": [
    "Vamos a añadir algo de código:"
   ]
  },
  {
   "cell_type": "code",
   "execution_count": 103,
   "metadata": {},
   "outputs": [],
   "source": [
    "class GanadorPremioNobel(Persona):\n",
    "    @property\n",
    "    def fecha_nobel(self):\n",
    "        return self._nobel\n",
    "\n",
    "    @fecha_nobel.setter\n",
    "    def fecha_nobel(self, fecha):\n",
    "        self._nobel = fecha"
   ]
  },
  {
   "cell_type": "code",
   "execution_count": 104,
   "metadata": {},
   "outputs": [
    {
     "name": "stdout",
     "output_type": "stream",
     "text": [
      "1982\n"
     ]
    }
   ],
   "source": [
    "wilson = GanadorPremioNobel(\"Kenneth G.\", \"Wilson\", 1936, 2013)\n",
    "wilson.fecha_nobel = 1982\n",
    "print(wilson.fecha_nobel)"
   ]
  },
  {
   "cell_type": "markdown",
   "metadata": {},
   "source": [
    "Fíjate que, aunque la clase `Persona` esté usando `__slots__`, la clase derivada está usando un `__dict__` para sus miembros no heredados. Esto significa que podemos añadir miembros arbitrariamente."
   ]
  },
  {
   "cell_type": "code",
   "execution_count": 89,
   "metadata": {},
   "outputs": [
    {
     "data": {
      "text/plain": [
       "('nombre', 'apellido', '_nacimiento', '_muerte', '_edad')"
      ]
     },
     "execution_count": 89,
     "metadata": {},
     "output_type": "execute_result"
    }
   ],
   "source": [
    "wilson.__slots__"
   ]
  },
  {
   "cell_type": "code",
   "execution_count": 90,
   "metadata": {},
   "outputs": [
    {
     "data": {
      "text/plain": [
       "{'_nobel': 1982}"
      ]
     },
     "execution_count": 90,
     "metadata": {},
     "output_type": "execute_result"
    }
   ],
   "source": [
    "wilson.__dict__"
   ]
  },
  {
   "cell_type": "markdown",
   "metadata": {},
   "source": [
    "Por supuesto, también podemos usar `__slots__` en la clase derivada. En este caso, es importante NO incluir los miembros heredados:"
   ]
  },
  {
   "cell_type": "code",
   "execution_count": 117,
   "metadata": {},
   "outputs": [],
   "source": [
    "class GanadorPremioNobel(Persona):\n",
    "    __slots__ = ('_nobel',)\n",
    "    @property\n",
    "    def fecha_nobel(self):\n",
    "        return self._nobel\n",
    "\n",
    "    @fecha_nobel.setter\n",
    "    def fecha_nobel(self, fecha):\n",
    "        if fecha < self._nacimiento:\n",
    "            raise ValueError(\"No es posible ganar el premio Nobel antes de nacer\")\n",
    "        if self._muerte is not None:\n",
    "            if fecha > self._muerte:\n",
    "                raise ValueError(\"No es posible ganar el premio Nobel posthumo\")\n",
    "        self._nobel = fecha"
   ]
  },
  {
   "cell_type": "code",
   "execution_count": 118,
   "metadata": {},
   "outputs": [
    {
     "data": {
      "text/plain": [
       "('_nobel',)"
      ]
     },
     "execution_count": 118,
     "metadata": {},
     "output_type": "execute_result"
    }
   ],
   "source": [
    "wilson = GanadorPremioNobel(\"Kenneth G.\", \"Wilson\", 1936, 2013)\n",
    "wilson.fecha_nobel = 1982\n",
    "\n",
    "wilson.__slots__"
   ]
  },
  {
   "cell_type": "markdown",
   "metadata": {},
   "source": [
    "Además de crear nuevos miembros y métodos, también podemos \"sobreescribir\" (overload) los heredados:"
   ]
  },
  {
   "cell_type": "code",
   "execution_count": 125,
   "metadata": {},
   "outputs": [],
   "source": [
    "class GanadorPremioNobel(Persona):\n",
    "    __slots__ = ('_nobel',)\n",
    "\n",
    "    def __init__(self, nombre, apellido, nacimiento, fecha_nobel, muerte=None):\n",
    "        self.nombre = nombre\n",
    "        self.apellido = apellido\n",
    "        self._muerte = muerte\n",
    "        self._edad = None\n",
    "        self.nacimiento = nacimiento\n",
    "        self.fecha_nobel = fecha_nobel\n",
    "\n",
    "    def __repr__(self):\n",
    "        if self._muerte is not None:\n",
    "            return f\"{self.apellido}, {self.nombre} ({self.nacimiento}-{self._muerte}), galardonado con el premio Nobel en {self.fecha_nobel}\"\n",
    "        else:\n",
    "            return f\"{self.apellido}, {self.nombre} ({self.nacimiento}), galardonado con el premio Nobel en {self.fecha_nobel}\"\n",
    "\n",
    "    @property\n",
    "    def fecha_nobel(self):\n",
    "        return self._nobel\n",
    "\n",
    "    @fecha_nobel.setter\n",
    "    def fecha_nobel(self, fecha):\n",
    "        if fecha < self.nacimiento:\n",
    "            raise ValueError(\"No es posible ganar el premio Nobel antes de nacer\")\n",
    "        if self._muerte is not None:\n",
    "            if fecha > self._muerte:\n",
    "                raise ValueError(\"No es posible ganar el premio Nobel pósthumo\")\n",
    "        self._nobel = fecha"
   ]
  },
  {
   "cell_type": "code",
   "execution_count": 126,
   "metadata": {},
   "outputs": [
    {
     "name": "stdout",
     "output_type": "stream",
     "text": [
      "Wilson, Kenneth G. (1936-2013), galardonado con el premio Nobel en 1982\n"
     ]
    }
   ],
   "source": [
    "wilson = GanadorPremioNobel(\"Kenneth G.\", \"Wilson\", 1936, 1982, 2013)\n",
    "print(wilson)"
   ]
  },
  {
   "cell_type": "markdown",
   "metadata": {},
   "source": [
    "El código para `__init__()` es básicamente igual que en el de la clase superior, solamente con una línea nueva. Podemos ahorrarnos un poco de trabajo con el método `super()`, que devuelve la clase superior: "
   ]
  },
  {
   "cell_type": "code",
   "execution_count": 127,
   "metadata": {},
   "outputs": [],
   "source": [
    "class GanadorPremioNobel(Persona):\n",
    "    __slots__ = ('_nobel',)\n",
    "\n",
    "    def __init__(self, nombre, apellido, nacimiento, fecha_nobel, muerte=None):\n",
    "        super().__init__(nombre, apellido, nacimiento, muerte)\n",
    "        self.fecha_nobel = fecha_nobel\n",
    "\n",
    "    def __repr__(self):\n",
    "        if self._muerte is not None:\n",
    "            return f\"{self.apellido}, {self.nombre} ({self.nacimiento}-{self._muerte}), galardonado con el premio Nobel en {self.fecha_nobel}\"\n",
    "        else:\n",
    "            return f\"{self.apellido}, {self.nombre} ({self.nacimiento}), galardonado con el premio Nobel en {self.fecha_nobel}\"\n",
    "\n",
    "    @property\n",
    "    def fecha_nobel(self):\n",
    "        return self._nobel\n",
    "\n",
    "    @fecha_nobel.setter\n",
    "    def fecha_nobel(self, fecha):\n",
    "        if fecha < self.nacimiento:\n",
    "            raise ValueError(\"No es posible ganar el premio Nobel antes de nacer\")\n",
    "        if self._muerte is not None:\n",
    "            if fecha > self._muerte:\n",
    "                raise ValueError(\"No es posible ganar el premio Nobel pósthumo\")\n",
    "        self._nobel = fecha"
   ]
  },
  {
   "cell_type": "code",
   "execution_count": 128,
   "metadata": {},
   "outputs": [
    {
     "name": "stdout",
     "output_type": "stream",
     "text": [
      "Wilson, Kenneth G. (1936-2013), galardonado con el premio Nobel en 1982\n"
     ]
    }
   ],
   "source": [
    "wilson = GanadorPremioNobel(\"Kenneth G.\", \"Wilson\", 1936, 1982, 2013)\n",
    "print(wilson)"
   ]
  },
  {
   "cell_type": "markdown",
   "metadata": {},
   "source": [
    "## [Tareas](https://github.com/Jorge-Alda/TFM_AlejandroMir/issues/2)\n",
    "\n",
    "1. Crea un nuevo repositorio para el proyecto de TFM, y publícalo en GitHub. En la sección de configuración, selecciona colaboradores, e invita a @Siannah-Penaranda y @Jorge-Alda.\n",
    "1. Sigue los pasos para [crear un entorno virtual y gestionar los paquetes con `poetry`](../vscode/paquetes.md#gesti%C3%B3n-de-paquetes-y-entornos-virtuales-con-poetry), e instala los paquetes de Python que vayas a necesitar (de momento, al menos `flavio` y `wilson`).      \n",
    "3. Crea una carpeta que se llame igual que el repositorio, y en ella un archivo llamado `classes.py`.\n",
    "3. En el archivo `classes.py`, crea una clase que represente un observable de flavio. La clase deberá contener el nombre del observable, y los argumentos (como $q^2_\\mathrm{min}$ y $q^2_\\mathrm{max}$) si los tuviera.\n",
    "4. Añade a la clase métodos para calcular la predicción e incertidumbre en el SM, el valor experimental y sus errores.\n",
    "5. Añade un método que acepte un objeto de `Wilson` y calcule la predicción de Nueva Física."
   ]
  }
 ],
 "metadata": {
  "kernelspec": {
   "display_name": "Python 3.10.8 ('tfm-alejandromir-pisT7Re7-py3.10')",
   "language": "python",
   "name": "python3"
  },
  "language_info": {
   "codemirror_mode": {
    "name": "ipython",
    "version": 3
   },
   "file_extension": ".py",
   "mimetype": "text/x-python",
   "name": "python",
   "nbconvert_exporter": "python",
   "pygments_lexer": "ipython3",
   "version": "3.10.8"
  },
  "orig_nbformat": 4,
  "vscode": {
   "interpreter": {
    "hash": "1f3f3a4d53262e9b64aadf354276afdb3b72bef7e271f3b7e5577e448e334dcb"
   }
  }
 },
 "nbformat": 4,
 "nbformat_minor": 2
}
