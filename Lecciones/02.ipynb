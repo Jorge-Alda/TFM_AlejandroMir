{
 "cells": [
  {
   "cell_type": "markdown",
   "metadata": {},
   "source": [
    "# 02 Clases en Python\n",
    "\n",
    "## Clases y miembros\n",
    "\n",
    "Las clases son la sintaxis de Python para definir nuevos tipos de variables. Ya hemos trabajado con un ejemplo de clases: la clase `Wilson` del paquete `wilson` para trabajar con los coeficientes de Wilson de una teoría efectiva. \n",
    "\n",
    "Una clase se declara con la palabra `class`:"
   ]
  },
  {
   "cell_type": "code",
   "execution_count": 1,
   "metadata": {},
   "outputs": [],
   "source": [
    "class Persona:\n",
    "    nombre = \"Richard\"\n",
    "    apellido = \"Feynman\"\n",
    "    nacimiento = 1918"
   ]
  },
  {
   "cell_type": "markdown",
   "metadata": {},
   "source": [
    "*Convención:* Los nombres de las clases deberían empezar por mayúscula, y si constan de varias palabras, usar \"camelcase\", es decir, cada palabra en mayúscula y sin separación: `ClaseConNombreLargo`. Por el contrario, las funciones y variables deberían estar siempre en minúscula, y si hay varias palabras, separadas por \\_: `funcion_con_nombre_largo`."
   ]
  },
  {
   "cell_type": "markdown",
   "metadata": {},
   "source": [
    "Las variables en el interior de una clase se denominan \"miembros\", y se puede acceder a ellas con un punto:"
   ]
  },
  {
   "cell_type": "code",
   "execution_count": 2,
   "metadata": {},
   "outputs": [
    {
     "name": "stdout",
     "output_type": "stream",
     "text": [
      "Richard\n"
     ]
    }
   ],
   "source": [
    "print(Persona.nombre)"
   ]
  },
  {
   "cell_type": "markdown",
   "metadata": {},
   "source": [
    "Para crear una variable (instancia) del tipo `Persona`, tenemos que llamar a la clase. En este caso, no tenemos que pasar ningún argumento (aún no, ya veremos más adelante):"
   ]
  },
  {
   "cell_type": "code",
   "execution_count": 3,
   "metadata": {},
   "outputs": [
    {
     "name": "stdout",
     "output_type": "stream",
     "text": [
      "Feynman, Richard\n"
     ]
    }
   ],
   "source": [
    "feynman = Persona()\n",
    "print(f\"{feynman.apellido}, {feynman.nombre}\")"
   ]
  },
  {
   "cell_type": "markdown",
   "metadata": {},
   "source": [
    "En Python, todos los miembros de una clase son públicos. Eso significa que podemos libremente modificarlos o crearlos (aunque en general no es recomendable)."
   ]
  },
  {
   "cell_type": "code",
   "execution_count": 4,
   "metadata": {},
   "outputs": [
    {
     "name": "stdout",
     "output_type": "stream",
     "text": [
      "Feynman, Richard P. (1918-1988)\n"
     ]
    }
   ],
   "source": [
    "feynman.nombre = \"Richard P.\"\n",
    "feynman.muerte = 1988\n",
    "print(f\"{feynman.apellido}, {feynman.nombre} ({feynman.nacimiento}-{feynman.muerte})\")"
   ]
  },
  {
   "cell_type": "markdown",
   "metadata": {},
   "source": [
    "## Métodos\n",
    "\n",
    "Las clases también pueden contener funciones (métodos), que en general se encargan de crear, modificar u operar con los miembros de una instancia. Vamos a añadir dos métodos a la clase `Persona`, uno para imprimir el nombre, y otro para cambiar el nombre:"
   ]
  },
  {
   "cell_type": "code",
   "execution_count": 5,
   "metadata": {},
   "outputs": [],
   "source": [
    "class Persona:\n",
    "    nombre = \"Richard\"\n",
    "    apellido = \"Feynman\"\n",
    "    nacimiento = 1918\n",
    "\n",
    "    def imprime_nombre(self):\n",
    "        print(f\"{self.apellido}, {self.nombre}\")\n",
    "\n",
    "    def cambia_nombre(self, nombre):\n",
    "        self.nombre = nombre"
   ]
  },
  {
   "cell_type": "code",
   "execution_count": 6,
   "metadata": {},
   "outputs": [
    {
     "name": "stdout",
     "output_type": "stream",
     "text": [
      "Feynman, Richard P.\n"
     ]
    }
   ],
   "source": [
    "feynman = Persona()\n",
    "Persona.cambia_nombre(feynman, \"Richard P.\")\n",
    "Persona.imprime_nombre(feynman)"
   ]
  },
  {
   "cell_type": "markdown",
   "metadata": {},
   "source": [
    "Los métodos son funciones definidas dentro de la clase (es decir, con indentación). El primer argumento de un miembro siempre es `self`, que se corresponde con la instancia utilizada. Para acceder a los miembros de la instancia, hay que usar `self.miembro`.\n",
    "\n",
    "La notación usada arriba para llamar a un método, aunque es correcta, es un poco pesada y en la práctica no se usa nunca. En su lugar, se puede usar:"
   ]
  },
  {
   "cell_type": "code",
   "execution_count": null,
   "metadata": {},
   "outputs": [],
   "source": [
    "feynman = Persona()\n",
    "feynman.cambia_nombre(\"Richard P.\")\n",
    "feynman.imprime_nombre()"
   ]
  },
  {
   "cell_type": "markdown",
   "metadata": {},
   "source": [
    "En este caso, al llamar al método no hay que volver a pasar la instancia."
   ]
  },
  {
   "cell_type": "markdown",
   "metadata": {},
   "source": [
    "### Dunders\n",
    "\n",
    "Las clases tienen algunos métodos especiales reconocidos por Python, y que sirven para realizar operaciones comunes con variables. Estos métodos tienen un nombre que empieza y termina por doble `_`, por lo que se les conoce como \"dunder\" (\"**d**ouble **under**score\"). Uno de los más importantes es `__init__`, que se ejecuta al crear una instancia, y que nos permite, por ejemplo, dar valores iniciales a los miembros:"
   ]
  },
  {
   "cell_type": "code",
   "execution_count": 7,
   "metadata": {},
   "outputs": [],
   "source": [
    "class Persona:\n",
    "    def __init__(self, nombre, apellido, nacimiento):\n",
    "        self.nombre = nombre\n",
    "        self.apellido = apellido\n",
    "        self.nacimiento = nacimiento\n",
    "        \n",
    "    def imprime_nombre(self):\n",
    "        print(f\"{self.apellido}, {self.nombre}\")\n",
    "\n",
    "    def cambia_nombre(self, nombre):\n",
    "        self.nombre = nombre"
   ]
  },
  {
   "cell_type": "code",
   "execution_count": 8,
   "metadata": {},
   "outputs": [
    {
     "name": "stdout",
     "output_type": "stream",
     "text": [
      "Higgs, Peter W.\n"
     ]
    }
   ],
   "source": [
    "higgs = Persona(\"Peter\", \"Higgs\", 1929)\n",
    "higgs.cambia_nombre(\"Peter W.\")\n",
    "higgs.imprime_nombre()"
   ]
  },
  {
   "cell_type": "markdown",
   "metadata": {},
   "source": [
    "Otro dunder frecuente es `__repr__`, que crea un string que representa a la instancia, por ejemplo, al usar `print`:"
   ]
  },
  {
   "cell_type": "code",
   "execution_count": null,
   "metadata": {},
   "outputs": [],
   "source": [
    "print(higgs)"
   ]
  },
  {
   "cell_type": "code",
   "execution_count": 10,
   "metadata": {},
   "outputs": [],
   "source": [
    "class Persona:\n",
    "    def __init__(self, nombre, apellido, nacimiento):\n",
    "        self.nombre = nombre\n",
    "        self.apellido = apellido\n",
    "        self.nacimiento = nacimiento\n",
    "        \n",
    "    def __repr__(self):\n",
    "        return f\"{self.apellido}, {self.nombre} ({self.nacimiento})\"\n",
    "\n",
    "    def cambia_nombre(self, nombre):\n",
    "        self.nombre = nombre"
   ]
  },
  {
   "cell_type": "code",
   "execution_count": 11,
   "metadata": {},
   "outputs": [
    {
     "name": "stdout",
     "output_type": "stream",
     "text": [
      "Higgs, Peter W. (1929)\n"
     ]
    }
   ],
   "source": [
    "higgs = Persona(\"Peter\", \"Higgs\", 1929)\n",
    "higgs.cambia_nombre(\"Peter W.\")\n",
    "print(higgs)"
   ]
  },
  {
   "cell_type": "markdown",
   "metadata": {},
   "source": [
    "Otas posibilidades de los dunder es implementar opeardores matemáticos + - * / > <, funciones como `len()`, `abs()`, `round()`, etc."
   ]
  },
  {
   "cell_type": "markdown",
   "metadata": {},
   "source": [
    "### Miembros de clase vs Miembros de instancia\n",
    "\n",
    "Hemos visto dos formas de crear miembros: bien declarándolos directamente en el cuerpo de la clase, o bien desde un método, usando `self.miembro =`. Los primeros son miembros de clase, y los segundos son miembros de instancia. \n",
    "\n",
    "En el caso de los miembros simples (`int`, `float`, `str`,...) no hay mucha diferencia, ya que los miembros de clase se pueden modificar independientemente para cada instancia. \n",
    "\n",
    "Sin embargo, esto no ocurre con los miembros de clase compuestos (como una lista), que están compartidos por todas las instancias. Para que sean independientes, hay que emplear miembros de instancia:"
   ]
  },
  {
   "cell_type": "code",
   "execution_count": 12,
   "metadata": {},
   "outputs": [],
   "source": [
    "class Clase:\n",
    "    str_clase = \"String de clase\"\n",
    "    lista_clase = [1, 2, 3]\n",
    "\n",
    "    def __init__(self):\n",
    "        self.str_instancia = \"String de instancia\"\n",
    "        self.lista_instancia = [11, 12, 13]"
   ]
  },
  {
   "cell_type": "code",
   "execution_count": 13,
   "metadata": {},
   "outputs": [
    {
     "name": "stdout",
     "output_type": "stream",
     "text": [
      "String de clase\n",
      "[1, 2, 3, 4]\n",
      "String de instancia\n",
      "[11, 12, 13]\n"
     ]
    }
   ],
   "source": [
    "c1 = Clase()\n",
    "c1.str_clase = \"modificado\"\n",
    "c1.lista_clase.append(4)\n",
    "c1.str_instancia = \"modificado\"\n",
    "c1.lista_instancia.append(14)\n",
    "\n",
    "c2 = Clase()\n",
    "print(c2.str_clase)\n",
    "print(c2.lista_clase)\n",
    "print(c2.str_instancia)\n",
    "print(c2.lista_instancia)"
   ]
  },
  {
   "cell_type": "markdown",
   "metadata": {},
   "source": [
    "## Propiedades\n",
    "\n",
    "Una propiedad es similar a un miembro, con la particularidad de que tenemos métodos específicos para modificarla y/o leerla. Por ejemplo, vamos a definir dos propiedades para el año de nacimiento y muerte de una persona, y en los métodos para crearlas, comprobaremos que las fechas sean correctas (nacimiento antes que muerte, y ambas antes del año actual):"
   ]
  },
  {
   "cell_type": "code",
   "execution_count": 14,
   "metadata": {},
   "outputs": [],
   "source": [
    "class Persona:\n",
    "    def __init__(self, nombre, apellido, nacimiento):\n",
    "        self.nombre = nombre\n",
    "        self.apellido = apellido\n",
    "        self.nacimiento = nacimiento\n",
    "\n",
    "    def __repr__(self):\n",
    "        if '_muerte' in self.__dict__:\n",
    "            return f\"{self.apellido}, {self.nombre} ({self.nacimiento}-{self._muerte})\"\n",
    "        else:\n",
    "            return f\"{self.apellido}, {self.nombre} ({self.nacimiento})\"\n",
    "\n",
    "    def get_nacimiento(self):\n",
    "        return self._nacimiento\n",
    "\n",
    "    def set_nacimiento(self, fecha):\n",
    "        if fecha > 2022:\n",
    "            raise ValueError(\"Fecha de nacimiento posterior al año actual\")\n",
    "        if '_muerte' in self.__dict__:\n",
    "            if fecha > self._muerte:\n",
    "                raise ValueError(\"Fecha de nacimiento posterior a la fecha de muerte\")\n",
    "        self._nacimiento = fecha\n",
    "\n",
    "    def get_muerte(self):\n",
    "        if \"_muerte\" in self.__dict__:\n",
    "            return self._muerte\n",
    "        else:\n",
    "            raise AttributeError(\"No hay fecha de muerte\")\n",
    "\n",
    "    def set_muerte(self, fecha):\n",
    "        if fecha > 2022:\n",
    "            raise ValueError(\"Fecha de muerte posterior al año actual\")\n",
    "        if fecha < self._nacimiento:\n",
    "            raise ValueError(\"Fecha de muerte anterior a la fecha de nacimiento\")\n",
    "        self._muerte = fecha\n",
    "\n",
    "    nacimiento = property(get_nacimiento, set_nacimiento)\n",
    "    muerte = property(get_muerte, set_muerte)"
   ]
  },
  {
   "cell_type": "markdown",
   "metadata": {},
   "source": [
    "Aquí están sucediendo varias cosas:\n",
    "* Tenemos las propiedades `nacimiento` y `muerte`, y los miembros `_nacimiento` y `_muerte`. El `_` al inicio de un miembro indica que no debería ser usado directamente por un usuario (aunque todos los miembros son públicos, así que no hay ninguna garantía de que un usuario no acceda directamente a ellos).Las propiedades actuarán como el intermediario para tratar con los valores internos.\n",
    "* Por cada propiedad tenemos dos métodos: uno llamado `get_`, cuya función es devolver el valor interno, y otro llamado `set_`, cuya función es modificar el valor interno una vez hemos comprobado que el nuevo valor es válido.\n",
    "* Si el valor introducido no es válido, le decimos a Python que genere un error con `raise`.\n",
    "* Tenemos que comprobar si la persona tiene una fecha de muerte. Para ello usamos `self.__dict__`, que es un diccionario que contiene como entradas todos los miembros de la instancia. Si aún no hemos definido una fecha de muerte, entonces `_muerte` no se encontrará en el diccionario.\n",
    "* Finalmente, declaramos que `nacimiento` y `muerte` son propiedades con la función `property`, que le dice a python cuáles son los métodos necesarios para leer y modificar la propiedad.\n",
    "\n",
    "Veamos cómo funciona:"
   ]
  },
  {
   "cell_type": "code",
   "execution_count": null,
   "metadata": {},
   "outputs": [],
   "source": [
    "feynman = Persona(\"Richard\", \"Feynman\", 1918)"
   ]
  },
  {
   "cell_type": "code",
   "execution_count": null,
   "metadata": {},
   "outputs": [],
   "source": [
    "feynman.nacimiento"
   ]
  },
  {
   "cell_type": "code",
   "execution_count": null,
   "metadata": {},
   "outputs": [],
   "source": [
    "# Nos dará un mensaje de error\n",
    "feynman.nacimiento = 2035"
   ]
  },
  {
   "cell_type": "code",
   "execution_count": null,
   "metadata": {},
   "outputs": [],
   "source": [
    "# Modificamos la fecha de nacimiento\n",
    "feynman.nacimiento = 1917\n",
    "feynman.nacimiento"
   ]
  },
  {
   "cell_type": "code",
   "execution_count": null,
   "metadata": {},
   "outputs": [],
   "source": [
    "# Mensaje de error: aún no hemos definido la fecha de muerte\n",
    "feynman.muerte"
   ]
  },
  {
   "cell_type": "code",
   "execution_count": null,
   "metadata": {},
   "outputs": [],
   "source": [
    "# Mensaje de error: fecha de muerte antes de fecha de nacimiento\n",
    "feynman.muerte = 1901"
   ]
  },
  {
   "cell_type": "code",
   "execution_count": null,
   "metadata": {},
   "outputs": [],
   "source": [
    "feynman.muerte = 1988\n",
    "feynman.muerte"
   ]
  },
  {
   "cell_type": "markdown",
   "metadata": {},
   "source": [
    "Si te fijas, en la función `__init__` estamos usando la propiedad `nacimiento` en lugar del miembro interno `_nacimiento`. Esto permite que comprobemos que la fecha sea correcta incluso cuando creamos una instancia:"
   ]
  },
  {
   "cell_type": "code",
   "execution_count": null,
   "metadata": {},
   "outputs": [],
   "source": [
    "feynman = Persona(\"Richard\", \"Feynman\", 2047)"
   ]
  },
  {
   "cell_type": "markdown",
   "metadata": {},
   "source": [
    "### Decoradores\n",
    "\n",
    "Hay otra forma de definir las propiedades, que resulta algo más concisa. En vez de usar `property` como una función, la usamos como un decorador. Un decorador es una \"metafunción\": una función que acepta como argumento una función y devuelve otra función:"
   ]
  },
  {
   "cell_type": "code",
   "execution_count": null,
   "metadata": {},
   "outputs": [],
   "source": [
    "def comentario(f):\n",
    "    def comentada(x):\n",
    "        print(\"Este decorador añade un comentario antes de la función\")\n",
    "        return f(x)\n",
    "\n",
    "    return comentada\n",
    "    \n",
    "\n",
    "def cuadrado(x):\n",
    "    return x**2\n",
    "\n",
    "comentario(cuadrado)(5)"
   ]
  },
  {
   "cell_type": "markdown",
   "metadata": {},
   "source": [
    "Para simplificar la notación, en vez de tener que llamar a `comentario(cuadrado)`, podemos indicar el decorador que vamos a usar antes de la función decorada con una `@`:"
   ]
  },
  {
   "cell_type": "code",
   "execution_count": null,
   "metadata": {},
   "outputs": [],
   "source": [
    "def comentario(f):\n",
    "    def comentada(x):\n",
    "        print(\"Este decorador añade un comentario antes de la función\")\n",
    "        return f(x)\n",
    "\n",
    "    return comentada\n",
    "    \n",
    "@comentario\n",
    "def cuadrado(x):\n",
    "    return x**2\n",
    "\n",
    "cuadrado(5)"
   ]
  },
  {
   "cell_type": "markdown",
   "metadata": {},
   "source": [
    "Lo que hace el decorador es en realidad definir\n",
    "```python\n",
    "cuadrado = comentario(cuadrado)\n",
    "```"
   ]
  },
  {
   "cell_type": "markdown",
   "metadata": {},
   "source": [
    "Volviendo a las propiedades, la forma elegante de definirlas es crear dos métodos, ambos con el nombre de la propiedad. El método para leer se decora con `@property`, y el método para modificarla con `@nombre_de_propiedad.setter`:"
   ]
  },
  {
   "cell_type": "code",
   "execution_count": null,
   "metadata": {},
   "outputs": [],
   "source": [
    "class Persona:\n",
    "    def __init__(self, nombre, apellido, nacimiento):\n",
    "        self.nombre = nombre\n",
    "        self.apellido = apellido\n",
    "        self.nacimiento = nacimiento\n",
    "\n",
    "    def __repr__(self):\n",
    "        if '_muerte' in self.__dict__:\n",
    "            return f\"{self.apellido}, {self.nombre} ({self.nacimiento}-{self._muerte})\"\n",
    "        else:\n",
    "            return f\"{self.apellido}, {self.nombre} ({self.nacimiento})\"\n",
    "\n",
    "    @property\n",
    "    def nacimiento(self):\n",
    "        return self._nacimiento\n",
    "\n",
    "    @nacimiento.setter\n",
    "    def nacimiento(self, fecha):\n",
    "        if fecha > 2022:\n",
    "            raise ValueError(\"Fecha de nacimiento posterior al año actual\")\n",
    "        if '_muerte' in self.__dict__:\n",
    "            if fecha > self._muerte:\n",
    "                raise ValueError(\"Fecha de nacimiento posterior a la fecha de muerte\")\n",
    "        self._nacimiento = fecha\n",
    "\n",
    "    @property\n",
    "    def muerte(self):\n",
    "        if \"_muerte\" in self.__dict__:\n",
    "            return self._muerte\n",
    "        else:\n",
    "            raise AttributeError(\"No hay fecha de muerte\")\n",
    "\n",
    "    @muerte.setter\n",
    "    def muerte(self, fecha):\n",
    "        if fecha > 2022:\n",
    "            raise ValueError(\"Fecha de muerte posterior al año actual\")\n",
    "        if fecha < self._nacimiento:\n",
    "            raise ValueError(\"Fecha de muerte anterior a la fecha de nacimiento\")\n",
    "        self._muerte = fecha"
   ]
  },
  {
   "cell_type": "markdown",
   "metadata": {},
   "source": [
    "También podemos crear propiedades que solo se puedan leer, pero no modificar. Lo único que tenemos que hacer es crear una propiedad que no tenga un método `.setter`. Por ejemplo, vamos a añadir una propiedad que calcule la edad de una persona:"
   ]
  },
  {
   "cell_type": "code",
   "execution_count": null,
   "metadata": {},
   "outputs": [],
   "source": [
    "class Persona:\n",
    "    def __init__(self, nombre, apellido, nacimiento):\n",
    "        self.nombre = nombre\n",
    "        self.apellido = apellido\n",
    "        self.nacimiento = nacimiento\n",
    "\n",
    "    def __repr__(self):\n",
    "        if '_muerte' in self.__dict__:\n",
    "            return f\"{self.apellido}, {self.nombre} ({self.nacimiento}-{self._muerte})\"\n",
    "        else:\n",
    "            return f\"{self.apellido}, {self.nombre} ({self.nacimiento})\"\n",
    "\n",
    "    @property\n",
    "    def nacimiento(self):\n",
    "        return self._nacimiento\n",
    "\n",
    "    @nacimiento.setter\n",
    "    def nacimiento(self, fecha):\n",
    "        if fecha > 2022:\n",
    "            raise ValueError(\"Fecha de nacimiento posterior al año actual\")\n",
    "        if '_muerte' in self.__dict__:\n",
    "            if fecha > self._muerte:\n",
    "                raise ValueError(\"Fecha de nacimiento posterior a la fecha de muerte\")\n",
    "        self._nacimiento = fecha\n",
    "\n",
    "    @property\n",
    "    def muerte(self):\n",
    "        if \"_muerte\" in self.__dict__:\n",
    "            return self._muerte\n",
    "        else:\n",
    "            raise AttributeError(\"No hay fecha de muerte\")\n",
    "\n",
    "    @muerte.setter\n",
    "    def muerte(self, fecha):\n",
    "        if fecha > 2022:\n",
    "            raise ValueError(\"Fecha de muerte posterior al año actual\")\n",
    "        if fecha < self._nacimiento:\n",
    "            raise ValueError(\"Fecha de muerte anterior a la fecha de nacimiento\")\n",
    "        self._muerte = fecha\n",
    "\n",
    "    @property\n",
    "    def edad(self):\n",
    "        if '_muerte' in self.__dict__:\n",
    "            # Si la persona está muerta, calculamos la edad en el momento de la muerte\n",
    "            return self._muerte - self._nacimiento\n",
    "        else:\n",
    "            # Si la persona está viva, calculamos la edad actual\n",
    "            return 2022 - self._nacimiento"
   ]
  },
  {
   "cell_type": "code",
   "execution_count": null,
   "metadata": {},
   "outputs": [],
   "source": [
    "higgs = Persona(\"Peter\", \"Higgs\", 1929)\n",
    "print(higgs.edad)"
   ]
  },
  {
   "cell_type": "code",
   "execution_count": null,
   "metadata": {},
   "outputs": [],
   "source": [
    "feynman = Persona(\"Richard\", \"Feynman\", 1918)\n",
    "feynman.muerte = 1988\n",
    "print(feynman.edad)"
   ]
  },
  {
   "cell_type": "markdown",
   "metadata": {},
   "source": [
    "### Cachés\n",
    "\n",
    "Una de las ventajas del desdoblamiento miembros/propiedades es la posibilidad de crear cachés. En el ejemplo anterior, cada vez que accedemos a la propiedad `.edad` la estamos recalculando, aunque el valor no haya cambiado. En este caso no supone un problema, pero a veces el cálculo de una propiedad puede ser costoso, y es mejor almacenar su valor.\n",
    "\n",
    "El código siguiente es una modificación de la clase `Persona` en el que la edad solamente se recalcula si ha cambiado la fecha de nacimiento o de muerte (para simular un cálculo costoso, usamos la función `sleep()` que espera un número de segundos):"
   ]
  },
  {
   "cell_type": "code",
   "execution_count": 1,
   "metadata": {},
   "outputs": [],
   "source": [
    "from time import sleep\n",
    "\n",
    "def diferencia(x, y):\n",
    "    #Espera 10s antes de calcular\n",
    "    sleep(10)\n",
    "    return x-y\n",
    "\n",
    "class Persona:\n",
    "    def __init__(self, nombre, apellido, nacimiento):\n",
    "        self.nombre = nombre\n",
    "        self.apellido = apellido\n",
    "        self.nacimiento = nacimiento\n",
    "\n",
    "    def __repr__(self):\n",
    "        if '_muerte' in self.__dict__:\n",
    "            return f\"{self.apellido}, {self.nombre} ({self.nacimiento}-{self._muerte})\"\n",
    "        else:\n",
    "            return f\"{self.apellido}, {self.nombre} ({self.nacimiento})\"\n",
    "\n",
    "    @property\n",
    "    def nacimiento(self):\n",
    "        return self._nacimiento\n",
    "\n",
    "    @nacimiento.setter\n",
    "    def nacimiento(self, fecha):\n",
    "        if fecha > 2022:\n",
    "            raise ValueError(\"Fecha de nacimiento posterior al año actual\")\n",
    "        if '_muerte' in self.__dict__:\n",
    "            if fecha > self._muerte:\n",
    "                raise ValueError(\"Fecha de nacimiento posterior a la fecha de muerte\")\n",
    "        self._nacimiento = fecha\n",
    "        if '_edad' in self.__dict__:\n",
    "            del self._edad  # Eliminamos la edad al cambiar la fecha de nacimiento\n",
    "\n",
    "    @property\n",
    "    def muerte(self):\n",
    "        if \"_muerte\" in self.__dict__:\n",
    "            return self._muerte\n",
    "        else:\n",
    "            raise AttributeError(\"No hay fecha de muerte\")\n",
    "\n",
    "    @muerte.setter\n",
    "    def muerte(self, fecha):\n",
    "        if fecha > 2022:\n",
    "            raise ValueError(\"Fecha de muerte posterior al año actual\")\n",
    "        if fecha < self._nacimiento:\n",
    "            raise ValueError(\"Fecha de muerte anterior a la fecha de nacimiento\")\n",
    "        self._muerte = fecha\n",
    "        if '_edad' in self.__dict__:\n",
    "            del self._edad  # Eliminamos la edad al cambiar la fecha de muerte\n",
    "\n",
    "    @property\n",
    "    def edad(self):\n",
    "        if '_edad' not in self.__dict__:\n",
    "            if '_muerte' in self.__dict__:\n",
    "                # Si la persona está muerta, calculamos la edad en el momento de la muerte\n",
    "                self._edad = diferencia(self._muerte, self._nacimiento)\n",
    "            else:\n",
    "                # Si la persona está viva, calculamos la edad actual\n",
    "                self._edad = diferencia(2022, self._nacimiento)\n",
    "        return self._edad"
   ]
  },
  {
   "cell_type": "code",
   "execution_count": 2,
   "metadata": {},
   "outputs": [
    {
     "name": "stdout",
     "output_type": "stream",
     "text": [
      "93\n"
     ]
    }
   ],
   "source": [
    "higgs = Persona(\"Peter\", \"Higgs\", 1929)\n",
    "print(higgs.edad)"
   ]
  },
  {
   "cell_type": "code",
   "execution_count": 3,
   "metadata": {},
   "outputs": [
    {
     "name": "stdout",
     "output_type": "stream",
     "text": [
      "93\n"
     ]
    }
   ],
   "source": [
    "print(higgs.edad)"
   ]
  },
  {
   "cell_type": "markdown",
   "metadata": {},
   "source": [
    "## Métodos de clase y estáticos\n",
    "\n",
    "Imagina que queremos crear un método `Persona.desde_dict()` que cree una instancia de `Persona` a partir de los datos de un diccionario. No podemos usar un método normal, ya que para ello deberíamos pasarle como primer argumento una instancia a través de `self`, pero la instancia aún no existe. Python ofrece otros dos tipos de métodos que se pueden usar en este caso."
   ]
  },
  {
   "cell_type": "markdown",
   "metadata": {},
   "source": [
    "Un método de clase tiene acceso solamente a los miembros de clase, pero no a los miembros de instancia. Para crearlo hay que usar el decorador `@classmethod`, y el primer argumento del método, `cls`, hace referencia a la propia clase, y se pasa de forma implícita, del mismo modo que `self` en los métodos:"
   ]
  },
  {
   "cell_type": "code",
   "execution_count": 14,
   "metadata": {},
   "outputs": [],
   "source": [
    "class Persona:\n",
    "    def __init__(self, nombre, apellido, nacimiento):\n",
    "        self.nombre = nombre\n",
    "        self.apellido = apellido\n",
    "        self.nacimiento = nacimiento\n",
    "\n",
    "    def __repr__(self):\n",
    "        if '_muerte' in self.__dict__:\n",
    "            return f\"{self.apellido}, {self.nombre} ({self.nacimiento}-{self._muerte})\"\n",
    "        else:\n",
    "            return f\"{self.apellido}, {self.nombre} ({self.nacimiento})\"\n",
    "\n",
    "    @property\n",
    "    def nacimiento(self):\n",
    "        return self._nacimiento\n",
    "\n",
    "    @nacimiento.setter\n",
    "    def nacimiento(self, fecha):\n",
    "        if fecha > 2022:\n",
    "            raise ValueError(\"Fecha de nacimiento posterior al año actual\")\n",
    "        if '_muerte' in self.__dict__:\n",
    "            if fecha > self._muerte:\n",
    "                raise ValueError(\"Fecha de nacimiento posterior a la fecha de muerte\")\n",
    "        self._nacimiento = fecha\n",
    "        if '_edad' in self.__dict__:\n",
    "            del self._edad\n",
    "\n",
    "    @property\n",
    "    def muerte(self):\n",
    "        if \"_muerte\" in self.__dict__:\n",
    "            return self._muerte\n",
    "        else:\n",
    "            raise AttributeError(\"No hay fecha de muerte\")\n",
    "\n",
    "    @muerte.setter\n",
    "    def muerte(self, fecha):\n",
    "        if fecha > 2022:\n",
    "            raise ValueError(\"Fecha de muerte posterior al año actual\")\n",
    "        if fecha < self._nacimiento:\n",
    "            raise ValueError(\"Fecha de muerte anterior a la fecha de nacimiento\")\n",
    "        self._muerte = fecha\n",
    "        if '_edad' in self.__dict__:\n",
    "            del self._edad\n",
    "\n",
    "    @property\n",
    "    def edad(self):\n",
    "        if '_edad' not in self.__dict__:\n",
    "            if '_muerte' in self.__dict__:\n",
    "                # Si la persona está muerta, calculamos la edad en el momento de la muerte\n",
    "                self._edad = diferencia(self._muerte, self._nacimiento)\n",
    "            else:\n",
    "                # Si la persona está viva, calculamos la edad actual\n",
    "                self._edad = diferencia(2022, self._nacimiento)\n",
    "        return self._edad\n",
    "\n",
    "    def a_dict(self):\n",
    "        d = {'nombre': self.nombre, 'apellido': self.apellido, 'nacimiento': self.nacimiento}\n",
    "        if '_muerte' in self.__dict__:\n",
    "            d.update({'muerte': self._muerte})\n",
    "        return d\n",
    "\n",
    "    @classmethod\n",
    "    def desde_dict(cls, d):\n",
    "        p = cls(d['nombre'], d['apellido'], d['nacimiento'])\n",
    "        if 'muerte' in d:\n",
    "            p.muerte = d['muerte']\n",
    "        return p"
   ]
  },
  {
   "cell_type": "code",
   "execution_count": 15,
   "metadata": {},
   "outputs": [
    {
     "name": "stdout",
     "output_type": "stream",
     "text": [
      "Pauli, Wolfgang E. (1900-1958)\n"
     ]
    }
   ],
   "source": [
    "pauli = Persona.desde_dict({'nombre': 'Wolfgang E.', 'apellido': 'Pauli', 'nacimiento': 1900, 'muerte': 1958})\n",
    "print(pauli)"
   ]
  },
  {
   "cell_type": "markdown",
   "metadata": {},
   "source": [
    "Los métodos estáticos, por su parte, no tienen acceso a los miembros, y por lo tanto se comportan como una función normal. Se declaran con el decorador `@staticmethod`, y no tienen ningún argumento adiccional:"
   ]
  },
  {
   "cell_type": "code",
   "execution_count": 9,
   "metadata": {},
   "outputs": [],
   "source": [
    "class Persona:\n",
    "    def __init__(self, nombre, apellido, nacimiento):\n",
    "        self.nombre = nombre\n",
    "        self.apellido = apellido\n",
    "        self.nacimiento = nacimiento\n",
    "\n",
    "    def __repr__(self):\n",
    "        if '_muerte' in self.__dict__:\n",
    "            return f\"{self.apellido}, {self.nombre} ({self.nacimiento}-{self._muerte})\"\n",
    "        else:\n",
    "            return f\"{self.apellido}, {self.nombre} ({self.nacimiento})\"\n",
    "\n",
    "    @property\n",
    "    def nacimiento(self):\n",
    "        return self._nacimiento\n",
    "\n",
    "    @nacimiento.setter\n",
    "    def nacimiento(self, fecha):\n",
    "        if fecha > 2022:\n",
    "            raise ValueError(\"Fecha de nacimiento posterior al año actual\")\n",
    "        if '_muerte' in self.__dict__:\n",
    "            if fecha > self._muerte:\n",
    "                raise ValueError(\"Fecha de nacimiento posterior a la fecha de muerte\")\n",
    "        self._nacimiento = fecha\n",
    "        if '_edad' in self.__dict__:\n",
    "            del self._edad\n",
    "\n",
    "    @property\n",
    "    def muerte(self):\n",
    "        if \"_muerte\" in self.__dict__:\n",
    "            return self._muerte\n",
    "        else:\n",
    "            raise AttributeError(\"No hay fecha de muerte\")\n",
    "\n",
    "    @muerte.setter\n",
    "    def muerte(self, fecha):\n",
    "        if fecha > 2022:\n",
    "            raise ValueError(\"Fecha de muerte posterior al año actual\")\n",
    "        if fecha < self._nacimiento:\n",
    "            raise ValueError(\"Fecha de muerte anterior a la fecha de nacimiento\")\n",
    "        self._muerte = fecha\n",
    "        if '_edad' in self.__dict__:\n",
    "            del self._edad\n",
    "\n",
    "    @property\n",
    "    def edad(self):\n",
    "        if '_edad' not in self.__dict__:\n",
    "            if '_muerte' in self.__dict__:\n",
    "                # Si la persona está muerta, calculamos la edad en el momento de la muerte\n",
    "                self._edad = diferencia(self._muerte, self._nacimiento)\n",
    "            else:\n",
    "                # Si la persona está viva, calculamos la edad actual\n",
    "                self._edad = diferencia(2022, self._nacimiento)\n",
    "        return self._edad\n",
    "\n",
    "    def a_dict(self):\n",
    "        d = {'nombre': self.nombre, 'apellido': self.apellido, 'nacimiento': self.nacimiento}\n",
    "        if '_muerte' in self.__dict__:\n",
    "            d.update({'muerte': self._muerte})\n",
    "        return d\n",
    "\n",
    "    @staticmethod\n",
    "    def desde_dict(d):\n",
    "        p = Persona(d['nombre'], d['apellido'], d['nacimiento'])\n",
    "        if 'muerte' in d:\n",
    "            p.muerte = d['muerte']\n",
    "        return p"
   ]
  },
  {
   "cell_type": "code",
   "execution_count": 10,
   "metadata": {},
   "outputs": [
    {
     "name": "stdout",
     "output_type": "stream",
     "text": [
      "Weinberg, Steven (1933-2021)\n"
     ]
    }
   ],
   "source": [
    "weinberg = Persona.desde_dict({'nombre': 'Steven', 'apellido': 'Weinberg', 'nacimiento': 1933, 'muerte': 2021})\n",
    "print(weinberg)"
   ]
  },
  {
   "cell_type": "markdown",
   "metadata": {},
   "source": [
    "## Serialización y deserialización\n",
    "\n",
    "La serialización es el proceso de convertir una instancia en un formato que se pueda almacenar externamente al programa, y la deserialización es el proceso inverso, de reconstruir una instancia a partir de los datos almacenados."
   ]
  },
  {
   "cell_type": "markdown",
   "metadata": {},
   "source": [
    "La manera más sencilla de hacerlo es mediante un archivo de texto plano, aunque tenemos el inconveniente de que los datos almacenados no preservan la estructura interna de la clase."
   ]
  },
  {
   "cell_type": "code",
   "execution_count": 21,
   "metadata": {},
   "outputs": [],
   "source": [
    "class Persona:\n",
    "    def __init__(self, nombre, apellido, nacimiento):\n",
    "        self.nombre = nombre\n",
    "        self.apellido = apellido\n",
    "        self.nacimiento = nacimiento\n",
    "\n",
    "    def __repr__(self):\n",
    "        if '_muerte' in self.__dict__:\n",
    "            return f\"{self.apellido}, {self.nombre} ({self.nacimiento}-{self._muerte})\"\n",
    "        else:\n",
    "            return f\"{self.apellido}, {self.nombre} ({self.nacimiento})\"\n",
    "\n",
    "    @property\n",
    "    def nacimiento(self):\n",
    "        return self._nacimiento\n",
    "\n",
    "    @nacimiento.setter\n",
    "    def nacimiento(self, fecha):\n",
    "        if fecha > 2022:\n",
    "            raise ValueError(\"Fecha de nacimiento posterior al año actual\")\n",
    "        if '_muerte' in self.__dict__:\n",
    "            if fecha > self._muerte:\n",
    "                raise ValueError(\"Fecha de nacimiento posterior a la fecha de muerte\")\n",
    "        self._nacimiento = fecha\n",
    "        if '_edad' in self.__dict__:\n",
    "            del self._edad\n",
    "\n",
    "    @property\n",
    "    def muerte(self):\n",
    "        if \"_muerte\" in self.__dict__:\n",
    "            return self._muerte\n",
    "        else:\n",
    "            raise AttributeError(\"No hay fecha de muerte\")\n",
    "\n",
    "    @muerte.setter\n",
    "    def muerte(self, fecha):\n",
    "        if fecha > 2022:\n",
    "            raise ValueError(\"Fecha de muerte posterior al año actual\")\n",
    "        if fecha < self._nacimiento:\n",
    "            raise ValueError(\"Fecha de muerte anterior a la fecha de nacimiento\")\n",
    "        self._muerte = fecha\n",
    "        if '_edad' in self.__dict__:\n",
    "            del self._edad\n",
    "\n",
    "    @property\n",
    "    def edad(self):\n",
    "        if '_edad' not in self.__dict__:\n",
    "            if '_muerte' in self.__dict__:\n",
    "                # Si la persona está muerta, calculamos la edad en el momento de la muerte\n",
    "                self._edad = diferencia(self._muerte, self._nacimiento)\n",
    "            else:\n",
    "                # Si la persona está viva, calculamos la edad actual\n",
    "                self._edad = diferencia(2022, self._nacimiento)\n",
    "        return self._edad\n",
    "\n",
    "    def a_dict(self):\n",
    "        d = {'nombre': self.nombre, 'apellido': self.apellido, 'nacimiento': self.nacimiento}\n",
    "        if '_muerte' in self.__dict__:\n",
    "            d.update({'muerte': self._muerte})\n",
    "        return d\n",
    "\n",
    "    @staticmethod\n",
    "    def desde_dict(d):\n",
    "        p = Persona(d['nombre'], d['apellido'], d['nacimiento'])\n",
    "        if 'muerte' in d:\n",
    "            p.muerte = d['muerte']\n",
    "        return p\n",
    "\n",
    "    def a_txt(self, file):\n",
    "        file.write(self.nombre + '\\n')\n",
    "        file.write(self.apellido + '\\n')\n",
    "        file.write(str(self.nacimiento) + '\\n')\n",
    "        if '_muerte' in self.__dict__:\n",
    "            file.write(str(self._muerte) + '\\n')\n",
    "\n",
    "    @staticmethod\n",
    "    def desde_txt(file):\n",
    "        lineas = file.read().split('\\n')\n",
    "        nombre = lineas[0]\n",
    "        apellido = lineas[1]\n",
    "        nacimiento = int(lineas[2])\n",
    "        p = Persona(nombre, apellido, nacimiento)\n",
    "        if len(lineas) >= 4:\n",
    "            p.muerte = int(lineas[3])\n",
    "        return p"
   ]
  },
  {
   "cell_type": "code",
   "execution_count": 22,
   "metadata": {},
   "outputs": [],
   "source": [
    "salam = Persona('Abdus', 'Salam', 1926)\n",
    "salam.muerte = 1996\n",
    "with open('salam.txt', 'wt') as f:\n",
    "    salam.a_txt(f)"
   ]
  },
  {
   "cell_type": "code",
   "execution_count": 23,
   "metadata": {},
   "outputs": [
    {
     "name": "stdout",
     "output_type": "stream",
     "text": [
      "Salam, Abdus (1926-1996)\n"
     ]
    }
   ],
   "source": [
    "with open('salam.txt', 'rt') as f:\n",
    "    salam2 = Persona.desde_txt(f)\n",
    "\n",
    "print(salam2)"
   ]
  },
  {
   "cell_type": "markdown",
   "metadata": {},
   "source": [
    "Python tiene su propio formato para serializar y deserializar clases, llamado `pickle`. Tiene la ventaja de ser muy rápido, pero las desventajas de usar un formato binario (si intentas abrir un archivo con el editor de textos, tendrás un galimatías ilegible) y de ser específico de python."
   ]
  },
  {
   "cell_type": "code",
   "execution_count": 24,
   "metadata": {},
   "outputs": [],
   "source": [
    "import pickle\n",
    "\n",
    "class Persona:\n",
    "    def __init__(self, nombre, apellido, nacimiento):\n",
    "        self.nombre = nombre\n",
    "        self.apellido = apellido\n",
    "        self.nacimiento = nacimiento\n",
    "\n",
    "    def __repr__(self):\n",
    "        if '_muerte' in self.__dict__:\n",
    "            return f\"{self.apellido}, {self.nombre} ({self.nacimiento}-{self._muerte})\"\n",
    "        else:\n",
    "            return f\"{self.apellido}, {self.nombre} ({self.nacimiento})\"\n",
    "\n",
    "    @property\n",
    "    def nacimiento(self):\n",
    "        return self._nacimiento\n",
    "\n",
    "    @nacimiento.setter\n",
    "    def nacimiento(self, fecha):\n",
    "        if fecha > 2022:\n",
    "            raise ValueError(\"Fecha de nacimiento posterior al año actual\")\n",
    "        if '_muerte' in self.__dict__:\n",
    "            if fecha > self._muerte:\n",
    "                raise ValueError(\"Fecha de nacimiento posterior a la fecha de muerte\")\n",
    "        self._nacimiento = fecha\n",
    "        if '_edad' in self.__dict__:\n",
    "            del self._edad\n",
    "\n",
    "    @property\n",
    "    def muerte(self):\n",
    "        if \"_muerte\" in self.__dict__:\n",
    "            return self._muerte\n",
    "        else:\n",
    "            raise AttributeError(\"No hay fecha de muerte\")\n",
    "\n",
    "    @muerte.setter\n",
    "    def muerte(self, fecha):\n",
    "        if fecha > 2022:\n",
    "            raise ValueError(\"Fecha de muerte posterior al año actual\")\n",
    "        if fecha < self._nacimiento:\n",
    "            raise ValueError(\"Fecha de muerte anterior a la fecha de nacimiento\")\n",
    "        self._muerte = fecha\n",
    "        if '_edad' in self.__dict__:\n",
    "            del self._edad\n",
    "\n",
    "    @property\n",
    "    def edad(self):\n",
    "        if '_edad' not in self.__dict__:\n",
    "            if '_muerte' in self.__dict__:\n",
    "                # Si la persona está muerta, calculamos la edad en el momento de la muerte\n",
    "                self._edad = diferencia(self._muerte, self._nacimiento)\n",
    "            else:\n",
    "                # Si la persona está viva, calculamos la edad actual\n",
    "                self._edad = diferencia(2022, self._nacimiento)\n",
    "        return self._edad\n",
    "\n",
    "    def a_dict(self):\n",
    "        d = {'nombre': self.nombre, 'apellido': self.apellido, 'nacimiento': self.nacimiento}\n",
    "        if '_muerte' in self.__dict__:\n",
    "            d.update({'muerte': self._muerte})\n",
    "        return d\n",
    "\n",
    "    @staticmethod\n",
    "    def desde_dict(d):\n",
    "        p = Persona(d['nombre'], d['apellido'], d['nacimiento'])\n",
    "        if 'muerte' in d:\n",
    "            p.muerte = d['muerte']\n",
    "        return p\n",
    "\n",
    "    def a_txt(self, file):\n",
    "        file.write(self.nombre + '\\n')\n",
    "        file.write(self.apellido + '\\n')\n",
    "        file.write(str(self.nacimiento) + '\\n')\n",
    "        if '_muerte' in self.__dict__:\n",
    "            file.write(str(self._muerte) + '\\n')\n",
    "\n",
    "    @staticmethod\n",
    "    def desde_txt(file):\n",
    "        lineas = file.read().split('\\n')\n",
    "        nombre = lineas[0]\n",
    "        apellido = lineas[1]\n",
    "        nacimiento = int(lineas[2])\n",
    "        p = Persona(nombre, apellido, nacimiento)\n",
    "        if len(lineas) >= 4:\n",
    "            p.muerte = int(lineas[3])\n",
    "        return p\n",
    "\n",
    "    def a_pickle(self, file):\n",
    "        pickle.dump(self, file)\n",
    "\n",
    "    @staticmethod\n",
    "    def desde_pickle(file):\n",
    "        return pickle.load(file)"
   ]
  },
  {
   "cell_type": "code",
   "execution_count": 25,
   "metadata": {},
   "outputs": [],
   "source": [
    "glashow = Persona('Sheldon Lee', 'Glashow', 1932)\n",
    "with open('glashow.pickle', 'wb') as f:\n",
    "    glashow.a_pickle(f)"
   ]
  },
  {
   "cell_type": "code",
   "execution_count": 26,
   "metadata": {},
   "outputs": [
    {
     "name": "stdout",
     "output_type": "stream",
     "text": [
      "Glashow, Sheldon Lee (1932)\n"
     ]
    }
   ],
   "source": [
    "with open('glashow.pickle', 'rb') as f:\n",
    "    glashow2 = Persona.desde_pickle(f)\n",
    "\n",
    "print(glashow2)"
   ]
  },
  {
   "cell_type": "markdown",
   "metadata": {},
   "source": [
    "JSON y YAML son dos formatos que permiten almacenar datos estructurados de forma legible (texto plano) y estandarizada. En ambos casos, el funcionamiento básico convierte entre diccionarios y archivos:"
   ]
  },
  {
   "cell_type": "code",
   "execution_count": 27,
   "metadata": {},
   "outputs": [],
   "source": [
    "import json\n",
    "import yaml\n",
    "\n",
    "class Persona:\n",
    "    def __init__(self, nombre, apellido, nacimiento):\n",
    "        self.nombre = nombre\n",
    "        self.apellido = apellido\n",
    "        self.nacimiento = nacimiento\n",
    "\n",
    "    def __repr__(self):\n",
    "        if '_muerte' in self.__dict__:\n",
    "            return f\"{self.apellido}, {self.nombre} ({self.nacimiento}-{self._muerte})\"\n",
    "        else:\n",
    "            return f\"{self.apellido}, {self.nombre} ({self.nacimiento})\"\n",
    "\n",
    "    @property\n",
    "    def nacimiento(self):\n",
    "        return self._nacimiento\n",
    "\n",
    "    @nacimiento.setter\n",
    "    def nacimiento(self, fecha):\n",
    "        if fecha > 2022:\n",
    "            raise ValueError(\"Fecha de nacimiento posterior al año actual\")\n",
    "        if '_muerte' in self.__dict__:\n",
    "            if fecha > self._muerte:\n",
    "                raise ValueError(\"Fecha de nacimiento posterior a la fecha de muerte\")\n",
    "        self._nacimiento = fecha\n",
    "        if '_edad' in self.__dict__:\n",
    "            del self._edad\n",
    "\n",
    "    @property\n",
    "    def muerte(self):\n",
    "        if \"_muerte\" in self.__dict__:\n",
    "            return self._muerte\n",
    "        else:\n",
    "            raise AttributeError(\"No hay fecha de muerte\")\n",
    "\n",
    "    @muerte.setter\n",
    "    def muerte(self, fecha):\n",
    "        if fecha > 2022:\n",
    "            raise ValueError(\"Fecha de muerte posterior al año actual\")\n",
    "        if fecha < self._nacimiento:\n",
    "            raise ValueError(\"Fecha de muerte anterior a la fecha de nacimiento\")\n",
    "        self._muerte = fecha\n",
    "        if '_edad' in self.__dict__:\n",
    "            del self._edad\n",
    "\n",
    "    @property\n",
    "    def edad(self):\n",
    "        if '_edad' not in self.__dict__:\n",
    "            if '_muerte' in self.__dict__:\n",
    "                # Si la persona está muerta, calculamos la edad en el momento de la muerte\n",
    "                self._edad = diferencia(self._muerte, self._nacimiento)\n",
    "            else:\n",
    "                # Si la persona está viva, calculamos la edad actual\n",
    "                self._edad = diferencia(2022, self._nacimiento)\n",
    "        return self._edad\n",
    "\n",
    "    def a_dict(self):\n",
    "        d = {'nombre': self.nombre, 'apellido': self.apellido, 'nacimiento': self.nacimiento}\n",
    "        if '_muerte' in self.__dict__:\n",
    "            d.update({'muerte': self._muerte})\n",
    "        return d\n",
    "\n",
    "    @staticmethod\n",
    "    def desde_dict(d):\n",
    "        p = Persona(d['nombre'], d['apellido'], d['nacimiento'])\n",
    "        if 'muerte' in d:\n",
    "            p.muerte = d['muerte']\n",
    "        return p\n",
    "\n",
    "    def a_txt(self, file):\n",
    "        file.write(self.nombre + '\\n')\n",
    "        file.write(self.apellido + '\\n')\n",
    "        file.write(str(self.nacimiento) + '\\n')\n",
    "        if '_muerte' in self.__dict__:\n",
    "            file.write(str(self._muerte) + '\\n')\n",
    "\n",
    "    @staticmethod\n",
    "    def desde_txt(file):\n",
    "        lineas = file.read().split('\\n')\n",
    "        nombre = lineas[0]\n",
    "        apellido = lineas[1]\n",
    "        nacimiento = int(lineas[2])\n",
    "        p = Persona(nombre, apellido, nacimiento)\n",
    "        if len(lineas) >= 4:\n",
    "            p.muerte = int(lineas[3])\n",
    "        return p\n",
    "\n",
    "    def a_pickle(self, file):\n",
    "        pickle.dump(self, file)\n",
    "\n",
    "    @staticmethod\n",
    "    def desde_pickle(file):\n",
    "        return pickle.load(file)\n",
    "\n",
    "    def a_json(self, file):\n",
    "        json.dump(self.a_dict(), file)\n",
    "\n",
    "    @staticmethod\n",
    "    def desde_json(file):\n",
    "        return Persona.desde_dict(json.load(file))\n",
    "\n",
    "    def a_yaml(self, file):\n",
    "        yaml.dump(self.a_dict(), file)\n",
    "\n",
    "    @staticmethod\n",
    "    def desde_yaml(file):\n",
    "        return Persona.desde_dict(yaml.safe_load(file))"
   ]
  },
  {
   "cell_type": "code",
   "execution_count": 28,
   "metadata": {},
   "outputs": [],
   "source": [
    "dirac = Persona(\"Paul A. M.\", \"Dirac\", 1902)\n",
    "dirac.muerte = 1984\n",
    "with open('dirac.json', 'wt') as f:\n",
    "    dirac.a_json(f)"
   ]
  },
  {
   "cell_type": "code",
   "execution_count": 29,
   "metadata": {},
   "outputs": [
    {
     "name": "stdout",
     "output_type": "stream",
     "text": [
      "Dirac, Paul A. M. (1902-1984)\n"
     ]
    }
   ],
   "source": [
    "with open('dirac.json', 'rt') as f:\n",
    "    dirac2 = Persona.desde_json(f)\n",
    "\n",
    "print(dirac2)"
   ]
  },
  {
   "cell_type": "code",
   "execution_count": 30,
   "metadata": {},
   "outputs": [],
   "source": [
    "gellmann = Persona(\"Murray\", \"Gell-Mann\", 1929)\n",
    "gellmann.muerte = 2019\n",
    "with open('gellmann.yaml', 'wt') as f:\n",
    "    gellmann.a_yaml(f)"
   ]
  },
  {
   "cell_type": "code",
   "execution_count": 31,
   "metadata": {},
   "outputs": [
    {
     "name": "stdout",
     "output_type": "stream",
     "text": [
      "Gell-Mann, Murray (1929-2019)\n"
     ]
    }
   ],
   "source": [
    "with open('gellmann.yaml', 'rt') as f:\n",
    "    gellmann2 = Persona.desde_yaml(f)\n",
    "\n",
    "print(gellmann2)"
   ]
  },
  {
   "cell_type": "markdown",
   "metadata": {},
   "source": [
    "Para tablas de datos numéricos, resulta más conveniente el formato HDF5, que almacena varias tablas en un único archivo binario:"
   ]
  },
  {
   "cell_type": "code",
   "execution_count": 1,
   "metadata": {},
   "outputs": [],
   "source": [
    "import h5py \n",
    "import numpy as np"
   ]
  },
  {
   "cell_type": "code",
   "execution_count": 2,
   "metadata": {},
   "outputs": [],
   "source": [
    "r1 = np.random.random(size=(15, 15))\n",
    "r2 = np.random.random(size=(20, 20))"
   ]
  },
  {
   "cell_type": "code",
   "execution_count": 3,
   "metadata": {},
   "outputs": [
    {
     "data": {
      "text/plain": [
       "array([[0.46214562, 0.09512115, 0.9613231 , 0.31950335, 0.90864157,\n",
       "        0.49112877, 0.98639277, 0.09215462, 0.877641  , 0.37843145,\n",
       "        0.12138256, 0.49157165, 0.28981857, 0.79311291, 0.23819099],\n",
       "       [0.27260356, 0.7927546 , 0.82471473, 0.1077141 , 0.31151277,\n",
       "        0.8789088 , 0.66557712, 0.95993772, 0.06087451, 0.24265645,\n",
       "        0.51161265, 0.22590481, 0.47481974, 0.93471453, 0.29251393],\n",
       "       [0.50619394, 0.7248517 , 0.36163002, 0.43075641, 0.76609373,\n",
       "        0.67194026, 0.66144375, 0.81317618, 0.5446291 , 0.77595781,\n",
       "        0.53797281, 0.33813455, 0.62432488, 0.73485227, 0.39160529],\n",
       "       [0.48694141, 0.9945455 , 0.54090552, 0.55274566, 0.99661547,\n",
       "        0.95001056, 0.10461835, 0.06862318, 0.52066341, 0.4444135 ,\n",
       "        0.27251739, 0.11136781, 0.9937434 , 0.44285072, 0.4756015 ],\n",
       "       [0.2382568 , 0.49628833, 0.5973062 , 0.10448005, 0.99226767,\n",
       "        0.42452939, 0.86962447, 0.29603126, 0.19526187, 0.79981233,\n",
       "        0.79345636, 0.71260315, 0.86038848, 0.04681802, 0.77357137],\n",
       "       [0.08774797, 0.23969075, 0.29825119, 0.48931249, 0.54280779,\n",
       "        0.48197778, 0.08640017, 0.3182237 , 0.9166241 , 0.89267218,\n",
       "        0.29704734, 0.35499346, 0.62269026, 0.02038896, 0.6683285 ],\n",
       "       [0.0911073 , 0.36937359, 0.32308097, 0.51048714, 0.05945393,\n",
       "        0.37528511, 0.89588027, 0.8373917 , 0.62995218, 0.66471271,\n",
       "        0.01534622, 0.45810982, 0.54595943, 0.43649099, 0.29289749],\n",
       "       [0.48944982, 0.15011144, 0.61275819, 0.16828183, 0.04271174,\n",
       "        0.79496168, 0.54048768, 0.69971953, 0.11026291, 0.36444325,\n",
       "        0.18048008, 0.94803498, 0.28308801, 0.38798387, 0.81109316],\n",
       "       [0.14671606, 0.8064102 , 0.22536461, 0.61358253, 0.59990222,\n",
       "        0.11984181, 0.5580455 , 0.57434094, 0.9062237 , 0.29585413,\n",
       "        0.21479665, 0.64240822, 0.98233059, 0.63423175, 0.11623292],\n",
       "       [0.91781718, 0.55817792, 0.74088744, 0.30912274, 0.74498491,\n",
       "        0.50413263, 0.1057252 , 0.02458277, 0.5592404 , 0.63675111,\n",
       "        0.1414039 , 0.03968981, 0.64382891, 0.51105948, 0.8395897 ],\n",
       "       [0.66320123, 0.28334384, 0.76949102, 0.12333801, 0.93399519,\n",
       "        0.58487225, 0.90932011, 0.44369745, 0.09650318, 0.21168638,\n",
       "        0.26819958, 0.5712176 , 0.06275599, 0.51896327, 0.67884828],\n",
       "       [0.42849653, 0.98695199, 0.16847887, 0.09914238, 0.7515912 ,\n",
       "        0.85854666, 0.41567855, 0.73474619, 0.87406033, 0.93002274,\n",
       "        0.31097718, 0.41318988, 0.51619108, 0.07449336, 0.06026277],\n",
       "       [0.88275678, 0.88462524, 0.56257129, 0.49302663, 0.05613409,\n",
       "        0.79443811, 0.47175943, 0.92145034, 0.188714  , 0.13878519,\n",
       "        0.02525228, 0.91237771, 0.254511  , 0.59072304, 0.6231673 ],\n",
       "       [0.22248265, 0.71132961, 0.78087585, 0.04282219, 0.90281716,\n",
       "        0.25024806, 0.24974123, 0.34013794, 0.6345887 , 0.75117434,\n",
       "        0.11026704, 0.72050741, 0.68738602, 0.46822343, 0.52435193],\n",
       "       [0.30047059, 0.60745333, 0.78840107, 0.35971547, 0.83074076,\n",
       "        0.54399308, 0.83228408, 0.82753611, 0.47777228, 0.0682711 ,\n",
       "        0.69078403, 0.55885945, 0.46973811, 0.9763185 , 0.8800309 ]])"
      ]
     },
     "execution_count": 3,
     "metadata": {},
     "output_type": "execute_result"
    }
   ],
   "source": [
    "r1"
   ]
  },
  {
   "cell_type": "code",
   "execution_count": 4,
   "metadata": {},
   "outputs": [
    {
     "data": {
      "text/plain": [
       "array([[8.92554837e-01, 7.61842476e-01, 9.23418979e-01, 4.47572486e-01,\n",
       "        6.79177087e-01, 2.47799200e-01, 1.64855390e-01, 1.15302005e-01,\n",
       "        3.72979646e-01, 8.99923071e-01, 9.65536738e-01, 2.36307359e-04,\n",
       "        3.95815797e-01, 3.92514309e-01, 8.42928626e-01, 2.24173086e-02,\n",
       "        3.39487843e-01, 3.82901623e-02, 2.88228719e-01, 1.98368307e-01],\n",
       "       [2.97200114e-01, 1.50852319e-01, 1.10850034e-01, 5.32677750e-01,\n",
       "        8.44086330e-01, 1.62972972e-02, 4.55822410e-01, 1.57832372e-01,\n",
       "        7.12405961e-01, 5.33121765e-01, 8.03159841e-01, 3.02496075e-01,\n",
       "        1.23912994e-01, 2.07063699e-01, 3.24960585e-01, 5.21528068e-01,\n",
       "        4.59340278e-01, 7.76376754e-01, 3.87512000e-01, 3.76407813e-01],\n",
       "       [8.21697290e-01, 9.80141751e-01, 3.74789608e-01, 3.25858125e-01,\n",
       "        8.17199012e-01, 5.63398072e-01, 9.37673850e-01, 7.69343387e-01,\n",
       "        9.20994365e-01, 2.62756836e-01, 4.64652630e-01, 7.65048979e-02,\n",
       "        4.26608154e-01, 6.56895117e-01, 8.35168583e-01, 6.57505710e-01,\n",
       "        2.11789984e-01, 3.91685158e-01, 4.69945093e-01, 6.82321225e-01],\n",
       "       [9.50382165e-01, 1.48888380e-01, 8.38277317e-01, 4.30144680e-01,\n",
       "        5.05514383e-02, 3.00918125e-01, 7.42535242e-01, 3.30225449e-01,\n",
       "        3.97611465e-01, 1.80000314e-01, 4.80241858e-01, 4.80604485e-01,\n",
       "        2.95535079e-01, 7.07451632e-01, 6.76305179e-01, 9.34305527e-01,\n",
       "        6.41010710e-01, 1.41840374e-01, 5.75870490e-01, 9.02908311e-01],\n",
       "       [5.52085223e-01, 9.86342657e-02, 1.21653834e-01, 5.17308198e-01,\n",
       "        7.14942199e-01, 1.68750908e-01, 7.01056708e-01, 9.17798769e-01,\n",
       "        3.58549051e-01, 5.48540300e-01, 6.29462528e-01, 9.66639550e-01,\n",
       "        8.91820052e-01, 3.25675687e-01, 5.02481134e-01, 6.47117036e-01,\n",
       "        5.73151734e-01, 7.68514162e-01, 8.45406356e-01, 8.98221445e-01],\n",
       "       [8.88150751e-01, 6.84121076e-01, 3.37791456e-01, 6.21335497e-01,\n",
       "        2.79350885e-01, 2.79465848e-01, 6.35406558e-01, 5.45761563e-01,\n",
       "        8.09184444e-02, 6.68226644e-01, 1.31431471e-01, 9.90408068e-01,\n",
       "        8.01248198e-01, 7.48330699e-01, 2.55819382e-01, 1.42675261e-01,\n",
       "        6.02363322e-01, 4.06070644e-01, 5.92255672e-01, 5.15257933e-02],\n",
       "       [9.68814333e-02, 8.15487379e-01, 9.45249926e-01, 8.38829482e-01,\n",
       "        1.02137548e-01, 5.90078396e-01, 2.75202689e-01, 1.03763689e-01,\n",
       "        4.47826702e-01, 2.91654810e-01, 6.97287828e-01, 5.86892585e-01,\n",
       "        6.00100392e-01, 1.18381294e-01, 6.51877695e-01, 1.65153778e-02,\n",
       "        9.77119721e-01, 5.41596158e-01, 3.42764345e-01, 8.08945960e-01],\n",
       "       [6.54990464e-01, 5.89230021e-01, 5.00425308e-01, 7.05203725e-01,\n",
       "        1.95846803e-01, 9.41848692e-01, 6.99708462e-01, 1.29812750e-01,\n",
       "        7.01569175e-01, 9.37409618e-01, 8.60069326e-01, 2.02764864e-01,\n",
       "        7.23652873e-01, 9.89243336e-01, 9.59885416e-01, 3.87987703e-01,\n",
       "        1.05698009e-01, 2.36298082e-01, 6.54658363e-01, 6.56145229e-01],\n",
       "       [2.17882172e-01, 8.37157873e-01, 9.58165879e-01, 1.57137949e-01,\n",
       "        8.89281755e-01, 8.02656805e-01, 1.89453480e-01, 9.52803919e-01,\n",
       "        4.72944525e-01, 4.34172276e-01, 2.82868968e-01, 7.89886601e-01,\n",
       "        5.98492275e-01, 7.80205068e-01, 5.62069629e-01, 5.64704808e-02,\n",
       "        4.33341350e-01, 1.78671776e-01, 1.53503610e-01, 6.51604823e-01],\n",
       "       [8.38326471e-01, 1.46660715e-01, 4.10797496e-02, 4.25749799e-01,\n",
       "        5.75662157e-01, 1.79096079e-01, 7.11463548e-01, 8.95984060e-01,\n",
       "        2.16489195e-01, 4.05113018e-01, 9.53925182e-01, 3.52871835e-01,\n",
       "        9.23125374e-01, 7.15999742e-01, 5.37694542e-01, 7.28471208e-01,\n",
       "        9.75711336e-01, 5.67529742e-01, 7.88553978e-01, 6.27762489e-01],\n",
       "       [6.06589644e-01, 5.66964831e-01, 2.58308914e-01, 2.67441561e-01,\n",
       "        3.66045485e-01, 6.79286389e-01, 5.53154998e-01, 6.40369431e-01,\n",
       "        4.03650051e-01, 9.98071869e-01, 3.77487597e-01, 6.07551703e-01,\n",
       "        8.37075155e-01, 2.39531027e-01, 8.63128472e-02, 9.41090669e-01,\n",
       "        1.79169617e-01, 2.28764381e-01, 1.00747153e-01, 1.34497478e-01],\n",
       "       [8.45482522e-01, 8.89090676e-02, 1.73124685e-01, 6.61810220e-01,\n",
       "        3.98864962e-01, 8.90670083e-01, 3.70690361e-01, 2.39312683e-01,\n",
       "        6.84418202e-01, 2.87056298e-02, 1.00135978e-01, 1.56267459e-01,\n",
       "        5.52683459e-01, 1.42993717e-01, 3.34574576e-01, 9.09211582e-01,\n",
       "        7.44626926e-02, 4.64360689e-01, 9.48972682e-01, 8.48045606e-01],\n",
       "       [9.31962572e-01, 5.50941397e-01, 2.53174759e-01, 9.50454149e-01,\n",
       "        6.55888913e-01, 3.04298383e-01, 7.60714232e-01, 4.73443966e-01,\n",
       "        3.86535003e-01, 8.17599519e-01, 2.21209396e-01, 1.51125599e-01,\n",
       "        8.29924311e-01, 1.97068224e-01, 9.06915132e-01, 2.46981488e-01,\n",
       "        7.14480000e-01, 7.51047870e-01, 5.78081842e-02, 9.91919022e-01],\n",
       "       [3.52233695e-01, 3.11760586e-01, 3.38912756e-01, 3.25156723e-01,\n",
       "        1.24638765e-01, 6.24287845e-01, 7.73261322e-01, 4.97502945e-01,\n",
       "        8.12680187e-02, 2.08168822e-01, 2.93994312e-01, 9.15042267e-01,\n",
       "        7.50216227e-01, 7.00779308e-01, 7.84566077e-01, 2.74449138e-01,\n",
       "        1.11292255e-01, 1.65338965e-01, 1.91059614e-01, 1.52385143e-02],\n",
       "       [9.59743331e-01, 2.00761220e-01, 5.25559415e-01, 6.65767321e-01,\n",
       "        8.49355282e-01, 4.01541769e-01, 2.57607031e-01, 8.93805614e-01,\n",
       "        8.64819248e-01, 8.42773885e-01, 6.63374251e-01, 4.56286681e-01,\n",
       "        7.52597545e-01, 9.48795301e-01, 2.39516295e-01, 6.17587744e-01,\n",
       "        1.03734590e-01, 7.71948216e-01, 2.45064094e-01, 3.93904162e-01],\n",
       "       [5.64360674e-01, 9.63823620e-01, 4.68025777e-01, 8.41780186e-01,\n",
       "        1.20053734e-03, 8.08890092e-01, 4.92289349e-01, 7.90131081e-01,\n",
       "        6.10266620e-01, 1.57589380e-02, 7.49654743e-01, 1.65638877e-01,\n",
       "        2.26266035e-01, 9.89817728e-01, 5.98762410e-03, 5.01933182e-01,\n",
       "        4.18566632e-01, 1.46048706e-01, 5.53264385e-01, 6.38482865e-01],\n",
       "       [7.13471486e-01, 1.30598130e-01, 4.02625937e-01, 4.76229252e-01,\n",
       "        2.93591895e-01, 9.38809179e-03, 8.83128877e-02, 2.28165855e-01,\n",
       "        2.30274362e-01, 5.98170373e-01, 6.06625161e-01, 8.41179369e-02,\n",
       "        5.94882413e-02, 2.77234203e-01, 5.10036923e-01, 6.57563438e-01,\n",
       "        1.89138900e-01, 9.15952352e-01, 7.45212566e-01, 8.32833033e-01],\n",
       "       [8.41247681e-01, 5.02920784e-01, 8.18507764e-01, 8.65567741e-01,\n",
       "        2.76015301e-02, 2.73996932e-01, 3.58726677e-01, 6.46473416e-01,\n",
       "        1.37766558e-01, 4.45691755e-01, 5.30192747e-01, 3.65345442e-01,\n",
       "        9.72725722e-01, 8.71763852e-01, 1.39806078e-01, 5.81117369e-01,\n",
       "        6.01432387e-01, 8.66872505e-01, 5.34255067e-02, 3.84599624e-01],\n",
       "       [8.35697023e-01, 4.57280555e-01, 1.92049981e-01, 6.08639609e-01,\n",
       "        3.80372634e-01, 2.39079611e-01, 4.09289323e-01, 5.53134578e-01,\n",
       "        2.06902616e-01, 5.60956204e-01, 6.03833813e-01, 1.64960449e-01,\n",
       "        5.05537689e-01, 9.19815450e-01, 4.78739095e-01, 9.89631145e-01,\n",
       "        2.17024290e-02, 3.35349890e-01, 5.40410763e-01, 3.98505813e-01],\n",
       "       [2.59717430e-01, 3.88576891e-01, 7.19230832e-01, 3.48534733e-01,\n",
       "        2.66844201e-01, 8.31443594e-01, 2.91332525e-01, 4.29908855e-01,\n",
       "        7.50281470e-01, 5.11995721e-01, 1.12138053e-01, 7.11149886e-01,\n",
       "        7.70968142e-01, 7.37913686e-01, 3.06109447e-01, 7.07593791e-01,\n",
       "        5.82895782e-01, 8.99209124e-01, 5.82806406e-01, 7.45002498e-01]])"
      ]
     },
     "execution_count": 4,
     "metadata": {},
     "output_type": "execute_result"
    }
   ],
   "source": [
    "r2"
   ]
  },
  {
   "cell_type": "code",
   "execution_count": 5,
   "metadata": {},
   "outputs": [],
   "source": [
    "with h5py.File('random.hdf5', 'w') as f:\n",
    "    f.create_dataset('r1', data=r1, dtype='f4')\n",
    "    f.create_dataset('r2', data=r2, dtype='f4')"
   ]
  },
  {
   "cell_type": "code",
   "execution_count": 9,
   "metadata": {},
   "outputs": [],
   "source": [
    "with h5py.File('random.hdf5', 'r') as f:\n",
    "    r1b = np.array(f['r1'])\n",
    "    r2b = np.array(f['r2'])"
   ]
  },
  {
   "cell_type": "code",
   "execution_count": 10,
   "metadata": {},
   "outputs": [
    {
     "data": {
      "text/plain": [
       "array([[0.46214563, 0.09512115, 0.9613231 , 0.31950334, 0.9086416 ,\n",
       "        0.49112877, 0.98639274, 0.09215461, 0.877641  , 0.37843144,\n",
       "        0.12138256, 0.49157164, 0.28981858, 0.79311293, 0.238191  ],\n",
       "       [0.27260357, 0.7927546 , 0.8247147 , 0.1077141 , 0.31151277,\n",
       "        0.8789088 , 0.6655771 , 0.9599377 , 0.06087451, 0.24265644,\n",
       "        0.51161265, 0.2259048 , 0.47481975, 0.93471456, 0.29251394],\n",
       "       [0.50619394, 0.72485167, 0.36163002, 0.43075642, 0.76609373,\n",
       "        0.67194027, 0.66144377, 0.81317616, 0.5446291 , 0.7759578 ,\n",
       "        0.5379728 , 0.33813456, 0.62432486, 0.73485225, 0.3916053 ],\n",
       "       [0.48694143, 0.9945455 , 0.54090554, 0.55274564, 0.99661547,\n",
       "        0.95001054, 0.10461835, 0.06862318, 0.5206634 , 0.4444135 ,\n",
       "        0.27251738, 0.11136781, 0.9937434 , 0.4428507 , 0.4756015 ],\n",
       "       [0.2382568 , 0.49628833, 0.5973062 , 0.10448004, 0.99226767,\n",
       "        0.42452937, 0.8696245 , 0.29603127, 0.19526187, 0.7998123 ,\n",
       "        0.7934564 , 0.71260315, 0.86038846, 0.04681802, 0.7735714 ],\n",
       "       [0.08774797, 0.23969075, 0.29825118, 0.4893125 , 0.54280776,\n",
       "        0.4819778 , 0.08640017, 0.3182237 , 0.9166241 , 0.8926722 ,\n",
       "        0.29704735, 0.35499346, 0.62269026, 0.02038896, 0.6683285 ],\n",
       "       [0.0911073 , 0.3693736 , 0.323081  , 0.51048714, 0.05945393,\n",
       "        0.37528512, 0.8958803 , 0.8373917 , 0.6299522 , 0.6647127 ,\n",
       "        0.01534622, 0.45810983, 0.5459594 , 0.43649098, 0.2928975 ],\n",
       "       [0.48944983, 0.15011144, 0.6127582 , 0.16828184, 0.04271174,\n",
       "        0.7949617 , 0.5404877 , 0.69971955, 0.11026292, 0.36444324,\n",
       "        0.18048008, 0.948035  , 0.283088  , 0.38798386, 0.81109315],\n",
       "       [0.14671606, 0.8064102 , 0.22536461, 0.61358255, 0.5999022 ,\n",
       "        0.11984181, 0.5580455 , 0.57434094, 0.9062237 , 0.29585412,\n",
       "        0.21479665, 0.6424082 , 0.98233056, 0.63423175, 0.11623292],\n",
       "       [0.9178172 , 0.5581779 , 0.74088746, 0.30912274, 0.7449849 ,\n",
       "        0.5041326 , 0.1057252 , 0.02458277, 0.5592404 , 0.6367511 ,\n",
       "        0.1414039 , 0.03968981, 0.6438289 , 0.51105946, 0.8395897 ],\n",
       "       [0.6632012 , 0.28334382, 0.769491  , 0.12333801, 0.9339952 ,\n",
       "        0.58487225, 0.9093201 , 0.44369745, 0.09650318, 0.21168637,\n",
       "        0.2681996 , 0.5712176 , 0.06275599, 0.5189633 , 0.67884827],\n",
       "       [0.42849654, 0.986952  , 0.16847888, 0.09914237, 0.7515912 ,\n",
       "        0.8585467 , 0.41567856, 0.7347462 , 0.87406033, 0.9300227 ,\n",
       "        0.3109772 , 0.4131899 , 0.51619107, 0.07449336, 0.06026277],\n",
       "       [0.88275677, 0.88462526, 0.5625713 , 0.4930266 , 0.05613409,\n",
       "        0.7944381 , 0.47175944, 0.9214503 , 0.188714  , 0.13878518,\n",
       "        0.02525228, 0.9123777 , 0.254511  , 0.59072304, 0.6231673 ],\n",
       "       [0.22248265, 0.71132964, 0.78087586, 0.04282219, 0.9028172 ,\n",
       "        0.25024807, 0.24974123, 0.34013793, 0.6345887 , 0.75117433,\n",
       "        0.11026704, 0.7205074 , 0.68738604, 0.46822342, 0.52435195],\n",
       "       [0.3004706 , 0.60745335, 0.78840107, 0.35971546, 0.83074075,\n",
       "        0.54399306, 0.8322841 , 0.8275361 , 0.47777227, 0.0682711 ,\n",
       "        0.69078404, 0.55885947, 0.4697381 , 0.9763185 , 0.88003093]],\n",
       "      dtype=float32)"
      ]
     },
     "execution_count": 10,
     "metadata": {},
     "output_type": "execute_result"
    }
   ],
   "source": [
    "r1b"
   ]
  },
  {
   "cell_type": "code",
   "execution_count": 11,
   "metadata": {},
   "outputs": [
    {
     "data": {
      "text/plain": [
       "array([[8.92554820e-01, 7.61842489e-01, 9.23418999e-01, 4.47572500e-01,\n",
       "        6.79177105e-01, 2.47799203e-01, 1.64855391e-01, 1.15302004e-01,\n",
       "        3.72979641e-01, 8.99923086e-01, 9.65536714e-01, 2.36307358e-04,\n",
       "        3.95815790e-01, 3.92514318e-01, 8.42928648e-01, 2.24173088e-02,\n",
       "        3.39487851e-01, 3.82901616e-02, 2.88228720e-01, 1.98368311e-01],\n",
       "       [2.97200114e-01, 1.50852323e-01, 1.10850036e-01, 5.32677770e-01,\n",
       "        8.44086349e-01, 1.62972976e-02, 4.55822408e-01, 1.57832369e-01,\n",
       "        7.12405980e-01, 5.33121765e-01, 8.03159833e-01, 3.02496076e-01,\n",
       "        1.23912998e-01, 2.07063705e-01, 3.24960589e-01, 5.21528065e-01,\n",
       "        4.59340274e-01, 7.76376724e-01, 3.87511998e-01, 3.76407802e-01],\n",
       "       [8.21697295e-01, 9.80141759e-01, 3.74789596e-01, 3.25858116e-01,\n",
       "        8.17198992e-01, 5.63398063e-01, 9.37673867e-01, 7.69343376e-01,\n",
       "        9.20994341e-01, 2.62756824e-01, 4.64652628e-01, 7.65049011e-02,\n",
       "        4.26608145e-01, 6.56895101e-01, 8.35168600e-01, 6.57505691e-01,\n",
       "        2.11789981e-01, 3.91685158e-01, 4.69945103e-01, 6.82321250e-01],\n",
       "       [9.50382173e-01, 1.48888379e-01, 8.38277340e-01, 4.30144668e-01,\n",
       "        5.05514368e-02, 3.00918132e-01, 7.42535233e-01, 3.30225438e-01,\n",
       "        3.97611469e-01, 1.80000320e-01, 4.80241865e-01, 4.80604470e-01,\n",
       "        2.95535088e-01, 7.07451642e-01, 6.76305175e-01, 9.34305549e-01,\n",
       "        6.41010702e-01, 1.41840369e-01, 5.75870514e-01, 9.02908325e-01],\n",
       "       [5.52085221e-01, 9.86342654e-02, 1.21653832e-01, 5.17308176e-01,\n",
       "        7.14942217e-01, 1.68750912e-01, 7.01056719e-01, 9.17798758e-01,\n",
       "        3.58549058e-01, 5.48540294e-01, 6.29462540e-01, 9.66639578e-01,\n",
       "        8.91820073e-01, 3.25675696e-01, 5.02481163e-01, 6.47117019e-01,\n",
       "        5.73151708e-01, 7.68514156e-01, 8.45406353e-01, 8.98221433e-01],\n",
       "       [8.88150752e-01, 6.84121072e-01, 3.37791443e-01, 6.21335506e-01,\n",
       "        2.79350877e-01, 2.79465854e-01, 6.35406554e-01, 5.45761585e-01,\n",
       "        8.09184462e-02, 6.68226659e-01, 1.31431475e-01, 9.90408063e-01,\n",
       "        8.01248193e-01, 7.48330712e-01, 2.55819380e-01, 1.42675266e-01,\n",
       "        6.02363348e-01, 4.06070650e-01, 5.92255652e-01, 5.15257940e-02],\n",
       "       [9.68814343e-02, 8.15487385e-01, 9.45249915e-01, 8.38829458e-01,\n",
       "        1.02137551e-01, 5.90078413e-01, 2.75202692e-01, 1.03763692e-01,\n",
       "        4.47826713e-01, 2.91654795e-01, 6.97287858e-01, 5.86892605e-01,\n",
       "        6.00100398e-01, 1.18381292e-01, 6.51877701e-01, 1.65153779e-02,\n",
       "        9.77119744e-01, 5.41596174e-01, 3.42764348e-01, 8.08945954e-01],\n",
       "       [6.54990435e-01, 5.89230001e-01, 5.00425279e-01, 7.05203712e-01,\n",
       "        1.95846796e-01, 9.41848695e-01, 6.99708462e-01, 1.29812747e-01,\n",
       "        7.01569200e-01, 9.37409639e-01, 8.60069335e-01, 2.02764869e-01,\n",
       "        7.23652899e-01, 9.89243329e-01, 9.59885418e-01, 3.87987703e-01,\n",
       "        1.05698012e-01, 2.36298084e-01, 6.54658377e-01, 6.56145215e-01],\n",
       "       [2.17882171e-01, 8.37157845e-01, 9.58165884e-01, 1.57137945e-01,\n",
       "        8.89281750e-01, 8.02656829e-01, 1.89453483e-01, 9.52803910e-01,\n",
       "        4.72944528e-01, 4.34172273e-01, 2.82868981e-01, 7.89886594e-01,\n",
       "        5.98492265e-01, 7.80205071e-01, 5.62069654e-01, 5.64704798e-02,\n",
       "        4.33341354e-01, 1.78671777e-01, 1.53503612e-01, 6.51604831e-01],\n",
       "       [8.38326454e-01, 1.46660715e-01, 4.10797484e-02, 4.25749809e-01,\n",
       "        5.75662136e-01, 1.79096073e-01, 7.11463571e-01, 8.95984054e-01,\n",
       "        2.16489196e-01, 4.05113012e-01, 9.53925192e-01, 3.52871835e-01,\n",
       "        9.23125386e-01, 7.15999722e-01, 5.37694514e-01, 7.28471220e-01,\n",
       "        9.75711346e-01, 5.67529738e-01, 7.88553953e-01, 6.27762496e-01],\n",
       "       [6.06589615e-01, 5.66964805e-01, 2.58308917e-01, 2.67441571e-01,\n",
       "        3.66045475e-01, 6.79286361e-01, 5.53155005e-01, 6.40369415e-01,\n",
       "        4.03650045e-01, 9.98071849e-01, 3.77487600e-01, 6.07551694e-01,\n",
       "        8.37075174e-01, 2.39531025e-01, 8.63128453e-02, 9.41090643e-01,\n",
       "        1.79169610e-01, 2.28764385e-01, 1.00747153e-01, 1.34497479e-01],\n",
       "       [8.45482528e-01, 8.89090672e-02, 1.73124686e-01, 6.61810219e-01,\n",
       "        3.98864955e-01, 8.90670061e-01, 3.70690376e-01, 2.39312679e-01,\n",
       "        6.84418201e-01, 2.87056305e-02, 1.00135975e-01, 1.56267464e-01,\n",
       "        5.52683473e-01, 1.42993718e-01, 3.34574580e-01, 9.09211576e-01,\n",
       "        7.44626895e-02, 4.64360684e-01, 9.48972702e-01, 8.48045588e-01],\n",
       "       [9.31962550e-01, 5.50941408e-01, 2.53174752e-01, 9.50454175e-01,\n",
       "        6.55888915e-01, 3.04298371e-01, 7.60714233e-01, 4.73443955e-01,\n",
       "        3.86534989e-01, 8.17599535e-01, 2.21209392e-01, 1.51125595e-01,\n",
       "        8.29924285e-01, 1.97068229e-01, 9.06915128e-01, 2.46981487e-01,\n",
       "        7.14479983e-01, 7.51047850e-01, 5.78081831e-02, 9.91919041e-01],\n",
       "       [3.52233708e-01, 3.11760575e-01, 3.38912755e-01, 3.25156718e-01,\n",
       "        1.24638766e-01, 6.24287844e-01, 7.73261309e-01, 4.97502953e-01,\n",
       "        8.12680200e-02, 2.08168820e-01, 2.93994308e-01, 9.15042281e-01,\n",
       "        7.50216246e-01, 7.00779319e-01, 7.84566104e-01, 2.74449140e-01,\n",
       "        1.11292258e-01, 1.65338963e-01, 1.91059619e-01, 1.52385142e-02],\n",
       "       [9.59743321e-01, 2.00761214e-01, 5.25559425e-01, 6.65767312e-01,\n",
       "        8.49355280e-01, 4.01541770e-01, 2.57607043e-01, 8.93805623e-01,\n",
       "        8.64819229e-01, 8.42773914e-01, 6.63374245e-01, 4.56286669e-01,\n",
       "        7.52597570e-01, 9.48795319e-01, 2.39516288e-01, 6.17587745e-01,\n",
       "        1.03734590e-01, 7.71948218e-01, 2.45064095e-01, 3.93904150e-01],\n",
       "       [5.64360678e-01, 9.63823617e-01, 4.68025774e-01, 8.41780186e-01,\n",
       "        1.20053731e-03, 8.08890104e-01, 4.92289335e-01, 7.90131092e-01,\n",
       "        6.10266626e-01, 1.57589372e-02, 7.49654770e-01, 1.65638879e-01,\n",
       "        2.26266041e-01, 9.89817739e-01, 5.98762417e-03, 5.01933157e-01,\n",
       "        4.18566644e-01, 1.46048710e-01, 5.53264380e-01, 6.38482869e-01],\n",
       "       [7.13471472e-01, 1.30598128e-01, 4.02625948e-01, 4.76229250e-01,\n",
       "        2.93591887e-01, 9.38809197e-03, 8.83128867e-02, 2.28165850e-01,\n",
       "        2.30274364e-01, 5.98170400e-01, 6.06625140e-01, 8.41179341e-02,\n",
       "        5.94882406e-02, 2.77234197e-01, 5.10036945e-01, 6.57563448e-01,\n",
       "        1.89138904e-01, 9.15952325e-01, 7.45212555e-01, 8.32833052e-01],\n",
       "       [8.41247678e-01, 5.02920806e-01, 8.18507791e-01, 8.65567744e-01,\n",
       "        2.76015308e-02, 2.73996919e-01, 3.58726680e-01, 6.46473408e-01,\n",
       "        1.37766555e-01, 4.45691764e-01, 5.30192733e-01, 3.65345448e-01,\n",
       "        9.72725749e-01, 8.71763825e-01, 1.39806077e-01, 5.81117392e-01,\n",
       "        6.01432383e-01, 8.66872489e-01, 5.34255058e-02, 3.84599626e-01],\n",
       "       [8.35696995e-01, 4.57280546e-01, 1.92049980e-01, 6.08639598e-01,\n",
       "        3.80372643e-01, 2.39079610e-01, 4.09289330e-01, 5.53134561e-01,\n",
       "        2.06902623e-01, 5.60956180e-01, 6.03833795e-01, 1.64960444e-01,\n",
       "        5.05537689e-01, 9.19815421e-01, 4.78739083e-01, 9.89631116e-01,\n",
       "        2.17024293e-02, 3.35349888e-01, 5.40410757e-01, 3.98505807e-01],\n",
       "       [2.59717435e-01, 3.88576895e-01, 7.19230831e-01, 3.48534733e-01,\n",
       "        2.66844213e-01, 8.31443608e-01, 2.91332513e-01, 4.29908842e-01,\n",
       "        7.50281453e-01, 5.11995733e-01, 1.12138055e-01, 7.11149871e-01,\n",
       "        7.70968139e-01, 7.37913668e-01, 3.06109458e-01, 7.07593799e-01,\n",
       "        5.82895756e-01, 8.99209142e-01, 5.82806408e-01, 7.45002508e-01]],\n",
       "      dtype=float32)"
      ]
     },
     "execution_count": 11,
     "metadata": {},
     "output_type": "execute_result"
    }
   ],
   "source": [
    "r2b"
   ]
  },
  {
   "cell_type": "markdown",
   "metadata": {},
   "source": [
    "## [Tareas](https://github.com/Jorge-Alda/TFM_AlejandroMir/issues/2)\n",
    "\n",
    "1. Crea un nuevo repositorio para el proyecto de TFM, y publícalo en GitHub. En la sección de configuración, selecciona colaboradores, e invita a @Siannah-Penaranda y @Jorge-Alda.\n",
    "1. Sigue los pasos para [crear un entorno virtual y gestionar los paquetes con `poetry`](../vscode/paquetes.md#gesti%C3%B3n-de-paquetes-y-entornos-virtuales-con-poetry), e instala los paquetes de Python que vayas a necesitar (de momento, al menos `flavio` y `wilson`).      \n",
    "3. Crea una carpeta que se llame igual que el repositorio, y en ella un archivo llamado `classes.py`.\n",
    "3. En el archivo `classes.py`, crea una clase que represente un observable de flavio. La clase deberá contener el nombre del observable, y los argumentos (como $q^2_\\mathrm{min}$ y $q^2_\\mathrm{max}$) si los tuviera.\n",
    "4. Añade a la clase métodos para calcular la predicción e incertidumbre en el SM, el valor experimental y sus errores.\n",
    "5. Añade un método que acepte un objeto de `Wilson` y calcule la predicción de Nueva Física."
   ]
  }
 ],
 "metadata": {
  "kernelspec": {
   "display_name": "Python 3.10.8 ('tfm-alejandromir-pisT7Re7-py3.10')",
   "language": "python",
   "name": "python3"
  },
  "language_info": {
   "codemirror_mode": {
    "name": "ipython",
    "version": 3
   },
   "file_extension": ".py",
   "mimetype": "text/x-python",
   "name": "python",
   "nbconvert_exporter": "python",
   "pygments_lexer": "ipython3",
   "version": "3.10.8"
  },
  "orig_nbformat": 4,
  "vscode": {
   "interpreter": {
    "hash": "1f3f3a4d53262e9b64aadf354276afdb3b72bef7e271f3b7e5577e448e334dcb"
   }
  }
 },
 "nbformat": 4,
 "nbformat_minor": 2
}
