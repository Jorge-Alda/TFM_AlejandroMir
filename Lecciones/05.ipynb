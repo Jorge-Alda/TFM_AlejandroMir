{
 "cells": [
  {
   "attachments": {},
   "cell_type": "markdown",
   "metadata": {},
   "source": [
    "# 05 Grupo de renormalización y cambio de base\n",
    "\n",
    "Al trabajar con coeficientes de Wilson, es importante poder realizar el *running* de las ecuaciones del grupo de renormalización, como se explica en [arXiv:1901.06573](https://arxiv.org/abs/1901.06573). El paquete `wilson` incluye las ecuaciones del grupo de renormalización para el SMEFT y el WET."
   ]
  },
  {
   "cell_type": "code",
   "execution_count": 1,
   "metadata": {},
   "outputs": [],
   "source": [
    "from wilson import Wilson"
   ]
  },
  {
   "attachments": {},
   "cell_type": "markdown",
   "metadata": {},
   "source": [
    "En este ejemplo, vamos a calcular cómo cambia el valor del coeficiente $C_{\\ell q(1)}^{2222}$ entre la escala $\\mu = \\Lambda$ y $\\mu = M_Z$. Para ello usamos el método `.match_run()`, pero tenemos que tener cuidado porque no devuelve una instancia de `Wilson` sino de `WC`, por lo que tendremos que hacer la conversión."
   ]
  },
  {
   "cell_type": "code",
   "execution_count": 13,
   "metadata": {},
   "outputs": [
    {
     "name": "stdout",
     "output_type": "stream",
     "text": [
      "1.0007603792407804\n"
     ]
    }
   ],
   "source": [
    "LAMBDA = 1000\n",
    "MZ = 91.1876\n",
    "\n",
    "w1 = Wilson({'lq1_2222': 1/LAMBDA**2}, scale=LAMBDA, eft=\"SMEFT\", basis=\"Warsaw\")\n",
    "\n",
    "w2 = Wilson.from_wc(w1.match_run(MZ, eft=\"SMEFT\", basis=\"Warsaw\"))\n",
    "\n",
    "print(w2.wc.values['lq1_2222']['Re']*LAMBDA**2)"
   ]
  },
  {
   "attachments": {},
   "cell_type": "markdown",
   "metadata": {},
   "source": [
    "Cambiar el valor de los coeficientes de Wilson que hemos definido no es el único efecto de las ecuaciones del grupo de renormalización. Debido al *mixing* entre operadores, nos encontramos que algunos coeficientes que eran nulos en la escala $\\mu=\\Lambda$ no lo serán en $\\mu=M_Z$. Por ejemplo, el coeficiente $C_{\\varphi q(1)}^{22}$ que modifica el *coupling* efectivo del bosón $Z$ con los quarks $c$ y $s$:"
   ]
  },
  {
   "cell_type": "code",
   "execution_count": 30,
   "metadata": {},
   "outputs": [
    {
     "name": "stdout",
     "output_type": "stream",
     "text": [
      "0.0012928982195234866\n"
     ]
    }
   ],
   "source": [
    "print(w2.wc.values['phiq1_22']*LAMBDA**2)"
   ]
  },
  {
   "attachments": {},
   "cell_type": "markdown",
   "metadata": {},
   "source": [
    "Cuando `flavio` calcula un observable en una teoría efectiva, lo primero que hace es calcular el *running* de los coeficientes de Wilson hasta la escala en la que esté definido dicho observable. Puedes ver a qué escala está definido cada clase de observables con el siguiente comando:"
   ]
  },
  {
   "cell_type": "code",
   "execution_count": 3,
   "metadata": {},
   "outputs": [
    {
     "data": {
      "text/plain": [
       "{'bll': 4.8,\n",
       " 'bllgamma': 4.8,\n",
       " 'bpll': 4.8,\n",
       " 'bvll': 4.8,\n",
       " 'bxll': 5,\n",
       " 'bvgamma': 4.8,\n",
       " 'bxgamma': 2.0,\n",
       " 'bxlnu': 4.6,\n",
       " 'lambdab': 4.8,\n",
       " 'kdecays': 2.0,\n",
       " 'kpipi': 1.3,\n",
       " 'dll': 2.0,\n",
       " 'dpll': 2.0,\n",
       " 'mudecays': 1.0,\n",
       " 'taudecays': 1.8,\n",
       " 'tau g-2': 91.1876,\n",
       " 'e g-2': 1,\n",
       " 'zdecays': 91.1876,\n",
       " 'wdecays': 91.1876,\n",
       " 'hdecays': 125,\n",
       " 'ee_ww': 91.1876,\n",
       " 'Bs mixing': 4.2,\n",
       " 'B0 mixing': 4.2,\n",
       " 'K0 mixing': 2.0,\n",
       " 'D0 mixing': 2.0,\n",
       " 'nEDM': 2.0,\n",
       " 'betadecay': 1.0}"
      ]
     },
     "execution_count": 3,
     "metadata": {},
     "output_type": "execute_result"
    }
   ],
   "source": [
    "import flavio\n",
    "\n",
    "flavio.config['renormalization scale']"
   ]
  },
  {
   "attachments": {},
   "cell_type": "markdown",
   "metadata": {},
   "source": [
    "Podemos comprobar que `flavio` usa las ecuaciones del grupo de renormalización con la predicción del observable $\\Gamma(Z\\to c\\bar{c})$:"
   ]
  },
  {
   "cell_type": "code",
   "execution_count": 34,
   "metadata": {},
   "outputs": [
    {
     "data": {
      "text/plain": [
       "0.2998326143741367"
      ]
     },
     "execution_count": 34,
     "metadata": {},
     "output_type": "execute_result"
    }
   ],
   "source": [
    "flavio.sm_prediction('Gamma(Z->cc)')"
   ]
  },
  {
   "attachments": {},
   "cell_type": "markdown",
   "metadata": {},
   "source": [
    "Si lo calculamos en la teoría efectiva definida por $C_{\\ell q(1)}^{2222}$ en $\\mu=\\Lambda$, vemos que su valor cambia ligeramente:"
   ]
  },
  {
   "cell_type": "code",
   "execution_count": 33,
   "metadata": {},
   "outputs": [
    {
     "data": {
      "text/plain": [
       "0.29978001415103667"
      ]
     },
     "execution_count": 33,
     "metadata": {},
     "output_type": "execute_result"
    }
   ],
   "source": [
    "flavio.np_prediction('Gamma(Z->cc)', w1)"
   ]
  },
  {
   "attachments": {},
   "cell_type": "markdown",
   "metadata": {},
   "source": [
    "Sin embargo, si definimos $C_{\\ell q(1)}^{2222}$ en $\\mu=M_z$, no hay *mixing* al coeficiente $C_{\\varphi q(1)}^{22}$, y por lo tanto $\\Gamma(Z\\to c\\bar{c})$ vale lo mismo que en el SM:"
   ]
  },
  {
   "cell_type": "code",
   "execution_count": 22,
   "metadata": {},
   "outputs": [
    {
     "data": {
      "text/plain": [
       "0.2998326143741367"
      ]
     },
     "execution_count": 22,
     "metadata": {},
     "output_type": "execute_result"
    }
   ],
   "source": [
    "w_Z = Wilson({'lq1_2222': w2.wc.values['lq1_2222']['Re']}, scale=MZ, eft=\"SMEFT\", basis=\"Warsaw\")\n",
    "\n",
    "flavio.np_prediction('Gamma(Z->cc)', w_Z)"
   ]
  },
  {
   "attachments": {},
   "cell_type": "markdown",
   "metadata": {},
   "source": [
    "## Teoría efectiva WET\n",
    "\n",
    "Para escalas de energía inferiores a la escala electrodébil ($\\sim M_Z$), no es suficiente con aplicar el *running* del grupo de renormalización. También hay que integrar las partículas pesadas: $t$, $h$, $Z$ y $W$. El resultado es una nueva teoría efectiva conocida como *WET* [*Weak effective theory*]. Usualmente se usa como base [un conjunto de operadores definidos ad-hoc](https://wcxf.github.io/assets/pdf/WET.flavio.pdf), y no sistemáticamente, que en `wilson` se llaman simplemente `basis=\"flavio\"`. Para nosotros los más interesantes serán:\n",
    "$$\\mathcal{L}_\\mathrm{WET} = \\frac{4G_F}{\\sqrt{2}}V_{tb}V_{ts}^*\\frac{e^2}{16\\pi^2}\\left( C_9^\\mu O_9^\\mu + C_{10}^\\mu O_{10}^\\mu \\right) - \\frac{4G_F}{\\sqrt{2}}V_{cb} C_{VL}^\\tau O_{VL}^\\tau\\,,$$\n",
    "donde los operadores relevantes para $b\\to s\\mu^+\\mu^-$ son $$O_9^\\mu = (\\bar{s}_L \\gamma^\\mu b_L)(\\bar{\\mu}\\gamma_\\mu \\mu)\\,,\\qquad O_{10}^\\mu = (\\bar{s}_L \\gamma^\\mu b_L)(\\bar{\\mu}\\gamma_\\mu\\gamma_5 \\mu)\\,,$$\n",
    "y para $b\\to c\\tau\\nu$ $$O_{VL}^\\tau = (\\bar{c}\\gamma^\\mu b_L)(\\bar{\\tau}_L \\gamma_\\mu \\nu_\\tau)\\,.$$\n",
    "\n",
    "Al integrar las partículas pesadas del SM, estas también contribuyen a estos operadores efectivos: en el caso de $O_{VL}$ al integrar el bosón $W$ en el diagrama a nivel árbol $bc \\to W \\to \\tau\\nu$, y en $C_9$ y $C_{10}$ al integrar el top, $W$ y $Z$ que aparecen a un loop. Por ello es conveniente separar las contribuciones del SM y las de NP. Los valores que genera `wilson` corresponden únicamente a la contribución de NP.\n",
    "\n",
    "El método `.match_run()` también realiza la integración de las partículas pesadas y el cambio de base:"
   ]
  },
  {
   "cell_type": "code",
   "execution_count": 4,
   "metadata": {},
   "outputs": [
    {
     "name": "stdout",
     "output_type": "stream",
     "text": [
      "C9 = 0.3007502244911878\n",
      "C10 = -0.3035337638079791\n",
      "CVL = -1.5675856478160052e-06\n"
     ]
    }
   ],
   "source": [
    "MB = 4.8\n",
    "\n",
    "w_b = Wilson.from_wc(w1.match_run(MB, eft=\"WET\", basis=\"flavio\"))\n",
    "print(f\"C9 = {w_b.wc.values['C9_bsmumu']['Re']}\")\n",
    "print(f\"C10 = {w_b.wc.values['C10_bsmumu']['Re']}\")\n",
    "print(f\"CVL = {w_b.wc.values['CVL_bctaunutau']['Re']}\")"
   ]
  },
  {
   "attachments": {},
   "cell_type": "markdown",
   "metadata": {},
   "source": [
    "La combinación $C_9 = - C_{10}$ aparece frecuentemente al hacer el *running* desde el SMEFT."
   ]
  },
  {
   "attachments": {},
   "cell_type": "markdown",
   "metadata": {},
   "source": [
    "Habrás comprobado que el cálculo de los coeficientes de Wilson en la nueva escala de energía es relativamente lento. De hecho, es el paso más costoso a la hora de calcular un observable:"
   ]
  },
  {
   "cell_type": "code",
   "execution_count": 5,
   "metadata": {},
   "outputs": [
    {
     "name": "stdout",
     "output_type": "stream",
     "text": [
      "0.5466209350015561\n"
     ]
    }
   ],
   "source": [
    "import os, sys\n",
    "dir2 = os.path.abspath('')\n",
    "dir1 = os.path.dirname(dir2)\n",
    "if not dir1 in sys.path: sys.path.append(dir1)\n",
    "from utils import Temporizador\n",
    "\n",
    "\n",
    "with Temporizador() as t:\n",
    "    RD = flavio.np_prediction('Rtaul(B->Dlnu)', w1)\n",
    "\n",
    "print(t.ver_tiempo())"
   ]
  },
  {
   "cell_type": "code",
   "execution_count": 6,
   "metadata": {},
   "outputs": [
    {
     "name": "stdout",
     "output_type": "stream",
     "text": [
      "0.011753527000109898\n"
     ]
    }
   ],
   "source": [
    "with Temporizador() as t:\n",
    "    RD = flavio.np_prediction('Rtaul(B->Dlnu)', w_b)\n",
    "\n",
    "print(t.ver_tiempo())"
   ]
  },
  {
   "attachments": {},
   "cell_type": "markdown",
   "metadata": {},
   "source": [
    "Por lo tanto, cuando se calculen varios observables definidos en una única escala de renormalización, es conveniente calcular el *running* una sola vez."
   ]
  },
  {
   "attachments": {},
   "cell_type": "markdown",
   "metadata": {},
   "source": [
    "## Aproximación del logaritmo principal\n",
    "\n",
    "Las ecuaciones del grupo de renormalización son un sistema de ecuaciones diferenciales de primer orden no lineales. `wilson` las resuelve mediante integración numérica, utilizando el algoritmo de Runge-Kutta de quinto orden (el método por defecto de [`scipy.integrate.solve_ivp()`](https://docs.scipy.org/doc/scipy/reference/generated/scipy.integrate.solve_ivp.html))."
   ]
  },
  {
   "attachments": {},
   "cell_type": "markdown",
   "metadata": {},
   "source": [
    "\n",
    "Puedes ver las ecuaciones del grupo de renormalización del SMEFT en [1308.2627](https://arxiv.org/abs/1308.2627), [1310.4838](https://arxiv.org/abs/1310.4838) y [1312.2014](https://arxiv.org/abs/1312.2014). Esquemáticamente, se pueden escribir como $$\\frac{d}{d\\log\\mu} C_i = \\frac{\\beta_{ij}(\\mu)}{16\\pi^2} C_j\\,.$$\n",
    "\n",
    "La función beta no depende explícitamente de $\\mu$, solamente depende a través de los parámetros del SM ($\\lambda$, acoplos de Yukaway acoplos *gauge*), que dependen de $\\mu$ porque también tienen que ser renormalizados. En general esta dependencia no es muy fuerte (logarítmica), por lo que se pueden aproximar como constantes. Al hacer esta aproximación, las ecuaciones diferenciales ahora son lineales, y su solución es inmediata:$$C_i(\\mu_2) = C_i(\\mu_1) + \\frac{\\beta_{ij}}{16\\pi^2} C_j(\\mu_1) \\log\\frac{\\mu_2}{\\mu_1}\\,.$$"
   ]
  },
  {
   "attachments": {},
   "cell_type": "markdown",
   "metadata": {},
   "source": [
    "En `wilson` es posible utilizar esta aproximación con el SMEFT (pero no con el WET):"
   ]
  },
  {
   "cell_type": "code",
   "execution_count": 14,
   "metadata": {},
   "outputs": [],
   "source": [
    "w1.set_option(\"smeft_accuracy\", \"leadinglog\")\n",
    "\n",
    "w2_leadinglog = Wilson.from_wc(w1.match_run(MZ, eft=\"SMEFT\", basis=\"Warsaw\"))"
   ]
  },
  {
   "attachments": {},
   "cell_type": "markdown",
   "metadata": {},
   "source": [
    "El cálculo del *running* es más rápido, pero también más impreciso"
   ]
  },
  {
   "cell_type": "code",
   "execution_count": 15,
   "metadata": {},
   "outputs": [
    {
     "name": "stdout",
     "output_type": "stream",
     "text": [
      "1.0002009304579864\n"
     ]
    }
   ],
   "source": [
    "print(w2_leadinglog.wc.values['lq1_2222']*LAMBDA**2)"
   ]
  },
  {
   "attachments": {},
   "cell_type": "markdown",
   "metadata": {},
   "source": [
    "Veamos una comparación:"
   ]
  },
  {
   "cell_type": "code",
   "execution_count": 21,
   "metadata": {},
   "outputs": [],
   "source": [
    "import numpy as np\n",
    "\n",
    "w1.set_option(\"smeft_accuracy\", \"integrate\")\n",
    "\n",
    "lq1_int = []\n",
    "phiq1_int = []\n",
    "for mu in np.logspace(np.log10(0.99*LAMBDA), np.log10(MZ), 50):\n",
    "    w_temp = Wilson.from_wc(w1.match_run(mu, eft=\"SMEFT\", basis=\"Warsaw\"))\n",
    "    lq1 = w_temp.wc.values['lq1_2222']\n",
    "    if isinstance(lq1, dict):\n",
    "        lq1_int.append(lq1['Re']*LAMBDA**2)\n",
    "    else:\n",
    "        lq1_int.append(lq1*LAMBDA**2)\n",
    "    phiq1 = w_temp.wc.values['phiq1_22']\n",
    "    if isinstance(phiq1, dict):\n",
    "        phiq1_int.append(phiq1['Re']*LAMBDA**2)\n",
    "    else:\n",
    "        phiq1_int.append(phiq1*LAMBDA**2)\n",
    "    "
   ]
  },
  {
   "cell_type": "code",
   "execution_count": 22,
   "metadata": {},
   "outputs": [],
   "source": [
    "w1.set_option(\"smeft_accuracy\", \"leadinglog\")\n",
    "\n",
    "lq1_ll = []\n",
    "phiq1_ll = []\n",
    "for mu in np.logspace(np.log10(0.99*LAMBDA), np.log10(MZ), 50):\n",
    "    w_temp = Wilson.from_wc(w1.match_run(mu, eft=\"SMEFT\", basis=\"Warsaw\"))\n",
    "    lq1 = w_temp.wc.values['lq1_2222']\n",
    "    if isinstance(lq1, dict):\n",
    "        lq1_ll.append(lq1['Re']*LAMBDA**2)\n",
    "    else:\n",
    "        lq1_ll.append(lq1*LAMBDA**2)\n",
    "    phiq1 = w_temp.wc.values['phiq1_22']\n",
    "    if isinstance(phiq1, dict):\n",
    "        phiq1_ll.append(phiq1['Re']*LAMBDA**2)\n",
    "    else:\n",
    "        phiq1_ll.append(phiq1*LAMBDA**2)"
   ]
  },
  {
   "cell_type": "code",
   "execution_count": 28,
   "metadata": {},
   "outputs": [
    {
     "data": {
      "image/png": "[encoded data removed]",
      "text/plain": [
       "<Figure size 640x480 with 1 Axes>"
      ]
     },
     "metadata": {},
     "output_type": "display_data"
    }
   ],
   "source": [
    "import matplotlib.pyplot as plt\n",
    "\n",
    "plt.plot(np.logspace(np.log10(0.99*LAMBDA), np.log10(MZ), 50), lq1_int, label=\"Integrado\")\n",
    "plt.plot(np.logspace(np.log10(0.99*LAMBDA), np.log10(MZ), 50), lq1_ll, label=\"Leading log\")\n",
    "plt.xlabel(r\"$\\mu$\")\n",
    "plt.ylabel(r\"$C_{\\ell q(1)}^{2222}(\\mu)$\")\n",
    "plt.legend()\n",
    "plt.xscale('log')"
   ]
  },
  {
   "cell_type": "code",
   "execution_count": 29,
   "metadata": {},
   "outputs": [
    {
     "data": {
      "image/png": "[encoded data removed]",
      "text/plain": [
       "<Figure size 640x480 with 1 Axes>"
      ]
     },
     "metadata": {},
     "output_type": "display_data"
    }
   ],
   "source": [
    "plt.plot(np.logspace(np.log10(0.99*LAMBDA), np.log10(MZ), 50), phiq1_int, label=\"Integrado\")\n",
    "plt.plot(np.logspace(np.log10(0.99*LAMBDA), np.log10(MZ), 50), phiq1_ll, label=\"Leading log\")\n",
    "plt.xlabel(r\"$\\mu$\")\n",
    "plt.ylabel(r\"$C_{\\varphi q(1)}^{22}(\\mu)$\")\n",
    "plt.legend()\n",
    "plt.xscale('log')"
   ]
  },
  {
   "cell_type": "code",
   "execution_count": null,
   "metadata": {},
   "outputs": [],
   "source": []
  }
 ],
 "metadata": {
  "kernelspec": {
   "display_name": "tfm-alejandromir-_L8EXmOG-py3.10",
   "language": "python",
   "name": "python3"
  },
  "language_info": {
   "codemirror_mode": {
    "name": "ipython",
    "version": 3
   },
   "file_extension": ".py",
   "mimetype": "text/x-python",
   "name": "python",
   "nbconvert_exporter": "python",
   "pygments_lexer": "ipython3",
   "version": "3.10.9"
  },
  "orig_nbformat": 4,
  "vscode": {
   "interpreter": {
    "hash": "dbc053e7a741c0eaa81871d91d086a95cb3a0f1760a7f1f0b9028bb2da013099"
   }
  }
 },
 "nbformat": 4,
 "nbformat_minor": 2
}
