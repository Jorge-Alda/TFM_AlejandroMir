{
 "cells": [
  {
   "attachments": {},
   "cell_type": "markdown",
   "metadata": {},
   "source": [
    "# Archivos y carpetas desde Python"
   ]
  },
  {
   "attachments": {},
   "cell_type": "markdown",
   "metadata": {},
   "source": [
    "Cuando abres o guardas un archivo, la ruta se puede especificar como absoluta (es decir, desde la raíz del sistema de archivo en Linux/MacOs o desde el disco en Windows), o relativa desde el directorio de trabajo. Para las rutas relativas se puede usar `..` para indicar el directorio superior.\n",
    "\n",
    "El directorio de trabajo inicialmente es el directorio desde el que se ha abierto Python. Para ver el directorio de trabajo, usa el comando"
   ]
  },
  {
   "cell_type": "code",
   "execution_count": 1,
   "metadata": {},
   "outputs": [
    {
     "name": "stdout",
     "output_type": "stream",
     "text": [
      "/workspaces/TFM_AlejandroMir/Lecciones\n"
     ]
    }
   ],
   "source": [
    "import os\n",
    "\n",
    "print(os.getcwd())"
   ]
  },
  {
   "attachments": {},
   "cell_type": "markdown",
   "metadata": {},
   "source": [
    "El directorio de trabajo se puede cambiar con este comando:"
   ]
  },
  {
   "cell_type": "code",
   "execution_count": 2,
   "metadata": {},
   "outputs": [
    {
     "name": "stdout",
     "output_type": "stream",
     "text": [
      "/workspaces/TFM_AlejandroMir/vscode\n",
      "/workspaces/TFM_AlejandroMir\n"
     ]
    }
   ],
   "source": [
    "os.chdir(\"/workspaces/TFM_AlejandroMir/vscode/\")\n",
    "\n",
    "print(os.getcwd())\n",
    "\n",
    "os.chdir(\"..\")\n",
    "\n",
    "print(os.getcwd())"
   ]
  },
  {
   "cell_type": "code",
   "execution_count": 3,
   "metadata": {},
   "outputs": [
    {
     "name": "stdout",
     "output_type": "stream",
     "text": [
      "{\n",
      "  \"eft\": \"SMEFT\",\n",
      "  \"basis\": \"Warsaw\",\n",
      "  \"scale\": 1000.0,\n",
      "  \"values\": {\n",
      "    \"lq1_2223\": 1.0000000000000001e-07,\n",
      "    \"lq3_2223\": 1.0000000000000001e-07\n",
      "  }\n",
      "}\n"
     ]
    }
   ],
   "source": [
    "with open(\"Lecciones/wilson_01.json\") as f:\n",
    "    print(f.read())"
   ]
  },
  {
   "attachments": {},
   "cell_type": "markdown",
   "metadata": {},
   "source": [
    "## Localizar los archivos en ejecución"
   ]
  },
  {
   "attachments": {},
   "cell_type": "markdown",
   "metadata": {},
   "source": [
    "Imagina que queremos abrir el archivo `wilson_01.json` que se encuentra en la misma carpeta que este cuaderno, pero que no sabemos desde qué directorio vamos a ejecutar el archivo. Lo primero que tenemos que hacer es localizar la ruta del cuaderno.\n",
    "\n",
    "Si estás ejecutando un archivo `.py`, la ruta del archivo está almacenada en la variable `__file__`"
   ]
  },
  {
   "cell_type": "code",
   "execution_count": 4,
   "metadata": {},
   "outputs": [
    {
     "data": {
      "text/plain": [
       "['/workspaces/TFM_AlejandroMir/Lecciones/aux_02h.py']"
      ]
     },
     "execution_count": 4,
     "metadata": {},
     "output_type": "execute_result"
    }
   ],
   "source": [
    "%system python /workspaces/TFM_AlejandroMir/Lecciones/aux_02h.py"
   ]
  },
  {
   "attachments": {},
   "cell_type": "markdown",
   "metadata": {},
   "source": [
    "y en un cuaderno de Jupyter, para encontrar la ruta al directorio del cuaderno"
   ]
  },
  {
   "cell_type": "code",
   "execution_count": 5,
   "metadata": {},
   "outputs": [
    {
     "data": {
      "text/plain": [
       "PosixPath('/workspaces/TFM_AlejandroMir/Lecciones')"
      ]
     },
     "execution_count": 5,
     "metadata": {},
     "output_type": "execute_result"
    }
   ],
   "source": [
    "_dh[0]"
   ]
  },
  {
   "attachments": {},
   "cell_type": "markdown",
   "metadata": {},
   "source": [
    "Si abres el cuaderno con la extensión de VSCode, además es posible encontrar la ruta completa al cuaderno:"
   ]
  },
  {
   "cell_type": "code",
   "execution_count": 6,
   "metadata": {},
   "outputs": [
    {
     "data": {
      "text/plain": [
       "'/workspaces/TFM_AlejandroMir/Lecciones/02h.ipynb'"
      ]
     },
     "execution_count": 6,
     "metadata": {},
     "output_type": "execute_result"
    }
   ],
   "source": [
    "__vsc_ipynb_file__"
   ]
  },
  {
   "attachments": {},
   "cell_type": "markdown",
   "metadata": {},
   "source": [
    "Puedes ver la ruta de cualquier módulo que hayas importado usando `__path__`:"
   ]
  },
  {
   "cell_type": "code",
   "execution_count": 7,
   "metadata": {},
   "outputs": [
    {
     "name": "stdout",
     "output_type": "stream",
     "text": [
      "['/root/.cache/pypoetry/virtualenvs/tfm-alejandromir-_L8EXmOG-py3.10/lib/python3.10/site-packages/flavio']\n"
     ]
    }
   ],
   "source": [
    "import flavio\n",
    "\n",
    "print(flavio.__path__)"
   ]
  },
  {
   "attachments": {},
   "cell_type": "markdown",
   "metadata": {},
   "source": [
    "## Manipular rutas de archivo"
   ]
  },
  {
   "attachments": {},
   "cell_type": "markdown",
   "metadata": {},
   "source": [
    "Una vez que conocemos la ruta del cuaderno, ahora tenemos que modificarla para obtener la ruta del archivo `wilson_01.json`. Podríamos pensar en modificarla como una cadena de texto, pero esto tiene varios problemas. En primer lugar, en Linux y MacOS se usa como separador de directorios `/`, mientras que en Windows se suele usar `\\`. Además, el carácter `\\` sirve para representar carácteres especiales, como el salto de línea `\\n`, así que para usarlo en una cadena de texto hay que escribir `\\\\`, o bien usar una \"raw-string\":"
   ]
  },
  {
   "cell_type": "code",
   "execution_count": 8,
   "metadata": {},
   "outputs": [
    {
     "name": "stdout",
     "output_type": "stream",
     "text": [
      "C:\\\\Documents\n",
      "C:\\\\Documents\n"
     ]
    }
   ],
   "source": [
    "print(\"C:\\\\\\\\Documents\")\n",
    "\n",
    "print(r\"C:\\\\Documents\")"
   ]
  },
  {
   "attachments": {},
   "cell_type": "markdown",
   "metadata": {},
   "source": [
    "Para evitar estas complicaciones, es mejor usar el módulo `pathlib` de la librería estándar"
   ]
  },
  {
   "cell_type": "code",
   "execution_count": 9,
   "metadata": {},
   "outputs": [
    {
     "name": "stdout",
     "output_type": "stream",
     "text": [
      "/workspaces/TFM_AlejandroMir/Lecciones/02h.ipynb\n"
     ]
    }
   ],
   "source": [
    "from pathlib import Path\n",
    "\n",
    "ruta_cuaderno = Path(__vsc_ipynb_file__)\n",
    "\n",
    "print(ruta_cuaderno)"
   ]
  },
  {
   "attachments": {},
   "cell_type": "markdown",
   "metadata": {},
   "source": [
    "Para obtener el directorio superior:"
   ]
  },
  {
   "cell_type": "code",
   "execution_count": 10,
   "metadata": {},
   "outputs": [
    {
     "name": "stdout",
     "output_type": "stream",
     "text": [
      "/workspaces/TFM_AlejandroMir/Lecciones\n"
     ]
    }
   ],
   "source": [
    "print(ruta_cuaderno.parent)"
   ]
  },
  {
   "attachments": {},
   "cell_type": "markdown",
   "metadata": {},
   "source": [
    "y se pueden añadir los subdirectorios o archivos con el operador `/`, independientemente del símbolo usado por el sistema operativo:"
   ]
  },
  {
   "cell_type": "code",
   "execution_count": 11,
   "metadata": {},
   "outputs": [
    {
     "name": "stdout",
     "output_type": "stream",
     "text": [
      "/workspaces/TFM_AlejandroMir/Lecciones/wilson_01.json\n"
     ]
    }
   ],
   "source": [
    "print(ruta_cuaderno.parent / \"wilson_01.json\")"
   ]
  },
  {
   "attachments": {},
   "cell_type": "markdown",
   "metadata": {},
   "source": [
    "Los objetos `Path` se pueden usar como argumentos de `open()`:"
   ]
  },
  {
   "cell_type": "code",
   "execution_count": 18,
   "metadata": {},
   "outputs": [
    {
     "name": "stdout",
     "output_type": "stream",
     "text": [
      "{\n",
      "  \"eft\": \"SMEFT\",\n",
      "  \"basis\": \"Warsaw\",\n",
      "  \"scale\": 1000.0,\n",
      "  \"values\": {\n",
      "    \"lq1_2223\": 1.0000000000000001e-07,\n",
      "    \"lq3_2223\": 1.0000000000000001e-07\n",
      "  }\n",
      "}\n"
     ]
    }
   ],
   "source": [
    "with open(ruta_cuaderno.parent / \"wilson_01.json\", \"rt\") as f:\n",
    "    print(f.read())"
   ]
  },
  {
   "attachments": {},
   "cell_type": "markdown",
   "metadata": {},
   "source": [
    "Se puede obtener una ruta absoluta a partir de una relativa con el método `absolute()`:"
   ]
  },
  {
   "cell_type": "code",
   "execution_count": 12,
   "metadata": {},
   "outputs": [
    {
     "data": {
      "text/plain": [
       "PosixPath('/workspaces/TFM_AlejandroMir')"
      ]
     },
     "execution_count": 12,
     "metadata": {},
     "output_type": "execute_result"
    }
   ],
   "source": [
    "Path(\".\").absolute()"
   ]
  },
  {
   "attachments": {},
   "cell_type": "markdown",
   "metadata": {},
   "source": [
    "Las rutas que contengan `..` o vínculos a otros directorios se pueden simplificar con el método `resolve()`:"
   ]
  },
  {
   "cell_type": "code",
   "execution_count": 13,
   "metadata": {},
   "outputs": [
    {
     "data": {
      "text/plain": [
       "PosixPath('/workspaces/TFM_AlejandroMir/biblio.md')"
      ]
     },
     "execution_count": 13,
     "metadata": {},
     "output_type": "execute_result"
    }
   ],
   "source": [
    "(Path(__vsc_ipynb_file__).parent / \"../biblio.md\").resolve()"
   ]
  },
  {
   "attachments": {},
   "cell_type": "markdown",
   "metadata": {},
   "source": [
    "También se puede comprobar si una ruta existe, y si corresponde a un archivo o a un directorio:"
   ]
  },
  {
   "cell_type": "code",
   "execution_count": 16,
   "metadata": {},
   "outputs": [
    {
     "name": "stdout",
     "output_type": "stream",
     "text": [
      "True\n",
      "True\n",
      "False\n"
     ]
    }
   ],
   "source": [
    "print((Path(__vsc_ipynb_file__).parent / \"../biblio.md\").exists())\n",
    "\n",
    "print((Path(__vsc_ipynb_file__).parent / \"../biblio.md\").is_file())\n",
    "\n",
    "print((Path(__vsc_ipynb_file__).parent / \"../biblio.md\").is_dir())"
   ]
  },
  {
   "attachments": {},
   "cell_type": "markdown",
   "metadata": {},
   "source": [
    "Para ver algunos metadatos del archivo o directorio:"
   ]
  },
  {
   "cell_type": "code",
   "execution_count": 17,
   "metadata": {},
   "outputs": [
    {
     "data": {
      "text/plain": [
       "os.stat_result(st_mode=33188, st_ino=6860251, st_dev=38, st_nlink=1, st_uid=0, st_gid=0, st_size=1840, st_atime=1672935523, st_mtime=1671556947, st_ctime=1671556947)"
      ]
     },
     "execution_count": 17,
     "metadata": {},
     "output_type": "execute_result"
    }
   ],
   "source": [
    "(Path(__vsc_ipynb_file__).parent / \"../biblio.md\").stat()"
   ]
  },
  {
   "attachments": {},
   "cell_type": "markdown",
   "metadata": {},
   "source": [
    "* `st_size` es el tamaño en bytes.\n",
    "* `st_atime` es el tiempo del último acceso, en formato de tiempo UNIX.\n",
    "* `st_mtime` es el tiempo de la última modificación.\n",
    "* `st_ctime` es el tiempo de la creación en Windows, o de la última modificación de metadatos en Linux.\n",
    "\n",
    "Para expresar el tiempo en un formato más comprensible:"
   ]
  },
  {
   "cell_type": "code",
   "execution_count": 21,
   "metadata": {},
   "outputs": [
    {
     "name": "stdout",
     "output_type": "stream",
     "text": [
      "2023-01-05 16:18:43.174986\n"
     ]
    }
   ],
   "source": [
    "import datetime\n",
    "\n",
    "fecha = datetime.datetime.fromtimestamp((Path(__vsc_ipynb_file__).parent / \"../biblio.md\").stat().st_atime)\n",
    "\n",
    "print(fecha)"
   ]
  },
  {
   "attachments": {},
   "cell_type": "markdown",
   "metadata": {},
   "source": [
    "Para ver los contenidos de un directorio:"
   ]
  },
  {
   "cell_type": "code",
   "execution_count": 22,
   "metadata": {},
   "outputs": [
    {
     "name": "stdout",
     "output_type": "stream",
     "text": [
      "/workspaces/TFM_AlejandroMir/Lecciones/charmloops.png\n",
      "/workspaces/TFM_AlejandroMir/Lecciones/README.md\n",
      "/workspaces/TFM_AlejandroMir/Lecciones/.ipynb_checkpoints\n",
      "/workspaces/TFM_AlejandroMir/Lecciones/01.ipynb\n",
      "/workspaces/TFM_AlejandroMir/Lecciones/02.ipynb\n",
      "/workspaces/TFM_AlejandroMir/Lecciones/02c.ipynb\n",
      "/workspaces/TFM_AlejandroMir/Lecciones/02d.ipynb\n",
      "/workspaces/TFM_AlejandroMir/Lecciones/02e.ipynb\n",
      "/workspaces/TFM_AlejandroMir/Lecciones/02f.ipynb\n",
      "/workspaces/TFM_AlejandroMir/Lecciones/02f.py\n",
      "/workspaces/TFM_AlejandroMir/Lecciones/input_02c\n",
      "/workspaces/TFM_AlejandroMir/Lecciones/02g.ipynb\n",
      "/workspaces/TFM_AlejandroMir/Lecciones/03.ipynb\n",
      "/workspaces/TFM_AlejandroMir/Lecciones/wilson_01.json\n",
      "/workspaces/TFM_AlejandroMir/Lecciones/04.ipynb\n",
      "/workspaces/TFM_AlejandroMir/Lecciones/02b.ipynb\n",
      "/workspaces/TFM_AlejandroMir/Lecciones/RD_SM.yaml\n",
      "/workspaces/TFM_AlejandroMir/Lecciones/02h.ipynb\n",
      "/workspaces/TFM_AlejandroMir/Lecciones/aux_02h.py\n"
     ]
    }
   ],
   "source": [
    "for f in Path(__vsc_ipynb_file__).parent.iterdir():\n",
    "    print(f)"
   ]
  },
  {
   "cell_type": "code",
   "execution_count": null,
   "metadata": {},
   "outputs": [],
   "source": []
  }
 ],
 "metadata": {
  "kernelspec": {
   "display_name": "tfm-alejandromir-_L8EXmOG-py3.10",
   "language": "python",
   "name": "python3"
  },
  "language_info": {
   "codemirror_mode": {
    "name": "ipython",
    "version": 3
   },
   "file_extension": ".py",
   "mimetype": "text/x-python",
   "name": "python",
   "nbconvert_exporter": "python",
   "pygments_lexer": "ipython3",
   "version": "3.10.9"
  },
  "orig_nbformat": 4,
  "vscode": {
   "interpreter": {
    "hash": "dbc053e7a741c0eaa81871d91d086a95cb3a0f1760a7f1f0b9028bb2da013099"
   }
  }
 },
 "nbformat": 4,
 "nbformat_minor": 2
}
