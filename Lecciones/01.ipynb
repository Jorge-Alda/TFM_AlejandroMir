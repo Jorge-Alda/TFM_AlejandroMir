{
 "cells": [
  {
   "cell_type": "markdown",
   "metadata": {},
   "source": [
    "# 01 Intro a Flavio y Wilson"
   ]
  },
  {
   "cell_type": "code",
   "execution_count": 9,
   "metadata": {},
   "outputs": [],
   "source": [
    "import flavio\n",
    "from wilson import Wilson"
   ]
  },
  {
   "cell_type": "markdown",
   "metadata": {},
   "source": [
    "## Observables en el SM\n",
    "\n",
    "La lista completa de los observables disponibles en `flavio` se encuentra en la documentación: https://flav-io.github.io/docs/observables.html"
   ]
  },
  {
   "cell_type": "markdown",
   "metadata": {},
   "source": [
    "### $R_{D^{(*)}}$\n",
    "Son desintegraciones semi-leptonicas de quarks $b$ a nivel árbol. $R_D$ es una desintegración a un mesón pseudoescalar, $B\\to P \\ell \\nu$, y $R_{D^*}$ a un mesón vectorial, $B\\to V \\ell\\nu$.\n",
    "\n",
    "<details>\n",
    "<summary>R(D)</summary>\n",
    "<b>Rtaul(B->Dlnu)</b><br/>\n",
    "La parte de antes del paréntesis indica el tipo de proceso: <i>R</i> para un ratio de universalidad del sabor leptónico (LFU), y <i>tau</i> y <i>l</i> el sabor del numerador y denominador, respectivamente (<i>l</i> para el promedio de electrón y muón).\n",
    "</details>\n",
    "<details>\n",
    "<summary>R(D*)</summary>\n",
    "<b>Rtaul(B->D*lnu)</b>\n",
    "</details>"
   ]
  },
  {
   "cell_type": "code",
   "execution_count": 4,
   "metadata": {},
   "outputs": [
    {
     "name": "stdout",
     "output_type": "stream",
     "text": [
      "RD = 0.2967 ± 0.0058 (SM)\n",
      "RD* = 0.2445 ± 0.0088 (SM)\n"
     ]
    }
   ],
   "source": [
    "# Predicciones en el SM\n",
    "RD_SM = flavio.sm_prediction('Rtaul(B->Dlnu)')\n",
    "RDs_SM = flavio.sm_prediction('Rtaul(B->D*lnu)')\n",
    "\n",
    "# Incertidumbre en el SM\n",
    "RD_unc_SM = flavio.sm_uncertainty('Rtaul(B->Dlnu)')\n",
    "RDs_unc_SM = flavio.sm_uncertainty('Rtaul(B->D*lnu)')\n",
    "\n",
    "print(f\"RD = {RD_SM:.4f} ± {RD_unc_SM:.4f} (SM)\")\n",
    "print(f\"RD* = {RDs_SM:.4f} ± {RDs_unc_SM:.4f} (SM)\")"
   ]
  },
  {
   "cell_type": "markdown",
   "metadata": {},
   "source": [
    "También podemos ver con `flavio` el valor experimental"
   ]
  },
  {
   "cell_type": "code",
   "execution_count": 7,
   "metadata": {},
   "outputs": [
    {
     "name": "stdout",
     "output_type": "stream",
     "text": [
      "RD = 0.3464 + 0.0313 - 0.0313 (exp)\n",
      "RD* = 0.2961 + 0.0156 - 0.0155 (exp)\n"
     ]
    },
    {
     "name": "stderr",
     "output_type": "stream",
     "text": [
      "/home/jorge/.local/lib/python3.10/site-packages/flavio/functions.py:336: UserWarning: 3 of the measurements of 'Rtaul(B->Dlnu)' are multivariate. This can lead to inconsistent results as the other observables are profiled over. To be consistent, you should perform a multivariate combination that is not yet supported by `combine_measurements`.\n",
      "  warnings.warn((\"{} of the measurements of '{}' are multivariate. \"\n",
      "/home/jorge/.local/lib/python3.10/site-packages/flavio/functions.py:336: UserWarning: 3 of the measurements of 'Rtaul(B->D*lnu)' are multivariate. This can lead to inconsistent results as the other observables are profiled over. To be consistent, you should perform a multivariate combination that is not yet supported by `combine_measurements`.\n",
      "  warnings.warn((\"{} of the measurements of '{}' are multivariate. \"\n"
     ]
    }
   ],
   "source": [
    "RD_meas = flavio.combine_measurements('Rtaul(B->Dlnu)')\n",
    "RDs_meas = flavio.combine_measurements('Rtaul(B->D*lnu)')\n",
    "\n",
    "RD_exp = RD_meas.central_value\n",
    "RDs_exp = RDs_meas.central_value\n",
    "\n",
    "RD_err_right = RD_meas.error_right\n",
    "RD_err_left = RD_meas.error_left\n",
    "\n",
    "RDs_err_right = RDs_meas.error_right\n",
    "RDs_err_left = RDs_meas.error_left\n",
    "\n",
    "print(f\"RD = {RD_exp:.4f} + {RD_err_right:.4f} - {RD_err_left:.4f} (exp)\")\n",
    "print(f\"RD* = {RDs_exp:.4f} + {RDs_err_right:.4f} - {RDs_err_left:.4f} (exp)\")"
   ]
  },
  {
   "cell_type": "markdown",
   "metadata": {},
   "source": [
    "### $R_{K^{(*)}}$"
   ]
  },
  {
   "cell_type": "markdown",
   "metadata": {},
   "source": [
    "El proceso $B\\to K^{(*)}\\ell^+ \\ell^-$ tiene a nivel experimental un pequeño inconveniente: Su señal se confunde con la del proceso $B\\to K^{(*)}\\bar{c}c$, $\\bar{c}c\\to \\ell^+\\ell^-$, lo que se conoce como \"charm loops\". Si estudiamos las desintegarciones en función de $q^2$, donde $q = p_{\\ell^+} + p_{\\ell^-}$, se ve que los charm loops solamente son relevantes en las resonancias $\\bar{c}c$, esto es, cuando $q^2$ es aproximadamente igual a la masa al cuadrado de un mesón de charmonio ($J/\\psi$, $\\psi(2S)$, etc)."
   ]
  },
  {
   "cell_type": "markdown",
   "metadata": {},
   "source": [
    "![charmloops](charmloops.png)"
   ]
  },
  {
   "cell_type": "markdown",
   "metadata": {},
   "source": [
    "Solución: nos quedaremos solamente con las desintegraciones que no coincidan con las resonancias. Para ello, en vez de integrar a todo el rango cinemático de $q^2$, integraremos solamente en un \"bin\", $q^2 \\in [q^2_\\mathrm{min}, q^2_\\mathrm{max}]$:\n",
    "$$R_{K^{(*)}} = \\frac{\\int_{q^2_\\mathrm{min}}^{q^2_\\mathrm{max}} d/dq^2 \\Gamma(B\\to K^{(*)}\\mu^+ \\mu^-)  d q^2}{\\int_{q^2_\\mathrm{min}}^{q^2_\\mathrm{max}} d/dq^2 \\Gamma(B\\to K^{(*)}e^+ e^-)  d q^2}\\,. $$\n",
    "\n",
    "En `flavio`, los observables integrados por bins se indican escribiendo el tipo de observable entre <>, y tendremos que pasar $q^2_\\mathrm{min}$ y $q^2_\\mathrm{max}$ como argumentos. Los tres observables que utilizaremos serán:\n",
    "\n",
    "* $R_{K^+}$, $q^2 \\in [1.1,\\, 6.0]\\ \\mathrm{GeV}^2$\n",
    "* $R_{K^{*0}}$, $q^2 \\in [0.045,\\,1.1]\\ \\mathrm{GeV}^2$\n",
    "* $R_{K^{*0}}$, $q^2 \\in [1.1,\\, 6.0]\\ \\mathrm{GeV}^2$"
   ]
  },
  {
   "cell_type": "code",
   "execution_count": 12,
   "metadata": {},
   "outputs": [
    {
     "name": "stdout",
     "output_type": "stream",
     "text": [
      "RK [1.1, 6.0] = 1.0008 ± 0.0003 (SM)\n",
      "RK* [0.045, 1.1] = 0.9257 ± 0.0043 (SM)\n",
      "RK* [1.1, 6.0] = 0.9964 ± 0.0005 (SM)\n"
     ]
    }
   ],
   "source": [
    "# Predicciones en el SM\n",
    "RK_SM = flavio.sm_prediction('<Rmue>(B+->Kll)', 1.1, 6.0)\n",
    "RKs_low_SM = flavio.sm_prediction('<Rmue>(B0->K*ll)', 0.045, 1.1)\n",
    "RKs_mid_SM = flavio.sm_prediction('<Rmue>(B0->K*ll)', 1.1, 6.0)\n",
    "\n",
    "# Incertidumbre en el SM\n",
    "RK_unc_SM = flavio.sm_uncertainty('<Rmue>(B+->Kll)', 1.1, 6.0)\n",
    "RKs_low_unc_SM = flavio.sm_uncertainty('<Rmue>(B0->K*ll)', 0.045, 1.1)\n",
    "RKs_mid_unc_SM = flavio.sm_uncertainty('<Rmue>(B0->K*ll)', 1.1, 6.0)\n",
    "\n",
    "print(f\"RK [1.1, 6.0] = {RK_SM:.4f} ± {RK_unc_SM:.4f} (SM)\")\n",
    "print(f\"RK* [0.045, 1.1] = {RKs_low_SM:.4f} ± {RKs_low_unc_SM:.4f} (SM)\")\n",
    "print(f\"RK* [1.1, 6.0] = {RKs_mid_SM:.4f} ± {RKs_mid_unc_SM:.4f} (SM)\")"
   ]
  },
  {
   "cell_type": "code",
   "execution_count": 13,
   "metadata": {},
   "outputs": [
    {
     "name": "stdout",
     "output_type": "stream",
     "text": [
      "RK [1.1, 6.0] = 0.8497 + 0.0351 - 0.0346 (exp)\n",
      "RK* [0.045, 1.1] = 0.6525 + 0.1157 - 0.0698 (exp)\n",
      "RK* [1.1, 6.0] = 0.6814 + 0.1231 - 0.0770 (exp)\n"
     ]
    }
   ],
   "source": [
    "RK_meas = flavio.combine_measurements(('<Rmue>(B+->Kll)', 1.1, 6.0))\n",
    "RKs_low_meas = flavio.combine_measurements(('<Rmue>(B0->K*ll)', 0.045, 1.1))\n",
    "RKs_mid_meas = flavio.combine_measurements(('<Rmue>(B0->K*ll)', 1.1, 6.0))\n",
    "\n",
    "RK_exp = RK_meas.central_value\n",
    "RKs_low_exp = RKs_low_meas.central_value\n",
    "RKs_mid_exp = RKs_mid_meas.central_value\n",
    "\n",
    "RK_err_right = RK_meas.error_right\n",
    "RKs_low_err_right = RKs_low_meas.error_right\n",
    "RKs_mid_err_right = RKs_mid_meas.error_right\n",
    "\n",
    "RK_err_left = RK_meas.error_left\n",
    "RKs_low_err_left = RKs_low_meas.error_left\n",
    "RKs_mid_err_left = RKs_mid_meas.error_left\n",
    "\n",
    "print(f\"RK [1.1, 6.0] = {RK_exp:.4f} + {RK_err_right:.4f} - {RK_err_left:.4f} (exp)\")\n",
    "print(f\"RK* [0.045, 1.1] = {RKs_low_exp:.4f} + {RKs_low_err_right:.4f} - {RKs_low_err_left:.4f} (exp)\")\n",
    "print(f\"RK* [1.1, 6.0] = {RKs_mid_exp:.4f} + {RKs_mid_err_right:.4f} - {RKs_mid_err_left:.4f} (exp)\")"
   ]
  },
  {
   "cell_type": "markdown",
   "metadata": {},
   "source": [
    "### $R_{J/\\psi}$\n",
    "$R_{J/\\psi}$ aún no está disponible en la versión oficial de `flavio`. Pero sí está en nuestro fork, https://github.com/Jorge-Alda/flavio/tree/BctoJpsi.\n",
    "Más adelante veremos cómo usar esta versión."
   ]
  },
  {
   "cell_type": "markdown",
   "metadata": {},
   "source": [
    "## Teorías Efectivas"
   ]
  },
  {
   "cell_type": "markdown",
   "metadata": {},
   "source": [
    "En el artículo en el que se presenta el SMEFT, [1008.4884](http://arxiv.org/abs/1008.4884), tenemos el siguiente Lagrangiano en (1.1),\n",
    "$$\\mathcal{L}_\\mathrm{SMEFT} = \\mathcal{L}_\\mathrm{SM}^{(\\leq 4)} + \\frac{1}{\\Lambda}\\sum_k C_k^{(5)}Q_k^{(5)} + \\frac{1}{\\Lambda^2}\\sum_k C_k^{(6)}Q_k^{(6)} + \\mathcal{O}(\\Lambda^{-3})\\,.$$\n",
    "\n",
    "$Q_k^{(D)}$ son los operadores de dimensión $D$, que están formados por el producto de varios campos. $C_k^{(D)}$ son coeficientes numéricos, llamados coeficientes de Wilson, que con la definición usada arriba son adimensionales. Una teoría efectiva queda caracterizada dando los valores numéricos de todos sus coeficientes de Wilson a una escala de energía $\\Lambda$."
   ]
  },
  {
   "cell_type": "markdown",
   "metadata": {},
   "source": [
    "El paquete `wilson` se encarga de representar y manipular estos coeficientes. Puedes consultar todas las teorías efectivas y sus correspondientes bases en https://wcxf.github.io/bases.html. Por el momento usaremos la base \"Warsaw\", que es la que se describe en el artículo anterior. Puedes comprobar que `wilson` define los coeficientes del SMEFT como magnitudes dimensionales, siendo la conversión\n",
    "$$C_k^\\mathrm{wilson} = \\frac{1}{\\Lambda^2}C_k\\,.$$"
   ]
  },
  {
   "cell_type": "markdown",
   "metadata": {},
   "source": [
    "De entre todos los operadores posibles, consideraremos solo aquéllos que puedan contribuir *directamente* a los procesos $b\\to c \\ell\\nu$ y $b\\to s\\ell^+\\ell^-$, es decir, los que están compuestos por dos quarks y dos leptones. Además, nos centraremos en los que tengan la misma estructura de quiralidad que el SM.\n",
    "\n",
    "*Intermezzo:* ¿Por qué usamos la misma quiralidad que el SM?\n",
    "En una teoría efectiva, las amplitudes se calculan como una serie de potencias de $\\Lambda^{-1}$,\n",
    "$$A = A^\\mathrm{SM} + \\frac{1}{\\Lambda^2}A^{(6)} + \\mathcal{O}(\\Lambda^{-3})\\,.$$\n",
    "Cuando calculemos un observable, tendremos que obtener el módulo al cuadrado de la amplitud. Si $A^\\mathrm{SM}$ y $A^{(6)}$ tienen la misma quiralidad, tendremos un término de interferencia entre ambas,\n",
    "$$|A|^2 = |A^\\mathrm{SM}|^2 + \\frac{1}{\\Lambda^2}(A^\\mathrm{SM} A^{(6)*} + h.c.) + \\frac{1}{\\Lambda^4}\\left|A^{(6)}\\right|^2 + ...\\,,$$\n",
    "donde el término de interferencia es de orden $\\Lambda^{-2}$. Si por el contrario, $A^\\mathrm{SM}$ y $A^{(6)}$ son ortogonales, no habrá término de interferencia,\n",
    "$$|A|^2 = |A^\\mathrm{SM}|^2 + \\frac{1}{\\Lambda^4}\\left|A^{(6)}\\right|^2 + ...\\,,$$\n",
    "y la contribución de nueva física es de orden $\\Lambda^{-4}$, está más suprimida."
   ]
  },
  {
   "cell_type": "markdown",
   "metadata": {},
   "source": [
    "Con esto, nos quedan dos tipos de operadores efectivos (con diversas combinaciones de sabores de quarks y leptones):\n",
    "* $Q_{\\ell q(1)}^{ijkl} = (\\bar{\\ell}_i \\gamma_\\mu \\ell_j)(\\bar{q}_k\\gamma^\\mu q_l)$. Correspondería, por ejemplo, a integrar un bosón $B$ con acoplos no-universales. En `wilson`, su coeficiente se designa como `\"lq1_{i}{j}{k}{l}\"` (por ejemplo, `\"lq1_2223\"`).\n",
    "* $Q_{\\ell q(3)}^{ijkl} = (\\bar{\\ell}_i \\gamma_\\mu \\tau^I \\ell_j)(\\bar{q}_k\\gamma^\\mu \\tau^I q_l)$. Correspondería, por ejemplo, a integrar un bosón $W$ con acoplos no-universales. En `wilson`, su coeficiente se designa como `\"lq3_{i}{j}{k}{l}\"` (por ejemplo, `\"lq3_2223\"`).\n",
    "\n",
    "($\\ell$ y $q$ son los dobletes de $SU(2)_L$ de fermiones levógiros)."
   ]
  },
  {
   "cell_type": "markdown",
   "metadata": {},
   "source": [
    "Vamos a definir un objeto `Wilson` que contenga los  $C_{\\ell q(1)}^{2223} = C_{\\ell q(3)}^{2223} = 0.1$ a la escala $\\Lambda=1\\,\\mathrm{TeV}$."
   ]
  },
  {
   "cell_type": "code",
   "execution_count": 10,
   "metadata": {},
   "outputs": [],
   "source": [
    "Lambda = 1000\n",
    "w = Wilson({'lq1_2223': 0.1/Lambda**2, 'lq3_2223': 0.1/Lambda**2}, scale=Lambda, eft='SMEFT', basis='Warsaw')"
   ]
  },
  {
   "cell_type": "markdown",
   "metadata": {},
   "source": [
    "Podemos guardar los coeficientes de Wilson en un archivo `JSON`:"
   ]
  },
  {
   "cell_type": "code",
   "execution_count": 11,
   "metadata": {},
   "outputs": [],
   "source": [
    "with open('wilson_01.json', 'wt') as f:\n",
    "    w.wc.dump(f)"
   ]
  },
  {
   "cell_type": "markdown",
   "metadata": {},
   "source": [
    "y leer los coeficientes guardados: "
   ]
  },
  {
   "cell_type": "code",
   "execution_count": 12,
   "metadata": {},
   "outputs": [],
   "source": [
    "with open('wilson_01.json', 'rt') as f:\n",
    "    w2 = Wilson.load_wc(f)"
   ]
  },
  {
   "cell_type": "code",
   "execution_count": 13,
   "metadata": {},
   "outputs": [
    {
     "data": {
      "text/html": [
       "<h3>Wilson coefficients</h3>\n",
       "\n",
       "<table>\n",
       "  <thead>\n",
       "    <tr>\n",
       "      <th>EFT</th>\n",
       "      <th>Basis</th>\n",
       "      <th>scale</th>\n",
       "    </tr>\n",
       "  </thead>\n",
       "  <tbody>\n",
       "    <tr>\n",
       "      <td><code>SMEFT</code></td>\n",
       "      <td><code>Warsaw</code></td>\n",
       "      <td>1000.0 GeV</td>\n",
       "    </tr>\n",
       "  </tbody>\n",
       "</table>\n",
       "<h4>Values</h4>\n",
       "\n",
       "<div>\n",
       "<style scoped>\n",
       "    .dataframe tbody tr th:only-of-type {\n",
       "        vertical-align: middle;\n",
       "    }\n",
       "\n",
       "    .dataframe tbody tr th {\n",
       "        vertical-align: top;\n",
       "    }\n",
       "\n",
       "    .dataframe thead th {\n",
       "        text-align: right;\n",
       "    }\n",
       "</style>\n",
       "<table border=\"1\" class=\"dataframe\">\n",
       "  <thead>\n",
       "    <tr style=\"text-align: right;\">\n",
       "      <th></th>\n",
       "      <th>Re</th>\n",
       "      <th>Im</th>\n",
       "    </tr>\n",
       "  </thead>\n",
       "  <tbody>\n",
       "    <tr>\n",
       "      <th>lq1_2223</th>\n",
       "      <td>1.000000e-07</td>\n",
       "      <td>0.0</td>\n",
       "    </tr>\n",
       "    <tr>\n",
       "      <th>lq3_2223</th>\n",
       "      <td>1.000000e-07</td>\n",
       "      <td>0.0</td>\n",
       "    </tr>\n",
       "  </tbody>\n",
       "</table>\n",
       "</div>"
      ],
      "text/plain": [
       "<wilson.classes.Wilson at 0x7fd31585e3b0>"
      ]
     },
     "execution_count": 13,
     "metadata": {},
     "output_type": "execute_result"
    }
   ],
   "source": [
    "w2"
   ]
  },
  {
   "cell_type": "markdown",
   "metadata": {},
   "source": [
    "Podemos calcular cuánto vale $R_{D^{(*)}}$ con estos coeficientes de Wilson usando la función `np_prediction` de `flavio`:"
   ]
  },
  {
   "cell_type": "code",
   "execution_count": 26,
   "metadata": {},
   "outputs": [
    {
     "name": "stdout",
     "output_type": "stream",
     "text": [
      "RD = 0.3418 (NP)\n",
      "RD* = 0.2816 (NP)\n"
     ]
    }
   ],
   "source": [
    "RD_NP = flavio.np_prediction('Rtaul(B->Dlnu)', w)\n",
    "RDs_NP = flavio.np_prediction('Rtaul(B->D*lnu)', w)\n",
    "\n",
    "print(f\"RD = {RD_NP:.4f} (NP)\")\n",
    "print(f\"RD* = {RDs_NP:.4f} (NP)\")"
   ]
  },
  {
   "cell_type": "markdown",
   "metadata": {},
   "source": [
    "De momento vamos bien...\n",
    "\n",
    "Para observables con argumentos, como es el caso de $R_{K^{(*)}}$, hay que pasar los coeficientes de Wilson antes que los argumentos:"
   ]
  },
  {
   "cell_type": "code",
   "execution_count": 28,
   "metadata": {},
   "outputs": [
    {
     "name": "stdout",
     "output_type": "stream",
     "text": [
      "RK [1.1, 6.0] = 578.2786 (NP)\n",
      "RK* [0.045, 1.1] = 237.8214 (NP)\n",
      "RK* [1.1, 6.0] = 697.7937 (NP)\n"
     ]
    }
   ],
   "source": [
    "RK_NP = flavio.np_prediction('<Rmue>(B+->Kll)', w, 1.1, 6.0)\n",
    "RKs_low_NP = flavio.np_prediction('<Rmue>(B0->K*ll)', w, 0.045, 1.1)\n",
    "RKs_mid_NP = flavio.np_prediction('<Rmue>(B0->K*ll)', w, 1.1, 6.0)\n",
    "\n",
    "print(f\"RK [1.1, 6.0] = {RK_NP:.4f} (NP)\")\n",
    "print(f\"RK* [0.045, 1.1] = {RKs_low_NP:.4f} (NP)\")\n",
    "print(f\"RK* [1.1, 6.0] = {RKs_mid_NP:.4f} (NP)\")"
   ]
  },
  {
   "cell_type": "markdown",
   "metadata": {},
   "source": [
    "Nos hemos pasado *un poquito*... Habrá que seguir probando para encontrar una solución común a $R_{D^{(*)}}$ y $R_{K^{(*)}}$."
   ]
  },
  {
   "cell_type": "markdown",
   "metadata": {},
   "source": [
    "## Tareas\n",
    "\n",
    "1. Familiarización con `flavio`, `wilson` y los conceptos de EFT:\n",
    "      1. Clona este repositorio, crea un entorno virtual con los paquetes necesarios y ejecuta este cuaderno. Comprueba que todo funciona y que obtienes los mismos resultados.\n",
    "      2. Comprueba que al usar otras estructuras de helicidad, la Nueva Física está mucho más suprimida. Para ello, examina la Tabla 3 del artículo de Warsaw e identifica los operadores efectivos de cuatro fermiones que pueden dar lugar (a tree level) al proceso $b\\to c \\mu\\nu_\\mu$. Con cada uno de ellos, crea un objeto de `Wilson` en el que el valor del coeficiente sea igual a 0.1, y calcula $R_D$ y $R_{D^*}$.\n",
    "      3. Obtén un conjunto de cuatro coeficientes de Wilson (dos para $C_{\\ell q(1)}$ y otros dos para $C_{\\ell q(3)}$, pero con la condición de $C_{\\ell q(1)}^{ijkl} = C_{\\ell q(3)}^{ijkl}$) que describan simultáneamente, de manera aproximada, las anomalías en $R_{D^{(*)}}$ y $R_{K^{(*)}}$. Pista: solamente $R_{D^{(*)}}$ es sensible a la Nueva Física en la tercera generación de leptones.\n",
    "      4. Puedes realizar los apartados anteriores en este mismo cuaderno, y hacer commits a medida que avances.\n",
    "2. Proyecto de TFM:\n",
    "      1. Crea un nuevo repositorio para el proyecto de TFM, y publícalo en GitHub. Crea un entorno virtual con los paquetes necesarios.\n",
    "      1. Crea un archivo llamado `requirements.txt`. Por cada paquete que instales con `pip`, añade una línea de la forma `nombredelpaquete == version`, como en [este ejemplo](../requirements.txt). Puedes consultar la versión del paquete en Python usando el comando\n",
    "      ```Python\n",
    "        import flavio\n",
    "        flavio.__version__\n",
    "      ```\n",
    "      Recuerda hacer esto con cada paquete que instales en el futuro. Eso permitirá instalar de una sola vez todos los paquetes necesarios con el comando `pip install -r requirements.txt`.\n",
    "      \n",
    "      3. Crea una carpeta que se llame igual que el repositorio, y en ella un archivo llamado `classes.py`.\n",
    "      3. En el archivo `classes.py`, crea una clase que represente un observable de flavio. La clase deberá contener el nombre del observable, y los argumentos (como $q^2_\\mathrm{min}$ y $q^2_\\mathrm{max}$) si los tuviera.\n",
    "      4. Añade a la clase métodos para calcular la predicción e incertidumbre en el SM, el valor experimental y sus errores.\n",
    "      5. Añade un método que acepte un objeto de `Wilson` y calcule la predicción de Nueva Física."
   ]
  },
  {
   "cell_type": "markdown",
   "metadata": {},
   "source": []
  }
 ],
 "metadata": {
  "kernelspec": {
   "display_name": "Python 3.10.7 ('.venv': venv)",
   "language": "python",
   "name": "python3"
  },
  "language_info": {
   "codemirror_mode": {
    "name": "ipython",
    "version": 3
   },
   "file_extension": ".py",
   "mimetype": "text/x-python",
   "name": "python",
   "nbconvert_exporter": "python",
   "pygments_lexer": "ipython3",
   "version": "3.10.7"
  },
  "orig_nbformat": 4,
  "vscode": {
   "interpreter": {
    "hash": "4ee9c05401c0108da87744d6a1873a6633ce310518a9071ec194cb62c6e28c6c"
   }
  }
 },
 "nbformat": 4,
 "nbformat_minor": 2
}
