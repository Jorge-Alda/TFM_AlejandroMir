{
 "cells": [
  {
   "cell_type": "markdown",
   "metadata": {},
   "source": [
    "# 01 Intro a Flavio y Wilson"
   ]
  },
  {
   "cell_type": "code",
   "execution_count": 1,
   "metadata": {},
   "outputs": [],
   "source": [
    "import flavio\n",
    "from wilson import Wilson"
   ]
  },
  {
   "cell_type": "markdown",
   "metadata": {},
   "source": [
    "## Observables en el SM\n",
    "\n",
    "La lista completa de los observables disponibles en `flavio` se encuentra en la documentación: https://flav-io.github.io/docs/observables.html"
   ]
  },
  {
   "cell_type": "markdown",
   "metadata": {},
   "source": [
    "### $R_{D^{(*)}}$\n",
    "Son desintegraciones semi-leptonicas de quarks $b$ a nivel árbol. $R_D$ es una desintegración a un mesón pseudoescalar, $B\\to P \\ell \\nu$, y $R_{D^*}$ a un mesón vectorial, $B\\to V \\ell\\nu$.\n",
    "\n",
    "<details>\n",
    "<summary>R(D)</summary>\n",
    "<b>Rtaul(B->Dlnu)</b><br/>\n",
    "La parte de antes del paréntesis indica el tipo de proceso: <i>R</i> para un ratio de universalidad del sabor leptónico (LFU), y <i>tau</i> y <i>l</i> el sabor del numerador y denominador, respectivamente (<i>l</i> para el promedio de electrón y muón).\n",
    "</details>\n",
    "<details>\n",
    "<summary>R(D*)</summary>\n",
    "<b>Rtaul(B->D*lnu)</b>\n",
    "</details>"
   ]
  },
  {
   "cell_type": "code",
   "execution_count": 6,
   "metadata": {},
   "outputs": [
    {
     "name": "stdout",
     "output_type": "stream",
     "text": [
      "RD = 0.2967 ± 0.0073 (SM)\n",
      "RD* = 0.2445 ± 0.0077 (SM)\n"
     ]
    }
   ],
   "source": [
    "# Predicciones en el SM\n",
    "RD_SM = flavio.sm_prediction('Rtaul(B->Dlnu)')\n",
    "RDs_SM = flavio.sm_prediction('Rtaul(B->D*lnu)')\n",
    "\n",
    "# Incertidumbre en el SM\n",
    "RD_unc_SM = flavio.sm_uncertainty('Rtaul(B->Dlnu)')\n",
    "RDs_unc_SM = flavio.sm_uncertainty('Rtaul(B->D*lnu)')\n",
    "\n",
    "print(f\"RD = {RD_SM:.4f} ± {RD_unc_SM:.4f} (SM)\")\n",
    "print(f\"RD* = {RDs_SM:.4f} ± {RDs_unc_SM:.4f} (SM)\")"
   ]
  },
  {
   "cell_type": "markdown",
   "metadata": {},
   "source": [
    "También podemos ver con `flavio` el valor experimental"
   ]
  },
  {
   "cell_type": "code",
   "execution_count": 7,
   "metadata": {},
   "outputs": [
    {
     "name": "stdout",
     "output_type": "stream",
     "text": [
      "RD = 0.3464 + 0.0313 - 0.0313 (exp)\n",
      "RD* = 0.2961 + 0.0156 - 0.0155 (exp)\n"
     ]
    },
    {
     "name": "stderr",
     "output_type": "stream",
     "text": [
      "/home/jorge/.local/lib/python3.10/site-packages/flavio/functions.py:336: UserWarning: 3 of the measurements of 'Rtaul(B->Dlnu)' are multivariate. This can lead to inconsistent results as the other observables are profiled over. To be consistent, you should perform a multivariate combination that is not yet supported by `combine_measurements`.\n",
      "  warnings.warn((\"{} of the measurements of '{}' are multivariate. \"\n",
      "/home/jorge/.local/lib/python3.10/site-packages/flavio/functions.py:336: UserWarning: 3 of the measurements of 'Rtaul(B->D*lnu)' are multivariate. This can lead to inconsistent results as the other observables are profiled over. To be consistent, you should perform a multivariate combination that is not yet supported by `combine_measurements`.\n",
      "  warnings.warn((\"{} of the measurements of '{}' are multivariate. \"\n"
     ]
    }
   ],
   "source": [
    "RD_meas = flavio.combine_measurements('Rtaul(B->Dlnu)')\n",
    "RDs_meas = flavio.combine_measurements('Rtaul(B->D*lnu)')\n",
    "\n",
    "RD_exp = RD_meas.central_value\n",
    "RDs_exp = RDs_meas.central_value\n",
    "\n",
    "RD_err_right = RD_meas.error_right\n",
    "RD_err_left = RD_meas.error_left\n",
    "\n",
    "RDs_err_right = RDs_meas.error_right\n",
    "RDs_err_left = RDs_meas.error_left\n",
    "\n",
    "print(f\"RD = {RD_exp:.4f} + {RD_err_right:.4f} - {RD_err_left:.4f} (exp)\")\n",
    "print(f\"RD* = {RDs_exp:.4f} + {RDs_err_right:.4f} - {RDs_err_left:.4f} (exp)\")"
   ]
  },
  {
   "cell_type": "markdown",
   "metadata": {},
   "source": [
    "### $R_{K^{(*)}}$"
   ]
  },
  {
   "cell_type": "markdown",
   "metadata": {},
   "source": [
    "El proceso $B\\to K^{(*)}\\ell^+ \\ell^-$ tiene a nivel experimental un pequeño inconveniente: Su señal se confunde con la del proceso $B\\to K^{(*)}\\bar{c}c$, $\\bar{c}c\\to \\ell^+\\ell^-$, lo que se conoce como \"charm loops\". Si estudiamos las desintegarciones en función de $q^2$, donde $q = p_{\\ell^+} + p_{\\ell^-}$, se ve que los charm loops solamente son relevantes en las resonancias $\\bar{c}c$, esto es, cuando $q^2$ es aproximadamente igual a la masa al cuadrado de un mesón de charmonio ($J/\\psi$, $\\psi(2S)$, etc)."
   ]
  },
  {
   "cell_type": "markdown",
   "metadata": {},
   "source": [
    "![charmloops](charmloops.png)"
   ]
  },
  {
   "cell_type": "markdown",
   "metadata": {},
   "source": [
    "Solución: nos quedaremos solamente con las desintegraciones que no coincidan con las resonancias. Para ello, en vez de integrar a todo el rango cinemático de $q^2$, integraremos solamente en un \"bin\", $q^2 \\in [q^2_\\mathrm{min}, q^2_\\mathrm{max}]$:\n",
    "$$R_{K^{(*)}} = \\frac{\\int_{q^2_\\mathrm{min}}^{q^2_\\mathrm{max}} d/dq^2 \\Gamma(B\\to K^{(*)}\\mu^+ \\mu^-)  d q^2}{\\int_{q^2_\\mathrm{min}}^{q^2_\\mathrm{max}} d/dq^2 \\Gamma(B\\to K^{(*)}e^+ e^-)  d q^2}\\,. $$\n",
    "\n",
    "En `flavio`, los observables integrados por bins se indican escribiendo el tipo de observable entre <>, y tendremos que pasar $q^2_\\mathrm{min}$ y $q^2_\\mathrm{max}$ como argumentos. Los tres observables que utilizaremos serán:\n",
    "\n",
    "* $R_{K^+}$, $q^2 \\in [1.1,\\, 6.0]\\ \\mathrm{GeV}^2$\n",
    "* $R_{K^{*0}}$, $q^2 \\in [0.045,\\,1.1]\\ \\mathrm{GeV}^2$\n",
    "* $R_{K^{*0}}$, $q^2 \\in [1.1,\\, 6.0]\\ \\mathrm{GeV}^2$"
   ]
  },
  {
   "cell_type": "code",
   "execution_count": 12,
   "metadata": {},
   "outputs": [
    {
     "name": "stdout",
     "output_type": "stream",
     "text": [
      "RK [1.1, 6.0] = 1.0008 ± 0.0003 (SM)\n",
      "RK* [0.045, 1.1] = 0.9257 ± 0.0043 (SM)\n",
      "RK* [1.1, 6.0] = 0.9964 ± 0.0005 (SM)\n"
     ]
    }
   ],
   "source": [
    "# Predicciones en el SM\n",
    "RK_SM = flavio.sm_prediction('<Rmue>(B+->Kll)', 1.1, 6.0)\n",
    "RKs_low_SM = flavio.sm_prediction('<Rmue>(B0->K*ll)', 0.045, 1.1)\n",
    "RKs_mid_SM = flavio.sm_prediction('<Rmue>(B0->K*ll)', 1.1, 6.0)\n",
    "\n",
    "# Incertidumbre en el SM\n",
    "RK_unc_SM = flavio.sm_uncertainty('<Rmue>(B+->Kll)', 1.1, 6.0)\n",
    "RKs_low_unc_SM = flavio.sm_uncertainty('<Rmue>(B0->K*ll)', 0.045, 1.1)\n",
    "RKs_mid_unc_SM = flavio.sm_uncertainty('<Rmue>(B0->K*ll)', 1.1, 6.0)\n",
    "\n",
    "print(f\"RK [1.1, 6.0] = {RK_SM:.4f} ± {RK_unc_SM:.4f} (SM)\")\n",
    "print(f\"RK* [0.045, 1.1] = {RKs_low_SM:.4f} ± {RKs_low_unc_SM:.4f} (SM)\")\n",
    "print(f\"RK* [1.1, 6.0] = {RKs_mid_SM:.4f} ± {RKs_mid_unc_SM:.4f} (SM)\")"
   ]
  },
  {
   "cell_type": "code",
   "execution_count": 13,
   "metadata": {},
   "outputs": [
    {
     "name": "stdout",
     "output_type": "stream",
     "text": [
      "RK [1.1, 6.0] = 0.8497 + 0.0351 - 0.0346 (exp)\n",
      "RK* [0.045, 1.1] = 0.6525 + 0.1157 - 0.0698 (exp)\n",
      "RK* [1.1, 6.0] = 0.6814 + 0.1231 - 0.0770 (exp)\n"
     ]
    }
   ],
   "source": [
    "RK_meas = flavio.combine_measurements(('<Rmue>(B+->Kll)', 1.1, 6.0))\n",
    "RKs_low_meas = flavio.combine_measurements(('<Rmue>(B0->K*ll)', 0.045, 1.1))\n",
    "RKs_mid_meas = flavio.combine_measurements(('<Rmue>(B0->K*ll)', 1.1, 6.0))\n",
    "\n",
    "RK_exp = RK_meas.central_value\n",
    "RKs_low_exp = RKs_low_meas.central_value\n",
    "RKs_mid_exp = RKs_mid_meas.central_value\n",
    "\n",
    "RK_err_right = RK_meas.error_right\n",
    "RKs_low_err_right = RKs_low_meas.error_right\n",
    "RKs_mid_err_right = RKs_mid_meas.error_right\n",
    "\n",
    "RK_err_left = RK_meas.error_left\n",
    "RKs_low_err_left = RKs_low_meas.error_left\n",
    "RKs_mid_err_left = RKs_mid_meas.error_left\n",
    "\n",
    "print(f\"RK [1.1, 6.0] = {RK_exp:.4f} + {RK_err_right:.4f} - {RK_err_left:.4f} (exp)\")\n",
    "print(f\"RK* [0.045, 1.1] = {RKs_low_exp:.4f} + {RKs_low_err_right:.4f} - {RKs_low_err_left:.4f} (exp)\")\n",
    "print(f\"RK* [1.1, 6.0] = {RKs_mid_exp:.4f} + {RKs_mid_err_right:.4f} - {RKs_mid_err_left:.4f} (exp)\")"
   ]
  },
  {
   "cell_type": "markdown",
   "metadata": {},
   "source": [
    "### $R_{J/\\psi}$\n",
    "$R_{J/\\psi}$ aún no está disponible en la versión oficial de `flavio`. Pero sí está en nuestro fork, https://github.com/Jorge-Alda/flavio/tree/BctoJpsi.\n",
    "Más adelante veremos cómo usar esta versión."
   ]
  },
  {
   "cell_type": "code",
   "execution_count": null,
   "metadata": {},
   "outputs": [],
   "source": []
  }
 ],
 "metadata": {
  "kernelspec": {
   "display_name": "Python 3.10.7 ('usr')",
   "language": "python",
   "name": "python3"
  },
  "language_info": {
   "codemirror_mode": {
    "name": "ipython",
    "version": 3
   },
   "file_extension": ".py",
   "mimetype": "text/x-python",
   "name": "python",
   "nbconvert_exporter": "python",
   "pygments_lexer": "ipython3",
   "version": "3.10.7"
  },
  "orig_nbformat": 4,
  "vscode": {
   "interpreter": {
    "hash": "31f2aee4e71d21fbe5cf8b01ff0e069b9275f58929596ceb00d14d90e3e16cd6"
   }
  }
 },
 "nbformat": 4,
 "nbformat_minor": 2
}
