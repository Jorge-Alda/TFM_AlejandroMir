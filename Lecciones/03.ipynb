{
 "cells": [
  {
   "attachments": {},
   "cell_type": "markdown",
   "metadata": {},
   "source": [
    "# 03: Test de hipótesis"
   ]
  },
  {
   "attachments": {},
   "cell_type": "markdown",
   "metadata": {},
   "source": [
    "En una tarea de la lección 1 intentábamos buscar los valores de ciertos coeficientes de Wilson que reprodujeran los valores experimentales de algunos observables. En aquella tarea nos limitamos a buscar una aproximación, pero ahora vamos a identificar la respuesta exacta. Para ello, deberemos:\n",
    "\n",
    "* Cuantificar cómo de bueno es un conjunto de parámetros (en nuestro caso, coeficientes de Wilson) a la hora de describir los resultados experimentales.\n",
    "* Obtener los parámetros que mejor describen los datos experimentales.\n",
    "* Decidir si el resultado obtenido es significativamente mejor que el SM (hipótesis nula)."
   ]
  },
  {
   "attachments": {},
   "cell_type": "markdown",
   "metadata": {},
   "source": [
    "## Funciones de pérdida\n",
    "\n",
    "\n",
    "Nuestro objetivo es determinar $n$ parámetros $\\vec{\\theta}$ definidos en una región $R \\subseteq \\mathbb{R}^n$. Estos parámetros los emplearemos en un modelo $f_i(\\vec{\\theta})$ para hacer predicciones $x_i = f_i(\\vec{\\theta})$ que contrastamos con las observaciones $y_i$.\n",
    "\n",
    "En nuestro caso, los parámetros $\\vec{\\theta}$ serán los coeficientes de Wilson, el modelo será el SMEFT, los valores de $x_i$ serán ciertos observables ($R_{K^{(*)}}$, $R_{D^{(*)}}$, $R_{J/\\psi}$, ...) que calcularemos mediante la función `np_prediction` de `flavio`, y las observaciones $y_i$ serán las mediciones experimentales para esos mismos observables.\n",
    "\n",
    "Una función de pérdida o de coste sirve para cuantificar cómo de bien los parámetros $\\vec{\\theta}$ describen las observaciones $y_i$. Se trata de una función $L: R \\to \\mathbb{R}$ que tenga un mínimo cuando los valores predichos por el modelo sean iguales a las observaciones."
   ]
  },
  {
   "attachments": {},
   "cell_type": "markdown",
   "metadata": {},
   "source": [
    "Una de las funciones de pérdida más comunes es la función cuadrática: $$L(\\vec{\\theta}) = \\sum_i (x_i - y_i)^2 = \\sum_i (f_i(\\vec{\\theta}) - y_i)^2.$$"
   ]
  },
  {
   "attachments": {},
   "cell_type": "markdown",
   "metadata": {},
   "source": [
    "Veamos la función cuadrática en acción. En este caso, incluiremos dos observables relacionados con los procesos $b\\to s\\ell\\ell$, $R_K$ y $\\frac{d\\mathrm{BR}}{dq^2}(B\\to K\\mu^+\\mu^-)$, ambos en el bin $q^2 \\in [1.1,\\ 6.0]\\ \\mathrm{GeV}^2$. El modelo tendrá dos parámetros $K_1$ y $K_2$, y en vez de usar el SMEFT, simplemente sumaremos $K_i$ a las predicciones del SM:"
   ]
  },
  {
   "cell_type": "code",
   "execution_count": 1,
   "metadata": {},
   "outputs": [],
   "source": [
    "import flavio\n",
    "\n",
    "RK_SM = flavio.sm_prediction(\"<Rmue>(B+->Kll)\", 1.1, 6.0)\n",
    "dBR_SM = flavio.sm_prediction(\"<dBR/dq2>(B+->Kmumu)\", 1.1, 6.0)\n",
    "\n",
    "RK_exp = flavio.combine_measurements((\"<Rmue>(B+->Kll)\", 1.1, 6.0)).central_value\n",
    "dBR_exp = flavio.combine_measurements((\"<dBR/dq2>(B+->Kmumu)\", 1.1, 6.0)).central_value"
   ]
  },
  {
   "cell_type": "code",
   "execution_count": 2,
   "metadata": {},
   "outputs": [],
   "source": [
    "def modelo(K1, K2):\n",
    "    return RK_SM + K1, dBR_SM + K2\n",
    "\n",
    "\n",
    "def loss(pars, modelo):\n",
    "    y = (RK_exp, dBR_SM)\n",
    "\n",
    "    return sum((xi-yi)**2 for xi, yi in zip(modelo(*pars), y))"
   ]
  },
  {
   "attachments": {},
   "cell_type": "markdown",
   "metadata": {},
   "source": [
    "Veamos el valor de la función de pérdida para $\\vec{K} = (0.1, 0)$ y para $\\vec{K} = (0, 0.1)$:"
   ]
  },
  {
   "cell_type": "code",
   "execution_count": 3,
   "metadata": {},
   "outputs": [
    {
     "data": {
      "text/plain": [
       "0.06303582803555655"
      ]
     },
     "execution_count": 3,
     "metadata": {},
     "output_type": "execute_result"
    }
   ],
   "source": [
    "loss((0.1, 0), modelo)"
   ]
  },
  {
   "cell_type": "code",
   "execution_count": 4,
   "metadata": {},
   "outputs": [
    {
     "data": {
      "text/plain": [
       "0.03282195424133246"
      ]
     },
     "execution_count": 4,
     "metadata": {},
     "output_type": "execute_result"
    }
   ],
   "source": [
    "loss((0, 0.1), modelo)"
   ]
  },
  {
   "attachments": {},
   "cell_type": "markdown",
   "metadata": {},
   "source": [
    "Según la función de pérdida que estamos usando, el segundo conjunto de parámetros es mejor que el primero, ya que tiene menor pérdida. Sin embargo, si examinamos las predicciones del modelo en ambos puntos:"
   ]
  },
  {
   "cell_type": "code",
   "execution_count": 5,
   "metadata": {},
   "outputs": [
    {
     "data": {
      "text/plain": [
       "(1.10077907868083, 3.491200391085207e-08)"
      ]
     },
     "execution_count": 5,
     "metadata": {},
     "output_type": "execute_result"
    }
   ],
   "source": [
    "modelo(0.1, 0)"
   ]
  },
  {
   "cell_type": "code",
   "execution_count": 6,
   "metadata": {},
   "outputs": [
    {
     "data": {
      "text/plain": [
       "(1.00077907868083, 0.10000003491200392)"
      ]
     },
     "execution_count": 6,
     "metadata": {},
     "output_type": "execute_result"
    }
   ],
   "source": [
    "modelo(0, 0.1)"
   ]
  },
  {
   "attachments": {},
   "cell_type": "markdown",
   "metadata": {},
   "source": [
    "En el primer caso, estamos modificando el valor de $R_K$ en un 10%, mientras que en el segundo, hemos aumentado el *branching ratio* diferencial en 7 órdenes de magnitud!\n",
    "\n",
    "La función de pérdida que hemos empleado no funciona bien cuando tenemos observables que abarcan varios órdenes de magnitud. Podemos corregirla si normalizamos los observables. La elección natural para la normalización es la incertidumbre de cada observable.$$L(\\vec{\\theta}) = \\sum_i \\frac{(x_i - y_i)^2}{\\sigma_i^2} = \\sum_i \\frac{(f_i(\\vec{\\theta}) - y_i)^2}{\\sigma_i^2}.$$"
   ]
  },
  {
   "attachments": {},
   "cell_type": "markdown",
   "metadata": {},
   "source": [
    "En la práctica, asumiremos que la incertidumbre tiene dos componentes independientes, experimental y teórica, y que esta última se puede aproximar por la incertidumbre teórica en el SM:"
   ]
  },
  {
   "cell_type": "code",
   "execution_count": 7,
   "metadata": {},
   "outputs": [],
   "source": [
    "RK_unc_SM = flavio.sm_uncertainty(\"<Rmue>(B+->Kll)\", 1.1, 6.0)\n",
    "dBR_unc_SM = flavio.sm_uncertainty(\"<dBR/dq2>(B+->Kmumu)\", 1.1, 6.0)\n",
    "\n",
    "RK_unc_exp = flavio.combine_measurements((\"<Rmue>(B+->Kll)\", 1.1, 6.0)).error_left\n",
    "dBR_unc_exp = flavio.combine_measurements((\"<dBR/dq2>(B+->Kmumu)\", 1.1, 6.0)).error_left"
   ]
  },
  {
   "cell_type": "code",
   "execution_count": 8,
   "metadata": {},
   "outputs": [],
   "source": [
    "def loss(pars, modelo):\n",
    "    y = (RK_exp, dBR_SM)\n",
    "    sigma2 = (RK_unc_SM**2+RK_unc_exp**2, dBR_unc_SM**2+dBR_unc_exp**2)\n",
    "\n",
    "    return sum((xi-yi)**2/s2i for xi, yi, s2i in zip(modelo(*pars), y, sigma2))"
   ]
  },
  {
   "attachments": {},
   "cell_type": "markdown",
   "metadata": {},
   "source": [
    "Con esta nueva función de pérdida, obtenemos resultados más coherentes:"
   ]
  },
  {
   "cell_type": "code",
   "execution_count": 9,
   "metadata": {},
   "outputs": [
    {
     "data": {
      "text/plain": [
       "52.51887535709735"
      ]
     },
     "execution_count": 9,
     "metadata": {},
     "output_type": "execute_result"
    }
   ],
   "source": [
    "loss((0.1, 0), modelo)"
   ]
  },
  {
   "cell_type": "code",
   "execution_count": 10,
   "metadata": {},
   "outputs": [
    {
     "data": {
      "text/plain": [
       "307319520637621.44"
      ]
     },
     "execution_count": 10,
     "metadata": {},
     "output_type": "execute_result"
    }
   ],
   "source": [
    "loss((0, 0.1), modelo)"
   ]
  },
  {
   "attachments": {},
   "cell_type": "markdown",
   "metadata": {},
   "source": [
    "Una última complicación ocurre cuando varios observables no son estadísticamente independientes, ya sea porque su determinación teórica está relacionada (como por ejemplo $R_K$ y $\\frac{d\\mathrm{BR}}{dq^2}$) o porque las mediciones experimentales emplean el mismo análisis ($R_D$ y $R_{D^*}$). En estos casos, utilizar la desviación estadística de cada observable individualmente hará que se sobreestime la pérdida. En su lugar hay que usar la matriz de covarianza $C$,\n",
    "$$L(\\vec{\\theta}) = \\sum_{i,j} (x_i - y_i) C^{-1}_{ij} (x_j - y_j) = \\sum_{i,j} (f_i(\\vec{\\theta}) - y_i)C^{-1}_{ij}(f_j(\\vec{\\theta}) - y_j).$$\n",
    "\n",
    "La covariancia de dos variaables estadísticas se calcula como $C_{ij} = E[(x_i-E[x_i])(x_j-E[x_j])]$, donde $E[]$ denota el valor esperado. Por lo tanto, los elementos de la diagonal se corresponden con la varianza $C_{ii} = \\sigma_i^2$, y en los casos en los que las variables $x_i$ y $x_j$ sean estadísticamente independientes, los términos fuera de la diagonal $C_{ij} = 0$ y la función de pérdida se reduce al caso anterior.\n",
    "\n",
    "Relacionada con la covarianza se puede definir la correlación, $\\mathrm{Corr}_{ij} = \\frac{C_{ij}}{\\sigma_i\\sigma_j}$. Los elementos de la diagonal de la matriz de correlación siempre son iguales a 1, y el resto están comprendidos entre -1 y 1, siendo una correlación nula si las variables son estadísticamente independientes, y $\\pm1$ si tienen una relación lineal $x_1 = m x_2$ ($+1$ si $m> 0$ y $-1$ si $m < 0$).\n",
    "\n",
    "En `flavio` la covarianza en el SM de varios observables se calcula con la función `sm_covariance`, a la que hay que pasarle una lista con los observables:"
   ]
  },
  {
   "cell_type": "code",
   "execution_count": 11,
   "metadata": {},
   "outputs": [],
   "source": [
    "cov_SM = flavio.sm_covariance([(\"<Rmue>(B+->Kll)\", 1.1, 6.0), (\"<dBR/dq2>(B+->Kmumu)\", 1.1, 6.0)])"
   ]
  },
  {
   "cell_type": "code",
   "execution_count": 12,
   "metadata": {},
   "outputs": [
    {
     "data": {
      "text/plain": [
       "-0.2941470256914116"
      ]
     },
     "execution_count": 12,
     "metadata": {},
     "output_type": "execute_result"
    }
   ],
   "source": [
    "cov_SM[0,1]/(RK_unc_SM*dBR_unc_SM)"
   ]
  },
  {
   "attachments": {},
   "cell_type": "markdown",
   "metadata": {},
   "source": [
    "Vamos a calcular la nueva función de pérdida. Para hacer las operaciones con vectores y matrices usaremos `numpy`"
   ]
  },
  {
   "cell_type": "code",
   "execution_count": 13,
   "metadata": {},
   "outputs": [],
   "source": [
    "import numpy as np\n",
    "\n",
    "def loss(pars, modelo):\n",
    "    inv_cov = np.matrix(cov_SM).I\n",
    "    y = (RK_exp, dBR_SM)\n",
    "    residuals = np.array([xi-yi for xi, yi in zip(modelo(*pars), y)])\n",
    "    return float(residuals @ inv_cov @ residuals)"
   ]
  },
  {
   "cell_type": "code",
   "execution_count": 14,
   "metadata": {},
   "outputs": [
    {
     "data": {
      "text/plain": [
       "843409.4680212704"
      ]
     },
     "execution_count": 14,
     "metadata": {},
     "output_type": "execute_result"
    }
   ],
   "source": [
    "loss((0.1, 0), modelo)"
   ]
  },
  {
   "cell_type": "code",
   "execution_count": 15,
   "metadata": {},
   "outputs": [
    {
     "data": {
      "text/plain": [
       "407897525435155.7"
      ]
     },
     "execution_count": 15,
     "metadata": {},
     "output_type": "execute_result"
    }
   ],
   "source": [
    "loss((0, 0.1), modelo)"
   ]
  },
  {
   "attachments": {},
   "cell_type": "markdown",
   "metadata": {},
   "source": [
    "## Optimización\n",
    "\n",
    "Ya hemos definido la función de pérdida para determinar si unos parámetros describen bien las observaciones. Ahora tendremos que obtener cuáles son los parámetros que mejor lo hacen. Para ello, tendremos que minimizar la función de pérdida.\n",
    "\n",
    "En el caso de un modelo lineal $f_i = m_{ij} x_j + b_i$ (como el ejemplo que estamos usando) existe una solución analítica, obtenida por Laplace. Sin embargo, para modelos generales no hay una solución analítica y hay que recurrir a métodos numéricos de optimización.\n",
    "\n",
    "Usaremos dos paquetes diferentes para la optimización: `scipy` e `iminuit`."
   ]
  },
  {
   "attachments": {},
   "cell_type": "markdown",
   "metadata": {},
   "source": [
    "### Optimización con `scipy`\n",
    "\n",
    "`scipy` es un paquete general de cálculo numérico, que en su módulo `optimze` incluye varias funciones de optimización. La función de propósito general es `minimize`:"
   ]
  },
  {
   "cell_type": "code",
   "execution_count": 16,
   "metadata": {},
   "outputs": [],
   "source": [
    "from scipy.optimize import minimize"
   ]
  },
  {
   "attachments": {},
   "cell_type": "markdown",
   "metadata": {},
   "source": [
    "El primer argumento debe ser la función que se va a minimizar, y el segundo el punto en el que se inicia la minimización (mejor cuanto más próximo al mínimo). La función que se minimiza debe tener como primer argumento $\\vec{\\theta}$, y si tiene más argumentos, en nuestro caso `modelo`, se pasan a través de `args`:"
   ]
  },
  {
   "cell_type": "code",
   "execution_count": 17,
   "metadata": {},
   "outputs": [
    {
     "data": {
      "text/plain": [
       "array([-1.50929261e-01, -8.23276472e-09])"
      ]
     },
     "execution_count": 17,
     "metadata": {},
     "output_type": "execute_result"
    }
   ],
   "source": [
    "res = minimize(loss, (0, 0), args=(modelo,))\n",
    "\n",
    "res.x"
   ]
  },
  {
   "attachments": {},
   "cell_type": "markdown",
   "metadata": {},
   "source": [
    "Si no se especifica, la función `minimize` utiliza el [algoritmo BFGS](https://en.wikipedia.org/wiki/Broyden%E2%80%93Fletcher%E2%80%93Goldfarb%E2%80%93Shanno_algorithm). Este algoritmo necesita calcular el jacobiano de la función pérdida, si se conoce de forma exacta se puede pasar mediante el argumento `jac=`, y si no, lo estima. En los casos en los que no se conoce el jacobiano, normalmente es mejor usar otro algoritmo que no lo requiera, por ejemplo [Nelder-Mead](https://en.wikipedia.org/wiki/Nelder%E2%80%93Mead_method)"
   ]
  },
  {
   "cell_type": "code",
   "execution_count": 18,
   "metadata": {},
   "outputs": [
    {
     "data": {
      "text/plain": [
       "array([-1.51067871e-01,  4.75106659e-11])"
      ]
     },
     "execution_count": 18,
     "metadata": {},
     "output_type": "execute_result"
    }
   ],
   "source": [
    "res = minimize(loss, (0, 0), args=(modelo,), method=\"nelder-mead\")\n",
    "\n",
    "res.x"
   ]
  },
  {
   "attachments": {},
   "cell_type": "markdown",
   "metadata": {},
   "source": [
    "## Optimización con `iminuit`\n",
    "\n",
    "[`iminuit`](https://iminuit.readthedocs.io/en/stable/) es un paquete específico para minimizar funciones de pérdida, basado en el algoritmo [Minuit](https://root.cern.ch/download/minuit.pdf) desarrollado por el CERN."
   ]
  },
  {
   "cell_type": "code",
   "execution_count": 19,
   "metadata": {},
   "outputs": [],
   "source": [
    "from iminuit import Minuit"
   ]
  },
  {
   "attachments": {},
   "cell_type": "markdown",
   "metadata": {},
   "source": [
    "En este caso, la función de pérdida solamente puede aceptar como argumentos los parámetros y nada más, así que tendremos que hacer una pequeña modificación:"
   ]
  },
  {
   "cell_type": "code",
   "execution_count": 20,
   "metadata": {},
   "outputs": [],
   "source": [
    "def loss(pars):\n",
    "    inv_cov = np.matrix(cov_SM).I\n",
    "    y = (RK_exp, dBR_SM)\n",
    "    residuals = np.array([xi-yi for xi, yi in zip(modelo(*pars), y)])\n",
    "    return float(residuals @ inv_cov @ residuals)"
   ]
  },
  {
   "attachments": {},
   "cell_type": "markdown",
   "metadata": {},
   "source": [
    "Empezamos definiendo una instancia de tipo `Minuit` para nuestro problema de minimización:"
   ]
  },
  {
   "cell_type": "code",
   "execution_count": 21,
   "metadata": {},
   "outputs": [],
   "source": [
    "m = Minuit(loss, (0.0, 0.0))"
   ]
  },
  {
   "cell_type": "code",
   "execution_count": 22,
   "metadata": {},
   "outputs": [
    {
     "data": {
      "text/html": [
       "<table>\n",
       "    <tr>\n",
       "        <td></td>\n",
       "        <th title=\"Variable name\"> Name </th>\n",
       "        <th title=\"Value of parameter\"> Value </th>\n",
       "        <th title=\"Hesse error\"> Hesse Error </th>\n",
       "        <th title=\"Minos lower error\"> Minos Error- </th>\n",
       "        <th title=\"Minos upper error\"> Minos Error+ </th>\n",
       "        <th title=\"Lower limit of the parameter\"> Limit- </th>\n",
       "        <th title=\"Upper limit of the parameter\"> Limit+ </th>\n",
       "        <th title=\"Is the parameter fixed in the fit\"> Fixed </th>\n",
       "    </tr>\n",
       "    <tr>\n",
       "        <th> 0 </th>\n",
       "        <td> x0 </td>\n",
       "        <td> 0.0 </td>\n",
       "        <td> 0.1 </td>\n",
       "        <td>  </td>\n",
       "        <td>  </td>\n",
       "        <td>  </td>\n",
       "        <td>  </td>\n",
       "        <td>  </td>\n",
       "    </tr>\n",
       "    <tr>\n",
       "        <th> 1 </th>\n",
       "        <td> x1 </td>\n",
       "        <td> 0.0 </td>\n",
       "        <td> 0.1 </td>\n",
       "        <td>  </td>\n",
       "        <td>  </td>\n",
       "        <td>  </td>\n",
       "        <td>  </td>\n",
       "        <td>  </td>\n",
       "    </tr>\n",
       "</table>"
      ],
      "text/plain": [
       "┌───┬──────┬───────────┬───────────┬────────────┬────────────┬─────────┬─────────┬───────┐\n",
       "│   │ Name │   Value   │ Hesse Err │ Minos Err- │ Minos Err+ │ Limit-  │ Limit+  │ Fixed │\n",
       "├───┼──────┼───────────┼───────────┼────────────┼────────────┼─────────┼─────────┼───────┤\n",
       "│ 0 │ x0   │    0.0    │    0.1    │            │            │         │         │       │\n",
       "│ 1 │ x1   │    0.0    │    0.1    │            │            │         │         │       │\n",
       "└───┴──────┴───────────┴───────────┴────────────┴────────────┴─────────┴─────────┴───────┘"
      ]
     },
     "execution_count": 22,
     "metadata": {},
     "output_type": "execute_result"
    }
   ],
   "source": [
    "m"
   ]
  },
  {
   "attachments": {},
   "cell_type": "markdown",
   "metadata": {},
   "source": [
    "Si la función de pérdida tiene argumentos con nombre, los podemos usar en la iniciación de la instancia de `Minuit`:"
   ]
  },
  {
   "cell_type": "code",
   "execution_count": 23,
   "metadata": {},
   "outputs": [],
   "source": [
    "def loss(K1, K2):\n",
    "    inv_cov = np.matrix(cov_SM).I\n",
    "    y = (RK_exp, dBR_SM)\n",
    "    residuals = np.array([xi-yi for xi, yi in zip(modelo(K1, K2), y)])\n",
    "    return float(residuals @ inv_cov @ residuals)\n",
    "\n",
    "m = Minuit(loss, K2=0, K1=0)"
   ]
  },
  {
   "cell_type": "code",
   "execution_count": 24,
   "metadata": {},
   "outputs": [
    {
     "data": {
      "text/html": [
       "<table>\n",
       "    <tr>\n",
       "        <td></td>\n",
       "        <th title=\"Variable name\"> Name </th>\n",
       "        <th title=\"Value of parameter\"> Value </th>\n",
       "        <th title=\"Hesse error\"> Hesse Error </th>\n",
       "        <th title=\"Minos lower error\"> Minos Error- </th>\n",
       "        <th title=\"Minos upper error\"> Minos Error+ </th>\n",
       "        <th title=\"Lower limit of the parameter\"> Limit- </th>\n",
       "        <th title=\"Upper limit of the parameter\"> Limit+ </th>\n",
       "        <th title=\"Is the parameter fixed in the fit\"> Fixed </th>\n",
       "    </tr>\n",
       "    <tr>\n",
       "        <th> 0 </th>\n",
       "        <td> K1 </td>\n",
       "        <td> 0.0 </td>\n",
       "        <td> 0.1 </td>\n",
       "        <td>  </td>\n",
       "        <td>  </td>\n",
       "        <td>  </td>\n",
       "        <td>  </td>\n",
       "        <td>  </td>\n",
       "    </tr>\n",
       "    <tr>\n",
       "        <th> 1 </th>\n",
       "        <td> K2 </td>\n",
       "        <td> 0.0 </td>\n",
       "        <td> 0.1 </td>\n",
       "        <td>  </td>\n",
       "        <td>  </td>\n",
       "        <td>  </td>\n",
       "        <td>  </td>\n",
       "        <td>  </td>\n",
       "    </tr>\n",
       "</table>"
      ],
      "text/plain": [
       "┌───┬──────┬───────────┬───────────┬────────────┬────────────┬─────────┬─────────┬───────┐\n",
       "│   │ Name │   Value   │ Hesse Err │ Minos Err- │ Minos Err+ │ Limit-  │ Limit+  │ Fixed │\n",
       "├───┼──────┼───────────┼───────────┼────────────┼────────────┼─────────┼─────────┼───────┤\n",
       "│ 0 │ K1   │    0.0    │    0.1    │            │            │         │         │       │\n",
       "│ 1 │ K2   │    0.0    │    0.1    │            │            │         │         │       │\n",
       "└───┴──────┴───────────┴───────────┴────────────┴────────────┴─────────┴─────────┴───────┘"
      ]
     },
     "execution_count": 24,
     "metadata": {},
     "output_type": "execute_result"
    }
   ],
   "source": [
    "m"
   ]
  },
  {
   "attachments": {},
   "cell_type": "markdown",
   "metadata": {},
   "source": [
    "Podemos fijar algunos de los parámetros a su valor actual, de modo que no se modificarán durante la minimización:"
   ]
  },
  {
   "cell_type": "code",
   "execution_count": 25,
   "metadata": {},
   "outputs": [],
   "source": [
    "m.fixed[\"K2\"] = True"
   ]
  },
  {
   "cell_type": "code",
   "execution_count": 26,
   "metadata": {},
   "outputs": [
    {
     "data": {
      "text/html": [
       "<table>\n",
       "    <tr>\n",
       "        <td></td>\n",
       "        <th title=\"Variable name\"> Name </th>\n",
       "        <th title=\"Value of parameter\"> Value </th>\n",
       "        <th title=\"Hesse error\"> Hesse Error </th>\n",
       "        <th title=\"Minos lower error\"> Minos Error- </th>\n",
       "        <th title=\"Minos upper error\"> Minos Error+ </th>\n",
       "        <th title=\"Lower limit of the parameter\"> Limit- </th>\n",
       "        <th title=\"Upper limit of the parameter\"> Limit+ </th>\n",
       "        <th title=\"Is the parameter fixed in the fit\"> Fixed </th>\n",
       "    </tr>\n",
       "    <tr>\n",
       "        <th> 0 </th>\n",
       "        <td> K1 </td>\n",
       "        <td> 0.0 </td>\n",
       "        <td> 0.1 </td>\n",
       "        <td>  </td>\n",
       "        <td>  </td>\n",
       "        <td>  </td>\n",
       "        <td>  </td>\n",
       "        <td>  </td>\n",
       "    </tr>\n",
       "    <tr>\n",
       "        <th> 1 </th>\n",
       "        <td> K2 </td>\n",
       "        <td> 0.0 </td>\n",
       "        <td> 0.1 </td>\n",
       "        <td>  </td>\n",
       "        <td>  </td>\n",
       "        <td>  </td>\n",
       "        <td>  </td>\n",
       "        <td> yes </td>\n",
       "    </tr>\n",
       "</table>"
      ],
      "text/plain": [
       "┌───┬──────┬───────────┬───────────┬────────────┬────────────┬─────────┬─────────┬───────┐\n",
       "│   │ Name │   Value   │ Hesse Err │ Minos Err- │ Minos Err+ │ Limit-  │ Limit+  │ Fixed │\n",
       "├───┼──────┼───────────┼───────────┼────────────┼────────────┼─────────┼─────────┼───────┤\n",
       "│ 0 │ K1   │    0.0    │    0.1    │            │            │         │         │       │\n",
       "│ 1 │ K2   │    0.0    │    0.1    │            │            │         │         │  yes  │\n",
       "└───┴──────┴───────────┴───────────┴────────────┴────────────┴─────────┴─────────┴───────┘"
      ]
     },
     "execution_count": 26,
     "metadata": {},
     "output_type": "execute_result"
    }
   ],
   "source": [
    "m"
   ]
  },
  {
   "attachments": {},
   "cell_type": "markdown",
   "metadata": {},
   "source": [
    "La función `migrad` se encarga de realizar la minimización:"
   ]
  },
  {
   "cell_type": "code",
   "execution_count": 27,
   "metadata": {},
   "outputs": [
    {
     "data": {
      "text/html": [
       "<table>\n",
       "    <tr>\n",
       "        <th colspan=\"5\" style=\"text-align:center\" title=\"Minimizer\"> Migrad </th>\n",
       "    </tr>\n",
       "    <tr>\n",
       "        <td colspan=\"2\" style=\"text-align:left\" title=\"Minimum value of function\"> FCN = 2.043e-20 </td>\n",
       "        <td colspan=\"3\" style=\"text-align:center\" title=\"Total number of function and (optional) gradient evaluations\"> Nfcn = 39 </td>\n",
       "    </tr>\n",
       "    <tr>\n",
       "        <td colspan=\"2\" style=\"text-align:left\" title=\"Estimated distance to minimum and goal\"> EDM = 2.04e-20 (Goal: 0.0002) </td>\n",
       "        <td colspan=\"3\" style=\"text-align:center\" title=\"Total run time of algorithms\">  </td>\n",
       "    </tr>\n",
       "    <tr>\n",
       "        <td colspan=\"2\" style=\"text-align:center;background-color:#92CCA6;color:black\"> Valid Minimum </td>\n",
       "        <td colspan=\"3\" style=\"text-align:center;background-color:#92CCA6;color:black\"> No Parameters at limit </td>\n",
       "    </tr>\n",
       "    <tr>\n",
       "        <td colspan=\"2\" style=\"text-align:center;background-color:#92CCA6;color:black\"> Below EDM threshold (goal x 10) </td>\n",
       "        <td colspan=\"3\" style=\"text-align:center;background-color:#92CCA6;color:black\"> Below call limit </td>\n",
       "    </tr>\n",
       "    <tr>\n",
       "        <td style=\"text-align:center;background-color:#92CCA6;color:black\"> Covariance </td>\n",
       "        <td style=\"text-align:center;background-color:#92CCA6;color:black\"> Hesse ok </td>\n",
       "        <td style=\"text-align:center;background-color:#92CCA6;color:black\" title=\"Is covariance matrix accurate?\"> Accurate </td>\n",
       "        <td style=\"text-align:center;background-color:#92CCA6;color:black\" title=\"Is covariance matrix positive definite?\"> Pos. def. </td>\n",
       "        <td style=\"text-align:center;background-color:#92CCA6;color:black\" title=\"Was positive definiteness enforced by Minuit?\"> Not forced </td>\n",
       "    </tr>\n",
       "</table><table>\n",
       "    <tr>\n",
       "        <td></td>\n",
       "        <th title=\"Variable name\"> Name </th>\n",
       "        <th title=\"Value of parameter\"> Value </th>\n",
       "        <th title=\"Hesse error\"> Hesse Error </th>\n",
       "        <th title=\"Minos lower error\"> Minos Error- </th>\n",
       "        <th title=\"Minos upper error\"> Minos Error+ </th>\n",
       "        <th title=\"Lower limit of the parameter\"> Limit- </th>\n",
       "        <th title=\"Upper limit of the parameter\"> Limit+ </th>\n",
       "        <th title=\"Is the parameter fixed in the fit\"> Fixed </th>\n",
       "    </tr>\n",
       "    <tr>\n",
       "        <th> 0 </th>\n",
       "        <td> K1 </td>\n",
       "        <td> -151.07e-3 </td>\n",
       "        <td> 0.29e-3 </td>\n",
       "        <td>  </td>\n",
       "        <td>  </td>\n",
       "        <td>  </td>\n",
       "        <td>  </td>\n",
       "        <td>  </td>\n",
       "    </tr>\n",
       "    <tr>\n",
       "        <th> 1 </th>\n",
       "        <td> K2 </td>\n",
       "        <td> -0e-9 </td>\n",
       "        <td> 5e-9 </td>\n",
       "        <td>  </td>\n",
       "        <td>  </td>\n",
       "        <td>  </td>\n",
       "        <td>  </td>\n",
       "        <td>  </td>\n",
       "    </tr>\n",
       "</table><table>\n",
       "    <tr>\n",
       "        <td></td>\n",
       "        <th> K1 </th>\n",
       "        <th> K2 </th>\n",
       "    </tr>\n",
       "    <tr>\n",
       "        <th> K1 </th>\n",
       "        <td> 8.26e-08 </td>\n",
       "        <td style=\"background-color:rgb(210,210,250);color:black\"> -4.61e-13 <strong>(-0.308)</strong> </td>\n",
       "    </tr>\n",
       "    <tr>\n",
       "        <th> K2 </th>\n",
       "        <td style=\"background-color:rgb(210,210,250);color:black\"> -4.61e-13 <strong>(-0.308)</strong> </td>\n",
       "        <td> 2.71e-17 </td>\n",
       "    </tr>\n",
       "</table>"
      ],
      "text/plain": [
       "┌─────────────────────────────────────────────────────────────────────────┐\n",
       "│                                Migrad                                   │\n",
       "├──────────────────────────────────┬──────────────────────────────────────┤\n",
       "│ FCN = 2.043e-20                  │              Nfcn = 39               │\n",
       "│ EDM = 2.04e-20 (Goal: 0.0002)    │                                      │\n",
       "├──────────────────────────────────┼──────────────────────────────────────┤\n",
       "│          Valid Minimum           │        No Parameters at limit        │\n",
       "├──────────────────────────────────┼──────────────────────────────────────┤\n",
       "│ Below EDM threshold (goal x 10)  │           Below call limit           │\n",
       "├───────────────┬──────────────────┼───────────┬─────────────┬────────────┤\n",
       "│  Covariance   │     Hesse ok     │ Accurate  │  Pos. def.  │ Not forced │\n",
       "└───────────────┴──────────────────┴───────────┴─────────────┴────────────┘\n",
       "┌───┬──────┬───────────┬───────────┬────────────┬────────────┬─────────┬─────────┬───────┐\n",
       "│   │ Name │   Value   │ Hesse Err │ Minos Err- │ Minos Err+ │ Limit-  │ Limit+  │ Fixed │\n",
       "├───┼──────┼───────────┼───────────┼────────────┼────────────┼─────────┼─────────┼───────┤\n",
       "│ 0 │ K1   │-151.07e-3 │  0.29e-3  │            │            │         │         │       │\n",
       "│ 1 │ K2   │   -0e-9   │   5e-9    │            │            │         │         │       │\n",
       "└───┴──────┴───────────┴───────────┴────────────┴────────────┴─────────┴─────────┴───────┘\n",
       "┌────┬─────────────────────┐\n",
       "│    │        K1        K2 │\n",
       "├────┼─────────────────────┤\n",
       "│ K1 │  8.26e-08 -4.61e-13 │\n",
       "│ K2 │ -4.61e-13  2.71e-17 │\n",
       "└────┴─────────────────────┘"
      ]
     },
     "execution_count": 27,
     "metadata": {},
     "output_type": "execute_result"
    }
   ],
   "source": [
    "m.fixed[\"K2\"] = False\n",
    "m.migrad()"
   ]
  },
  {
   "cell_type": "code",
   "execution_count": 28,
   "metadata": {},
   "outputs": [
    {
     "data": {
      "text/plain": [
       "-0.15106936897113712"
      ]
     },
     "execution_count": 28,
     "metadata": {},
     "output_type": "execute_result"
    }
   ],
   "source": [
    "m.values[\"K1\"]"
   ]
  },
  {
   "cell_type": "code",
   "execution_count": 29,
   "metadata": {},
   "outputs": [
    {
     "data": {
      "text/plain": [
       "-5.509949321889224e-19"
      ]
     },
     "execution_count": 29,
     "metadata": {},
     "output_type": "execute_result"
    }
   ],
   "source": [
    "m.values[\"K2\"]"
   ]
  },
  {
   "attachments": {},
   "cell_type": "markdown",
   "metadata": {},
   "source": [
    "Además del valor de los parámetros, iminuit también estima su incertidumbre, covarianza y correlación:"
   ]
  },
  {
   "cell_type": "code",
   "execution_count": 30,
   "metadata": {},
   "outputs": [
    {
     "data": {
      "text/plain": [
       "0.00028737798875713824"
      ]
     },
     "execution_count": 30,
     "metadata": {},
     "output_type": "execute_result"
    }
   ],
   "source": [
    "m.errors[\"K1\"]"
   ]
  },
  {
   "cell_type": "code",
   "execution_count": 31,
   "metadata": {},
   "outputs": [
    {
     "data": {
      "text/plain": [
       "5.204837003371536e-09"
      ]
     },
     "execution_count": 31,
     "metadata": {},
     "output_type": "execute_result"
    }
   ],
   "source": [
    "m.errors[\"K2\"]"
   ]
  },
  {
   "cell_type": "code",
   "execution_count": 32,
   "metadata": {},
   "outputs": [
    {
     "data": {
      "text/html": [
       "<table>\n",
       "    <tr>\n",
       "        <td></td>\n",
       "        <th> K1 </th>\n",
       "        <th> K2 </th>\n",
       "    </tr>\n",
       "    <tr>\n",
       "        <th> K1 </th>\n",
       "        <td> 8.26e-08 </td>\n",
       "        <td style=\"background-color:rgb(210,210,250);color:black\"> -4.61e-13 <strong>(-0.308)</strong> </td>\n",
       "    </tr>\n",
       "    <tr>\n",
       "        <th> K2 </th>\n",
       "        <td style=\"background-color:rgb(210,210,250);color:black\"> -4.61e-13 <strong>(-0.308)</strong> </td>\n",
       "        <td> 2.71e-17 </td>\n",
       "    </tr>\n",
       "</table>"
      ],
      "text/plain": [
       "┌────┬─────────────────────┐\n",
       "│    │        K1        K2 │\n",
       "├────┼─────────────────────┤\n",
       "│ K1 │  8.26e-08 -4.61e-13 │\n",
       "│ K2 │ -4.61e-13  2.71e-17 │\n",
       "└────┴─────────────────────┘"
      ]
     },
     "execution_count": 32,
     "metadata": {},
     "output_type": "execute_result"
    }
   ],
   "source": [
    "m.covariance"
   ]
  },
  {
   "cell_type": "code",
   "execution_count": 33,
   "metadata": {},
   "outputs": [
    {
     "data": {
      "text/html": [
       "<table>\n",
       "    <tr>\n",
       "        <td></td>\n",
       "        <th> K1 </th>\n",
       "        <th> K2 </th>\n",
       "    </tr>\n",
       "    <tr>\n",
       "        <th> K1 </th>\n",
       "        <td> 1 </td>\n",
       "        <td style=\"background-color:rgb(210,210,250);color:black\"> -0.308 </td>\n",
       "    </tr>\n",
       "    <tr>\n",
       "        <th> K2 </th>\n",
       "        <td style=\"background-color:rgb(210,210,250);color:black\"> -0.308 </td>\n",
       "        <td> 1 </td>\n",
       "    </tr>\n",
       "</table>"
      ],
      "text/plain": [
       "┌────┬───────────────┐\n",
       "│    │     K1     K2 │\n",
       "├────┼───────────────┤\n",
       "│ K1 │      1 -0.308 │\n",
       "│ K2 │ -0.308      1 │\n",
       "└────┴───────────────┘"
      ]
     },
     "execution_count": 33,
     "metadata": {},
     "output_type": "execute_result"
    }
   ],
   "source": [
    "m.covariance.correlation()"
   ]
  },
  {
   "attachments": {},
   "cell_type": "markdown",
   "metadata": {},
   "source": [
    "Aunque `migrad` realiza una estimación de los errores y covarianza, es recomendable llamar después a la función `hesse` para refinar la estimación:"
   ]
  },
  {
   "cell_type": "code",
   "execution_count": 34,
   "metadata": {},
   "outputs": [
    {
     "data": {
      "text/html": [
       "<table>\n",
       "    <tr>\n",
       "        <th colspan=\"5\" style=\"text-align:center\" title=\"Minimizer\"> Migrad </th>\n",
       "    </tr>\n",
       "    <tr>\n",
       "        <td colspan=\"2\" style=\"text-align:left\" title=\"Minimum value of function\"> FCN = 2.043e-20 </td>\n",
       "        <td colspan=\"3\" style=\"text-align:center\" title=\"Total number of function and (optional) gradient evaluations\"> Nfcn = 49 </td>\n",
       "    </tr>\n",
       "    <tr>\n",
       "        <td colspan=\"2\" style=\"text-align:left\" title=\"Estimated distance to minimum and goal\"> EDM = 2.04e-20 (Goal: 0.0002) </td>\n",
       "        <td colspan=\"3\" style=\"text-align:center\" title=\"Total run time of algorithms\">  </td>\n",
       "    </tr>\n",
       "    <tr>\n",
       "        <td colspan=\"2\" style=\"text-align:center;background-color:#92CCA6;color:black\"> Valid Minimum </td>\n",
       "        <td colspan=\"3\" style=\"text-align:center;background-color:#92CCA6;color:black\"> No Parameters at limit </td>\n",
       "    </tr>\n",
       "    <tr>\n",
       "        <td colspan=\"2\" style=\"text-align:center;background-color:#92CCA6;color:black\"> Below EDM threshold (goal x 10) </td>\n",
       "        <td colspan=\"3\" style=\"text-align:center;background-color:#92CCA6;color:black\"> Below call limit </td>\n",
       "    </tr>\n",
       "    <tr>\n",
       "        <td style=\"text-align:center;background-color:#92CCA6;color:black\"> Covariance </td>\n",
       "        <td style=\"text-align:center;background-color:#92CCA6;color:black\"> Hesse ok </td>\n",
       "        <td style=\"text-align:center;background-color:#92CCA6;color:black\" title=\"Is covariance matrix accurate?\"> Accurate </td>\n",
       "        <td style=\"text-align:center;background-color:#92CCA6;color:black\" title=\"Is covariance matrix positive definite?\"> Pos. def. </td>\n",
       "        <td style=\"text-align:center;background-color:#92CCA6;color:black\" title=\"Was positive definiteness enforced by Minuit?\"> Not forced </td>\n",
       "    </tr>\n",
       "</table><table>\n",
       "    <tr>\n",
       "        <td></td>\n",
       "        <th title=\"Variable name\"> Name </th>\n",
       "        <th title=\"Value of parameter\"> Value </th>\n",
       "        <th title=\"Hesse error\"> Hesse Error </th>\n",
       "        <th title=\"Minos lower error\"> Minos Error- </th>\n",
       "        <th title=\"Minos upper error\"> Minos Error+ </th>\n",
       "        <th title=\"Lower limit of the parameter\"> Limit- </th>\n",
       "        <th title=\"Upper limit of the parameter\"> Limit+ </th>\n",
       "        <th title=\"Is the parameter fixed in the fit\"> Fixed </th>\n",
       "    </tr>\n",
       "    <tr>\n",
       "        <th> 0 </th>\n",
       "        <td> K1 </td>\n",
       "        <td> -151.07e-3 </td>\n",
       "        <td> 0.29e-3 </td>\n",
       "        <td>  </td>\n",
       "        <td>  </td>\n",
       "        <td>  </td>\n",
       "        <td>  </td>\n",
       "        <td>  </td>\n",
       "    </tr>\n",
       "    <tr>\n",
       "        <th> 1 </th>\n",
       "        <td> K2 </td>\n",
       "        <td> -0e-9 </td>\n",
       "        <td> 5e-9 </td>\n",
       "        <td>  </td>\n",
       "        <td>  </td>\n",
       "        <td>  </td>\n",
       "        <td>  </td>\n",
       "        <td>  </td>\n",
       "    </tr>\n",
       "</table><table>\n",
       "    <tr>\n",
       "        <td></td>\n",
       "        <th> K1 </th>\n",
       "        <th> K2 </th>\n",
       "    </tr>\n",
       "    <tr>\n",
       "        <th> K1 </th>\n",
       "        <td> 8.26e-08 </td>\n",
       "        <td style=\"background-color:rgb(210,210,250);color:black\"> -4.61e-13 <strong>(-0.308)</strong> </td>\n",
       "    </tr>\n",
       "    <tr>\n",
       "        <th> K2 </th>\n",
       "        <td style=\"background-color:rgb(210,210,250);color:black\"> -4.61e-13 <strong>(-0.308)</strong> </td>\n",
       "        <td> 2.71e-17 </td>\n",
       "    </tr>\n",
       "</table>"
      ],
      "text/plain": [
       "┌─────────────────────────────────────────────────────────────────────────┐\n",
       "│                                Migrad                                   │\n",
       "├──────────────────────────────────┬──────────────────────────────────────┤\n",
       "│ FCN = 2.043e-20                  │              Nfcn = 49               │\n",
       "│ EDM = 2.04e-20 (Goal: 0.0002)    │                                      │\n",
       "├──────────────────────────────────┼──────────────────────────────────────┤\n",
       "│          Valid Minimum           │        No Parameters at limit        │\n",
       "├──────────────────────────────────┼──────────────────────────────────────┤\n",
       "│ Below EDM threshold (goal x 10)  │           Below call limit           │\n",
       "├───────────────┬──────────────────┼───────────┬─────────────┬────────────┤\n",
       "│  Covariance   │     Hesse ok     │ Accurate  │  Pos. def.  │ Not forced │\n",
       "└───────────────┴──────────────────┴───────────┴─────────────┴────────────┘\n",
       "┌───┬──────┬───────────┬───────────┬────────────┬────────────┬─────────┬─────────┬───────┐\n",
       "│   │ Name │   Value   │ Hesse Err │ Minos Err- │ Minos Err+ │ Limit-  │ Limit+  │ Fixed │\n",
       "├───┼──────┼───────────┼───────────┼────────────┼────────────┼─────────┼─────────┼───────┤\n",
       "│ 0 │ K1   │-151.07e-3 │  0.29e-3  │            │            │         │         │       │\n",
       "│ 1 │ K2   │   -0e-9   │   5e-9    │            │            │         │         │       │\n",
       "└───┴──────┴───────────┴───────────┴────────────┴────────────┴─────────┴─────────┴───────┘\n",
       "┌────┬─────────────────────┐\n",
       "│    │        K1        K2 │\n",
       "├────┼─────────────────────┤\n",
       "│ K1 │  8.26e-08 -4.61e-13 │\n",
       "│ K2 │ -4.61e-13  2.71e-17 │\n",
       "└────┴─────────────────────┘"
      ]
     },
     "execution_count": 34,
     "metadata": {},
     "output_type": "execute_result"
    }
   ],
   "source": [
    "m.hesse()"
   ]
  },
  {
   "attachments": {},
   "cell_type": "markdown",
   "metadata": {},
   "source": [
    "Los errores calculados por `migrad`/`hesse` se calculan asumiendo que la función de pérdida alrededor del mínimo se puede aproximar de forma adecuada por una función cuadrática. Para funciones más irregulares, en las que los errores en general no son simétricos, hay que usar la función `minos`:"
   ]
  },
  {
   "cell_type": "code",
   "execution_count": 35,
   "metadata": {},
   "outputs": [
    {
     "data": {
      "text/html": [
       "<table>\n",
       "    <tr>\n",
       "        <th colspan=\"5\" style=\"text-align:center\" title=\"Minimizer\"> Migrad </th>\n",
       "    </tr>\n",
       "    <tr>\n",
       "        <td colspan=\"2\" style=\"text-align:left\" title=\"Minimum value of function\"> FCN = 2.043e-20 </td>\n",
       "        <td colspan=\"3\" style=\"text-align:center\" title=\"Total number of function and (optional) gradient evaluations\"> Nfcn = 73 </td>\n",
       "    </tr>\n",
       "    <tr>\n",
       "        <td colspan=\"2\" style=\"text-align:left\" title=\"Estimated distance to minimum and goal\"> EDM = 2.04e-20 (Goal: 0.0002) </td>\n",
       "        <td colspan=\"3\" style=\"text-align:center\" title=\"Total run time of algorithms\">  </td>\n",
       "    </tr>\n",
       "    <tr>\n",
       "        <td colspan=\"2\" style=\"text-align:center;background-color:#92CCA6;color:black\"> Valid Minimum </td>\n",
       "        <td colspan=\"3\" style=\"text-align:center;background-color:#92CCA6;color:black\"> No Parameters at limit </td>\n",
       "    </tr>\n",
       "    <tr>\n",
       "        <td colspan=\"2\" style=\"text-align:center;background-color:#92CCA6;color:black\"> Below EDM threshold (goal x 10) </td>\n",
       "        <td colspan=\"3\" style=\"text-align:center;background-color:#92CCA6;color:black\"> Below call limit </td>\n",
       "    </tr>\n",
       "    <tr>\n",
       "        <td style=\"text-align:center;background-color:#92CCA6;color:black\"> Covariance </td>\n",
       "        <td style=\"text-align:center;background-color:#92CCA6;color:black\"> Hesse ok </td>\n",
       "        <td style=\"text-align:center;background-color:#92CCA6;color:black\" title=\"Is covariance matrix accurate?\"> Accurate </td>\n",
       "        <td style=\"text-align:center;background-color:#92CCA6;color:black\" title=\"Is covariance matrix positive definite?\"> Pos. def. </td>\n",
       "        <td style=\"text-align:center;background-color:#92CCA6;color:black\" title=\"Was positive definiteness enforced by Minuit?\"> Not forced </td>\n",
       "    </tr>\n",
       "</table><table>\n",
       "    <tr>\n",
       "        <td></td>\n",
       "        <th title=\"Variable name\"> Name </th>\n",
       "        <th title=\"Value of parameter\"> Value </th>\n",
       "        <th title=\"Hesse error\"> Hesse Error </th>\n",
       "        <th title=\"Minos lower error\"> Minos Error- </th>\n",
       "        <th title=\"Minos upper error\"> Minos Error+ </th>\n",
       "        <th title=\"Lower limit of the parameter\"> Limit- </th>\n",
       "        <th title=\"Upper limit of the parameter\"> Limit+ </th>\n",
       "        <th title=\"Is the parameter fixed in the fit\"> Fixed </th>\n",
       "    </tr>\n",
       "    <tr>\n",
       "        <th> 0 </th>\n",
       "        <td> K1 </td>\n",
       "        <td> -151.07e-3 </td>\n",
       "        <td> 0.29e-3 </td>\n",
       "        <td> -0.29e-3 </td>\n",
       "        <td> 0.29e-3 </td>\n",
       "        <td>  </td>\n",
       "        <td>  </td>\n",
       "        <td>  </td>\n",
       "    </tr>\n",
       "    <tr>\n",
       "        <th> 1 </th>\n",
       "        <td> K2 </td>\n",
       "        <td> -0e-9 </td>\n",
       "        <td> 5e-9 </td>\n",
       "        <td> -5e-9 </td>\n",
       "        <td> 5e-9 </td>\n",
       "        <td>  </td>\n",
       "        <td>  </td>\n",
       "        <td>  </td>\n",
       "    </tr>\n",
       "</table><table>\n",
       "    <tr>\n",
       "        <td></td>\n",
       "        <th colspan=\"2\" style=\"text-align:center\" title=\"Parameter name\"> K1 </th>\n",
       "        <th colspan=\"2\" style=\"text-align:center\" title=\"Parameter name\"> K2 </th>\n",
       "    </tr>\n",
       "    <tr>\n",
       "        <th title=\"Lower and upper minos error of the parameter\"> Error </th>\n",
       "        <td> -0.29e-3 </td>\n",
       "        <td> 0.29e-3 </td>\n",
       "        <td> -5e-9 </td>\n",
       "        <td> 5e-9 </td>\n",
       "    </tr>\n",
       "    <tr>\n",
       "        <th title=\"Validity of lower/upper minos error\"> Valid </th>\n",
       "        <td style=\"background-color:#92CCA6;color:black\"> True </td>\n",
       "        <td style=\"background-color:#92CCA6;color:black\"> True </td>\n",
       "        <td style=\"background-color:#92CCA6;color:black\"> True </td>\n",
       "        <td style=\"background-color:#92CCA6;color:black\"> True </td>\n",
       "    </tr>\n",
       "    <tr>\n",
       "        <th title=\"Did scan hit limit of any parameter?\"> At Limit </th>\n",
       "        <td style=\"background-color:#92CCA6;color:black\"> False </td>\n",
       "        <td style=\"background-color:#92CCA6;color:black\"> False </td>\n",
       "        <td style=\"background-color:#92CCA6;color:black\"> False </td>\n",
       "        <td style=\"background-color:#92CCA6;color:black\"> False </td>\n",
       "    </tr>\n",
       "    <tr>\n",
       "        <th title=\"Did scan hit function call limit?\"> Max FCN </th>\n",
       "        <td style=\"background-color:#92CCA6;color:black\"> False </td>\n",
       "        <td style=\"background-color:#92CCA6;color:black\"> False </td>\n",
       "        <td style=\"background-color:#92CCA6;color:black\"> False </td>\n",
       "        <td style=\"background-color:#92CCA6;color:black\"> False </td>\n",
       "    </tr>\n",
       "    <tr>\n",
       "        <th title=\"New minimum found when doing scan?\"> New Min </th>\n",
       "        <td style=\"background-color:#92CCA6;color:black\"> False </td>\n",
       "        <td style=\"background-color:#92CCA6;color:black\"> False </td>\n",
       "        <td style=\"background-color:#92CCA6;color:black\"> False </td>\n",
       "        <td style=\"background-color:#92CCA6;color:black\"> False </td>\n",
       "    </tr>\n",
       "</table><table>\n",
       "    <tr>\n",
       "        <td></td>\n",
       "        <th> K1 </th>\n",
       "        <th> K2 </th>\n",
       "    </tr>\n",
       "    <tr>\n",
       "        <th> K1 </th>\n",
       "        <td> 8.26e-08 </td>\n",
       "        <td style=\"background-color:rgb(210,210,250);color:black\"> -4.61e-13 <strong>(-0.308)</strong> </td>\n",
       "    </tr>\n",
       "    <tr>\n",
       "        <th> K2 </th>\n",
       "        <td style=\"background-color:rgb(210,210,250);color:black\"> -4.61e-13 <strong>(-0.308)</strong> </td>\n",
       "        <td> 2.71e-17 </td>\n",
       "    </tr>\n",
       "</table>"
      ],
      "text/plain": [
       "┌─────────────────────────────────────────────────────────────────────────┐\n",
       "│                                Migrad                                   │\n",
       "├──────────────────────────────────┬──────────────────────────────────────┤\n",
       "│ FCN = 2.043e-20                  │              Nfcn = 73               │\n",
       "│ EDM = 2.04e-20 (Goal: 0.0002)    │                                      │\n",
       "├──────────────────────────────────┼──────────────────────────────────────┤\n",
       "│          Valid Minimum           │        No Parameters at limit        │\n",
       "├──────────────────────────────────┼──────────────────────────────────────┤\n",
       "│ Below EDM threshold (goal x 10)  │           Below call limit           │\n",
       "├───────────────┬──────────────────┼───────────┬─────────────┬────────────┤\n",
       "│  Covariance   │     Hesse ok     │ Accurate  │  Pos. def.  │ Not forced │\n",
       "└───────────────┴──────────────────┴───────────┴─────────────┴────────────┘\n",
       "┌───┬──────┬───────────┬───────────┬────────────┬────────────┬─────────┬─────────┬───────┐\n",
       "│   │ Name │   Value   │ Hesse Err │ Minos Err- │ Minos Err+ │ Limit-  │ Limit+  │ Fixed │\n",
       "├───┼──────┼───────────┼───────────┼────────────┼────────────┼─────────┼─────────┼───────┤\n",
       "│ 0 │ K1   │-151.07e-3 │  0.29e-3  │  -0.29e-3  │  0.29e-3   │         │         │       │\n",
       "│ 1 │ K2   │   -0e-9   │   5e-9    │   -5e-9    │    5e-9    │         │         │       │\n",
       "└───┴──────┴───────────┴───────────┴────────────┴────────────┴─────────┴─────────┴───────┘\n",
       "┌──────────┬───────────────────────┬───────────────────────┐\n",
       "│          │          K1           │          K2           │\n",
       "├──────────┼───────────┬───────────┼───────────┬───────────┤\n",
       "│  Error   │ -0.29e-3  │  0.29e-3  │   -5e-9   │   5e-9    │\n",
       "│  Valid   │   True    │   True    │   True    │   True    │\n",
       "│ At Limit │   False   │   False   │   False   │   False   │\n",
       "│ Max FCN  │   False   │   False   │   False   │   False   │\n",
       "│ New Min  │   False   │   False   │   False   │   False   │\n",
       "└──────────┴───────────┴───────────┴───────────┴───────────┘\n",
       "┌────┬─────────────────────┐\n",
       "│    │        K1        K2 │\n",
       "├────┼─────────────────────┤\n",
       "│ K1 │  8.26e-08 -4.61e-13 │\n",
       "│ K2 │ -4.61e-13  2.71e-17 │\n",
       "└────┴─────────────────────┘"
      ]
     },
     "execution_count": 35,
     "metadata": {},
     "output_type": "execute_result"
    }
   ],
   "source": [
    "m.minos()"
   ]
  },
  {
   "cell_type": "code",
   "execution_count": 36,
   "metadata": {},
   "outputs": [
    {
     "data": {
      "text/plain": [
       "-0.0002873779887264083"
      ]
     },
     "execution_count": 36,
     "metadata": {},
     "output_type": "execute_result"
    }
   ],
   "source": [
    "m.merrors[\"K1\"].lower"
   ]
  },
  {
   "cell_type": "code",
   "execution_count": 37,
   "metadata": {},
   "outputs": [
    {
     "data": {
      "text/plain": [
       "0.0002873779887601591"
      ]
     },
     "execution_count": 37,
     "metadata": {},
     "output_type": "execute_result"
    }
   ],
   "source": [
    "m.merrors[\"K1\"].upper"
   ]
  },
  {
   "attachments": {},
   "cell_type": "markdown",
   "metadata": {},
   "source": [
    "Para funciones más complicadas, `migrad` puede ser relativamente lento, por lo que es recomendable hacer una fase previa de minimización. Para ello, `iminuit` cuenta con la función `simplex`, que implementa el algoritmo de Nelder-Mead:"
   ]
  },
  {
   "cell_type": "code",
   "execution_count": 38,
   "metadata": {},
   "outputs": [
    {
     "data": {
      "text/html": [
       "<table>\n",
       "    <tr>\n",
       "        <th colspan=\"5\" style=\"text-align:center\" title=\"Minimizer\"> Migrad </th>\n",
       "    </tr>\n",
       "    <tr>\n",
       "        <td colspan=\"2\" style=\"text-align:left\" title=\"Minimum value of function\"> FCN = 7.507e-06 </td>\n",
       "        <td colspan=\"3\" style=\"text-align:center\" title=\"Total number of function and (optional) gradient evaluations\"> Nfcn = 109 </td>\n",
       "    </tr>\n",
       "    <tr>\n",
       "        <td colspan=\"2\" style=\"text-align:left\" title=\"Estimated distance to minimum and goal\"> EDM = 7.51e-06 (Goal: 0.0002) </td>\n",
       "        <td colspan=\"3\" style=\"text-align:center\" title=\"Total run time of algorithms\">  </td>\n",
       "    </tr>\n",
       "    <tr>\n",
       "        <td colspan=\"2\" style=\"text-align:center;background-color:#92CCA6;color:black\"> Valid Minimum </td>\n",
       "        <td colspan=\"3\" style=\"text-align:center;background-color:#92CCA6;color:black\"> No Parameters at limit </td>\n",
       "    </tr>\n",
       "    <tr>\n",
       "        <td colspan=\"2\" style=\"text-align:center;background-color:#92CCA6;color:black\"> Below EDM threshold (goal x 10) </td>\n",
       "        <td colspan=\"3\" style=\"text-align:center;background-color:#92CCA6;color:black\"> Below call limit </td>\n",
       "    </tr>\n",
       "    <tr>\n",
       "        <td style=\"text-align:center;background-color:#92CCA6;color:black\"> Covariance </td>\n",
       "        <td style=\"text-align:center;background-color:#92CCA6;color:black\"> Hesse ok </td>\n",
       "        <td style=\"text-align:center;background-color:#92CCA6;color:black\" title=\"Is covariance matrix accurate?\"> Accurate </td>\n",
       "        <td style=\"text-align:center;background-color:#92CCA6;color:black\" title=\"Is covariance matrix positive definite?\"> Pos. def. </td>\n",
       "        <td style=\"text-align:center;background-color:#92CCA6;color:black\" title=\"Was positive definiteness enforced by Minuit?\"> Not forced </td>\n",
       "    </tr>\n",
       "</table><table>\n",
       "    <tr>\n",
       "        <td></td>\n",
       "        <th title=\"Variable name\"> Name </th>\n",
       "        <th title=\"Value of parameter\"> Value </th>\n",
       "        <th title=\"Hesse error\"> Hesse Error </th>\n",
       "        <th title=\"Minos lower error\"> Minos Error- </th>\n",
       "        <th title=\"Minos upper error\"> Minos Error+ </th>\n",
       "        <th title=\"Lower limit of the parameter\"> Limit- </th>\n",
       "        <th title=\"Upper limit of the parameter\"> Limit+ </th>\n",
       "        <th title=\"Is the parameter fixed in the fit\"> Fixed </th>\n",
       "    </tr>\n",
       "    <tr>\n",
       "        <th> 0 </th>\n",
       "        <td> K1 </td>\n",
       "        <td> -151.07e-3 </td>\n",
       "        <td> 0.29e-3 </td>\n",
       "        <td>  </td>\n",
       "        <td>  </td>\n",
       "        <td>  </td>\n",
       "        <td>  </td>\n",
       "        <td>  </td>\n",
       "    </tr>\n",
       "    <tr>\n",
       "        <th> 1 </th>\n",
       "        <td> K2 </td>\n",
       "        <td> 0e-9 </td>\n",
       "        <td> 5e-9 </td>\n",
       "        <td>  </td>\n",
       "        <td>  </td>\n",
       "        <td>  </td>\n",
       "        <td>  </td>\n",
       "        <td>  </td>\n",
       "    </tr>\n",
       "</table><table>\n",
       "    <tr>\n",
       "        <td></td>\n",
       "        <th> K1 </th>\n",
       "        <th> K2 </th>\n",
       "    </tr>\n",
       "    <tr>\n",
       "        <th> K1 </th>\n",
       "        <td> 8.26e-08 </td>\n",
       "        <td style=\"background-color:rgb(210,210,250);color:black\"> -4.61e-13 <strong>(-0.308)</strong> </td>\n",
       "    </tr>\n",
       "    <tr>\n",
       "        <th> K2 </th>\n",
       "        <td style=\"background-color:rgb(210,210,250);color:black\"> -4.61e-13 <strong>(-0.308)</strong> </td>\n",
       "        <td> 2.71e-17 </td>\n",
       "    </tr>\n",
       "</table>"
      ],
      "text/plain": [
       "┌─────────────────────────────────────────────────────────────────────────┐\n",
       "│                                Migrad                                   │\n",
       "├──────────────────────────────────┬──────────────────────────────────────┤\n",
       "│ FCN = 7.507e-06                  │              Nfcn = 109              │\n",
       "│ EDM = 7.51e-06 (Goal: 0.0002)    │                                      │\n",
       "├──────────────────────────────────┼──────────────────────────────────────┤\n",
       "│          Valid Minimum           │        No Parameters at limit        │\n",
       "├──────────────────────────────────┼──────────────────────────────────────┤\n",
       "│ Below EDM threshold (goal x 10)  │           Below call limit           │\n",
       "├───────────────┬──────────────────┼───────────┬─────────────┬────────────┤\n",
       "│  Covariance   │     Hesse ok     │ Accurate  │  Pos. def.  │ Not forced │\n",
       "└───────────────┴──────────────────┴───────────┴─────────────┴────────────┘\n",
       "┌───┬──────┬───────────┬───────────┬────────────┬────────────┬─────────┬─────────┬───────┐\n",
       "│   │ Name │   Value   │ Hesse Err │ Minos Err- │ Minos Err+ │ Limit-  │ Limit+  │ Fixed │\n",
       "├───┼──────┼───────────┼───────────┼────────────┼────────────┼─────────┼─────────┼───────┤\n",
       "│ 0 │ K1   │-151.07e-3 │  0.29e-3  │            │            │         │         │       │\n",
       "│ 1 │ K2   │   0e-9    │   5e-9    │            │            │         │         │       │\n",
       "└───┴──────┴───────────┴───────────┴────────────┴────────────┴─────────┴─────────┴───────┘\n",
       "┌────┬─────────────────────┐\n",
       "│    │        K1        K2 │\n",
       "├────┼─────────────────────┤\n",
       "│ K1 │  8.26e-08 -4.61e-13 │\n",
       "│ K2 │ -4.61e-13  2.71e-17 │\n",
       "└────┴─────────────────────┘"
      ]
     },
     "execution_count": 38,
     "metadata": {},
     "output_type": "execute_result"
    }
   ],
   "source": [
    "m = Minuit(loss, K2=0, K1=0)\n",
    "m.simplex()\n",
    "m.migrad()"
   ]
  },
  {
   "attachments": {},
   "cell_type": "markdown",
   "metadata": {},
   "source": [
    "## Teorema de Wilks\n",
    "\n",
    "La función de verosimilitud (likelihood) es una función $\\mathcal{L}(\\vec{\\theta})$ de los parámetros del modelo que indica la probabilidad de que se obtengan las observaciones dados los valores de los parámetros, esto es, $\\mathcal{L}(\\vec{\\theta}) = P(Y|\\Theta=\\vec{\\theta})$."
   ]
  },
  {
   "attachments": {},
   "cell_type": "markdown",
   "metadata": {},
   "source": [
    "Los parámetros $\\vec{\\theta}$ se pueden estimar usando el estimador de máxima likelihood: se seleccionan los valores de $\\vec{\\theta}$ que maximicen el valor de la función de likelihood.\n",
    "\n",
    "Veamos un ejemplo concreto de unas variables que cumplan un modelo $y_i \\sim f_i(x; \\vec{\\theta})$, y cuyas observaciones sigan una distribución gaussiana:\n",
    "\n",
    "$$\\mathcal{L}(\\vec{\\theta}) = P(y|\\vec{\\theta}) = \\prod_{i=1}^N \\frac{1}{\\sqrt{2\\pi\\sigma^2}} \\mathrm{exp}\\left(-\\frac{(y_i- f(x_i))^2}{\\sigma^2}\\right) = \\frac{1}{(2\\pi)^{N/2}\\sigma^N} \\mathrm{exp}\\left(\\sum_{i=1}^N \\frac{-(y_i - f(x_i))^2}{2\\sigma^2} \\right).$$\n",
    "\n",
    "Podemos minimizar analíticamente calculando $\\frac{\\partial \\mathcal{L}}{\\partial \\vec{\\theta}}$. Sin embargo, se puede comprobar fácilmente que el máximo de la función se consigue cuando se minimiza la potencia del exponente, es decir, en el mínimo de\n",
    "$$\\sum_{i=1}^N \\frac{(y_i - f(x_i))^2}{2\\sigma^2}.$$\n",
    "\n",
    "Por lo tanto, la función de pérdida cuadrática es un caso particular de estimador de máxima likelihood cuando los errores son gaussianos. Este es un caso bastante frecuente (entre otros motivos, debido al teorema del límite central), por lo que en general consideraremos que los errores son gaussianos a no ser que especifiquemos lo contrario."
   ]
  },
  {
   "attachments": {},
   "cell_type": "markdown",
   "metadata": {},
   "source": [
    "El teorema de Wilks nos permite usar la función de likelihood para aceptar o rechazar una hipótesis. Tenemos dos hipótesis: la hipótesis nula $\\vec{\\theta}_0$, y la hipótesis alternativa $\\vec{\\theta}$, que usualmente se toma como los parámetros de máxima likelihood distintos a la hipótesis nula. Construímos un test estadístico dividiendo el logaritmo de las dos funciones de likelihood,\n",
    "\n",
    "$$D = -2\\log\\frac{\\mathcal{L}(\\vec{\\theta}_0)}{\\mathcal{L}(\\vec{\\theta})}$$\n",
    "\n",
    "Bajo condiciones bastante generales, esta $D$ es una variable estadística distribuída según una distribución $\\chi^2$, con el número de grados de libertad dado por $n_D = n - n_0$, la diferencia de grados de libertad de la hipótesis alternativa y la hipótesis nula. La hipótesis nula se rechaza con una significancia $\\alpha$ si $D < c$, donde $c$ es el valor tal que $P_{\\chi^2}(c; n_D) = \\alpha$. Es decir, $\\alpha$ es la probabilidad de que la hipótesis nula pueda producir aleatoriamente las observaciones."
   ]
  },
  {
   "attachments": {},
   "cell_type": "markdown",
   "metadata": {},
   "source": [
    "El valor de $c$ correspondiente a $n_D$ grados de libertad y significancia $\\alpha$ se puede calcular con `scipy`:"
   ]
  },
  {
   "cell_type": "code",
   "execution_count": 39,
   "metadata": {},
   "outputs": [
    {
     "data": {
      "text/plain": [
       "16.74960234363904"
      ]
     },
     "execution_count": 39,
     "metadata": {},
     "output_type": "execute_result"
    }
   ],
   "source": [
    "from scipy.stats import chi2\n",
    "\n",
    "n_D = 5\n",
    "alpha = 0.995\n",
    "chi2(n_D).ppf(alpha)"
   ]
  },
  {
   "attachments": {},
   "cell_type": "markdown",
   "metadata": {},
   "source": [
    "y también podemos obtener la significancia de la hipótesis si conocemos el ratio de los logaritmos de likelihood"
   ]
  },
  {
   "cell_type": "code",
   "execution_count": 40,
   "metadata": {},
   "outputs": [
    {
     "data": {
      "text/plain": [
       "0.9896376620842136"
      ]
     },
     "execution_count": 40,
     "metadata": {},
     "output_type": "execute_result"
    }
   ],
   "source": [
    "ratio_logL = 15\n",
    "n_D = 5\n",
    "chi2(n_D).cdf(ratio_logL)"
   ]
  },
  {
   "attachments": {},
   "cell_type": "markdown",
   "metadata": {},
   "source": [
    "En algunas áreas, incluyendo la física de partículas, la significancia no se suele reportar como una probabilidad, sino como \"sigmas\", esto es, el número $n$ tal que el área entre $-n$ y $+n$ bajo una gaussiana de media 0 y varianza 1 sea igual a $\\alpha$. Para obtener $\\alpha$ a partir del número de sigmas:"
   ]
  },
  {
   "cell_type": "code",
   "execution_count": 41,
   "metadata": {},
   "outputs": [
    {
     "name": "stdout",
     "output_type": "stream",
     "text": [
      "1 sigmas: alpha = 0.6826894921370859\n",
      "2 sigmas: alpha = 0.9544997361036416\n",
      "3 sigmas: alpha = 0.9973002039367398\n",
      "4 sigmas: alpha = 0.9999366575163338\n"
     ]
    }
   ],
   "source": [
    "from scipy.stats import norm\n",
    "\n",
    "def significancia(nsigma):\n",
    "    return 2*(norm.cdf(nsigma)-0.5)\n",
    "\n",
    "for n in range(1, 5):\n",
    "    print(f\"{n} sigmas: alpha = {significancia(n)}\")"
   ]
  },
  {
   "attachments": {},
   "cell_type": "markdown",
   "metadata": {},
   "source": [
    "y a la inversa, obtener el número de sigmas que corresponde a una cierta significancia:"
   ]
  },
  {
   "cell_type": "code",
   "execution_count": 42,
   "metadata": {},
   "outputs": [
    {
     "name": "stdout",
     "output_type": "stream",
     "text": [
      "1.6448536269514722\n"
     ]
    }
   ],
   "source": [
    "def nsigmas(alpha):\n",
    "    return norm.ppf(0.5+alpha/2)\n",
    "\n",
    "print(nsigmas(0.9))"
   ]
  },
  {
   "attachments": {},
   "cell_type": "markdown",
   "metadata": {},
   "source": [
    "En otras áreas, en vez de la significancia o el número de sigmas se emplea el valor-$p$, que es simplemente $1-\\alpha$."
   ]
  },
  {
   "attachments": {},
   "cell_type": "markdown",
   "metadata": {},
   "source": [
    "Usando `iminuit` (si `matplotlib` está instalado) se pueden obtener gráficos de likelihood constante para pares de parámetros. Hay dos funciones, `draw_contour` y `draw_mncontour`, que usan los datos de `migrad`/`hesse` y de `minos` respectivamente. Se asume que los errores están distribuidos de forma gaussiana, por lo que el ratio de los logaritmos de likelihood es simplemente la diferencia de la función de pérdida. Se representa la diferencia entre la función de pérdida en cada punto y en el mínimo. Si no se pasan más argumentos, representa solamente a una significancia de 0.68 (1 sigma):"
   ]
  },
  {
   "cell_type": "code",
   "execution_count": 43,
   "metadata": {},
   "outputs": [
    {
     "data": {
      "text/plain": [
       "<matplotlib.contour.ContourSet at 0x7f6a073a5f00>"
      ]
     },
     "execution_count": 43,
     "metadata": {},
     "output_type": "execute_result"
    },
    {
     "data": {
      "image/png": "[encoded data removed]",
      "text/plain": [
       "<Figure size 640x480 with 1 Axes>"
      ]
     },
     "metadata": {},
     "output_type": "display_data"
    }
   ],
   "source": [
    "m.draw_mncontour(\"K1\", \"K2\")"
   ]
  },
  {
   "attachments": {},
   "cell_type": "markdown",
   "metadata": {},
   "source": [
    "Pasando varios valores entre 0 y 1, los interpreta como significancias:"
   ]
  },
  {
   "cell_type": "code",
   "execution_count": 44,
   "metadata": {},
   "outputs": [
    {
     "data": {
      "text/plain": [
       "<matplotlib.contour.ContourSet at 0x7f6a0709dab0>"
      ]
     },
     "execution_count": 44,
     "metadata": {},
     "output_type": "execute_result"
    },
    {
     "data": {
      "image/png": "[encoded data removed]",
      "text/plain": [
       "<Figure size 640x480 with 1 Axes>"
      ]
     },
     "metadata": {},
     "output_type": "display_data"
    }
   ],
   "source": [
    "m.draw_mncontour(\"K1\", \"K2\", cl = [0.5, 0.75, 0.9])"
   ]
  },
  {
   "attachments": {},
   "cell_type": "markdown",
   "metadata": {},
   "source": [
    "y pasando valores mayores que 1, como número de sigmas:"
   ]
  },
  {
   "cell_type": "code",
   "execution_count": 45,
   "metadata": {},
   "outputs": [
    {
     "data": {
      "text/plain": [
       "<matplotlib.contour.ContourSet at 0x7f6a0714ec20>"
      ]
     },
     "execution_count": 45,
     "metadata": {},
     "output_type": "execute_result"
    },
    {
     "data": {
      "image/png": "[encoded data removed]",
      "text/plain": [
       "<Figure size 640x480 with 1 Axes>"
      ]
     },
     "metadata": {},
     "output_type": "display_data"
    }
   ],
   "source": [
    "m.draw_mncontour(\"K1\", \"K2\", cl = [1, 2, 3])"
   ]
  },
  {
   "attachments": {},
   "cell_type": "markdown",
   "metadata": {},
   "source": [
    "Y la función `draw_mnmatrix` representa los gráficos de likelihood constante para cada par de parámetros, y la función de likelihood marginalizada para cada parámetro:"
   ]
  },
  {
   "cell_type": "code",
   "execution_count": 46,
   "metadata": {},
   "outputs": [
    {
     "data": {
      "text/html": [],
      "text/plain": [
       "<IPython.core.display.HTML object>"
      ]
     },
     "metadata": {},
     "output_type": "display_data"
    },
    {
     "data": {
      "image/png": "[encoded data removed]",
      "text/plain": [
       "<Figure size 640x480 with 4 Axes>"
      ]
     },
     "metadata": {},
     "output_type": "display_data"
    }
   ],
   "source": [
    "plots = m.draw_mnmatrix(cl=[1, 2, 3])"
   ]
  },
  {
   "cell_type": "code",
   "execution_count": 61,
   "metadata": {},
   "outputs": [
    {
     "data": {
      "text/plain": [
       "Text(0.5, 24.0, '$K_2$')"
      ]
     },
     "execution_count": 61,
     "metadata": {},
     "output_type": "execute_result"
    }
   ],
   "source": [
    "plots[1][1][1].axvline(0, color=\"black\")\n",
    "plots[1][1][1].set_xlabel(\"$K_2$\")"
   ]
  },
  {
   "cell_type": "code",
   "execution_count": 63,
   "metadata": {},
   "outputs": [],
   "source": [
    "plots[0]\n",
    "plots[0].savefig(\"plots.pdf\")"
   ]
  },
  {
   "attachments": {},
   "cell_type": "markdown",
   "metadata": {},
   "source": [
    "## [Tareas](https://github.com/Jorge-Alda/TFM_AlejandroMir/issues/5)\n",
    "\n",
    "1. En el archivo `classes.py` crea una nueva clase llamada `ChiSquared`, que se inicie tomando una lista de instancias de `Observable`.\n",
    "2. Añade un método para calcular la covarianza. Por el momento, solamente tendremos en cuenta las correlaciones teóricas, las correlaciones experimentales las añadiremos más adelante.\n",
    "    * Primero calcula la matriz de covarianza en el SM mediante el método `sm_covariance` de `flavio`. Este cálculo es bastante lento, pero puedes usar la versión paralelizada pasando el argumento `threads=N`, donde `N` es el número de núcleos del procesador que quieras usar.\n",
    "    * Para la covarianza experimental, calcula el error de cada observable como la media geométrica del error a izquierda y a derecha, y por lo tanto la varianza será el producto de ambos errores asimétricos. Crea una matriz diagonal con las varianzas usando la función `diag()` de `numpy`.\n",
    "    * Suma ambas matrices de covarianza. El resultado será un objeto de tipo `array` de `numpy`, transfórmalo en un objeto de tipo `matrix`.\n",
    "    * El cálculo de la matriz de covarianza, incluso con la paralelización, puede tardar bastante tiempo, y el resultado es independiente de la teoría efectiva. Es conveniente almacenar en caché el resultado para no tener que volver a calcularlo.\n",
    "3. Añade un método que calcule la función de pérdida, dado un objeto `Wilson` que especifique los coeficientes de Wilson de la teoría efectiva:\n",
    "    * Primero tendrás que calcular el valor central en el SM y en la teoría efectiva para cada observable de la lista. Crea un `array` de `numpy` con las diferencias.\n",
    "    * A continuación calcula la inversa de la matriz de covarianza, mediante la propiedad `.I` de la matriz.\n",
    "    * Calcula el producto $\\sum_{i,j} (f_i(\\vec{\\theta}) - y_i)C^{-1}_{ij}(f_j(\\vec{\\theta}) - y_j)$. Para hacer productos matriciales en `numpy` tienes que usar el símbolo `@` en vez de `*`. El resultado será un `array` de dimensión 1x1, transfórmalo en un `float`.\n",
    "4. Crea un cuaderno de Jupyter llamado `tarea3.ipynb`.\n",
    "    * Importa las clases `Observable` y `ChiSquared` de tu módulo. Importa también la clase `Wilson` de `wilson` y `Minuit` de `iminuit`.\n",
    "    * Define los siguientes observables: $R_{K_s}$ [0.045-1.1], $R_{K_s}$ [1.1, 6.0], $R_{K^+}$ [1.1, 6.0], $\\mathrm{BR}(B^0\\to\\mu^+\\mu^-)$ y $\\mathrm{BR}(B_s\\to\\mu^+\\mu^-)$. Define un objeto `ChiSquared` con estos observables.\n",
    "    * Crea una función `fit` que dependa de dos argumentos, `C9` y `C10`. En el interior de la función, crea una instancia de `Wilson` con los coeficientes `C9_bsmumu` (cuyo valor será igual a `C9`) y `C10_bsmumu` (cuyo valor será igual a `C10`). La escala de la nueva física será 4.8, la teoría efectiva `WET`, y la base `flavio`. Nota: en esta base **no** hay que dividir por el cuadrado de la escala de energía.\n",
    "    * La función devuelve el valor de la función de pérdida con esos coeficientes de Wilson.\n",
    "5. Obtén los valores de `C9` y `C10` describen estos observables.\n",
    "    * Crea un objeto `Minuit` con la función `fit`. Inicia `C9` y `C10` iguales a 0 (SM).\n",
    "    * Obtén el mínimo con `migrad()`, y muestra el valor de los coeficientes y su error con `values` y `errors` respectivamente.\n",
    "    * Recalcula los errores con `minos()`. En este caso no deberías ver mucha diferencia.\n",
    "    * Representa los contornos de likelihood constante con `draw_mncontour()`. Representa los valores a $1\\,\\sigma$ y $2\\,\\sigma$."
   ]
  },
  {
   "cell_type": "markdown",
   "metadata": {},
   "source": []
  }
 ],
 "metadata": {
  "kernelspec": {
   "display_name": "tfm-alejandromir-_L8EXmOG-py3.10",
   "language": "python",
   "name": "python3"
  },
  "language_info": {
   "codemirror_mode": {
    "name": "ipython",
    "version": 3
   },
   "file_extension": ".py",
   "mimetype": "text/x-python",
   "name": "python",
   "nbconvert_exporter": "python",
   "pygments_lexer": "ipython3",
   "version": "3.10.9"
  },
  "orig_nbformat": 4,
  "vscode": {
   "interpreter": {
    "hash": "dbc053e7a741c0eaa81871d91d086a95cb3a0f1760a7f1f0b9028bb2da013099"
   }
  }
 },
 "nbformat": 4,
 "nbformat_minor": 2
}
