{
 "cells": [
  {
   "cell_type": "markdown",
   "metadata": {},
   "source": [
    "# 02b Excepciones, errores y gestores de contexto\n",
    "\n",
    "Cuando Python encuentra un error, genera una excepción. Si la excepción no es cazada por el programa, sucede lo siguiente:\n",
    "* En una sesión interactiva, se interrumpe la ejecución, y el usuario puede ejecutar otros comandos.\n",
    "* En un cuaderno de Jupyter, se cancela la ejecución de la celda, y el usuario puede ejecutar otros comandos.\n",
    "* En un programa, este se detiene.\n",
    "\n",
    "En todos los casos, Python imprime un mensaje en el que aparece la lista de funciones que ha llevado hasta el error, la línea actual, y el tipo de error. Veamos algunos de los tipos de error de la librería estándar de Python:\n",
    "\n",
    "División por cero:"
   ]
  },
  {
   "cell_type": "code",
   "execution_count": 1,
   "metadata": {},
   "outputs": [
    {
     "ename": "ZeroDivisionError",
     "evalue": "division by zero",
     "output_type": "error",
     "traceback": [
      "\u001b[0;31m---------------------------------------------------------------------------\u001b[0m",
      "\u001b[0;31mZeroDivisionError\u001b[0m                         Traceback (most recent call last)",
      "Cell \u001b[0;32mIn [1], line 1\u001b[0m\n\u001b[0;32m----> 1\u001b[0m x \u001b[39m=\u001b[39m \u001b[39m1\u001b[39;49m\u001b[39m/\u001b[39;49m\u001b[39m0\u001b[39;49m\n",
      "\u001b[0;31mZeroDivisionError\u001b[0m: division by zero"
     ]
    }
   ],
   "source": [
    "x = 1/0"
   ]
  },
  {
   "cell_type": "markdown",
   "metadata": {},
   "source": [
    "Overflow numérico:"
   ]
  },
  {
   "cell_type": "code",
   "execution_count": 7,
   "metadata": {},
   "outputs": [
    {
     "ename": "OverflowError",
     "evalue": "(34, 'Numerical result out of range')",
     "output_type": "error",
     "traceback": [
      "\u001b[0;31m---------------------------------------------------------------------------\u001b[0m",
      "\u001b[0;31mOverflowError\u001b[0m                             Traceback (most recent call last)",
      "Cell \u001b[0;32mIn [7], line 1\u001b[0m\n\u001b[0;32m----> 1\u001b[0m x \u001b[39m=\u001b[39m \u001b[39m5.0\u001b[39;49m\u001b[39m*\u001b[39;49m\u001b[39m*\u001b[39;49m\u001b[39m1000\u001b[39;49m\n",
      "\u001b[0;31mOverflowError\u001b[0m: (34, 'Numerical result out of range')"
     ]
    }
   ],
   "source": [
    "x = 5.0**1000"
   ]
  },
  {
   "cell_type": "markdown",
   "metadata": {},
   "source": [
    "Error de índice"
   ]
  },
  {
   "cell_type": "code",
   "execution_count": 8,
   "metadata": {},
   "outputs": [
    {
     "ename": "IndexError",
     "evalue": "list index out of range",
     "output_type": "error",
     "traceback": [
      "\u001b[0;31m---------------------------------------------------------------------------\u001b[0m",
      "\u001b[0;31mIndexError\u001b[0m                                Traceback (most recent call last)",
      "Cell \u001b[0;32mIn [8], line 2\u001b[0m\n\u001b[1;32m      1\u001b[0m a \u001b[39m=\u001b[39m [\u001b[39m2\u001b[39m, \u001b[39m3\u001b[39m, \u001b[39m5\u001b[39m]\n\u001b[0;32m----> 2\u001b[0m \u001b[39mprint\u001b[39m(a[\u001b[39m3\u001b[39;49m])\n",
      "\u001b[0;31mIndexError\u001b[0m: list index out of range"
     ]
    }
   ],
   "source": [
    "a = [2, 3, 5]\n",
    "print(a[3])"
   ]
  },
  {
   "cell_type": "markdown",
   "metadata": {},
   "source": [
    "Error de clave:"
   ]
  },
  {
   "cell_type": "code",
   "execution_count": 10,
   "metadata": {},
   "outputs": [
    {
     "ename": "KeyError",
     "evalue": "'c'",
     "output_type": "error",
     "traceback": [
      "\u001b[0;31m---------------------------------------------------------------------------\u001b[0m",
      "\u001b[0;31mKeyError\u001b[0m                                  Traceback (most recent call last)",
      "Cell \u001b[0;32mIn [10], line 2\u001b[0m\n\u001b[1;32m      1\u001b[0m d \u001b[39m=\u001b[39m {\u001b[39m'\u001b[39m\u001b[39ma\u001b[39m\u001b[39m'\u001b[39m: \u001b[39m1\u001b[39m, \u001b[39m'\u001b[39m\u001b[39mb\u001b[39m\u001b[39m'\u001b[39m: \u001b[39m3\u001b[39m}\n\u001b[0;32m----> 2\u001b[0m \u001b[39mprint\u001b[39m(d[\u001b[39m'\u001b[39;49m\u001b[39mc\u001b[39;49m\u001b[39m'\u001b[39;49m])\n",
      "\u001b[0;31mKeyError\u001b[0m: 'c'"
     ]
    }
   ],
   "source": [
    "d = {'a': 1, 'b': 3}\n",
    "print(d['c'])"
   ]
  },
  {
   "cell_type": "markdown",
   "metadata": {},
   "source": [
    "Error de tipo: estamos intentando hacer una operación (modificar un elemento) en un objeto de un tipo que no admite dicha operación."
   ]
  },
  {
   "cell_type": "code",
   "execution_count": 11,
   "metadata": {},
   "outputs": [
    {
     "ename": "TypeError",
     "evalue": "'tuple' object does not support item assignment",
     "output_type": "error",
     "traceback": [
      "\u001b[0;31m---------------------------------------------------------------------------\u001b[0m",
      "\u001b[0;31mTypeError\u001b[0m                                 Traceback (most recent call last)",
      "Cell \u001b[0;32mIn [11], line 2\u001b[0m\n\u001b[1;32m      1\u001b[0m b \u001b[39m=\u001b[39m (\u001b[39m1\u001b[39m, \u001b[39m2\u001b[39m, \u001b[39m4\u001b[39m)\n\u001b[0;32m----> 2\u001b[0m b[\u001b[39m2\u001b[39;49m] \u001b[39m=\u001b[39m \u001b[39m3\u001b[39m\n",
      "\u001b[0;31mTypeError\u001b[0m: 'tuple' object does not support item assignment"
     ]
    }
   ],
   "source": [
    "b = (1, 2, 4)\n",
    "b[2] = 3"
   ]
  },
  {
   "cell_type": "markdown",
   "metadata": {},
   "source": [
    "Error de nombre: estamos intentando acceder a una variable que no existe"
   ]
  },
  {
   "cell_type": "code",
   "execution_count": 12,
   "metadata": {},
   "outputs": [
    {
     "ename": "NameError",
     "evalue": "name 'no_existo' is not defined",
     "output_type": "error",
     "traceback": [
      "\u001b[0;31m---------------------------------------------------------------------------\u001b[0m",
      "\u001b[0;31mNameError\u001b[0m                                 Traceback (most recent call last)",
      "Cell \u001b[0;32mIn [12], line 1\u001b[0m\n\u001b[0;32m----> 1\u001b[0m \u001b[39mprint\u001b[39m(no_existo)\n",
      "\u001b[0;31mNameError\u001b[0m: name 'no_existo' is not defined"
     ]
    }
   ],
   "source": [
    "print(no_existo)"
   ]
  },
  {
   "cell_type": "markdown",
   "metadata": {},
   "source": [
    "Error de atributo:"
   ]
  },
  {
   "cell_type": "code",
   "execution_count": 60,
   "metadata": {},
   "outputs": [
    {
     "ename": "AttributeError",
     "evalue": "'int' object has no attribute 'a'",
     "output_type": "error",
     "traceback": [
      "\u001b[0;31m---------------------------------------------------------------------------\u001b[0m",
      "\u001b[0;31mAttributeError\u001b[0m                            Traceback (most recent call last)",
      "Cell \u001b[0;32mIn [60], line 2\u001b[0m\n\u001b[1;32m      1\u001b[0m x \u001b[39m=\u001b[39m \u001b[39m3\u001b[39m\n\u001b[0;32m----> 2\u001b[0m x\u001b[39m.\u001b[39;49ma \u001b[39m=\u001b[39m \u001b[39m5\u001b[39m\n",
      "\u001b[0;31mAttributeError\u001b[0m: 'int' object has no attribute 'a'"
     ]
    }
   ],
   "source": [
    "x = 3\n",
    "x.a = 5"
   ]
  },
  {
   "cell_type": "markdown",
   "metadata": {},
   "source": [
    "Módulo no encontrado:"
   ]
  },
  {
   "cell_type": "code",
   "execution_count": 13,
   "metadata": {},
   "outputs": [
    {
     "ename": "ModuleNotFoundError",
     "evalue": "No module named 'nuuumpy'",
     "output_type": "error",
     "traceback": [
      "\u001b[0;31m---------------------------------------------------------------------------\u001b[0m",
      "\u001b[0;31mModuleNotFoundError\u001b[0m                       Traceback (most recent call last)",
      "Cell \u001b[0;32mIn [13], line 1\u001b[0m\n\u001b[0;32m----> 1\u001b[0m \u001b[39mimport\u001b[39;00m \u001b[39mnuuumpy\u001b[39;00m\n",
      "\u001b[0;31mModuleNotFoundError\u001b[0m: No module named 'nuuumpy'"
     ]
    }
   ],
   "source": [
    "import nuuumpy"
   ]
  },
  {
   "cell_type": "markdown",
   "metadata": {},
   "source": [
    "Error al importar:"
   ]
  },
  {
   "cell_type": "code",
   "execution_count": 14,
   "metadata": {},
   "outputs": [
    {
     "ename": "ImportError",
     "evalue": "cannot import name 'nuuuumpy' from 'numpy' (/home/jorge/.cache/pypoetry/virtualenvs/tfm-alejandromir-pisT7Re7-py3.10/lib64/python3.10/site-packages/numpy/__init__.py)",
     "output_type": "error",
     "traceback": [
      "\u001b[0;31m---------------------------------------------------------------------------\u001b[0m",
      "\u001b[0;31mImportError\u001b[0m                               Traceback (most recent call last)",
      "Cell \u001b[0;32mIn [14], line 1\u001b[0m\n\u001b[0;32m----> 1\u001b[0m \u001b[39mfrom\u001b[39;00m \u001b[39mnumpy\u001b[39;00m \u001b[39mimport\u001b[39;00m nuuuumpy\n",
      "\u001b[0;31mImportError\u001b[0m: cannot import name 'nuuuumpy' from 'numpy' (/home/jorge/.cache/pypoetry/virtualenvs/tfm-alejandromir-pisT7Re7-py3.10/lib64/python3.10/site-packages/numpy/__init__.py)"
     ]
    }
   ],
   "source": [
    "from numpy import nuuuumpy"
   ]
  },
  {
   "cell_type": "markdown",
   "metadata": {},
   "source": [
    "Error de sintaxis:"
   ]
  },
  {
   "cell_type": "code",
   "execution_count": 25,
   "metadata": {},
   "outputs": [
    {
     "ename": "SyntaxError",
     "evalue": "Missing parentheses in call to 'print'. Did you mean print(...)? (1206750932.py, line 1)",
     "output_type": "error",
     "traceback": [
      "\u001b[0;36m  Cell \u001b[0;32mIn [25], line 1\u001b[0;36m\u001b[0m\n\u001b[0;31m    print 5\u001b[0m\n\u001b[0m    ^\u001b[0m\n\u001b[0;31mSyntaxError\u001b[0m\u001b[0;31m:\u001b[0m Missing parentheses in call to 'print'. Did you mean print(...)?\n"
     ]
    }
   ],
   "source": [
    "print 5"
   ]
  },
  {
   "cell_type": "markdown",
   "metadata": {},
   "source": [
    "Error de indentación:"
   ]
  },
  {
   "cell_type": "code",
   "execution_count": 15,
   "metadata": {},
   "outputs": [
    {
     "ename": "IndentationError",
     "evalue": "expected an indented block after 'for' statement on line 1 (3979827255.py, line 2)",
     "output_type": "error",
     "traceback": [
      "\u001b[0;36m  Cell \u001b[0;32mIn [15], line 2\u001b[0;36m\u001b[0m\n\u001b[0;31m    print(i)\u001b[0m\n\u001b[0m    ^\u001b[0m\n\u001b[0;31mIndentationError\u001b[0m\u001b[0;31m:\u001b[0m expected an indented block after 'for' statement on line 1\n"
     ]
    }
   ],
   "source": [
    "for i in range(10):\n",
    "print(i)"
   ]
  },
  {
   "cell_type": "markdown",
   "metadata": {},
   "source": [
    "Error de archivo no encontrado, al intentar abrir en modo lectura un archivo que no existe:"
   ]
  },
  {
   "cell_type": "code",
   "execution_count": 61,
   "metadata": {},
   "outputs": [
    {
     "ename": "FileNotFoundError",
     "evalue": "[Errno 2] No such file or directory: 'archivo.txt'",
     "output_type": "error",
     "traceback": [
      "\u001b[0;31m---------------------------------------------------------------------------\u001b[0m",
      "\u001b[0;31mFileNotFoundError\u001b[0m                         Traceback (most recent call last)",
      "Cell \u001b[0;32mIn [61], line 1\u001b[0m\n\u001b[0;32m----> 1\u001b[0m \u001b[39mopen\u001b[39;49m(\u001b[39m'\u001b[39;49m\u001b[39marchivo.txt\u001b[39;49m\u001b[39m'\u001b[39;49m, \u001b[39m'\u001b[39;49m\u001b[39mrt\u001b[39;49m\u001b[39m'\u001b[39;49m)\n",
      "File \u001b[0;32m~/.cache/pypoetry/virtualenvs/tfm-alejandromir-pisT7Re7-py3.10/lib/python3.10/site-packages/IPython/core/interactiveshell.py:282\u001b[0m, in \u001b[0;36m_modified_open\u001b[0;34m(file, *args, **kwargs)\u001b[0m\n\u001b[1;32m    275\u001b[0m \u001b[39mif\u001b[39;00m file \u001b[39min\u001b[39;00m {\u001b[39m0\u001b[39m, \u001b[39m1\u001b[39m, \u001b[39m2\u001b[39m}:\n\u001b[1;32m    276\u001b[0m     \u001b[39mraise\u001b[39;00m \u001b[39mValueError\u001b[39;00m(\n\u001b[1;32m    277\u001b[0m         \u001b[39mf\u001b[39m\u001b[39m\"\u001b[39m\u001b[39mIPython won\u001b[39m\u001b[39m'\u001b[39m\u001b[39mt let you open fd=\u001b[39m\u001b[39m{\u001b[39;00mfile\u001b[39m}\u001b[39;00m\u001b[39m by default \u001b[39m\u001b[39m\"\u001b[39m\n\u001b[1;32m    278\u001b[0m         \u001b[39m\"\u001b[39m\u001b[39mas it is likely to crash IPython. If you know what you are doing, \u001b[39m\u001b[39m\"\u001b[39m\n\u001b[1;32m    279\u001b[0m         \u001b[39m\"\u001b[39m\u001b[39myou can use builtins\u001b[39m\u001b[39m'\u001b[39m\u001b[39m open.\u001b[39m\u001b[39m\"\u001b[39m\n\u001b[1;32m    280\u001b[0m     )\n\u001b[0;32m--> 282\u001b[0m \u001b[39mreturn\u001b[39;00m io_open(file, \u001b[39m*\u001b[39;49margs, \u001b[39m*\u001b[39;49m\u001b[39m*\u001b[39;49mkwargs)\n",
      "\u001b[0;31mFileNotFoundError\u001b[0m: [Errno 2] No such file or directory: 'archivo.txt'"
     ]
    }
   ],
   "source": [
    "open('archivo.txt', 'rt')"
   ]
  },
  {
   "cell_type": "markdown",
   "metadata": {},
   "source": [
    "Error de aserción. Una aserción es un tipo de expresión que genera un error si la condición es falsa."
   ]
  },
  {
   "cell_type": "code",
   "execution_count": 16,
   "metadata": {},
   "outputs": [
    {
     "ename": "AssertionError",
     "evalue": "",
     "output_type": "error",
     "traceback": [
      "\u001b[0;31m---------------------------------------------------------------------------\u001b[0m",
      "\u001b[0;31mAssertionError\u001b[0m                            Traceback (most recent call last)",
      "Cell \u001b[0;32mIn [16], line 1\u001b[0m\n\u001b[0;32m----> 1\u001b[0m \u001b[39massert\u001b[39;00m \u001b[39m2\u001b[39m \u001b[39m==\u001b[39m \u001b[39m3\u001b[39m\n",
      "\u001b[0;31mAssertionError\u001b[0m: "
     ]
    }
   ],
   "source": [
    "assert 2 == 3"
   ]
  },
  {
   "cell_type": "code",
   "execution_count": 17,
   "metadata": {},
   "outputs": [],
   "source": [
    "assert 2 < 3"
   ]
  },
  {
   "cell_type": "markdown",
   "metadata": {},
   "source": [
    "Interrupción de teclado: en cualquier momento, puedes interrumpir la ejecución de Python pulsando Ctrl+C (en la terminal), o pulsando el botón que hay junto a la celda (Jupyter):"
   ]
  },
  {
   "cell_type": "code",
   "execution_count": 18,
   "metadata": {},
   "outputs": [
    {
     "ename": "KeyboardInterrupt",
     "evalue": "",
     "output_type": "error",
     "traceback": [
      "\u001b[0;31m---------------------------------------------------------------------------\u001b[0m",
      "\u001b[0;31mKeyboardInterrupt\u001b[0m                         Traceback (most recent call last)",
      "Cell \u001b[0;32mIn [18], line 2\u001b[0m\n\u001b[1;32m      1\u001b[0m \u001b[39mfrom\u001b[39;00m \u001b[39mtime\u001b[39;00m \u001b[39mimport\u001b[39;00m sleep\n\u001b[0;32m----> 2\u001b[0m sleep(\u001b[39m86400\u001b[39;49m)\n",
      "\u001b[0;31mKeyboardInterrupt\u001b[0m: "
     ]
    }
   ],
   "source": [
    "from time import sleep\n",
    "sleep(86400)"
   ]
  },
  {
   "cell_type": "markdown",
   "metadata": {},
   "source": [
    "## Cazar excepciones\n",
    "\n",
    "En muchas ocasiones, es necesario que nuestro código sea capaz de reaccionar ante una excepción en vez de interrumpir el programa. Para ello se usa la sintaxis `try:`...`except:`. Si se produce algún error en el bloque de código definido por `try`, se ejecutará el bloque de código del `except`:"
   ]
  },
  {
   "cell_type": "code",
   "execution_count": 1,
   "metadata": {},
   "outputs": [],
   "source": [
    "def dividir(dividendo, divisor):\n",
    "    try:\n",
    "        resultado = dividendo/divisor\n",
    "        return resultado\n",
    "    except:\n",
    "        print(f\"Ha habido un error al dividir {dividendo}/{divisor}\")"
   ]
  },
  {
   "cell_type": "code",
   "execution_count": 2,
   "metadata": {},
   "outputs": [
    {
     "data": {
      "text/plain": [
       "1.4"
      ]
     },
     "execution_count": 2,
     "metadata": {},
     "output_type": "execute_result"
    }
   ],
   "source": [
    "dividir(7, 5)"
   ]
  },
  {
   "cell_type": "code",
   "execution_count": 3,
   "metadata": {},
   "outputs": [
    {
     "name": "stdout",
     "output_type": "stream",
     "text": [
      "Ha habido un error al dividir 7/0\n"
     ]
    }
   ],
   "source": [
    "dividir(7, 0)"
   ]
  },
  {
   "cell_type": "markdown",
   "metadata": {},
   "source": [
    "Se puede especificar qué excepción en concreto cazar con `except`:"
   ]
  },
  {
   "cell_type": "code",
   "execution_count": 4,
   "metadata": {},
   "outputs": [],
   "source": [
    "def dividir(dividendo, divisor):\n",
    "    try:\n",
    "        resultado = dividendo/divisor\n",
    "        return resultado\n",
    "    except ZeroDivisionError:\n",
    "        print(\"Has intentado dividir por cero\")"
   ]
  },
  {
   "cell_type": "code",
   "execution_count": 5,
   "metadata": {},
   "outputs": [
    {
     "name": "stdout",
     "output_type": "stream",
     "text": [
      "Has intentado dividir por cero\n"
     ]
    }
   ],
   "source": [
    "dividir(7, 0)"
   ]
  },
  {
   "cell_type": "code",
   "execution_count": 6,
   "metadata": {},
   "outputs": [
    {
     "ename": "TypeError",
     "evalue": "unsupported operand type(s) for /: 'int' and 'str'",
     "output_type": "error",
     "traceback": [
      "\u001b[0;31m---------------------------------------------------------------------------\u001b[0m",
      "\u001b[0;31mTypeError\u001b[0m                                 Traceback (most recent call last)",
      "Cell \u001b[0;32mIn [6], line 1\u001b[0m\n\u001b[0;32m----> 1\u001b[0m dividir(\u001b[39m7\u001b[39;49m, \u001b[39m\"\u001b[39;49m\u001b[39m4\u001b[39;49m\u001b[39m\"\u001b[39;49m)\n",
      "Cell \u001b[0;32mIn [4], line 3\u001b[0m, in \u001b[0;36mdividir\u001b[0;34m(dividendo, divisor)\u001b[0m\n\u001b[1;32m      1\u001b[0m \u001b[39mdef\u001b[39;00m \u001b[39mdividir\u001b[39m(dividendo, divisor):\n\u001b[1;32m      2\u001b[0m     \u001b[39mtry\u001b[39;00m:\n\u001b[0;32m----> 3\u001b[0m         resultado \u001b[39m=\u001b[39m dividendo\u001b[39m/\u001b[39;49mdivisor\n\u001b[1;32m      4\u001b[0m         \u001b[39mreturn\u001b[39;00m resultado\n\u001b[1;32m      5\u001b[0m     \u001b[39mexcept\u001b[39;00m \u001b[39mZeroDivisionError\u001b[39;00m:\n",
      "\u001b[0;31mTypeError\u001b[0m: unsupported operand type(s) for /: 'int' and 'str'"
     ]
    }
   ],
   "source": [
    "dividir(7, \"4\")"
   ]
  },
  {
   "cell_type": "markdown",
   "metadata": {},
   "source": [
    "También podemos cazar independientemente múltiples excepciones, con varios `except`:"
   ]
  },
  {
   "cell_type": "code",
   "execution_count": 23,
   "metadata": {},
   "outputs": [],
   "source": [
    "def dividir(dividendo, divisor):\n",
    "    try:\n",
    "        resultado = dividendo/divisor\n",
    "        return resultado\n",
    "    except OverflowError:\n",
    "        print(\"Ha habido un overflow numérico\")\n",
    "    except ZeroDivisionError:\n",
    "        print(\"Has intentado dividir por cero\")"
   ]
  },
  {
   "cell_type": "code",
   "execution_count": 24,
   "metadata": {},
   "outputs": [
    {
     "name": "stdout",
     "output_type": "stream",
     "text": [
      "Ha habido un overflow numérico\n"
     ]
    }
   ],
   "source": [
    "dividir(10**500, 1)"
   ]
  },
  {
   "cell_type": "markdown",
   "metadata": {},
   "source": [
    "Si hay varias excepciones, se cazan en el orden en el que ocurren en la ejecución del programa, independientemente del orden en que se escriban."
   ]
  },
  {
   "cell_type": "code",
   "execution_count": 26,
   "metadata": {},
   "outputs": [
    {
     "name": "stdout",
     "output_type": "stream",
     "text": [
      "Has intentado dividir por cero\n"
     ]
    }
   ],
   "source": [
    "dividir(10**500, 0)"
   ]
  },
  {
   "cell_type": "markdown",
   "metadata": {},
   "source": [
    "También se puede definir qué hacer en caso de encontrar cualquier excepción diferente a las especificadas, con un bloque `except:` sin excepción después de todos los bloques con excepción:"
   ]
  },
  {
   "cell_type": "code",
   "execution_count": 29,
   "metadata": {},
   "outputs": [],
   "source": [
    "def dividir(dividendo, divisor):\n",
    "    try:\n",
    "        resultado = dividendo/divisor\n",
    "        return resultado\n",
    "    except ZeroDivisionError:\n",
    "        print(\"Has intentado dividir por cero\")\n",
    "    except OverflowError:\n",
    "        print(\"Ha habido un overflow numérico\")\n",
    "    except:\n",
    "        print(\"Ha sucedido otro error\")"
   ]
  },
  {
   "cell_type": "code",
   "execution_count": 31,
   "metadata": {},
   "outputs": [
    {
     "name": "stdout",
     "output_type": "stream",
     "text": [
      "Ha sucedido otro error\n"
     ]
    }
   ],
   "source": [
    "dividir(1, '2')"
   ]
  },
  {
   "cell_type": "markdown",
   "metadata": {},
   "source": [
    "Podemos agrupar varias excepciones en un único error:"
   ]
  },
  {
   "cell_type": "code",
   "execution_count": 33,
   "metadata": {},
   "outputs": [],
   "source": [
    "def dividir(dividendo, divisor):\n",
    "    try:\n",
    "        resultado = dividendo/divisor\n",
    "        return resultado\n",
    "    except (OverflowError, ZeroDivisionError):\n",
    "        print(\"Ha habido un error numérico\")\n",
    "    except:\n",
    "        print(\"Ha sucedido otro error\")"
   ]
  },
  {
   "cell_type": "code",
   "execution_count": 34,
   "metadata": {},
   "outputs": [
    {
     "name": "stdout",
     "output_type": "stream",
     "text": [
      "Ha habido un error numérico\n"
     ]
    }
   ],
   "source": [
    "dividir(1, 0)"
   ]
  },
  {
   "cell_type": "code",
   "execution_count": 35,
   "metadata": {},
   "outputs": [
    {
     "name": "stdout",
     "output_type": "stream",
     "text": [
      "Ha habido un error numérico\n"
     ]
    }
   ],
   "source": [
    "dividir(10**500, 1)"
   ]
  },
  {
   "cell_type": "markdown",
   "metadata": {},
   "source": [
    "Todas las excepciones son clases, que heredan (directa o indirectamente) la clase `BaseException`. Veamos el MRO de `ZeroDivisionError` y `OverflowError`:"
   ]
  },
  {
   "cell_type": "code",
   "execution_count": 37,
   "metadata": {},
   "outputs": [
    {
     "data": {
      "text/plain": [
       "(ZeroDivisionError, ArithmeticError, Exception, BaseException, object)"
      ]
     },
     "execution_count": 37,
     "metadata": {},
     "output_type": "execute_result"
    }
   ],
   "source": [
    "ZeroDivisionError.__mro__"
   ]
  },
  {
   "cell_type": "code",
   "execution_count": 38,
   "metadata": {},
   "outputs": [
    {
     "data": {
      "text/plain": [
       "(OverflowError, ArithmeticError, Exception, BaseException, object)"
      ]
     },
     "execution_count": 38,
     "metadata": {},
     "output_type": "execute_result"
    }
   ],
   "source": [
    "OverflowError.__mro__"
   ]
  },
  {
   "cell_type": "markdown",
   "metadata": {},
   "source": [
    "Ambas son derivadas de la clase `ArithmeticError`. Si cazamos excepciones de `ArithmeticError`, también cazaremos a sus subclases, pero no a otras excepciones:"
   ]
  },
  {
   "cell_type": "code",
   "execution_count": 39,
   "metadata": {},
   "outputs": [],
   "source": [
    "def dividir(dividendo, divisor):\n",
    "    try:\n",
    "        resultado = dividendo/divisor\n",
    "        return resultado\n",
    "    except ArithmeticError:\n",
    "        print(\"Ha habido un error numérico\")\n",
    "    except:\n",
    "        print(\"Ha sucedido otro error\")"
   ]
  },
  {
   "cell_type": "code",
   "execution_count": 40,
   "metadata": {},
   "outputs": [
    {
     "name": "stdout",
     "output_type": "stream",
     "text": [
      "Ha habido un error numérico\n",
      "Ha habido un error numérico\n",
      "Ha sucedido otro error\n"
     ]
    }
   ],
   "source": [
    "dividir(1, 0)\n",
    "\n",
    "dividir(10**500, 1)\n",
    "\n",
    "dividir(1, '2')"
   ]
  },
  {
   "cell_type": "markdown",
   "metadata": {},
   "source": [
    "Además de ver a qué clase corresponde la excepción, también podemos obtener la instancia concreta que ha causado el error, y que contiene información adicional, usando `except Exception as...:`"
   ]
  },
  {
   "cell_type": "code",
   "execution_count": 56,
   "metadata": {},
   "outputs": [],
   "source": [
    "def dividir(dividendo, divisor):\n",
    "    try:\n",
    "        resultado = dividendo/divisor\n",
    "        return resultado\n",
    "    except ArithmeticError as error:\n",
    "        print(\"Ha habido un error numérico\")\n",
    "        print(error)\n",
    "    except:\n",
    "        print(\"Ha sucedido otro error\")"
   ]
  },
  {
   "cell_type": "code",
   "execution_count": 57,
   "metadata": {},
   "outputs": [
    {
     "name": "stdout",
     "output_type": "stream",
     "text": [
      "Ha habido un error numérico\n",
      "division by zero\n"
     ]
    }
   ],
   "source": [
    "dividir(1, 0)"
   ]
  },
  {
   "cell_type": "markdown",
   "metadata": {},
   "source": [
    "También podemos incluir código que solamente se ejecute si no ha habido ninguna excepción, usando `else:`. Debe ir después de todos los `except`."
   ]
  },
  {
   "cell_type": "code",
   "execution_count": 65,
   "metadata": {},
   "outputs": [],
   "source": [
    "def dividir(dividendo, divisor):\n",
    "    try:\n",
    "        resultado = dividendo/divisor\n",
    "    except ArithmeticError as error:\n",
    "        print(\"Ha habido un error numérico\")\n",
    "        print(error)\n",
    "    except:\n",
    "        print(\"Ha sucedido otro error\")\n",
    "    else:\n",
    "        return resultado"
   ]
  },
  {
   "cell_type": "code",
   "execution_count": 66,
   "metadata": {},
   "outputs": [
    {
     "data": {
      "text/plain": [
       "0.8"
      ]
     },
     "execution_count": 66,
     "metadata": {},
     "output_type": "execute_result"
    }
   ],
   "source": [
    "dividir(4, 5)"
   ]
  },
  {
   "cell_type": "markdown",
   "metadata": {},
   "source": [
    "Y para incluir código que se ejecute haya excepción o no con un bloque `finally:` Este bloque debe ser el último, detrás de todos los `except` y de `else`."
   ]
  },
  {
   "cell_type": "code",
   "execution_count": 67,
   "metadata": {},
   "outputs": [],
   "source": [
    "def dividir(dividendo, divisor):\n",
    "    try:\n",
    "        resultado = dividendo/divisor\n",
    "    except ArithmeticError as error:\n",
    "        print(\"Ha habido un error numérico\")\n",
    "        print(error)\n",
    "    except:\n",
    "        print(\"Ha sucedido otro error\")\n",
    "    else:\n",
    "        return resultado\n",
    "    finally:\n",
    "        print(\"Hemos terminado de dividir\")"
   ]
  },
  {
   "cell_type": "code",
   "execution_count": 68,
   "metadata": {},
   "outputs": [
    {
     "name": "stdout",
     "output_type": "stream",
     "text": [
      "Ha sucedido otro error\n",
      "Hemos terminado de dividir\n"
     ]
    }
   ],
   "source": [
    "dividir(2, 'a')"
   ]
  },
  {
   "cell_type": "code",
   "execution_count": 69,
   "metadata": {},
   "outputs": [
    {
     "name": "stdout",
     "output_type": "stream",
     "text": [
      "Hemos terminado de dividir\n"
     ]
    },
    {
     "data": {
      "text/plain": [
       "0.42857142857142855"
      ]
     },
     "execution_count": 69,
     "metadata": {},
     "output_type": "execute_result"
    }
   ],
   "source": [
    "dividir(3, 7)"
   ]
  },
  {
   "cell_type": "markdown",
   "metadata": {},
   "source": [
    "Si una excepción no resulta cazada, se propaga a la función que la ha llamado. Esta puede cazarla, o propagarla a su vez a la función superior, y así sucesivamente. Solamente si ninguna de las funciones de la lista de llamadas es incapaz de cazar la excepción, entonces se interrumpe la ejecución:"
   ]
  },
  {
   "cell_type": "code",
   "execution_count": 70,
   "metadata": {},
   "outputs": [],
   "source": [
    "def f1():\n",
    "    return 1/0 # Esta función crea una excepción, pero no lo caza\n",
    "\n",
    "def f2(x):\n",
    "    return x + f1() # La excepción se propaga a f2, que tampoco la caza\n",
    "\n",
    "def f3():\n",
    "    try:\n",
    "        f2(7)\n",
    "    except ZeroDivisionError: #f3 caza la excepción propagada\n",
    "        print(\"Cazada!\")"
   ]
  },
  {
   "cell_type": "code",
   "execution_count": 71,
   "metadata": {},
   "outputs": [
    {
     "name": "stdout",
     "output_type": "stream",
     "text": [
      "Cazada!\n"
     ]
    }
   ],
   "source": [
    "f3()"
   ]
  },
  {
   "cell_type": "markdown",
   "metadata": {},
   "source": [
    "## Lanzar excepciones\n",
    "\n",
    "Las excepciones no se generan únicamente cuando python se encuentra con un error. También podemos decirle cuándo crear una excepción, con la expresión `raise`:"
   ]
  },
  {
   "cell_type": "code",
   "execution_count": 72,
   "metadata": {},
   "outputs": [],
   "source": [
    "def elige_fruta(fruta):\n",
    "    frutas = ['manzana', 'pera', 'uva']\n",
    "    if fruta in frutas:\n",
    "        print(f\"Comemos {fruta}\")\n",
    "    else:\n",
    "        raise ValueError"
   ]
  },
  {
   "cell_type": "code",
   "execution_count": 73,
   "metadata": {},
   "outputs": [
    {
     "name": "stdout",
     "output_type": "stream",
     "text": [
      "Comemos manzana\n"
     ]
    },
    {
     "ename": "ValueError",
     "evalue": "",
     "output_type": "error",
     "traceback": [
      "\u001b[0;31m---------------------------------------------------------------------------\u001b[0m",
      "\u001b[0;31mValueError\u001b[0m                                Traceback (most recent call last)",
      "Cell \u001b[0;32mIn [73], line 3\u001b[0m\n\u001b[1;32m      1\u001b[0m elige_fruta(\u001b[39m'\u001b[39m\u001b[39mmanzana\u001b[39m\u001b[39m'\u001b[39m)\n\u001b[0;32m----> 3\u001b[0m elige_fruta(\u001b[39m'\u001b[39;49m\u001b[39malbaricoque\u001b[39;49m\u001b[39m'\u001b[39;49m)\n",
      "Cell \u001b[0;32mIn [72], line 6\u001b[0m, in \u001b[0;36melige_fruta\u001b[0;34m(fruta)\u001b[0m\n\u001b[1;32m      4\u001b[0m     \u001b[39mprint\u001b[39m(\u001b[39mf\u001b[39m\u001b[39m\"\u001b[39m\u001b[39mComemos \u001b[39m\u001b[39m{\u001b[39;00mfruta\u001b[39m}\u001b[39;00m\u001b[39m\"\u001b[39m)\n\u001b[1;32m      5\u001b[0m \u001b[39melse\u001b[39;00m:\n\u001b[0;32m----> 6\u001b[0m     \u001b[39mraise\u001b[39;00m \u001b[39mValueError\u001b[39;00m\n",
      "\u001b[0;31mValueError\u001b[0m: "
     ]
    }
   ],
   "source": [
    "elige_fruta('manzana')\n",
    "\n",
    "elige_fruta('albaricoque')"
   ]
  },
  {
   "cell_type": "markdown",
   "metadata": {},
   "source": [
    "Añadimos un mensaje que explique la excepción:"
   ]
  },
  {
   "cell_type": "code",
   "execution_count": 74,
   "metadata": {},
   "outputs": [],
   "source": [
    "def elige_fruta(fruta):\n",
    "    frutas = ['manzana', 'pera', 'uva']\n",
    "    if fruta in frutas:\n",
    "        print(f\"Comemos {fruta}\")\n",
    "    else:\n",
    "        raise ValueError(f\"No conozco la fruta llamada {fruta}\")"
   ]
  },
  {
   "cell_type": "code",
   "execution_count": 75,
   "metadata": {},
   "outputs": [
    {
     "name": "stdout",
     "output_type": "stream",
     "text": [
      "Comemos manzana\n"
     ]
    },
    {
     "ename": "ValueError",
     "evalue": "No conozco la fruta llamada albaricoque",
     "output_type": "error",
     "traceback": [
      "\u001b[0;31m---------------------------------------------------------------------------\u001b[0m",
      "\u001b[0;31mValueError\u001b[0m                                Traceback (most recent call last)",
      "Cell \u001b[0;32mIn [75], line 3\u001b[0m\n\u001b[1;32m      1\u001b[0m elige_fruta(\u001b[39m'\u001b[39m\u001b[39mmanzana\u001b[39m\u001b[39m'\u001b[39m)\n\u001b[0;32m----> 3\u001b[0m elige_fruta(\u001b[39m'\u001b[39;49m\u001b[39malbaricoque\u001b[39;49m\u001b[39m'\u001b[39;49m)\n",
      "Cell \u001b[0;32mIn [74], line 6\u001b[0m, in \u001b[0;36melige_fruta\u001b[0;34m(fruta)\u001b[0m\n\u001b[1;32m      4\u001b[0m     \u001b[39mprint\u001b[39m(\u001b[39mf\u001b[39m\u001b[39m\"\u001b[39m\u001b[39mComemos \u001b[39m\u001b[39m{\u001b[39;00mfruta\u001b[39m}\u001b[39;00m\u001b[39m\"\u001b[39m)\n\u001b[1;32m      5\u001b[0m \u001b[39melse\u001b[39;00m:\n\u001b[0;32m----> 6\u001b[0m     \u001b[39mraise\u001b[39;00m \u001b[39mValueError\u001b[39;00m(\u001b[39mf\u001b[39m\u001b[39m\"\u001b[39m\u001b[39mNo conozco la fruta llamada \u001b[39m\u001b[39m{\u001b[39;00mfruta\u001b[39m}\u001b[39;00m\u001b[39m\"\u001b[39m)\n",
      "\u001b[0;31mValueError\u001b[0m: No conozco la fruta llamada albaricoque"
     ]
    }
   ],
   "source": [
    "elige_fruta('manzana')\n",
    "\n",
    "elige_fruta('albaricoque')"
   ]
  },
  {
   "cell_type": "markdown",
   "metadata": {},
   "source": [
    "Recordando que las excepciones son clases, podemos crear nuevas excepciones, simplemente heredando `Exception` o cualquier otra excepción existente."
   ]
  },
  {
   "cell_type": "code",
   "execution_count": 76,
   "metadata": {},
   "outputs": [],
   "source": [
    "class FrutaError(ValueError):\n",
    "    pass\n",
    "\n",
    "def elige_fruta(fruta):\n",
    "    frutas = ['manzana', 'pera', 'uva']\n",
    "    if fruta in frutas:\n",
    "        print(f\"Comemos {fruta}\")\n",
    "    else:\n",
    "        raise FrutaError(f\"No conozco la fruta llamada {fruta}\")"
   ]
  },
  {
   "cell_type": "code",
   "execution_count": 77,
   "metadata": {},
   "outputs": [
    {
     "name": "stdout",
     "output_type": "stream",
     "text": [
      "Comemos manzana\n"
     ]
    },
    {
     "ename": "FrutaError",
     "evalue": "No conozco la fruta llamada albaricoque",
     "output_type": "error",
     "traceback": [
      "\u001b[0;31m---------------------------------------------------------------------------\u001b[0m",
      "\u001b[0;31mFrutaError\u001b[0m                                Traceback (most recent call last)",
      "Cell \u001b[0;32mIn [77], line 3\u001b[0m\n\u001b[1;32m      1\u001b[0m elige_fruta(\u001b[39m'\u001b[39m\u001b[39mmanzana\u001b[39m\u001b[39m'\u001b[39m)\n\u001b[0;32m----> 3\u001b[0m elige_fruta(\u001b[39m'\u001b[39;49m\u001b[39malbaricoque\u001b[39;49m\u001b[39m'\u001b[39;49m)\n",
      "Cell \u001b[0;32mIn [76], line 9\u001b[0m, in \u001b[0;36melige_fruta\u001b[0;34m(fruta)\u001b[0m\n\u001b[1;32m      7\u001b[0m     \u001b[39mprint\u001b[39m(\u001b[39mf\u001b[39m\u001b[39m\"\u001b[39m\u001b[39mComemos \u001b[39m\u001b[39m{\u001b[39;00mfruta\u001b[39m}\u001b[39;00m\u001b[39m\"\u001b[39m)\n\u001b[1;32m      8\u001b[0m \u001b[39melse\u001b[39;00m:\n\u001b[0;32m----> 9\u001b[0m     \u001b[39mraise\u001b[39;00m FrutaError(\u001b[39mf\u001b[39m\u001b[39m\"\u001b[39m\u001b[39mNo conozco la fruta llamada \u001b[39m\u001b[39m{\u001b[39;00mfruta\u001b[39m}\u001b[39;00m\u001b[39m\"\u001b[39m)\n",
      "\u001b[0;31mFrutaError\u001b[0m: No conozco la fruta llamada albaricoque"
     ]
    }
   ],
   "source": [
    "elige_fruta('manzana')\n",
    "\n",
    "elige_fruta('albaricoque')"
   ]
  },
  {
   "cell_type": "code",
   "execution_count": 78,
   "metadata": {},
   "outputs": [
    {
     "name": "stdout",
     "output_type": "stream",
     "text": [
      "Fruta desconocida\n"
     ]
    }
   ],
   "source": [
    "try:\n",
    "    elige_fruta('albaricoque')\n",
    "except FrutaError:\n",
    "    print(\"Fruta desconocida\")"
   ]
  },
  {
   "cell_type": "code",
   "execution_count": 79,
   "metadata": {},
   "outputs": [
    {
     "name": "stdout",
     "output_type": "stream",
     "text": [
      "Valor desconocido\n"
     ]
    }
   ],
   "source": [
    "try:\n",
    "    elige_fruta('albaricoque')\n",
    "except ValueError:\n",
    "    print(\"Valor desconocido\")"
   ]
  },
  {
   "cell_type": "markdown",
   "metadata": {},
   "source": [
    "Vamos a modificar un poco la definición de nuestra excepción, para que la instancia almacene el valor erróneo:"
   ]
  },
  {
   "cell_type": "code",
   "execution_count": 94,
   "metadata": {},
   "outputs": [],
   "source": [
    "class FrutaError(ValueError):\n",
    "    \n",
    "    frutas = ['manzana', 'pera', 'uva']\n",
    "    def __init__(self, f, *args):\n",
    "        super().__init__(args)\n",
    "        self.f = f\n",
    "\n",
    "    def __str__(self):\n",
    "        return f\"No conozco la fruta llamada {self.f}\"\n",
    "\n",
    "def elige_fruta(fruta):\n",
    "    if fruta in FrutaError.frutas:\n",
    "        print(f\"Comemos {fruta}\")\n",
    "    else:\n",
    "        raise FrutaError(fruta)"
   ]
  },
  {
   "cell_type": "code",
   "execution_count": 95,
   "metadata": {},
   "outputs": [
    {
     "ename": "FrutaError",
     "evalue": "No conozco la fruta llamada albaricoque",
     "output_type": "error",
     "traceback": [
      "\u001b[0;31m---------------------------------------------------------------------------\u001b[0m",
      "\u001b[0;31mFrutaError\u001b[0m                                Traceback (most recent call last)",
      "Cell \u001b[0;32mIn [95], line 1\u001b[0m\n\u001b[0;32m----> 1\u001b[0m elige_fruta(\u001b[39m'\u001b[39;49m\u001b[39malbaricoque\u001b[39;49m\u001b[39m'\u001b[39;49m)\n",
      "Cell \u001b[0;32mIn [94], line 15\u001b[0m, in \u001b[0;36melige_fruta\u001b[0;34m(fruta)\u001b[0m\n\u001b[1;32m     13\u001b[0m     \u001b[39mprint\u001b[39m(\u001b[39mf\u001b[39m\u001b[39m\"\u001b[39m\u001b[39mComemos \u001b[39m\u001b[39m{\u001b[39;00mfruta\u001b[39m}\u001b[39;00m\u001b[39m\"\u001b[39m)\n\u001b[1;32m     14\u001b[0m \u001b[39melse\u001b[39;00m:\n\u001b[0;32m---> 15\u001b[0m     \u001b[39mraise\u001b[39;00m FrutaError(fruta)\n",
      "\u001b[0;31mFrutaError\u001b[0m: No conozco la fruta llamada albaricoque"
     ]
    }
   ],
   "source": [
    "elige_fruta('albaricoque')"
   ]
  },
  {
   "cell_type": "markdown",
   "metadata": {},
   "source": [
    "En el método `__init__()` hemos pasado primero el valor erróneo de la fruta, que se guarda en la instancia. A continuación pasamos `*args`, que hace referencia a cualquier número de argumentos posicionales, es decir, que se pasa solamente al valor sin el nombre del argumento. Estos argumentos se pasan tal cual al iniciador de la clase superior.\n",
    "\n",
    "Vamos a extraer la fruta errónea con `except`:"
   ]
  },
  {
   "cell_type": "code",
   "execution_count": 96,
   "metadata": {},
   "outputs": [
    {
     "name": "stdout",
     "output_type": "stream",
     "text": [
      "albaricoque\n"
     ]
    }
   ],
   "source": [
    "try:\n",
    "    elige_fruta('albaricoque')\n",
    "except FrutaError as error:\n",
    "    print(error.f)"
   ]
  },
  {
   "cell_type": "markdown",
   "metadata": {},
   "source": [
    "## Cómo abrir (correctamente) un archivo\n",
    "\n",
    "En Python, los archivos se abren con la función `open()`, y se cierran con el método `file.close()`. Es importante siempre cerrar los archivos al terminar de usarlos, ya que no hacerlo puede provocar la corrupción de los archivos. En ciertas condiciones, Python detecta que el archivo no está cerrado y lo cierra por ti, por ejemplo si el archivo se ha abierto dentro de una función, el archivo se cierra automáticamente al salir de la función:"
   ]
  },
  {
   "cell_type": "code",
   "execution_count": 97,
   "metadata": {},
   "outputs": [],
   "source": [
    "def escribe(texto):\n",
    "    file = open(\"prueba.txt\", \"wt\")\n",
    "    file.write(texto)\n",
    "    # Al acabar, python llama a file.close()\n",
    "\n",
    "escribe('hola')"
   ]
  },
  {
   "cell_type": "markdown",
   "metadata": {},
   "source": [
    "Sin embargo, Python no garantiza que esto suceda en el caso de que la función no acabe adecuadamente:"
   ]
  },
  {
   "cell_type": "code",
   "execution_count": 98,
   "metadata": {},
   "outputs": [
    {
     "ename": "ZeroDivisionError",
     "evalue": "division by zero",
     "output_type": "error",
     "traceback": [
      "\u001b[0;31m---------------------------------------------------------------------------\u001b[0m",
      "\u001b[0;31mZeroDivisionError\u001b[0m                         Traceback (most recent call last)",
      "Cell \u001b[0;32mIn [98], line 8\u001b[0m\n\u001b[1;32m      5\u001b[0m     \u001b[39mprint\u001b[39m(x)\n\u001b[1;32m      6\u001b[0m     \u001b[39m# Al acabar, python llama a file.close()\u001b[39;00m\n\u001b[0;32m----> 8\u001b[0m escribe(\u001b[39m'\u001b[39;49m\u001b[39mhola\u001b[39;49m\u001b[39m'\u001b[39;49m)\n",
      "Cell \u001b[0;32mIn [98], line 4\u001b[0m, in \u001b[0;36mescribe\u001b[0;34m(texto)\u001b[0m\n\u001b[1;32m      2\u001b[0m file \u001b[39m=\u001b[39m \u001b[39mopen\u001b[39m(\u001b[39m\"\u001b[39m\u001b[39mprueba.txt\u001b[39m\u001b[39m\"\u001b[39m, \u001b[39m\"\u001b[39m\u001b[39mwt\u001b[39m\u001b[39m\"\u001b[39m)\n\u001b[1;32m      3\u001b[0m file\u001b[39m.\u001b[39mwrite(texto)\n\u001b[0;32m----> 4\u001b[0m x \u001b[39m=\u001b[39m \u001b[39m1\u001b[39;49m\u001b[39m/\u001b[39;49m\u001b[39m0\u001b[39;49m\n\u001b[1;32m      5\u001b[0m \u001b[39mprint\u001b[39m(x)\n",
      "\u001b[0;31mZeroDivisionError\u001b[0m: division by zero"
     ]
    }
   ],
   "source": [
    "def escribe(texto):\n",
    "    file = open(\"prueba.txt\", \"wt\")\n",
    "    file.write(texto)\n",
    "    x = 1/0\n",
    "    # Hay una excepción, así que python no puede llamar a file.close()\n",
    "    print(x)\n",
    "\n",
    "escribe('hola')"
   ]
  },
  {
   "cell_type": "markdown",
   "metadata": {},
   "source": [
    "Para asegurarnos de que el archivo se ejecute aunque haya una excepción, podemos crear un bloque `try` para realizar todas las operaciones con el archivo, y cerrarlo en el correspondiente `finally`, que siempre se ejecuta:"
   ]
  },
  {
   "cell_type": "code",
   "execution_count": 99,
   "metadata": {},
   "outputs": [
    {
     "ename": "ZeroDivisionError",
     "evalue": "division by zero",
     "output_type": "error",
     "traceback": [
      "\u001b[0;31m---------------------------------------------------------------------------\u001b[0m",
      "\u001b[0;31mZeroDivisionError\u001b[0m                         Traceback (most recent call last)",
      "Cell \u001b[0;32mIn [99], line 11\u001b[0m\n\u001b[1;32m      8\u001b[0m     \u001b[39mfinally\u001b[39;00m:\n\u001b[1;32m      9\u001b[0m         file\u001b[39m.\u001b[39mclose()\n\u001b[0;32m---> 11\u001b[0m escribe(\u001b[39m'\u001b[39;49m\u001b[39mhola\u001b[39;49m\u001b[39m'\u001b[39;49m)\n",
      "Cell \u001b[0;32mIn [99], line 5\u001b[0m, in \u001b[0;36mescribe\u001b[0;34m(texto)\u001b[0m\n\u001b[1;32m      3\u001b[0m \u001b[39mtry\u001b[39;00m:\n\u001b[1;32m      4\u001b[0m     file\u001b[39m.\u001b[39mwrite(texto)\n\u001b[0;32m----> 5\u001b[0m     x \u001b[39m=\u001b[39m \u001b[39m1\u001b[39;49m\u001b[39m/\u001b[39;49m\u001b[39m0\u001b[39;49m\n\u001b[1;32m      6\u001b[0m     \u001b[39m# Hay una excepción, así que python no puede llamar a file.close()\u001b[39;00m\n\u001b[1;32m      7\u001b[0m     \u001b[39mprint\u001b[39m(x)\n",
      "\u001b[0;31mZeroDivisionError\u001b[0m: division by zero"
     ]
    }
   ],
   "source": [
    "def escribe(texto):\n",
    "    file = open(\"prueba.txt\", \"wt\")\n",
    "    try:\n",
    "        file.write(texto)\n",
    "        x = 1/0\n",
    "        # Hay una excepción, así que python no puede llamar a file.close()\n",
    "        print(x)\n",
    "    finally:\n",
    "        file.close()\n",
    "\n",
    "escribe('hola')"
   ]
  },
  {
   "cell_type": "markdown",
   "metadata": {},
   "source": [
    "Aunque hayamos tenido una excepción, el archivo se ha cerrado correctamente, y hemos escrito en él nuestro texto."
   ]
  },
  {
   "cell_type": "markdown",
   "metadata": {},
   "source": [
    "## Gestores de contexto\n",
    "\n",
    "La estructura `try...finally` para manejar objetos que necesitan ser cerrados al acabar su vida es tan frecuente que python ha creado una sintaxis más breve para hacer exactamente lo mismo: un gestor de contexto, declarado con `with`:"
   ]
  },
  {
   "cell_type": "code",
   "execution_count": 1,
   "metadata": {},
   "outputs": [
    {
     "ename": "ZeroDivisionError",
     "evalue": "division by zero",
     "output_type": "error",
     "traceback": [
      "\u001b[0;31m---------------------------------------------------------------------------\u001b[0m",
      "\u001b[0;31mZeroDivisionError\u001b[0m                         Traceback (most recent call last)",
      "Cell \u001b[0;32mIn [1], line 7\u001b[0m\n\u001b[1;32m      4\u001b[0m         x \u001b[39m=\u001b[39m \u001b[39m1\u001b[39m\u001b[39m/\u001b[39m\u001b[39m0\u001b[39m\n\u001b[1;32m      5\u001b[0m         \u001b[39mprint\u001b[39m(x)\n\u001b[0;32m----> 7\u001b[0m escribe(\u001b[39m'\u001b[39;49m\u001b[39mhola\u001b[39;49m\u001b[39m'\u001b[39;49m)\n",
      "Cell \u001b[0;32mIn [1], line 4\u001b[0m, in \u001b[0;36mescribe\u001b[0;34m(texto)\u001b[0m\n\u001b[1;32m      2\u001b[0m \u001b[39mwith\u001b[39;00m \u001b[39mopen\u001b[39m(\u001b[39m\"\u001b[39m\u001b[39mprueba.txt\u001b[39m\u001b[39m\"\u001b[39m, \u001b[39m\"\u001b[39m\u001b[39mwt\u001b[39m\u001b[39m\"\u001b[39m) \u001b[39mas\u001b[39;00m f:\n\u001b[1;32m      3\u001b[0m     f\u001b[39m.\u001b[39mwrite(texto)\n\u001b[0;32m----> 4\u001b[0m     x \u001b[39m=\u001b[39m \u001b[39m1\u001b[39;49m\u001b[39m/\u001b[39;49m\u001b[39m0\u001b[39;49m\n\u001b[1;32m      5\u001b[0m     \u001b[39mprint\u001b[39m(x)\n",
      "\u001b[0;31mZeroDivisionError\u001b[0m: division by zero"
     ]
    }
   ],
   "source": [
    "def escribe(texto):\n",
    "    with open(\"prueba.txt\", \"wt\") as f:\n",
    "        f.write(texto)\n",
    "        x = 1/0\n",
    "        print(x)\n",
    "\n",
    "escribe('hola')"
   ]
  },
  {
   "cell_type": "markdown",
   "metadata": {},
   "source": [
    "Un gestor de contexto hace lo siguiente:\n",
    "\n",
    "1. Se evalúa la expresión que acompaña a `with`, y su resultado se almacena en una variable interna.\n",
    "2. Se ejecuta el código de iniciación, que corresponde al método dunder `.__enter__()` de la variable interna.\n",
    "3. Opcionalmente, se guarda el resultado de `__enter__()` en la variable creada con `as`.\n",
    "4. Se ejecuta el bloque de código como si estuviera dentro de un `try`.\n",
    "5. En el `finally` se ejecuta el método `__exit__()` del gestor (en este caso, el código para cerrar el archivo)."
   ]
  },
  {
   "cell_type": "markdown",
   "metadata": {},
   "source": [
    "Vamos a crear un gestor de contexto que mida el tiempo de ejecución del código de su interior. Queremos saber el tiempo que tarda aunque se produzca una excepción.\n",
    "\n",
    "Usaremos la función `perf_counter()` del paquete `time` de la libreria estándar, que devuelve el número de segundos que han transcurrido desde un momento arbitrario (pero constante). Crearemos una clase con los dos métodos especiales que necesitamos: en `__enter__()` almacenaremos el tiempo de inicio, y en `__exit__()` el tiempo final e imprimiremos la diferencia de ambos:"
   ]
  },
  {
   "cell_type": "code",
   "execution_count": 7,
   "metadata": {},
   "outputs": [],
   "source": [
    "from time import perf_counter, sleep\n",
    "\n",
    "class Temporizador:\n",
    "    def __enter__(self):\n",
    "        self.inicio = perf_counter()\n",
    "\n",
    "    def __exit__(self, *args):\n",
    "        final = perf_counter()\n",
    "        print(f\"Tiempo transcurrido: {final - self.inicio:.4} s\")"
   ]
  },
  {
   "cell_type": "code",
   "execution_count": 8,
   "metadata": {},
   "outputs": [
    {
     "name": "stdout",
     "output_type": "stream",
     "text": [
      "Tiempo transcurrido: 5.005 s\n"
     ]
    }
   ],
   "source": [
    "with Temporizador():\n",
    "    sleep(5)"
   ]
  },
  {
   "cell_type": "code",
   "execution_count": 9,
   "metadata": {},
   "outputs": [
    {
     "name": "stdout",
     "output_type": "stream",
     "text": [
      "Tiempo transcurrido: 5.005 s\n"
     ]
    },
    {
     "ename": "ZeroDivisionError",
     "evalue": "division by zero",
     "output_type": "error",
     "traceback": [
      "\u001b[0;31m---------------------------------------------------------------------------\u001b[0m",
      "\u001b[0;31mZeroDivisionError\u001b[0m                         Traceback (most recent call last)",
      "Cell \u001b[0;32mIn [9], line 3\u001b[0m\n\u001b[1;32m      1\u001b[0m \u001b[39mwith\u001b[39;00m Temporizador():\n\u001b[1;32m      2\u001b[0m     sleep(\u001b[39m5\u001b[39m)\n\u001b[0;32m----> 3\u001b[0m     x \u001b[39m=\u001b[39m \u001b[39m1\u001b[39;49m\u001b[39m/\u001b[39;49m\u001b[39m0\u001b[39;49m\n\u001b[1;32m      4\u001b[0m     sleep(\u001b[39m7\u001b[39m)\n",
      "\u001b[0;31mZeroDivisionError\u001b[0m: division by zero"
     ]
    }
   ],
   "source": [
    "with Temporizador():\n",
    "    sleep(5)\n",
    "    x = 1/0\n",
    "    sleep(7)"
   ]
  },
  {
   "cell_type": "markdown",
   "metadata": {},
   "source": [
    "Vamos a modificar el temporizador, para poder ver el tiempo transcurrido durante la ejecución, y poner en pausa o reanudarlo. Para ello, necesitaremos pasar el temporizador con `as`, por lo que tendrá que ser devuelto por `__enter__()`:"
   ]
  },
  {
   "cell_type": "code",
   "execution_count": 10,
   "metadata": {},
   "outputs": [],
   "source": [
    "class Temporizador:\n",
    "    _tiempo = 0\n",
    "\n",
    "    def __enter__(self):\n",
    "        self._inicio = perf_counter()\n",
    "        self._pausado = False\n",
    "        return self\n",
    "\n",
    "    def ver_tiempo(self):\n",
    "        if self._pausado:\n",
    "            return self._tiempo\n",
    "        else:\n",
    "            return self._tiempo + perf_counter() - self._inicio\n",
    "\n",
    "    def pausar(self):\n",
    "        self._tiempo += perf_counter() - self._inicio\n",
    "        self._pausado = True\n",
    "\n",
    "    def reanudar(self):\n",
    "        self._inicio = perf_counter()\n",
    "        self._pausado = False\n",
    "\n",
    "    def __exit__(self, *args):\n",
    "        self.pausar()"
   ]
  },
  {
   "cell_type": "code",
   "execution_count": 11,
   "metadata": {},
   "outputs": [
    {
     "name": "stdout",
     "output_type": "stream",
     "text": [
      "1.301353113999994\n",
      "6.003728408999905\n"
     ]
    }
   ],
   "source": [
    "with Temporizador() as t:\n",
    "    sleep(1.3)\n",
    "    print(t.ver_tiempo()) #El temporizador sigue corriendo\n",
    "    sleep (2.7)\n",
    "    t.pausar()\n",
    "    sleep(4)\n",
    "    t.reanudar()\n",
    "    sleep(2)\n",
    "\n",
    "print(t.ver_tiempo())"
   ]
  },
  {
   "cell_type": "markdown",
   "metadata": {},
   "source": [
    "y podemos incluso volver a usar el mismo temporizador, que recuerda el tiempo almacenado:"
   ]
  },
  {
   "cell_type": "code",
   "execution_count": 12,
   "metadata": {},
   "outputs": [
    {
     "name": "stdout",
     "output_type": "stream",
     "text": [
      "7.004530840999905\n"
     ]
    }
   ],
   "source": [
    "with t:\n",
    "    sleep(1)\n",
    "\n",
    "print(t.ver_tiempo())"
   ]
  },
  {
   "cell_type": "markdown",
   "metadata": {},
   "source": [
    "El método `__enter__()` solamente toma el argumento `self`, pero `__exit__()` toma tres más: el tipo de la excepción, su valor, y la lista de llamadas. En caso de que no se produzca ninguna excepción, estos tres argumentos valdrán `None`."
   ]
  },
  {
   "cell_type": "code",
   "execution_count": 18,
   "metadata": {},
   "outputs": [],
   "source": [
    "class Temporizador:\n",
    "    _tiempo = 0\n",
    "\n",
    "    def __enter__(self):\n",
    "        self._inicio = perf_counter()\n",
    "        self._pausado = False\n",
    "        return self\n",
    "\n",
    "    def ver_tiempo(self):\n",
    "        if self._pausado:\n",
    "            return self._tiempo\n",
    "        else:\n",
    "            return self._tiempo + perf_counter() - self._inicio\n",
    "\n",
    "    def pausar(self):\n",
    "        self._tiempo += perf_counter() - self._inicio\n",
    "        self._pausado = True\n",
    "\n",
    "    def reanudar(self):\n",
    "        self._inicio = perf_counter()\n",
    "        self._pausado = False\n",
    "\n",
    "    def __exit__(self, ex_type, ex_val, tb):\n",
    "        self.pausar()\n",
    "        if ex_type is not None:\n",
    "            print(f\"Ha ocurrido una excepción de tipo {ex_type}\")\n",
    "            print(f\"Valor de la excepción: {ex_val}\")"
   ]
  },
  {
   "cell_type": "code",
   "execution_count": 13,
   "metadata": {},
   "outputs": [
    {
     "name": "stdout",
     "output_type": "stream",
     "text": [
      "3.0025031549999994\n"
     ]
    }
   ],
   "source": [
    "with Temporizador() as t:\n",
    "    sleep(3)\n",
    "\n",
    "print(t.ver_tiempo())"
   ]
  },
  {
   "cell_type": "code",
   "execution_count": 19,
   "metadata": {},
   "outputs": [
    {
     "name": "stdout",
     "output_type": "stream",
     "text": [
      "Ha ocurrido una excepción de tipo <class 'ZeroDivisionError'>\n",
      "Valor de la excepción: division by zero\n"
     ]
    },
    {
     "ename": "ZeroDivisionError",
     "evalue": "division by zero",
     "output_type": "error",
     "traceback": [
      "\u001b[0;31m---------------------------------------------------------------------------\u001b[0m",
      "\u001b[0;31mZeroDivisionError\u001b[0m                         Traceback (most recent call last)",
      "Cell \u001b[0;32mIn [19], line 3\u001b[0m\n\u001b[1;32m      1\u001b[0m \u001b[39mwith\u001b[39;00m Temporizador() \u001b[39mas\u001b[39;00m t:\n\u001b[1;32m      2\u001b[0m     sleep(\u001b[39m5\u001b[39m)\n\u001b[0;32m----> 3\u001b[0m     x \u001b[39m=\u001b[39m \u001b[39m1\u001b[39;49m\u001b[39m/\u001b[39;49m\u001b[39m0\u001b[39;49m\n\u001b[1;32m      4\u001b[0m     sleep(\u001b[39m7\u001b[39m)\n",
      "\u001b[0;31mZeroDivisionError\u001b[0m: division by zero"
     ]
    }
   ],
   "source": [
    "with Temporizador() as t:\n",
    "    sleep(5)\n",
    "    x = 1/0\n",
    "    sleep(7)"
   ]
  },
  {
   "cell_type": "code",
   "execution_count": 20,
   "metadata": {},
   "outputs": [
    {
     "name": "stdout",
     "output_type": "stream",
     "text": [
      "5.004890295999985\n"
     ]
    }
   ],
   "source": [
    "print(t.ver_tiempo())"
   ]
  },
  {
   "cell_type": "markdown",
   "metadata": {},
   "source": [
    "Si `__exit__()` devuelve un valor que se evalúe a `True`, la excepción no se propaga:"
   ]
  },
  {
   "cell_type": "code",
   "execution_count": 16,
   "metadata": {},
   "outputs": [],
   "source": [
    "class Temporizador:\n",
    "    _tiempo = 0\n",
    "\n",
    "    def __enter__(self):\n",
    "        self._inicio = perf_counter()\n",
    "        self._pausado = False\n",
    "        return self\n",
    "\n",
    "    def ver_tiempo(self):\n",
    "        if self._pausado:\n",
    "            return self._tiempo\n",
    "        else:\n",
    "            return self._tiempo + perf_counter() - self._inicio\n",
    "\n",
    "    def pausar(self):\n",
    "        self._tiempo += perf_counter() - self._inicio\n",
    "        self._pausado = True\n",
    "\n",
    "    def reanudar(self):\n",
    "        self._inicio = perf_counter()\n",
    "        self._pausado = False\n",
    "\n",
    "    def __exit__(self, ex_type, ex_val, tb):\n",
    "        self.pausar()\n",
    "        if ex_type is not None:\n",
    "            print(f\"Ha ocurrido una excepción de tipo {ex_type}\")\n",
    "            print(f\"Valor de la excepción: {ex_val}\")\n",
    "            return True"
   ]
  },
  {
   "cell_type": "code",
   "execution_count": 17,
   "metadata": {},
   "outputs": [
    {
     "name": "stdout",
     "output_type": "stream",
     "text": [
      "Ha ocurrido una excepción de tipo <class 'ZeroDivisionError'>\n",
      "Valor de la excepción: division by zero\n",
      "5.004524916000037\n"
     ]
    }
   ],
   "source": [
    "with Temporizador() as t:\n",
    "    sleep(5)\n",
    "    x = 1/0\n",
    "    sleep(7)\n",
    "\n",
    "print(t.ver_tiempo())"
   ]
  },
  {
   "cell_type": "markdown",
   "metadata": {},
   "source": [
    "### contextlib\n",
    "\n",
    "El paquete `contextlib` de la librería estándar contiene varios gestores de contexto, y herramientas para crearlos.\n",
    "\n",
    "El gestor de contexto `suppress` sirve para silenciar temporalmente un tipo de excepciones:"
   ]
  },
  {
   "cell_type": "code",
   "execution_count": 16,
   "metadata": {},
   "outputs": [],
   "source": [
    "from contextlib import suppress\n",
    "\n",
    "with suppress(ZeroDivisionError):\n",
    "    print(1/0)\n",
    "    print(2+3)"
   ]
  },
  {
   "cell_type": "markdown",
   "metadata": {},
   "source": [
    "El gestor `redirect_stdout` sirve para redirigir el texto que se imprime por pantalla a otro archivo o buffer:"
   ]
  },
  {
   "cell_type": "code",
   "execution_count": 18,
   "metadata": {},
   "outputs": [],
   "source": [
    "from contextlib import redirect_stdout\n",
    "\n",
    "with open('redirect.txt', 'wt') as f:\n",
    "    with redirect_stdout(f):\n",
    "        print('Hola')"
   ]
  },
  {
   "cell_type": "markdown",
   "metadata": {},
   "source": [
    "`contextlib` también tiene un decorador que permite convertir una función (en realidad un generador) en un gestor de contexto sencillo, que solo implementa `__enter__()` y `__exit__()`. En vez de `return`, el generador tiene una expresión con `yield`. El código antes de `yield` se correspondería con el método `__enter__()`, la expresión `yield` al valor devuelto por `__enter__()`, y el código tras `yield` a `__exit__()`:"
   ]
  },
  {
   "cell_type": "code",
   "execution_count": 24,
   "metadata": {},
   "outputs": [],
   "source": [
    "from contextlib import contextmanager\n",
    "\n",
    "@contextmanager\n",
    "def temp():\n",
    "    inicio = perf_counter()\n",
    "    try:\n",
    "        yield\n",
    "    finally:\n",
    "        final = perf_counter()\n",
    "        print(f\"Tiempo transcurrido: {final-inicio:.4} s\")"
   ]
  },
  {
   "cell_type": "code",
   "execution_count": 25,
   "metadata": {},
   "outputs": [
    {
     "name": "stdout",
     "output_type": "stream",
     "text": [
      "Tiempo transcurrido: 3.002 s\n"
     ]
    }
   ],
   "source": [
    "with temp():\n",
    "    sleep(3)"
   ]
  },
  {
   "cell_type": "code",
   "execution_count": 26,
   "metadata": {},
   "outputs": [
    {
     "name": "stdout",
     "output_type": "stream",
     "text": [
      "Tiempo transcurrido: 1.0 s\n"
     ]
    },
    {
     "ename": "ZeroDivisionError",
     "evalue": "division by zero",
     "output_type": "error",
     "traceback": [
      "\u001b[0;31m---------------------------------------------------------------------------\u001b[0m",
      "\u001b[0;31mZeroDivisionError\u001b[0m                         Traceback (most recent call last)",
      "Cell \u001b[0;32mIn [26], line 3\u001b[0m\n\u001b[1;32m      1\u001b[0m \u001b[39mwith\u001b[39;00m temp():\n\u001b[1;32m      2\u001b[0m     sleep(\u001b[39m1\u001b[39m)\n\u001b[0;32m----> 3\u001b[0m     x \u001b[39m=\u001b[39m \u001b[39m1\u001b[39;49m\u001b[39m/\u001b[39;49m\u001b[39m0\u001b[39;49m\n\u001b[1;32m      4\u001b[0m     sleep(\u001b[39m11\u001b[39m)\n",
      "\u001b[0;31mZeroDivisionError\u001b[0m: division by zero"
     ]
    }
   ],
   "source": [
    "with temp():\n",
    "    sleep(1)\n",
    "    x = 1/0\n",
    "    sleep(11)"
   ]
  },
  {
   "cell_type": "markdown",
   "metadata": {},
   "source": [
    "Además, los gestores creados por `contextlib.contextmanager` también se pueden utilizar como decoradores:"
   ]
  },
  {
   "cell_type": "code",
   "execution_count": 28,
   "metadata": {},
   "outputs": [
    {
     "name": "stdout",
     "output_type": "stream",
     "text": [
      "Tiempo transcurrido: 2.102 s\n"
     ]
    }
   ],
   "source": [
    "@temp()\n",
    "def funcion():\n",
    "    sleep(2.1)\n",
    "\n",
    "funcion()"
   ]
  },
  {
   "cell_type": "markdown",
   "metadata": {},
   "source": [
    "Para que un gestor de contexto definido por una clase se pueda emplear como decorador, hay que heredar desde `contextlib.ContextDecorator`:"
   ]
  },
  {
   "cell_type": "code",
   "execution_count": 29,
   "metadata": {},
   "outputs": [],
   "source": [
    "from contextlib import ContextDecorator\n",
    "\n",
    "class Temporizador(ContextDecorator):\n",
    "    _tiempo = 0\n",
    "\n",
    "    def __enter__(self):\n",
    "        self._inicio = perf_counter()\n",
    "        self._pausado = False\n",
    "        return self\n",
    "\n",
    "    def ver_tiempo(self):\n",
    "        if self._pausado:\n",
    "            return self._tiempo\n",
    "        else:\n",
    "            return self._tiempo + perf_counter() - self._inicio\n",
    "\n",
    "    def pausar(self):\n",
    "        self._tiempo += perf_counter() - self._inicio\n",
    "        self._pausado = True\n",
    "\n",
    "    def reanudar(self):\n",
    "        self._inicio = perf_counter()\n",
    "        self._pausado = False\n",
    "\n",
    "    def __exit__(self, ex_type, ex_val, tb):\n",
    "        self.pausar()\n",
    "        if ex_type is not None:\n",
    "            print(f\"Ha ocurrido una excepción de tipo {ex_type}\")\n",
    "            print(f\"Valor de la excepción: {ex_val}\")\n",
    "            return True"
   ]
  },
  {
   "cell_type": "code",
   "execution_count": 33,
   "metadata": {},
   "outputs": [
    {
     "data": {
      "text/plain": [
       "2.002045530999567"
      ]
     },
     "execution_count": 33,
     "metadata": {},
     "output_type": "execute_result"
    }
   ],
   "source": [
    "t = Temporizador()\n",
    "\n",
    "@t\n",
    "def funcion():\n",
    "    sleep(1.3)\n",
    "    t.pausar()\n",
    "    sleep(1.2)\n",
    "    t.reanudar()\n",
    "    sleep(0.7)\n",
    "\n",
    "funcion()\n",
    "t.ver_tiempo()"
   ]
  },
  {
   "cell_type": "code",
   "execution_count": null,
   "metadata": {},
   "outputs": [],
   "source": []
  }
 ],
 "metadata": {
  "kernelspec": {
   "display_name": "Python 3.10.8 ('tfm-alejandromir-pisT7Re7-py3.10')",
   "language": "python",
   "name": "python3"
  },
  "language_info": {
   "codemirror_mode": {
    "name": "ipython",
    "version": 3
   },
   "file_extension": ".py",
   "mimetype": "text/x-python",
   "name": "python",
   "nbconvert_exporter": "python",
   "pygments_lexer": "ipython3",
   "version": "3.10.8"
  },
  "orig_nbformat": 4,
  "vscode": {
   "interpreter": {
    "hash": "1f3f3a4d53262e9b64aadf354276afdb3b72bef7e271f3b7e5577e448e334dcb"
   }
  }
 },
 "nbformat": 4,
 "nbformat_minor": 2
}
