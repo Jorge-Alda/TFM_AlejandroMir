{
 "cells": [
  {
   "cell_type": "markdown",
   "metadata": {},
   "source": [
    "# 02d Paralelismo\n",
    "\n",
    "El paralelismo es la capacidad de ejecutar varias tareas simultáneamente, aprovechando que la mayoría de ordenadores actuales tienen una arquitectura de varios núcleos. Hay dos modelos principales de paralelismo:\n",
    "\n",
    "* **Paralelismo por procesos:** Hay varias copias del mismo programa (proceso) ejecutándose a la vez, de modo que si abres el Administrador de tareas, verás que `Python` aparece varias veces.\n",
    "* **Paralelismo por \"hilos\" (threads):** Hay un único proceso, que tiene varios conjuntos de código (threads) ejecutándose a la vez.\n",
    "\n",
    "En general, el paralelismo por procesos es mejor para situaciones que requieren mucho uso de CPU, como cálculos matemáticos, mientras que el paralelismo por threads es mejor cuando la ejecución está limitada por operaciones de lectura y escritura. Además, la implementación estándar de Python, CPython, limita el número de threads ejecutándose simultáneamente a 1 (GIL), por lo que el paralelismo por threads no ofrece absolutamente ninguna ventaja en tareas de CPU."
   ]
  },
  {
   "cell_type": "code",
   "execution_count": 1,
   "metadata": {},
   "outputs": [],
   "source": [
    "# Código para importar Temporizador desde utils.py, no es importante\n",
    "\n",
    "import os, sys\n",
    "dir2 = os.path.abspath('')\n",
    "dir1 = os.path.dirname(dir2)\n",
    "if not dir1 in sys.path: sys.path.append(dir1)\n",
    "from utils import Temporizador"
   ]
  },
  {
   "cell_type": "markdown",
   "metadata": {},
   "source": [
    "## Paralelismo por hilos\n",
    "\n",
    "El paralelismo por hilos está implementado por el módulo `threading` de la librería estándar. Veremos solamente los conceptos más básicos, ya que en general nos interesarán más las tareas limitadas por CPU."
   ]
  },
  {
   "cell_type": "code",
   "execution_count": 2,
   "metadata": {},
   "outputs": [
    {
     "name": "stdout",
     "output_type": "stream",
     "text": [
      "Thread 1\n",
      "\n",
      "Thread 2\n",
      "\n",
      "Tiempo total: 5.0057 s\n"
     ]
    }
   ],
   "source": [
    "import threading \n",
    "from time import sleep\n",
    "\n",
    "def f(x):\n",
    "    sleep(5)\n",
    "    print(x)\n",
    "\n",
    "t1 = threading.Thread(target=f, args=(\"Thread 1\\n\",))\n",
    "t2 = threading.Thread(target=f, args=(\"Thread 2\\n\",))\n",
    "\n",
    "with Temporizador() as temp:\n",
    "    t1.start()\n",
    "    t2.start()\n",
    "    t1.join()\n",
    "    t2.join()\n",
    "\n",
    "print(f\"Tiempo total: {temp.ver_tiempo():.4f} s\")"
   ]
  },
  {
   "cell_type": "markdown",
   "metadata": {},
   "source": [
    "Cada thread se crea como un objeto `threading.Thread`, donde `target` indica la función que se va a ejecutar, y `args` es una tupla con sus argumentos. El método `start()` inicia la ejecución del thread, y `join()` espera a que acabe. En este caso, al no tratarse de una tarea que esté limitada por CPU, el tiempo de ejecución se ha visto reducido.\n",
    "\n",
    "En cambio, veamos qué ocurre con un cálculo matemático, calculando el factorial de los números entre 1000 y 2000:"
   ]
  },
  {
   "cell_type": "code",
   "execution_count": 11,
   "metadata": {},
   "outputs": [],
   "source": [
    "def factorial(x):\n",
    "    f = 1\n",
    "    i = x\n",
    "    while i > 0:\n",
    "        f *= i\n",
    "        i -=1\n",
    "    return f\n",
    "\n",
    "def tarea(inicio, fin, lista):\n",
    "    for x in range(inicio, fin):\n",
    "        lista[x-1000] = factorial(x)"
   ]
  },
  {
   "cell_type": "code",
   "execution_count": 14,
   "metadata": {},
   "outputs": [
    {
     "name": "stdout",
     "output_type": "stream",
     "text": [
      "Tiempo en un único thread: 0.3721 s\n"
     ]
    }
   ],
   "source": [
    "resultado1 = [0,]*1000\n",
    "\n",
    "with Temporizador() as temp:\n",
    "    tarea(1000, 2000, resultado1)\n",
    "\n",
    "print(f\"Tiempo en un único thread: {temp.ver_tiempo():.4f} s\")"
   ]
  },
  {
   "cell_type": "code",
   "execution_count": 15,
   "metadata": {},
   "outputs": [
    {
     "name": "stdout",
     "output_type": "stream",
     "text": [
      "Tiempo en dos threads: 0.4132 s\n"
     ]
    }
   ],
   "source": [
    "resultado2 = [0,]*1000\n",
    "t1 = threading.Thread(target=tarea, args=(1000, 1500, resultado2))\n",
    "t2 = threading.Thread(target=tarea, args=(1500, 2000, resultado2))\n",
    "\n",
    "with Temporizador() as temp:\n",
    "    t1.start()\n",
    "    t2.start()\n",
    "    t1.join()\n",
    "    t2.join()\n",
    "\n",
    "print(f\"Tiempo en dos threads: {temp.ver_tiempo():.4f} s\")"
   ]
  },
  {
   "cell_type": "code",
   "execution_count": 34,
   "metadata": {},
   "outputs": [],
   "source": [
    "for i in range(1000):\n",
    "    if resultado1[i] != resultado2[i]:\n",
    "        print(f\"Error en el elemento {i}\")\n",
    "        break"
   ]
  },
  {
   "cell_type": "markdown",
   "metadata": {},
   "source": [
    "El tiempo de ejecución es ligeramente mayor usando dos threads que uno solo! Además, no es posible obtener el valor de un `return`, por eso hemos tenido que pasar la lista \"por referencia\" para almacenar los valores. En este caso sencillo, cada thread escribía en elementos distintos, y no había posibilidad de que intentarán competir entre ellos. Pero en general, esto es una posibilidad que se puede evitar si uno de los threads bloquea temporalmente (lock) la ejecución del resto cuando tiene que usar un recurso compartido.\n",
    "\n",
    "Finalmente, veamos que ambos threads comparten el mismo proceso. Una forma de hacerlo es abriendo el administrador de tareas, pero también podemos hacerlo desde python: el comando `os.getpid()` devuelve un identificador que es único para cada proceso:"
   ]
  },
  {
   "cell_type": "code",
   "execution_count": 11,
   "metadata": {},
   "outputs": [
    {
     "name": "stdout",
     "output_type": "stream",
     "text": [
      "Thread 1, PID: 42927\n",
      "\n",
      "Thread 2, PID: 42927\n",
      "\n",
      "Proceso general, PID: 42927\n"
     ]
    }
   ],
   "source": [
    "def pid(x):\n",
    "    sleep(3)\n",
    "    print(f\"Thread {x}, PID: {os.getpid()}\\n\")\n",
    "\n",
    "t1 = threading.Thread(target=pid, args=(1,))\n",
    "t2 = threading.Thread(target=pid, args=(2,))\n",
    "\n",
    "t1.start()\n",
    "t2.start()\n",
    "t1.join()\n",
    "t2.join()\n",
    "\n",
    "print(f\"Proceso general, PID: {os.getpid()}\")"
   ]
  },
  {
   "cell_type": "markdown",
   "metadata": {},
   "source": [
    "## Paralelismo por procesos\n",
    "\n",
    "El paralelismo por procesos se realiza mediante el módulo `multiprocessing` de la librería estándar. El funcionamiento básico es muy similar a `threading`:"
   ]
  },
  {
   "cell_type": "code",
   "execution_count": 3,
   "metadata": {},
   "outputs": [
    {
     "name": "stdout",
     "output_type": "stream",
     "text": [
      "Process 1\n",
      "Process 2\n",
      "Tiempo total: 5.0129 s\n"
     ]
    }
   ],
   "source": [
    "import multiprocessing\n",
    "from time import sleep\n",
    "\n",
    "def f(x):\n",
    "    sleep(5)\n",
    "    print(x)\n",
    "\n",
    "p1 = multiprocessing.Process(target=f, args=(\"Process 1\",))\n",
    "p2 = multiprocessing.Process(target=f, args=(\"Process 2\",))\n",
    "\n",
    "with Temporizador() as temp:\n",
    "    p1.start()\n",
    "    p2.start()\n",
    "    p1.join()\n",
    "    p2.join()\n",
    "\n",
    "print(f\"Tiempo total: {temp.ver_tiempo():.4f} s\")"
   ]
  },
  {
   "cell_type": "markdown",
   "metadata": {},
   "source": [
    "Pero en esta ocasión sí que obtenemos un (pequeño) beneficio al ejecutar en paralelo una tarea que requiera cálculos:"
   ]
  },
  {
   "cell_type": "code",
   "execution_count": 22,
   "metadata": {},
   "outputs": [],
   "source": [
    "def factorial(x):\n",
    "    f = 1\n",
    "    i = x\n",
    "    while i > 0:\n",
    "        f *= i\n",
    "        i -=1\n",
    "    return f\n",
    "\n",
    "def tarea(inicio, fin):\n",
    "    lista = [factorial(x) for x in range(inicio, fin)]"
   ]
  },
  {
   "cell_type": "markdown",
   "metadata": {},
   "source": [
    "Hay que notar que los procesos son programas completamente independientes entre sí, por lo que no es posible que compartan memoria, es decir, no podemos pasarles una lista para que la escriban. Más adelante veremos cómo devolver valores."
   ]
  },
  {
   "cell_type": "code",
   "execution_count": 23,
   "metadata": {},
   "outputs": [
    {
     "name": "stdout",
     "output_type": "stream",
     "text": [
      "Tiempo en un único thread: 0.4096 s\n"
     ]
    }
   ],
   "source": [
    "with Temporizador() as temp:\n",
    "    tarea(1000, 2000)\n",
    "\n",
    "print(f\"Tiempo en un único thread: {temp.ver_tiempo():.4f} s\")"
   ]
  },
  {
   "cell_type": "code",
   "execution_count": 24,
   "metadata": {},
   "outputs": [
    {
     "name": "stdout",
     "output_type": "stream",
     "text": [
      "Tiempo en dos procesos: 0.2653 s\n"
     ]
    }
   ],
   "source": [
    "t1 = multiprocessing.Process(target=tarea, args=(1000, 1500))\n",
    "t2 = multiprocessing.Process(target=tarea, args=(1500, 2000))\n",
    "\n",
    "with Temporizador() as temp:\n",
    "    t1.start()\n",
    "    t2.start()\n",
    "    t1.join()\n",
    "    t2.join()\n",
    "\n",
    "print(f\"Tiempo en dos procesos: {temp.ver_tiempo():.4f} s\")"
   ]
  },
  {
   "cell_type": "markdown",
   "metadata": {},
   "source": [
    "Cada proceso tiene su identificador propio, y distinto del proceso general:"
   ]
  },
  {
   "cell_type": "code",
   "execution_count": 9,
   "metadata": {},
   "outputs": [
    {
     "name": "stdout",
     "output_type": "stream",
     "text": [
      "Proceso 1, PID: 50339\n",
      "\n",
      "Proceso 2, PID: 50340\n",
      "\n",
      "Proceso general, PID: 42927\n"
     ]
    }
   ],
   "source": [
    "def pid(x):\n",
    "    sleep(3)\n",
    "    print(f\"Proceso {x}, PID: {os.getpid()}\\n\")\n",
    "\n",
    "t1 = multiprocessing.Process(target=pid, args=(1,))\n",
    "t2 = multiprocessing.Process(target=pid, args=(2,))\n",
    "\n",
    "t1.start()\n",
    "t2.start()\n",
    "t1.join()\n",
    "t2.join()\n",
    "\n",
    "print(f\"Proceso general, PID: {os.getpid()}\")"
   ]
  },
  {
   "cell_type": "markdown",
   "metadata": {},
   "source": [
    "### Pools\n",
    "\n",
    "En vez de gestionar los procesos individualmente, `multiprocessing` permite crear un \"fondo común\" de procesos a los que ir asignando trabajos, mediante el objeto `Pool`. Los trabajos se pueden asignar mediante las versiones paralelizadas de `map` o `starmap`. Funcionan de un modo similar a sus versiones no-paralelizadas, excepto que aquí se devuelve la lista calculada en vez de un itaredor. Esta es la forma más cómoda de paralelizar un cálculo en el que los pasos sean independientes entre sí:"
   ]
  },
  {
   "cell_type": "code",
   "execution_count": 15,
   "metadata": {},
   "outputs": [
    {
     "name": "stdout",
     "output_type": "stream",
     "text": [
      "Tiempo en dos procesos: 0.2990 s\n"
     ]
    }
   ],
   "source": [
    "with Temporizador() as temp:\n",
    "    with multiprocessing.Pool(processes=2) as pool:\n",
    "        resultado3 = pool.map(factorial, range(1000, 2000))\n",
    "\n",
    "print(f\"Tiempo en dos procesos: {temp.ver_tiempo():.4f} s\")"
   ]
  },
  {
   "cell_type": "markdown",
   "metadata": {},
   "source": [
    "El objeto `Pool` debe ser cerrado cuando acabemos de usarlo para poder devolver el control al proceso general. Para asegurarnos de que se cierra aunque se produzca una excepción, usamos un gestor de contexto.\n",
    "\n",
    "Esta forma suele ser más conveniente que `start()`-`join()`, ya que no hay que especificar cómo dividir los argumentos entre procesos, y porque la manera de guardar los resultados es más natural.\n",
    "\n",
    "En el ejemplo anterior hemos creado un pool de 2 procesos, pero podemos usar tantos procesos como queramos. Lo óptimo es usar, como mucho, un número de procesos igual al número de núcleos del ordenador. Si se solicitan más procesos, algunos de ellos tendrán que esperar a que otros terminen, por lo que no se produce ninguna ganancia en el tiempo de ejecución. La función `cpu_count()` devuelve el número de núcleos:"
   ]
  },
  {
   "cell_type": "code",
   "execution_count": 17,
   "metadata": {},
   "outputs": [
    {
     "name": "stdout",
     "output_type": "stream",
     "text": [
      "Tiempo en 12 procesos: 0.1521 s\n"
     ]
    }
   ],
   "source": [
    "procesos = multiprocessing.cpu_count()\n",
    "\n",
    "with Temporizador() as temp:\n",
    "    with multiprocessing.Pool(processes=procesos) as pool:\n",
    "        resultado3 = pool.map(factorial, range(1000, 2000))\n",
    "\n",
    "print(f\"Tiempo en {procesos} procesos: {temp.ver_tiempo():.4f} s\")"
   ]
  },
  {
   "cell_type": "code",
   "execution_count": 18,
   "metadata": {},
   "outputs": [
    {
     "name": "stdout",
     "output_type": "stream",
     "text": [
      "Tiempo en 24 procesos: 0.2661 s\n"
     ]
    }
   ],
   "source": [
    "procesos = 2*multiprocessing.cpu_count()\n",
    "\n",
    "with Temporizador() as temp:\n",
    "    with multiprocessing.Pool(processes=procesos) as pool:\n",
    "        resultado3 = pool.map(factorial, range(1000, 2000))\n",
    "\n",
    "print(f\"Tiempo en {procesos} procesos: {temp.ver_tiempo():.4f} s\")"
   ]
  },
  {
   "cell_type": "markdown",
   "metadata": {},
   "source": [
    "También podemos asignar tareas individuales para que sean realizadas por uno de los procesos, mediante `apply`. La ejecución del resto de procesos se bloquea temporalmente hasta que termine:"
   ]
  },
  {
   "cell_type": "code",
   "execution_count": 38,
   "metadata": {},
   "outputs": [
    {
     "name": "stdout",
     "output_type": "stream",
     "text": [
      "Tarea 1\n",
      "Tarea 2\n",
      "Tiempo en dos procesos: 3.0265 s\n"
     ]
    }
   ],
   "source": [
    "def f(x):\n",
    "    sleep(1.5)\n",
    "    print(x)\n",
    "\n",
    "with Temporizador() as temp:\n",
    "    with multiprocessing.Pool(processes=2) as pool:\n",
    "        pool.apply(f, (\"Tarea 1\",))\n",
    "        pool.apply(f, (\"Tarea 2\",))\n",
    "\n",
    "print(f\"Tiempo en dos procesos: {temp.ver_tiempo():.4f} s\")"
   ]
  },
  {
   "cell_type": "markdown",
   "metadata": {},
   "source": [
    "El método `apply_async()` aplica la función pero de modo asíncrono, como una tarea de fondo, sin bloquear el resto de procesos:"
   ]
  },
  {
   "cell_type": "code",
   "execution_count": 39,
   "metadata": {},
   "outputs": [
    {
     "name": "stdout",
     "output_type": "stream",
     "text": [
      "Tarea 2Tarea 1\n",
      "\n",
      "Tiempo en dos procesos: 1.5279 s\n"
     ]
    }
   ],
   "source": [
    "with Temporizador() as temp:\n",
    "    with multiprocessing.Pool(processes=2) as pool:\n",
    "        pool.apply_async(f, (\"Tarea 1\",))\n",
    "        pool.apply(f, (\"Tarea 2\",))\n",
    "\n",
    "print(f\"Tiempo en dos procesos: {temp.ver_tiempo():.4f} s\")"
   ]
  },
  {
   "cell_type": "markdown",
   "metadata": {},
   "source": [
    "El hecho de que `apply_async()` no bloquee también tiene un inconveniente: el objeto `Pool` se puede cerrar sin esperar a que el proceso termine, con lo cual no obtenemos el resultado de la función:"
   ]
  },
  {
   "cell_type": "code",
   "execution_count": 9,
   "metadata": {},
   "outputs": [],
   "source": [
    "def f(x):\n",
    "    sleep(0.2)\n",
    "    print(f\"{x}, {os.getpid()}\\n\")\n",
    "\n",
    "with multiprocessing.Pool(2) as pool:\n",
    "    pool.apply_async(f, (1,))\n",
    "    pool.apply_async(f, (2,))"
   ]
  },
  {
   "cell_type": "markdown",
   "metadata": {},
   "source": [
    "Una posibilidad es usar al final del bloque un trabajo que sí bloquee (`apply`, `map`, `starmap`), y otra posibilidad es simplemente esperar:"
   ]
  },
  {
   "cell_type": "code",
   "execution_count": 28,
   "metadata": {},
   "outputs": [
    {
     "name": "stdout",
     "output_type": "stream",
     "text": [
      "2, 34882\n",
      "\n",
      "1, 34881\n",
      "\n"
     ]
    }
   ],
   "source": [
    "with multiprocessing.Pool(2) as pool:\n",
    "    pool.apply_async(f, (1,))\n",
    "    pool.apply_async(f, (2,))\n",
    "    sleep(0.3)"
   ]
  },
  {
   "cell_type": "markdown",
   "metadata": {},
   "source": [
    "Los procesos asíncronos además tienen un método que bloquea la ejecución hasta que terminen, convirtiéndolas en procesos síncronos"
   ]
  },
  {
   "cell_type": "code",
   "execution_count": 10,
   "metadata": {},
   "outputs": [
    {
     "name": "stdout",
     "output_type": "stream",
     "text": [
      "2, 7204\n",
      "1, 7203\n",
      "\n",
      "\n"
     ]
    }
   ],
   "source": [
    "with multiprocessing.Pool(2) as pool:\n",
    "    a1 = pool.apply_async(f, (1,))\n",
    "    a2 = pool.apply_async(f, (2,))\n",
    "    a1.wait()\n",
    "    a2.wait()"
   ]
  },
  {
   "cell_type": "markdown",
   "metadata": {},
   "source": [
    "Si una función devuelve resultados, el valor devuelto por `apply_async()` no es el resultado directamente, sino un objeto de tipo `ApplyResult`. para recuperar el resultado, hay que usar el método `.get()`:"
   ]
  },
  {
   "cell_type": "code",
   "execution_count": 6,
   "metadata": {},
   "outputs": [
    {
     "name": "stdout",
     "output_type": "stream",
     "text": [
      "<multiprocessing.pool.ApplyResult object at 0x7f60b77421a0>\n",
      "25\n"
     ]
    }
   ],
   "source": [
    "def f(x):\n",
    "    sleep(0.2)\n",
    "    return x**2\n",
    "\n",
    "with multiprocessing.Pool(2) as pool:\n",
    "    v = pool.apply_async(f, (5,))\n",
    "    sleep(0.4)\n",
    "\n",
    "print(v)\n",
    "print(v.get())\n"
   ]
  },
  {
   "cell_type": "markdown",
   "metadata": {},
   "source": [
    "Usar `.get()` dentro del `Pool` es una acción que bloquea, por lo que el programa esperará a que termine el cálculo:"
   ]
  },
  {
   "cell_type": "code",
   "execution_count": 8,
   "metadata": {},
   "outputs": [
    {
     "name": "stdout",
     "output_type": "stream",
     "text": [
      "25\n"
     ]
    }
   ],
   "source": [
    "with multiprocessing.Pool(2) as pool:\n",
    "    v = pool.apply_async(f, (5,))\n",
    "    v_res = v.get()\n",
    "\n",
    "print(v_res)"
   ]
  },
  {
   "cell_type": "markdown",
   "metadata": {},
   "source": [
    "Sin embargo, si el `Pool` se ha cerrado antes de finalizar el proceso asíncrono, al hacer `.get()`intentará esperar hasta que acabe el proceso, generando un bucle infinito:"
   ]
  },
  {
   "cell_type": "code",
   "execution_count": 7,
   "metadata": {},
   "outputs": [
    {
     "name": "stdout",
     "output_type": "stream",
     "text": [
      "<multiprocessing.pool.ApplyResult object at 0x7f60b7742ef0>\n"
     ]
    },
    {
     "ename": "KeyboardInterrupt",
     "evalue": "",
     "output_type": "error",
     "traceback": [
      "\u001b[0;31m---------------------------------------------------------------------------\u001b[0m",
      "\u001b[0;31mKeyboardInterrupt\u001b[0m                         Traceback (most recent call last)",
      "Cell \u001b[0;32mIn [7], line 9\u001b[0m\n\u001b[1;32m      6\u001b[0m     v \u001b[39m=\u001b[39m pool\u001b[39m.\u001b[39mapply_async(f, (\u001b[39m5\u001b[39m,))\n\u001b[1;32m      8\u001b[0m \u001b[39mprint\u001b[39m(v)\n\u001b[0;32m----> 9\u001b[0m \u001b[39mprint\u001b[39m(v\u001b[39m.\u001b[39;49mget())\n",
      "File \u001b[0;32m/usr/lib64/python3.10/multiprocessing/pool.py:768\u001b[0m, in \u001b[0;36mApplyResult.get\u001b[0;34m(self, timeout)\u001b[0m\n\u001b[1;32m    767\u001b[0m \u001b[39mdef\u001b[39;00m \u001b[39mget\u001b[39m(\u001b[39mself\u001b[39m, timeout\u001b[39m=\u001b[39m\u001b[39mNone\u001b[39;00m):\n\u001b[0;32m--> 768\u001b[0m     \u001b[39mself\u001b[39;49m\u001b[39m.\u001b[39;49mwait(timeout)\n\u001b[1;32m    769\u001b[0m     \u001b[39mif\u001b[39;00m \u001b[39mnot\u001b[39;00m \u001b[39mself\u001b[39m\u001b[39m.\u001b[39mready():\n\u001b[1;32m    770\u001b[0m         \u001b[39mraise\u001b[39;00m \u001b[39mTimeoutError\u001b[39;00m\n",
      "File \u001b[0;32m/usr/lib64/python3.10/multiprocessing/pool.py:765\u001b[0m, in \u001b[0;36mApplyResult.wait\u001b[0;34m(self, timeout)\u001b[0m\n\u001b[1;32m    764\u001b[0m \u001b[39mdef\u001b[39;00m \u001b[39mwait\u001b[39m(\u001b[39mself\u001b[39m, timeout\u001b[39m=\u001b[39m\u001b[39mNone\u001b[39;00m):\n\u001b[0;32m--> 765\u001b[0m     \u001b[39mself\u001b[39;49m\u001b[39m.\u001b[39;49m_event\u001b[39m.\u001b[39;49mwait(timeout)\n",
      "File \u001b[0;32m/usr/lib64/python3.10/threading.py:607\u001b[0m, in \u001b[0;36mEvent.wait\u001b[0;34m(self, timeout)\u001b[0m\n\u001b[1;32m    605\u001b[0m signaled \u001b[39m=\u001b[39m \u001b[39mself\u001b[39m\u001b[39m.\u001b[39m_flag\n\u001b[1;32m    606\u001b[0m \u001b[39mif\u001b[39;00m \u001b[39mnot\u001b[39;00m signaled:\n\u001b[0;32m--> 607\u001b[0m     signaled \u001b[39m=\u001b[39m \u001b[39mself\u001b[39;49m\u001b[39m.\u001b[39;49m_cond\u001b[39m.\u001b[39;49mwait(timeout)\n\u001b[1;32m    608\u001b[0m \u001b[39mreturn\u001b[39;00m signaled\n",
      "File \u001b[0;32m/usr/lib64/python3.10/threading.py:320\u001b[0m, in \u001b[0;36mCondition.wait\u001b[0;34m(self, timeout)\u001b[0m\n\u001b[1;32m    318\u001b[0m \u001b[39mtry\u001b[39;00m:    \u001b[39m# restore state no matter what (e.g., KeyboardInterrupt)\u001b[39;00m\n\u001b[1;32m    319\u001b[0m     \u001b[39mif\u001b[39;00m timeout \u001b[39mis\u001b[39;00m \u001b[39mNone\u001b[39;00m:\n\u001b[0;32m--> 320\u001b[0m         waiter\u001b[39m.\u001b[39;49macquire()\n\u001b[1;32m    321\u001b[0m         gotit \u001b[39m=\u001b[39m \u001b[39mTrue\u001b[39;00m\n\u001b[1;32m    322\u001b[0m     \u001b[39melse\u001b[39;00m:\n",
      "\u001b[0;31mKeyboardInterrupt\u001b[0m: "
     ]
    }
   ],
   "source": [
    "with multiprocessing.Pool(2) as pool:\n",
    "    v = pool.apply_async(f, (5,))\n",
    "\n",
    "print(v)\n",
    "print(v.get())"
   ]
  },
  {
   "cell_type": "code",
   "execution_count": null,
   "metadata": {},
   "outputs": [],
   "source": []
  }
 ],
 "metadata": {
  "kernelspec": {
   "display_name": "Python 3.10.8 ('tfm-alejandromir-pisT7Re7-py3.10')",
   "language": "python",
   "name": "python3"
  },
  "language_info": {
   "codemirror_mode": {
    "name": "ipython",
    "version": 3
   },
   "file_extension": ".py",
   "mimetype": "text/x-python",
   "name": "python",
   "nbconvert_exporter": "python",
   "pygments_lexer": "ipython3",
   "version": "3.10.8"
  },
  "orig_nbformat": 4,
  "vscode": {
   "interpreter": {
    "hash": "1f3f3a4d53262e9b64aadf354276afdb3b72bef7e271f3b7e5577e448e334dcb"
   }
  }
 },
 "nbformat": 4,
 "nbformat_minor": 2
}
