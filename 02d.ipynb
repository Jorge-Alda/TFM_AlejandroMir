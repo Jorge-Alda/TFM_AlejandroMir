{
 "cells": [
  {
   "cell_type": "markdown",
   "metadata": {},
   "source": [
    "# 02d Paralelismo\n",
    "\n",
    "El paralelismo es la capacidad de ejecutar varias tareas simultáneamente, aprovechando que la mayoría de ordenadores actuales tienen una arquitectura de varios núcleos. Hay dos modelos principales de paralelismo:\n",
    "\n",
    "* **Paralelismo por procesos:** Hay varias copias del mismo programa (proceso) ejecutándose a la vez, de modo que si abres el Administrador de tareas, verás que `Python` aparece varias veces.\n",
    "* **Paralelismo por \"hilos\" (threads):** Hay un único proceso, que tiene varios conjuntos de código (threads) ejecutándose a la vez.\n",
    "\n",
    "En general, el paralelismo por procesos es mejor para situaciones que requieren mucho uso de CPU, como cálculos matemáticos, mientras que el paralelismo por threads es mejor cuando la ejecución está limitada por operaciones de lectura y escritura. Además, la implementación estándar de Python, CPython, limita el número de threads ejecutándose simultáneamente a 1 (GIL), por lo que el paralelismo por threads no ofrece absolutamente ninguna ventaja en tareas de CPU."
   ]
  },
  {
   "cell_type": "code",
   "execution_count": 1,
   "metadata": {},
   "outputs": [],
   "source": [
    "# Código para importar Temporizador desde utils.py, no es importante\n",
    "\n",
    "import os, sys\n",
    "dir2 = os.path.abspath('')\n",
    "dir1 = os.path.dirname(dir2)\n",
    "if not dir1 in sys.path: sys.path.append(dir1)\n",
    "from utils import Temporizador"
   ]
  },
  {
   "cell_type": "markdown",
   "metadata": {},
   "source": [
    "## Paralelismo por hilos\n",
    "\n",
    "El paralelismo por hilos está implementado por el módulo `threading` de la librería estándar. Veremos solamente los conceptos más básicos, ya que en general nos interesarán más las tareas limitadas por CPU."
   ]
  },
  {
   "cell_type": "code",
   "execution_count": 2,
   "metadata": {},
   "outputs": [
    {
     "name": "stdout",
     "output_type": "stream",
     "text": [
      "Thread 1\n",
      "\n",
      "Thread 2\n",
      "\n",
      "Tiempo total: 5.0057 s\n"
     ]
    }
   ],
   "source": [
    "import threading \n",
    "from time import sleep\n",
    "\n",
    "def f(x):\n",
    "    sleep(5)\n",
    "    print(x)\n",
    "\n",
    "t1 = threading.Thread(target=f, args=(\"Thread 1\\n\",))\n",
    "t2 = threading.Thread(target=f, args=(\"Thread 2\\n\",))\n",
    "\n",
    "with Temporizador() as temp:\n",
    "    t1.start()\n",
    "    t2.start()\n",
    "    t1.join()\n",
    "    t2.join()\n",
    "\n",
    "print(f\"Tiempo total: {temp.ver_tiempo():.4f} s\")"
   ]
  },
  {
   "cell_type": "markdown",
   "metadata": {},
   "source": [
    "Cada thread se crea como un objeto `threading.Thread`, donde `target` indica la función que se va a ejecutar, y `args` es una tupla con sus argumentos. El método `start()` inicia la ejecución del thread, y `join()` espera a que acabe. En este caso, al no tratarse de una tarea que esté limitada por CPU, el tiempo de ejecución se ha visto reducido.\n",
    "\n",
    "En cambio, veamos qué ocurre con un cálculo matemático, calculando el factorial de los números entre 1000 y 2000:"
   ]
  },
  {
   "cell_type": "code",
   "execution_count": 11,
   "metadata": {},
   "outputs": [],
   "source": [
    "def factorial(x):\n",
    "    f = 1\n",
    "    i = x\n",
    "    while i > 0:\n",
    "        f *= i\n",
    "        i -=1\n",
    "    return f\n",
    "\n",
    "def tarea(inicio, fin, lista):\n",
    "    for x in range(inicio, fin):\n",
    "        lista[x-1000] = factorial(x)"
   ]
  },
  {
   "cell_type": "code",
   "execution_count": 14,
   "metadata": {},
   "outputs": [
    {
     "name": "stdout",
     "output_type": "stream",
     "text": [
      "Tiempo en un único thread: 0.3721 s\n"
     ]
    }
   ],
   "source": [
    "resultado1 = [0,]*1000\n",
    "\n",
    "with Temporizador() as temp:\n",
    "    tarea(1000, 2000, resultado1)\n",
    "\n",
    "print(f\"Tiempo en un único thread: {temp.ver_tiempo():.4f} s\")"
   ]
  },
  {
   "cell_type": "code",
   "execution_count": 15,
   "metadata": {},
   "outputs": [
    {
     "name": "stdout",
     "output_type": "stream",
     "text": [
      "Tiempo en dos threads: 0.4132 s\n"
     ]
    }
   ],
   "source": [
    "resultado2 = [0,]*1000\n",
    "t1 = threading.Thread(target=tarea, args=(1000, 1500, resultado2))\n",
    "t2 = threading.Thread(target=tarea, args=(1500, 2000, resultado2))\n",
    "\n",
    "with Temporizador() as temp:\n",
    "    t1.start()\n",
    "    t2.start()\n",
    "    t1.join()\n",
    "    t2.join()\n",
    "\n",
    "print(f\"Tiempo en dos threads: {temp.ver_tiempo():.4f} s\")"
   ]
  },
  {
   "cell_type": "code",
   "execution_count": 34,
   "metadata": {},
   "outputs": [],
   "source": [
    "for i in range(1000):\n",
    "    if resultado1[i] != resultado2[i]:\n",
    "        print(f\"Error en el elemento {i}\")\n",
    "        break"
   ]
  },
  {
   "cell_type": "markdown",
   "metadata": {},
   "source": [
    "El tiempo de ejecución es ligeramente mayor usando dos threads que uno solo! Además, no es posible obtener el valor de un `return`, por eso hemos tenido que pasar la lista \"por referencia\" para almacenar los valores. En este caso sencillo, cada thread escribía en elementos distintos, y no había posibilidad de que intentarán competir entre ellos. Pero en general, esto es una posibilidad que se puede evitar si uno de los threads bloquea temporalmente (lock) la ejecución del resto cuando tiene que usar un recurso compartido.\n",
    "\n",
    "Finalmente, veamos que ambos threads comparten el mismo proceso. Una forma de hacerlo es abriendo el administrador de tareas, pero también podemos hacerlo desde python: el comando `os.getpid()` devuelve un identificador que es único para cada proceso:"
   ]
  },
  {
   "cell_type": "code",
   "execution_count": 11,
   "metadata": {},
   "outputs": [
    {
     "name": "stdout",
     "output_type": "stream",
     "text": [
      "Thread 1, PID: 42927\n",
      "\n",
      "Thread 2, PID: 42927\n",
      "\n",
      "Proceso general, PID: 42927\n"
     ]
    }
   ],
   "source": [
    "def pid(x):\n",
    "    sleep(3)\n",
    "    print(f\"Thread {x}, PID: {os.getpid()}\\n\")\n",
    "\n",
    "t1 = threading.Thread(target=pid, args=(1,))\n",
    "t2 = threading.Thread(target=pid, args=(2,))\n",
    "\n",
    "t1.start()\n",
    "t2.start()\n",
    "t1.join()\n",
    "t2.join()\n",
    "\n",
    "print(f\"Proceso general, PID: {os.getpid()}\")"
   ]
  },
  {
   "cell_type": "markdown",
   "metadata": {},
   "source": [
    "## Paralelismo por procesos\n",
    "\n",
    "El paralelismo por procesos se realiza mediante el módulo `multiprocessing` de la librería estándar. El funcionamiento básico es muy similar a `threading`:"
   ]
  },
  {
   "cell_type": "code",
   "execution_count": 3,
   "metadata": {},
   "outputs": [
    {
     "name": "stdout",
     "output_type": "stream",
     "text": [
      "Process 1\n",
      "Process 2\n",
      "Tiempo total: 5.0129 s\n"
     ]
    }
   ],
   "source": [
    "import multiprocessing\n",
    "from time import sleep\n",
    "\n",
    "def f(x):\n",
    "    sleep(5)\n",
    "    print(x)\n",
    "\n",
    "p1 = multiprocessing.Process(target=f, args=(\"Process 1\",))\n",
    "p2 = multiprocessing.Process(target=f, args=(\"Process 2\",))\n",
    "\n",
    "with Temporizador() as temp:\n",
    "    p1.start()\n",
    "    p2.start()\n",
    "    p1.join()\n",
    "    p2.join()\n",
    "\n",
    "print(f\"Tiempo total: {temp.ver_tiempo():.4f} s\")"
   ]
  },
  {
   "cell_type": "markdown",
   "metadata": {},
   "source": [
    "Pero en esta ocasión sí que obtenemos un (pequeño) beneficio al ejecutar en paralelo una tarea que requiera cálculos:"
   ]
  },
  {
   "cell_type": "code",
   "execution_count": 22,
   "metadata": {},
   "outputs": [],
   "source": [
    "def factorial(x):\n",
    "    f = 1\n",
    "    i = x\n",
    "    while i > 0:\n",
    "        f *= i\n",
    "        i -=1\n",
    "    return f\n",
    "\n",
    "def tarea(inicio, fin):\n",
    "    lista = [factorial(x) for x in range(inicio, fin)]"
   ]
  },
  {
   "cell_type": "markdown",
   "metadata": {},
   "source": [
    "Hay que notar que los procesos son programas completamente independientes entre sí, por lo que no es posible que compartan memoria, es decir, no podemos pasarles una lista para que la escriban. Más adelante veremos cómo devolver valores."
   ]
  },
  {
   "cell_type": "code",
   "execution_count": 23,
   "metadata": {},
   "outputs": [
    {
     "name": "stdout",
     "output_type": "stream",
     "text": [
      "Tiempo en un único thread: 0.4096 s\n"
     ]
    }
   ],
   "source": [
    "with Temporizador() as temp:\n",
    "    tarea(1000, 2000)\n",
    "\n",
    "print(f\"Tiempo en un único thread: {temp.ver_tiempo():.4f} s\")"
   ]
  },
  {
   "cell_type": "code",
   "execution_count": 24,
   "metadata": {},
   "outputs": [
    {
     "name": "stdout",
     "output_type": "stream",
     "text": [
      "Tiempo en dos procesos: 0.2653 s\n"
     ]
    }
   ],
   "source": [
    "t1 = multiprocessing.Process(target=tarea, args=(1000, 1500))\n",
    "t2 = multiprocessing.Process(target=tarea, args=(1500, 2000))\n",
    "\n",
    "with Temporizador() as temp:\n",
    "    t1.start()\n",
    "    t2.start()\n",
    "    t1.join()\n",
    "    t2.join()\n",
    "\n",
    "print(f\"Tiempo en dos procesos: {temp.ver_tiempo():.4f} s\")"
   ]
  },
  {
   "cell_type": "markdown",
   "metadata": {},
   "source": [
    "Cada proceso tiene su identificador propio, y distinto del proceso general:"
   ]
  },
  {
   "cell_type": "code",
   "execution_count": 9,
   "metadata": {},
   "outputs": [
    {
     "name": "stdout",
     "output_type": "stream",
     "text": [
      "Proceso 1, PID: 50339\n",
      "\n",
      "Proceso 2, PID: 50340\n",
      "\n",
      "Proceso general, PID: 42927\n"
     ]
    }
   ],
   "source": [
    "def pid(x):\n",
    "    sleep(3)\n",
    "    print(f\"Proceso {x}, PID: {os.getpid()}\\n\")\n",
    "\n",
    "t1 = multiprocessing.Process(target=pid, args=(1,))\n",
    "t2 = multiprocessing.Process(target=pid, args=(2,))\n",
    "\n",
    "t1.start()\n",
    "t2.start()\n",
    "t1.join()\n",
    "t2.join()\n",
    "\n",
    "print(f\"Proceso general, PID: {os.getpid()}\")"
   ]
  },
  {
   "cell_type": "markdown",
   "metadata": {},
   "source": [
    "### Pools\n",
    "\n",
    "En vez de gestionar los procesos individualmente, `multiprocessing` permite crear un \"fondo común\" de procesos a los que ir asignando trabajos, mediante el objeto `Pool`. Los trabajos se pueden asignar mediante las versiones paralelizadas de `map` o `starmap`. Funcionan de un modo similar a sus versiones no-paralelizadas, excepto que aquí se devuelve la lista calculada en vez de un itaredor. Esta es la forma más cómoda de paralelizar un cálculo en el que los pasos sean independientes entre sí:"
   ]
  },
  {
   "cell_type": "code",
   "execution_count": 15,
   "metadata": {},
   "outputs": [
    {
     "name": "stdout",
     "output_type": "stream",
     "text": [
      "Tiempo en dos procesos: 0.2990 s\n"
     ]
    }
   ],
   "source": [
    "with Temporizador() as temp:\n",
    "    with multiprocessing.Pool(processes=2) as pool:\n",
    "        resultado3 = pool.map(factorial, range(1000, 2000))\n",
    "\n",
    "print(f\"Tiempo en dos procesos: {temp.ver_tiempo():.4f} s\")"
   ]
  },
  {
   "cell_type": "markdown",
   "metadata": {},
   "source": [
    "El objeto `Pool` debe ser cerrado cuando acabemos de usarlo para poder devolver el control al proceso general. Para asegurarnos de que se cierra aunque se produzca una excepción, usamos un gestor de contexto.\n",
    "\n",
    "Esta forma suele ser más conveniente que `start()`-`join()`, ya que no hay que especificar cómo dividir los argumentos entre procesos, y porque la manera de guardar los resultados es más natural.\n",
    "\n",
    "En el ejemplo anterior hemos creado un pool de 2 procesos, pero podemos usar tantos procesos como queramos. Lo óptimo es usar, como mucho, un número de procesos igual al número de núcleos del ordenador. Si se solicitan más procesos, algunos de ellos tendrán que esperar a que otros terminen, por lo que no se produce ninguna ganancia en el tiempo de ejecución. La función `cpu_count()` devuelve el número de núcleos:"
   ]
  },
  {
   "cell_type": "code",
   "execution_count": 17,
   "metadata": {},
   "outputs": [
    {
     "name": "stdout",
     "output_type": "stream",
     "text": [
      "Tiempo en 12 procesos: 0.1521 s\n"
     ]
    }
   ],
   "source": [
    "procesos = multiprocessing.cpu_count()\n",
    "\n",
    "with Temporizador() as temp:\n",
    "    with multiprocessing.Pool(processes=procesos) as pool:\n",
    "        resultado3 = pool.map(factorial, range(1000, 2000))\n",
    "\n",
    "print(f\"Tiempo en {procesos} procesos: {temp.ver_tiempo():.4f} s\")"
   ]
  },
  {
   "cell_type": "code",
   "execution_count": 18,
   "metadata": {},
   "outputs": [
    {
     "name": "stdout",
     "output_type": "stream",
     "text": [
      "Tiempo en 24 procesos: 0.2661 s\n"
     ]
    }
   ],
   "source": [
    "procesos = 2*multiprocessing.cpu_count()\n",
    "\n",
    "with Temporizador() as temp:\n",
    "    with multiprocessing.Pool(processes=procesos) as pool:\n",
    "        resultado3 = pool.map(factorial, range(1000, 2000))\n",
    "\n",
    "print(f\"Tiempo en {procesos} procesos: {temp.ver_tiempo():.4f} s\")"
   ]
  },
  {
   "cell_type": "markdown",
   "metadata": {},
   "source": [
    "También podemos asignar tareas individuales para que sean realizadas por uno de los procesos, mediante `apply`. La ejecución del resto de procesos se bloquea temporalmente hasta que termine:"
   ]
  },
  {
   "cell_type": "code",
   "execution_count": 38,
   "metadata": {},
   "outputs": [
    {
     "name": "stdout",
     "output_type": "stream",
     "text": [
      "Tarea 1\n",
      "Tarea 2\n",
      "Tiempo en dos procesos: 3.0265 s\n"
     ]
    }
   ],
   "source": [
    "def f(x):\n",
    "    sleep(1.5)\n",
    "    print(x)\n",
    "\n",
    "with Temporizador() as temp:\n",
    "    with multiprocessing.Pool(processes=2) as pool:\n",
    "        pool.apply(f, (\"Tarea 1\",))\n",
    "        pool.apply(f, (\"Tarea 2\",))\n",
    "\n",
    "print(f\"Tiempo en dos procesos: {temp.ver_tiempo():.4f} s\")"
   ]
  },
  {
   "cell_type": "markdown",
   "metadata": {},
   "source": [
    "El método `apply_async()` aplica la función pero de modo asíncrono, como una tarea de fondo, sin bloquear el resto de procesos:"
   ]
  },
  {
   "cell_type": "code",
   "execution_count": 39,
   "metadata": {},
   "outputs": [
    {
     "name": "stdout",
     "output_type": "stream",
     "text": [
      "Tarea 2Tarea 1\n",
      "\n",
      "Tiempo en dos procesos: 1.5279 s\n"
     ]
    }
   ],
   "source": [
    "with Temporizador() as temp:\n",
    "    with multiprocessing.Pool(processes=2) as pool:\n",
    "        pool.apply_async(f, (\"Tarea 1\",))\n",
    "        pool.apply(f, (\"Tarea 2\",))\n",
    "\n",
    "print(f\"Tiempo en dos procesos: {temp.ver_tiempo():.4f} s\")"
   ]
  },
  {
   "cell_type": "markdown",
   "metadata": {},
   "source": [
    "El hecho de que `apply_async()` no bloquee también tiene un inconveniente: el objeto `Pool` se puede cerrar sin esperar a que el proceso termine, con lo cual no obtenemos el resultado de la función:"
   ]
  },
  {
   "cell_type": "code",
   "execution_count": 9,
   "metadata": {},
   "outputs": [],
   "source": [
    "def f(x):\n",
    "    sleep(0.2)\n",
    "    print(f\"{x}, {os.getpid()}\\n\")\n",
    "\n",
    "with multiprocessing.Pool(2) as pool:\n",
    "    pool.apply_async(f, (1,))\n",
    "    pool.apply_async(f, (2,))"
   ]
  },
  {
   "cell_type": "markdown",
   "metadata": {},
   "source": [
    "Una posibilidad es usar al final del bloque un trabajo que sí bloquee (`apply`, `map`, `starmap`), y otra posibilidad es simplemente esperar:"
   ]
  },
  {
   "cell_type": "code",
   "execution_count": 28,
   "metadata": {},
   "outputs": [
    {
     "name": "stdout",
     "output_type": "stream",
     "text": [
      "2, 34882\n",
      "\n",
      "1, 34881\n",
      "\n"
     ]
    }
   ],
   "source": [
    "with multiprocessing.Pool(2) as pool:\n",
    "    pool.apply_async(f, (1,))\n",
    "    pool.apply_async(f, (2,))\n",
    "    sleep(0.3)"
   ]
  },
  {
   "cell_type": "markdown",
   "metadata": {},
   "source": [
    "Los procesos asíncronos además tienen un método que bloquea la ejecución hasta que terminen, convirtiéndolas en procesos síncronos"
   ]
  },
  {
   "cell_type": "code",
   "execution_count": 10,
   "metadata": {},
   "outputs": [
    {
     "name": "stdout",
     "output_type": "stream",
     "text": [
      "2, 7204\n",
      "1, 7203\n",
      "\n",
      "\n"
     ]
    }
   ],
   "source": [
    "with multiprocessing.Pool(2) as pool:\n",
    "    a1 = pool.apply_async(f, (1,))\n",
    "    a2 = pool.apply_async(f, (2,))\n",
    "    a1.wait()\n",
    "    a2.wait()"
   ]
  },
  {
   "cell_type": "markdown",
   "metadata": {},
   "source": [
    "Si una función devuelve resultados, el valor devuelto por `apply_async()` no es el resultado directamente, sino un objeto de tipo `ApplyResult`. para recuperar el resultado, hay que usar el método `.get()`:"
   ]
  },
  {
   "cell_type": "code",
   "execution_count": 6,
   "metadata": {},
   "outputs": [
    {
     "name": "stdout",
     "output_type": "stream",
     "text": [
      "<multiprocessing.pool.ApplyResult object at 0x7f60b77421a0>\n",
      "25\n"
     ]
    }
   ],
   "source": [
    "def f(x):\n",
    "    sleep(0.2)\n",
    "    return x**2\n",
    "\n",
    "with multiprocessing.Pool(2) as pool:\n",
    "    v = pool.apply_async(f, (5,))\n",
    "    sleep(0.4)\n",
    "\n",
    "print(v)\n",
    "print(v.get())\n"
   ]
  },
  {
   "cell_type": "markdown",
   "metadata": {},
   "source": [
    "Usar `.get()` dentro del `Pool` es una acción que bloquea, por lo que el programa esperará a que termine el cálculo:"
   ]
  },
  {
   "cell_type": "code",
   "execution_count": 8,
   "metadata": {},
   "outputs": [
    {
     "name": "stdout",
     "output_type": "stream",
     "text": [
      "25\n"
     ]
    }
   ],
   "source": [
    "with multiprocessing.Pool(2) as pool:\n",
    "    v = pool.apply_async(f, (5,))\n",
    "    v_res = v.get()\n",
    "\n",
    "print(v_res)"
   ]
  },
  {
   "cell_type": "markdown",
   "metadata": {},
   "source": [
    "Sin embargo, si el `Pool` se ha cerrado antes de finalizar el proceso asíncrono, al hacer `.get()`intentará esperar hasta que acabe el proceso, generando un bucle infinito:"
   ]
  },
  {
   "cell_type": "code",
   "execution_count": 7,
   "metadata": {},
   "outputs": [
    {
     "name": "stdout",
     "output_type": "stream",
     "text": [
      "<multiprocessing.pool.ApplyResult object at 0x7f60b7742ef0>\n"
     ]
    },
    {
     "ename": "KeyboardInterrupt",
     "evalue": "",
     "output_type": "error",
     "traceback": [
      "\u001b[0;31m---------------------------------------------------------------------------\u001b[0m",
      "\u001b[0;31mKeyboardInterrupt\u001b[0m                         Traceback (most recent call last)",
      "Cell \u001b[0;32mIn [7], line 9\u001b[0m\n\u001b[1;32m      6\u001b[0m     v \u001b[39m=\u001b[39m pool\u001b[39m.\u001b[39mapply_async(f, (\u001b[39m5\u001b[39m,))\n\u001b[1;32m      8\u001b[0m \u001b[39mprint\u001b[39m(v)\n\u001b[0;32m----> 9\u001b[0m \u001b[39mprint\u001b[39m(v\u001b[39m.\u001b[39;49mget())\n",
      "File \u001b[0;32m/usr/lib64/python3.10/multiprocessing/pool.py:768\u001b[0m, in \u001b[0;36mApplyResult.get\u001b[0;34m(self, timeout)\u001b[0m\n\u001b[1;32m    767\u001b[0m \u001b[39mdef\u001b[39;00m \u001b[39mget\u001b[39m(\u001b[39mself\u001b[39m, timeout\u001b[39m=\u001b[39m\u001b[39mNone\u001b[39;00m):\n\u001b[0;32m--> 768\u001b[0m     \u001b[39mself\u001b[39;49m\u001b[39m.\u001b[39;49mwait(timeout)\n\u001b[1;32m    769\u001b[0m     \u001b[39mif\u001b[39;00m \u001b[39mnot\u001b[39;00m \u001b[39mself\u001b[39m\u001b[39m.\u001b[39mready():\n\u001b[1;32m    770\u001b[0m         \u001b[39mraise\u001b[39;00m \u001b[39mTimeoutError\u001b[39;00m\n",
      "File \u001b[0;32m/usr/lib64/python3.10/multiprocessing/pool.py:765\u001b[0m, in \u001b[0;36mApplyResult.wait\u001b[0;34m(self, timeout)\u001b[0m\n\u001b[1;32m    764\u001b[0m \u001b[39mdef\u001b[39;00m \u001b[39mwait\u001b[39m(\u001b[39mself\u001b[39m, timeout\u001b[39m=\u001b[39m\u001b[39mNone\u001b[39;00m):\n\u001b[0;32m--> 765\u001b[0m     \u001b[39mself\u001b[39;49m\u001b[39m.\u001b[39;49m_event\u001b[39m.\u001b[39;49mwait(timeout)\n",
      "File \u001b[0;32m/usr/lib64/python3.10/threading.py:607\u001b[0m, in \u001b[0;36mEvent.wait\u001b[0;34m(self, timeout)\u001b[0m\n\u001b[1;32m    605\u001b[0m signaled \u001b[39m=\u001b[39m \u001b[39mself\u001b[39m\u001b[39m.\u001b[39m_flag\n\u001b[1;32m    606\u001b[0m \u001b[39mif\u001b[39;00m \u001b[39mnot\u001b[39;00m signaled:\n\u001b[0;32m--> 607\u001b[0m     signaled \u001b[39m=\u001b[39m \u001b[39mself\u001b[39;49m\u001b[39m.\u001b[39;49m_cond\u001b[39m.\u001b[39;49mwait(timeout)\n\u001b[1;32m    608\u001b[0m \u001b[39mreturn\u001b[39;00m signaled\n",
      "File \u001b[0;32m/usr/lib64/python3.10/threading.py:320\u001b[0m, in \u001b[0;36mCondition.wait\u001b[0;34m(self, timeout)\u001b[0m\n\u001b[1;32m    318\u001b[0m \u001b[39mtry\u001b[39;00m:    \u001b[39m# restore state no matter what (e.g., KeyboardInterrupt)\u001b[39;00m\n\u001b[1;32m    319\u001b[0m     \u001b[39mif\u001b[39;00m timeout \u001b[39mis\u001b[39;00m \u001b[39mNone\u001b[39;00m:\n\u001b[0;32m--> 320\u001b[0m         waiter\u001b[39m.\u001b[39;49macquire()\n\u001b[1;32m    321\u001b[0m         gotit \u001b[39m=\u001b[39m \u001b[39mTrue\u001b[39;00m\n\u001b[1;32m    322\u001b[0m     \u001b[39melse\u001b[39;00m:\n",
      "\u001b[0;31mKeyboardInterrupt\u001b[0m: "
     ]
    }
   ],
   "source": [
    "with multiprocessing.Pool(2) as pool:\n",
    "    v = pool.apply_async(f, (5,))\n",
    "\n",
    "print(v)\n",
    "print(v.get())"
   ]
  },
  {
   "cell_type": "markdown",
   "metadata": {},
   "source": [
    "## Memoria compartida\n",
    "\n",
    "El módulo `multiprocessing` contiene varias estructuras para que los procesos compartan datos. En todos los casos, la compartición se realiza en tres pasos:\n",
    "* Primero, el proceso que quiere acceder a la memoria compartida detiene temporalmente el resto de procesos. Esto se hace para asegurarse de que ningún otro proceso \"compite\" por el mismo recurso.\n",
    "* A continuación, el proceso accede a la memoria.\n",
    "* Finalmente se reanudan el resto de procesos.\n",
    "\n",
    "### Queue\n",
    "\n",
    "La estructura compartida más simple es `Queue`. Se trata de una lista a la que los procesos añaden valores al final. Los elementos de `Queue`, por lo tanto, estarán en el orden en que se han escrito, que en general no coincide con el oreden en el que se crean los procesos."
   ]
  },
  {
   "cell_type": "code",
   "execution_count": 34,
   "metadata": {},
   "outputs": [],
   "source": [
    "def cuadrado(x, q):\n",
    "    sleep(max((10-x)/100, 0))\n",
    "    q.put(x**2)\n",
    "\n",
    "q = multiprocessing.Queue()\n",
    "procesos = [multiprocessing.Process(target=cuadrado, args=(i, q)) for i in range(20)]\n",
    "\n",
    "for p in procesos:\n",
    "    p.start()\n",
    "\n",
    "for p in procesos:\n",
    "    p.join()"
   ]
  },
  {
   "cell_type": "markdown",
   "metadata": {},
   "source": [
    "Los elementos almacenados en `Queue` se pueden obtener (ya sea por el proceso general, o por algún proceso hijo) mediante el método `.get()`. Esto devuelve el primer elemento de `Queue` y lo elimina:"
   ]
  },
  {
   "cell_type": "code",
   "execution_count": 35,
   "metadata": {},
   "outputs": [
    {
     "name": "stdout",
     "output_type": "stream",
     "text": [
      "100\n",
      "121\n",
      "81\n",
      "144\n",
      "169\n",
      "64\n",
      "196\n",
      "225\n",
      "256\n",
      "49\n",
      "289\n",
      "324\n",
      "36\n",
      "361\n",
      "25\n",
      "16\n",
      "9\n",
      "4\n",
      "1\n",
      "0\n"
     ]
    }
   ],
   "source": [
    "for i in range(20):\n",
    "    print(q.get())"
   ]
  },
  {
   "cell_type": "markdown",
   "metadata": {},
   "source": [
    "Si intentamos obtener un valor de un `Queue` que ya ha sido vaciado, creamos un bucle infinito:"
   ]
  },
  {
   "cell_type": "code",
   "execution_count": 36,
   "metadata": {},
   "outputs": [
    {
     "ename": "KeyboardInterrupt",
     "evalue": "",
     "output_type": "error",
     "traceback": [
      "\u001b[0;31m---------------------------------------------------------------------------\u001b[0m",
      "\u001b[0;31mKeyboardInterrupt\u001b[0m                         Traceback (most recent call last)",
      "Cell \u001b[0;32mIn [36], line 1\u001b[0m\n\u001b[0;32m----> 1\u001b[0m q\u001b[39m.\u001b[39;49mget()\n",
      "File \u001b[0;32m/usr/lib64/python3.10/multiprocessing/queues.py:103\u001b[0m, in \u001b[0;36mQueue.get\u001b[0;34m(self, block, timeout)\u001b[0m\n\u001b[1;32m    101\u001b[0m \u001b[39mif\u001b[39;00m block \u001b[39mand\u001b[39;00m timeout \u001b[39mis\u001b[39;00m \u001b[39mNone\u001b[39;00m:\n\u001b[1;32m    102\u001b[0m     \u001b[39mwith\u001b[39;00m \u001b[39mself\u001b[39m\u001b[39m.\u001b[39m_rlock:\n\u001b[0;32m--> 103\u001b[0m         res \u001b[39m=\u001b[39m \u001b[39mself\u001b[39;49m\u001b[39m.\u001b[39;49m_recv_bytes()\n\u001b[1;32m    104\u001b[0m     \u001b[39mself\u001b[39m\u001b[39m.\u001b[39m_sem\u001b[39m.\u001b[39mrelease()\n\u001b[1;32m    105\u001b[0m \u001b[39melse\u001b[39;00m:\n",
      "File \u001b[0;32m/usr/lib64/python3.10/multiprocessing/connection.py:221\u001b[0m, in \u001b[0;36m_ConnectionBase.recv_bytes\u001b[0;34m(self, maxlength)\u001b[0m\n\u001b[1;32m    219\u001b[0m \u001b[39mif\u001b[39;00m maxlength \u001b[39mis\u001b[39;00m \u001b[39mnot\u001b[39;00m \u001b[39mNone\u001b[39;00m \u001b[39mand\u001b[39;00m maxlength \u001b[39m<\u001b[39m \u001b[39m0\u001b[39m:\n\u001b[1;32m    220\u001b[0m     \u001b[39mraise\u001b[39;00m \u001b[39mValueError\u001b[39;00m(\u001b[39m\"\u001b[39m\u001b[39mnegative maxlength\u001b[39m\u001b[39m\"\u001b[39m)\n\u001b[0;32m--> 221\u001b[0m buf \u001b[39m=\u001b[39m \u001b[39mself\u001b[39;49m\u001b[39m.\u001b[39;49m_recv_bytes(maxlength)\n\u001b[1;32m    222\u001b[0m \u001b[39mif\u001b[39;00m buf \u001b[39mis\u001b[39;00m \u001b[39mNone\u001b[39;00m:\n\u001b[1;32m    223\u001b[0m     \u001b[39mself\u001b[39m\u001b[39m.\u001b[39m_bad_message_length()\n",
      "File \u001b[0;32m/usr/lib64/python3.10/multiprocessing/connection.py:419\u001b[0m, in \u001b[0;36mConnection._recv_bytes\u001b[0;34m(self, maxsize)\u001b[0m\n\u001b[1;32m    418\u001b[0m \u001b[39mdef\u001b[39;00m \u001b[39m_recv_bytes\u001b[39m(\u001b[39mself\u001b[39m, maxsize\u001b[39m=\u001b[39m\u001b[39mNone\u001b[39;00m):\n\u001b[0;32m--> 419\u001b[0m     buf \u001b[39m=\u001b[39m \u001b[39mself\u001b[39;49m\u001b[39m.\u001b[39;49m_recv(\u001b[39m4\u001b[39;49m)\n\u001b[1;32m    420\u001b[0m     size, \u001b[39m=\u001b[39m struct\u001b[39m.\u001b[39munpack(\u001b[39m\"\u001b[39m\u001b[39m!i\u001b[39m\u001b[39m\"\u001b[39m, buf\u001b[39m.\u001b[39mgetvalue())\n\u001b[1;32m    421\u001b[0m     \u001b[39mif\u001b[39;00m size \u001b[39m==\u001b[39m \u001b[39m-\u001b[39m\u001b[39m1\u001b[39m:\n",
      "File \u001b[0;32m/usr/lib64/python3.10/multiprocessing/connection.py:384\u001b[0m, in \u001b[0;36mConnection._recv\u001b[0;34m(self, size, read)\u001b[0m\n\u001b[1;32m    382\u001b[0m remaining \u001b[39m=\u001b[39m size\n\u001b[1;32m    383\u001b[0m \u001b[39mwhile\u001b[39;00m remaining \u001b[39m>\u001b[39m \u001b[39m0\u001b[39m:\n\u001b[0;32m--> 384\u001b[0m     chunk \u001b[39m=\u001b[39m read(handle, remaining)\n\u001b[1;32m    385\u001b[0m     n \u001b[39m=\u001b[39m \u001b[39mlen\u001b[39m(chunk)\n\u001b[1;32m    386\u001b[0m     \u001b[39mif\u001b[39;00m n \u001b[39m==\u001b[39m \u001b[39m0\u001b[39m:\n",
      "\u001b[0;31mKeyboardInterrupt\u001b[0m: "
     ]
    }
   ],
   "source": [
    "q.get()"
   ]
  },
  {
   "cell_type": "markdown",
   "metadata": {},
   "source": [
    "Podemos comprobar si está vacía con el método `.empty()`:"
   ]
  },
  {
   "cell_type": "code",
   "execution_count": 37,
   "metadata": {},
   "outputs": [
    {
     "name": "stdout",
     "output_type": "stream",
     "text": [
      "[100, 121, 144, 81, 169, 196, 225, 64, 256, 289, 324, 49, 361, 36, 25, 16, 9, 4, 1, 0]\n"
     ]
    }
   ],
   "source": [
    "q = multiprocessing.Queue()\n",
    "procesos = [multiprocessing.Process(target=cuadrado, args=(i, q)) for i in range(20)]\n",
    "\n",
    "for p in procesos:\n",
    "    p.start()\n",
    "\n",
    "for p in procesos:\n",
    "    p.join()\n",
    "\n",
    "lista = []\n",
    "while True:\n",
    "    lista.append(q.get())\n",
    "    if q.empty():\n",
    "        break\n",
    "\n",
    "print(lista)"
   ]
  },
  {
   "cell_type": "markdown",
   "metadata": {},
   "source": [
    "### Value y Array\n",
    "\n",
    "La estructura `Value` permite compartir un valor entre procesos. El valor debe pertenecer a uno de los tipos elementales de C, y se especifica con un string que se pasa como primer argumento a `Value()`:\n",
    "* `b`: char (1 byte)\n",
    "* `u`: Carácter unicode\n",
    "* `i`: int (2 bytes)\n",
    "* `l`: long (4 bytes)\n",
    "* `q`: long long (8 bytes)\n",
    "* `f`: float (4 bytes)\n",
    "* `d`: double (8 bytes)\n",
    "* `B`, `I`, `L` y `Q` son versiones unsigned de los correspondientes tipos.\n",
    "\n",
    "El valor almacenado se puede leer y escribir a través de la propiedad `.value`:"
   ]
  },
  {
   "cell_type": "code",
   "execution_count": 41,
   "metadata": {},
   "outputs": [
    {
     "name": "stdout",
     "output_type": "stream",
     "text": [
      "Yo soy el proceso 11809, y me ejecuto después de 5315\n",
      "Yo soy el proceso 11812, y me ejecuto después de 11809\n",
      "Yo soy el proceso 11815, y me ejecuto después de 11812\n",
      "Yo soy el proceso 11816, y me ejecuto después de 11815\n",
      "Yo soy el proceso 11817, y me ejecuto después de 11816\n",
      "Yo soy el proceso 11820, y me ejecuto después de 11817\n",
      "Yo soy el proceso 11823, y me ejecuto después de 11820\n",
      "Yo soy el proceso 11824, y me ejecuto después de 11823\n",
      "Yo soy el proceso 11825, y me ejecuto después de 11824\n",
      "Yo soy el proceso 11826, y me ejecuto después de 11825\n",
      "Yo soy el proceso 11831, y me ejecuto después de 11826\n",
      "Yo soy el proceso 11832, y me ejecuto después de 11831\n",
      "Yo soy el proceso 11833, y me ejecuto después de 11832\n",
      "Yo soy el proceso 11836, y me ejecuto después de 11833\n",
      "Yo soy el proceso 11839, y me ejecuto después de 11836\n",
      "Yo soy el proceso 11840, y me ejecuto después de 11839\n",
      "Yo soy el proceso 11841, y me ejecuto después de 11840\n",
      "Yo soy el proceso 11842, y me ejecuto después de 11841\n",
      "Yo soy el proceso 11845, y me ejecuto después de 11842\n",
      "Yo soy el proceso 11848, y me ejecuto después de 11845\n"
     ]
    }
   ],
   "source": [
    "def f(x, v):\n",
    "    sleep(x/100)\n",
    "    pid = os.getpid()\n",
    "    print(f\"Yo soy el proceso {pid}, y me ejecuto después de {v.value}\")\n",
    "    v.value = pid\n",
    "\n",
    "v = multiprocessing.Value(\"i\", os.getpid())\n",
    "procesos = [multiprocessing.Process(target=f, args=(i, v)) for i in range(20)]\n",
    "\n",
    "for p in procesos:\n",
    "    p.start()\n",
    "\n",
    "for p in procesos:\n",
    "    p.join()"
   ]
  },
  {
   "cell_type": "markdown",
   "metadata": {},
   "source": [
    "Las operaciones `+=`, `-=`, `*=`, `/=`, `%=` leen y escriben el valor de una variable, por lo que su uso con memoria compartida puede llevar a situaciones en las que otro proceso haya modificado el valor entre la fase de lectura y la de escritura. Para asegurarse de que eso no ocurre, hay que bloquear temporalmente el resto de procesos con un `lock`:"
   ]
  },
  {
   "cell_type": "code",
   "execution_count": 43,
   "metadata": {},
   "outputs": [
    {
     "name": "stdout",
     "output_type": "stream",
     "text": [
      "Yo soy el proceso 12710, y me ejecuto después de 5315. Han terminado 0 procesos.\n",
      "Yo soy el proceso 12713, y me ejecuto después de 12710. Han terminado 1 procesos.\n",
      "Yo soy el proceso 12716, y me ejecuto después de 12713. Han terminado 2 procesos.\n",
      "Yo soy el proceso 12717, y me ejecuto después de 12716. Han terminado 3 procesos.\n",
      "Yo soy el proceso 12718, y me ejecuto después de 12717. Han terminado 4 procesos.\n",
      "Yo soy el proceso 12723, y me ejecuto después de 12718. Han terminado 5 procesos.\n",
      "Yo soy el proceso 12724, y me ejecuto después de 12723. Han terminado 6 procesos.\n",
      "Yo soy el proceso 12725, y me ejecuto después de 12724. Han terminado 7 procesos.\n",
      "Yo soy el proceso 12728, y me ejecuto después de 12725. Han terminado 8 procesos.\n",
      "Yo soy el proceso 12731, y me ejecuto después de 12728. Han terminado 9 procesos.\n",
      "Yo soy el proceso 12732, y me ejecuto después de 12731. Han terminado 10 procesos.\n",
      "Yo soy el proceso 12733, y me ejecuto después de 12732. Han terminado 11 procesos.\n",
      "Yo soy el proceso 12736, y me ejecuto después de 12733. Han terminado 12 procesos.\n",
      "Yo soy el proceso 12739, y me ejecuto después de 12736. Han terminado 13 procesos.\n",
      "Yo soy el proceso 12740, y me ejecuto después de 12739. Han terminado 14 procesos.\n",
      "Yo soy el proceso 12741, y me ejecuto después de 12740. Han terminado 15 procesos.\n",
      "Yo soy el proceso 12746, y me ejecuto después de 12741. Han terminado 16 procesos.\n",
      "Yo soy el proceso 12747, y me ejecuto después de 12746. Han terminado 17 procesos.\n",
      "Yo soy el proceso 12748, y me ejecuto después de 12747. Han terminado 18 procesos.\n",
      "Yo soy el proceso 12751, y me ejecuto después de 12748. Han terminado 19 procesos.\n"
     ]
    }
   ],
   "source": [
    "def f(x, v, c):\n",
    "    sleep(x/100)\n",
    "    pid = os.getpid()\n",
    "    print(f\"Yo soy el proceso {pid}, y me ejecuto después de {v.value}. Han terminado {c.value} procesos.\")\n",
    "    v.value = pid\n",
    "    with c.get_lock():\n",
    "        c.value += 1\n",
    "\n",
    "v = multiprocessing.Value(\"i\", os.getpid())\n",
    "contador = multiprocessing.Value(\"i\", 0)\n",
    "procesos = [multiprocessing.Process(target=f, args=(i, v, contador)) for i in range(20)]\n",
    "\n",
    "for p in procesos:\n",
    "    p.start()\n",
    "\n",
    "for p in procesos:\n",
    "    p.join()"
   ]
  },
  {
   "cell_type": "markdown",
   "metadata": {},
   "source": [
    "La estructura `Array` se usa para crear vectores de datos compartidos. Un `Array` tiene longitud fija, y todos los datos deben ser del mismo tipo, uno de los tipos elementales de C."
   ]
  },
  {
   "cell_type": "code",
   "execution_count": 55,
   "metadata": {},
   "outputs": [
    {
     "name": "stdout",
     "output_type": "stream",
     "text": [
      "Soy el proceso 1 con PID 14500. El proceso 0 tenía PID 14499\n",
      "Soy el proceso 2 con PID 14501. El proceso 1 tenía PID 14500\n",
      "Soy el proceso 3 con PID 14502. El proceso 2 tenía PID 14501\n",
      "Soy el proceso 4 con PID 14503. El proceso 3 tenía PID 14502\n",
      "Soy el proceso 5 con PID 14504. El proceso 4 tenía PID 14503\n",
      "Soy el proceso 6 con PID 14507. El proceso 5 tenía PID 14504\n",
      "Soy el proceso 7 con PID 14510. El proceso 6 tenía PID 14507\n",
      "Soy el proceso 8 con PID 14511. El proceso 7 tenía PID 14510\n",
      "Soy el proceso 9 con PID 14513. El proceso 8 tenía PID 14511\n",
      "Soy el proceso 10 con PID 14517. El proceso 9 tenía PID 14513\n",
      "Soy el proceso 11 con PID 14518. El proceso 10 tenía PID 14517\n",
      "Soy el proceso 12 con PID 14519. El proceso 11 tenía PID 14518\n",
      "Soy el proceso 13 con PID 14522. El proceso 12 tenía PID 14519\n",
      "Soy el proceso 14 con PID 14525. El proceso 13 tenía PID 14522\n",
      "Soy el proceso 15 con PID 14526. El proceso 14 tenía PID 14525\n",
      "Soy el proceso 16 con PID 14527. El proceso 15 tenía PID 14526\n",
      "Soy el proceso 17 con PID 14540. El proceso 16 tenía PID 14527\n",
      "Soy el proceso 18 con PID 14543. El proceso 17 tenía PID 14540\n",
      "Soy el proceso 19 con PID 14546. El proceso 18 tenía PID 14543\n"
     ]
    }
   ],
   "source": [
    "def f(x, a):\n",
    "    sleep(x/100)\n",
    "    pid = os.getpid()\n",
    "    if x > 0:\n",
    "        print(f\"Soy el proceso {x} con PID {pid}. El proceso {x-1} tenía PID {a[x-1]}\")\n",
    "    a[x] = pid\n",
    "\n",
    "a = multiprocessing.Array('i', 20)\n",
    "\n",
    "procesos = [multiprocessing.Process(target=f, args=(i, a)) for i in range(20)]\n",
    "\n",
    "for p in procesos:\n",
    "    p.start()\n",
    "\n",
    "for p in procesos:\n",
    "    p.join()"
   ]
  },
  {
   "cell_type": "markdown",
   "metadata": {},
   "source": [
    "### Manager\n",
    "\n",
    "Una estructura `Manager` permite compartir cualquier objeto de Python, aunque es más lento que `Value` y `Array`. Para crear listas y diccionarios compartidos, hay que usar los métodos `.list()` y `.dict()` respectivamente:"
   ]
  },
  {
   "cell_type": "code",
   "execution_count": 56,
   "metadata": {},
   "outputs": [
    {
     "name": "stdout",
     "output_type": "stream",
     "text": [
      "[15466, 15472, 15475, 15478, 15481, 15486, 15487, 15495, 15497, 15502, 15505, 15508, 15514, 15517, 15520, 15523, 15526, 15532, 15535, 15540]\n",
      "{0: 15466, 1: 15472, 2: 15475, 3: 15478, 4: 15481, 5: 15486, 6: 15487, 7: 15495, 8: 15497, 9: 15502, 10: 15505, 11: 15508, 12: 15514, 13: 15517, 14: 15520, 15: 15523, 16: 15526, 17: 15532, 18: 15535, 19: 15540}\n"
     ]
    }
   ],
   "source": [
    "def f(x, l, d):\n",
    "    sleep(x/100)\n",
    "    pid = os.getpid()\n",
    "    l.append(pid)\n",
    "    d.update({x: pid})\n",
    "\n",
    "with multiprocessing.Manager() as mgr:\n",
    "    l1 = mgr.list()\n",
    "    d1 = mgr.dict()\n",
    "\n",
    "    procesos = [multiprocessing.Process(target=f, args=(i, l1, d1)) for i in range(20)]\n",
    "\n",
    "    for p in procesos:\n",
    "        p.start()\n",
    "\n",
    "    for p in procesos:\n",
    "        p.join()\n",
    "\n",
    "    print(l1)\n",
    "    print(d1)"
   ]
  },
  {
   "cell_type": "markdown",
   "metadata": {},
   "source": [
    "Para compartir uno o varios `int`, `float` o `str` hay que introducirlos dentro de un `Namespace`. En este caso, para poder leer y escribir la variable, bloquearemos la ejecución con un `lock`:"
   ]
  },
  {
   "cell_type": "code",
   "execution_count": 97,
   "metadata": {},
   "outputs": [
    {
     "name": "stdout",
     "output_type": "stream",
     "text": [
      "El proceso 0 tiene PID 21886\n",
      "El proceso 1 tiene PID 21890\n",
      "El proceso 2 tiene PID 21894\n",
      "El proceso 3 tiene PID 21898\n",
      "El proceso 4 tiene PID 21901\n",
      "El proceso 5 tiene PID 21904\n",
      "El proceso 6 tiene PID 21907\n",
      "El proceso 7 tiene PID 21910\n",
      "El proceso 8 tiene PID 21913\n",
      "El proceso 9 tiene PID 21916\n",
      "El proceso 10 tiene PID 21919\n",
      "El proceso 11 tiene PID 21922\n",
      "El proceso 12 tiene PID 21925\n",
      "El proceso 13 tiene PID 21927\n",
      "El proceso 14 tiene PID 21931\n",
      "El proceso 15 tiene PID 21933\n",
      "El proceso 16 tiene PID 21935\n",
      "El proceso 17 tiene PID 21939\n",
      "El proceso 18 tiene PID 21942\n",
      "El proceso 19 tiene PID 21945\n",
      "\n"
     ]
    }
   ],
   "source": [
    "def f(x, ns, lock):\n",
    "    sleep(x/10)\n",
    "    with lock:\n",
    "        ns.texto += f\"El proceso {x} tiene PID {os.getpid()}\\n\"\n",
    "\n",
    "with multiprocessing.Manager() as mgr:\n",
    "    ns = mgr.Namespace()\n",
    "    lock = mgr.Lock()\n",
    "    ns.texto = \"\"\n",
    "\n",
    "    procesos = [multiprocessing.Process(target=f, args=(i, ns, lock)) for i in range(20)]\n",
    "\n",
    "    for p in procesos:\n",
    "        p.start()\n",
    "\n",
    "    for p in procesos:\n",
    "        p.join()\n",
    "\n",
    "    print(ns.texto)"
   ]
  },
  {
   "cell_type": "markdown",
   "metadata": {},
   "source": [
    "Para compartir objetos de otros tipos, incluyendo clases definidas por nosotros mismos, es un poco más complicado. Hay que crear nuestro propio `Manager` heredando desde la clase `BaseManager`, y registrar la clase para que la reconozca. En una instancia perteneciente a un `Manager`no es posible acceder directamente a los miembros, sino que hay que hacerlo a través de métodos:"
   ]
  },
  {
   "cell_type": "code",
   "execution_count": 98,
   "metadata": {},
   "outputs": [
    {
     "name": "stdout",
     "output_type": "stream",
     "text": [
      "(22304, 22306, 22311)\n"
     ]
    }
   ],
   "source": [
    "import multiprocessing.managers\n",
    "\n",
    "class Vector:\n",
    "    def __init__(self, x, y, z):\n",
    "        self.x = x\n",
    "        self.y = y\n",
    "        self.z = z\n",
    "\n",
    "    def __str__(self):\n",
    "        return f\"({self.x}, {self.y}, {self.z})\"\n",
    "\n",
    "    def ver(self):\n",
    "        return str(self)\n",
    "\n",
    "    def modificar_x(self, x):\n",
    "        self.x = x\n",
    "\n",
    "    def modificar_y(self, y):\n",
    "        self.y = y\n",
    "\n",
    "    def modificar_z(self, z):\n",
    "        self.z = z\n",
    "\n",
    "def f(x, v):\n",
    "    pid = os.getpid()\n",
    "    match x:\n",
    "        case 0:\n",
    "            v.modificar_x(pid)\n",
    "        case 1:\n",
    "            v.modificar_y(pid)\n",
    "        case 2:\n",
    "            v.modificar_z(pid)\n",
    "\n",
    "\n",
    "class Manager(multiprocessing.managers.BaseManager):\n",
    "    pass\n",
    "\n",
    "Manager.register(\"Vector\", Vector)\n",
    "\n",
    "with Manager() as mgr:\n",
    "    v = mgr.Vector(0, 0, 0)\n",
    "\n",
    "    procesos = [multiprocessing.Process(target=f, args=(i, v)) for i in range(3)]\n",
    "\n",
    "    for p in procesos:\n",
    "        p.start()\n",
    "\n",
    "    for p in procesos:\n",
    "        p.join()\n",
    "\n",
    "    print(v.ver())\n",
    "\n"
   ]
  },
  {
   "cell_type": "markdown",
   "metadata": {},
   "source": [
    "Para obtener la instancia y poder usarla fuera del `Manager` hay que emplear el método `._getvalue()`:"
   ]
  },
  {
   "cell_type": "code",
   "execution_count": 99,
   "metadata": {},
   "outputs": [
    {
     "name": "stdout",
     "output_type": "stream",
     "text": [
      "(22491, 22493, 22496)\n",
      "22491\n"
     ]
    }
   ],
   "source": [
    "with Manager() as mgr:\n",
    "    v = mgr.Vector(0, 0, 0)\n",
    "\n",
    "    procesos = [multiprocessing.Process(target=f, args=(i, v)) for i in range(3)]\n",
    "\n",
    "    for p in procesos:\n",
    "        p.start()\n",
    "\n",
    "    for p in procesos:\n",
    "        p.join()\n",
    "\n",
    "    print(v.ver())\n",
    "    v_obj = v._getvalue()\n",
    "\n",
    "print(v_obj.x)"
   ]
  },
  {
   "cell_type": "code",
   "execution_count": null,
   "metadata": {},
   "outputs": [],
   "source": []
  }
 ],
 "metadata": {
  "kernelspec": {
   "display_name": "Python 3.10.8 ('tfm-alejandromir-pisT7Re7-py3.10')",
   "language": "python",
   "name": "python3"
  },
  "language_info": {
   "codemirror_mode": {
    "name": "ipython",
    "version": 3
   },
   "file_extension": ".py",
   "mimetype": "text/x-python",
   "name": "python",
   "nbconvert_exporter": "python",
   "pygments_lexer": "ipython3",
   "version": "3.10.8"
  },
  "orig_nbformat": 4,
  "vscode": {
   "interpreter": {
    "hash": "1f3f3a4d53262e9b64aadf354276afdb3b72bef7e271f3b7e5577e448e334dcb"
   }
  }
 },
 "nbformat": 4,
 "nbformat_minor": 2
}
