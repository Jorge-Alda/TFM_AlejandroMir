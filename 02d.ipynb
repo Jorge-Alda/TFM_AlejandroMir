{
 "cells": [
  {
   "cell_type": "markdown",
   "metadata": {},
   "source": [
    "# 02d Paralelismo\n",
    "\n",
    "El paralelismo es la capacidad de ejecutar varias tareas simultáneamente, aprovechando que la mayoría de ordenadores actuales tienen una arquitectura de varios núcleos. Hay dos modelos principales de paralelismo:\n",
    "\n",
    "* **Paralelismo por procesos:** Hay varias copias del mismo programa (proceso) ejecutándose a la vez, de modo que si abres el Administrador de tareas, verás que `Python` aparece varias veces.\n",
    "* **Paralelismo por \"hilos\" (threads):** Hay un único proceso, que tiene varios conjuntos de código (threads) ejecutándose a la vez.\n",
    "\n",
    "En general, el paralelismo por procesos es mejor para situaciones que requieren mucho uso de CPU, como cálculos matemáticos, mientras que el paralelismo por threads es mejor cuando la ejecución está limitada por operaciones de lectura y escritura. Además, la implementación estándar de Python, CPython, limita el número de threads ejecutándose simultáneamente a 1 (GIL), por lo que el paralelismo por threads no ofrece absolutamente ninguna ventaja en tareas de CPU."
   ]
  },
  {
   "cell_type": "code",
   "execution_count": 1,
   "metadata": {},
   "outputs": [],
   "source": [
    "# Código para importar Temporizador desde utils.py, no es importante\n",
    "\n",
    "import os, sys\n",
    "dir2 = os.path.abspath('')\n",
    "dir1 = os.path.dirname(dir2)\n",
    "if not dir1 in sys.path: sys.path.append(dir1)\n",
    "from utils import Temporizador"
   ]
  },
  {
   "cell_type": "markdown",
   "metadata": {},
   "source": [
    "## Paralelismo por hilos\n",
    "\n",
    "El paralelismo por hilos está implementado por el módulo `threading` de la librería estándar. Veremos solamente los conceptos más básicos, ya que en general nos interesarán más las tareas limitadas por CPU."
   ]
  },
  {
   "cell_type": "code",
   "execution_count": 36,
   "metadata": {},
   "outputs": [
    {
     "name": "stdout",
     "output_type": "stream",
     "text": [
      "Thread 1\n",
      "\n",
      "Thread 2\n",
      "\n",
      "Tiempo total: 5.0053 s\n"
     ]
    }
   ],
   "source": [
    "import threading \n",
    "from time import sleep\n",
    "\n",
    "def f(x):\n",
    "    sleep(5)\n",
    "    print(x)\n",
    "\n",
    "t1 = threading.Thread(target=f, args=(\"Thread 1\\n\",))\n",
    "t2 = threading.Thread(target=f, args=(\"Thread 2\\n\",))\n",
    "\n",
    "with Temporizador() as temp:\n",
    "    t1.start()\n",
    "    t2.start()\n",
    "    t1.join()\n",
    "    t2.join()\n",
    "\n",
    "print(f\"Tiempo total: {temp.ver_tiempo():.4f} s\")"
   ]
  },
  {
   "cell_type": "markdown",
   "metadata": {},
   "source": [
    "Cada thread se crea como un objeto `threading.Thread`, donde `target` indica la función que se va a ejecutar, y `args` es una tupla con sus argumentos. El método `start()` inicia la ejecución del thread, y `join()` espera a que acabe. En este caso, al no tratarse de una tarea que esté limitada por CPU, el tiempo de ejecución se ha visto reducido.\n",
    "\n",
    "En cambio, veamos qué ocurre con un cálculo matemático, calculando el factorial de los números entre 1000 y 2000:"
   ]
  },
  {
   "cell_type": "code",
   "execution_count": 31,
   "metadata": {},
   "outputs": [],
   "source": [
    "def factorial(x):\n",
    "    f = 1\n",
    "    i = x\n",
    "    while i > 0:\n",
    "        f *= i\n",
    "        i -=1\n",
    "    return f\n",
    "\n",
    "def tarea(inicio, fin, lista):\n",
    "    for x in range(inicio, fin):\n",
    "        lista[x-1000] = factorial(x)"
   ]
  },
  {
   "cell_type": "code",
   "execution_count": 26,
   "metadata": {},
   "outputs": [
    {
     "name": "stdout",
     "output_type": "stream",
     "text": [
      "Tiempo en un único thread: 0.3750 s\n"
     ]
    }
   ],
   "source": [
    "resultado1 = [0,]*1000\n",
    "\n",
    "with Temporizador() as temp:\n",
    "    tarea(1000, 2000, resultado1)\n",
    "\n",
    "print(f\"Tiempo en un único thread: {temp.ver_tiempo():.4f} s\")"
   ]
  },
  {
   "cell_type": "code",
   "execution_count": 32,
   "metadata": {},
   "outputs": [
    {
     "name": "stdout",
     "output_type": "stream",
     "text": [
      "Tiempo en dos threads: 0.4497 s\n"
     ]
    }
   ],
   "source": [
    "resultado2 = [0,]*1000\n",
    "t1 = threading.Thread(target=tarea, args=(1000, 1500, resultado2))\n",
    "t2 = threading.Thread(target=tarea, args=(1500, 2000, resultado2))\n",
    "\n",
    "with Temporizador() as temp:\n",
    "    t1.start()\n",
    "    t2.start()\n",
    "    t1.join()\n",
    "    t2.join()\n",
    "\n",
    "print(f\"Tiempo en dos threads: {temp.ver_tiempo():.4f} s\")"
   ]
  },
  {
   "cell_type": "code",
   "execution_count": 34,
   "metadata": {},
   "outputs": [],
   "source": [
    "for i in range(1000):\n",
    "    if resultado1[i] != resultado2[i]:\n",
    "        print(f\"Error en el elemento {i}\")\n",
    "        break"
   ]
  },
  {
   "cell_type": "markdown",
   "metadata": {},
   "source": [
    "El tiempo de ejecución es ligeramente mayor usando dos threads que uno solo! Además, no es posible obtener el valor de un `return`, por eso hemos tenido que pasar la lista \"por referencia\" para almacenar los valores. En este caso sencillo, cada thread escribía en elementos distintos, y no había posibilidad de que intentarán competir entre ellos. Pero en general, esto es una posibilidad que se puede evitar si uno de los threads bloquea temporalmente (lock) la ejecución del resto cuando tiene que usar un recurso compartido.\n",
    "\n",
    "Finalmente, veamos que ambos threads comparten el mismo proceso. Una forma de hacerlo es abriendo el administrador de tareas, pero también podemos hacerlo desde python: el comando `os.getpid()` devuelve un identificador que es único para cada proceso:"
   ]
  },
  {
   "cell_type": "code",
   "execution_count": 35,
   "metadata": {},
   "outputs": [
    {
     "name": "stdout",
     "output_type": "stream",
     "text": [
      "Thread 1, PID: 13125\n",
      "Thread 2, PID: 13125\n",
      "\n",
      "\n"
     ]
    }
   ],
   "source": [
    "def pid(x):\n",
    "    sleep(3)\n",
    "    print(f\"Thread {x}, PID: {os.getpid()}\\n\")\n",
    "\n",
    "t1 = threading.Thread(target=pid, args=(1,))\n",
    "t2 = threading.Thread(target=pid, args=(2,))\n",
    "\n",
    "t1.start()\n",
    "t2.start()\n",
    "t1.join()\n",
    "t2.join()"
   ]
  },
  {
   "cell_type": "code",
   "execution_count": null,
   "metadata": {},
   "outputs": [],
   "source": []
  }
 ],
 "metadata": {
  "kernelspec": {
   "display_name": "Python 3.10.8 ('tfm-alejandromir-pisT7Re7-py3.10')",
   "language": "python",
   "name": "python3"
  },
  "language_info": {
   "codemirror_mode": {
    "name": "ipython",
    "version": 3
   },
   "file_extension": ".py",
   "mimetype": "text/x-python",
   "name": "python",
   "nbconvert_exporter": "python",
   "pygments_lexer": "ipython3",
   "version": "3.10.8"
  },
  "orig_nbformat": 4,
  "vscode": {
   "interpreter": {
    "hash": "1f3f3a4d53262e9b64aadf354276afdb3b72bef7e271f3b7e5577e448e334dcb"
   }
  }
 },
 "nbformat": 4,
 "nbformat_minor": 2
}
